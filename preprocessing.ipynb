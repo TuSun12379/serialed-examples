{
 "cells": [
  {
   "cell_type": "code",
   "execution_count": null,
   "metadata": {
    "pycharm": {
     "is_executing": false
    }
   },
   "outputs": [],
   "source": [
    "# for developers\n",
    "%load_ext autoreload\n",
    "%autoreload 2"
   ]
  },
  {
   "cell_type": "code",
   "execution_count": 2,
   "metadata": {
    "pycharm": {
     "is_executing": false
    },
    "tags": []
   },
   "outputs": [
    {
     "name": "stdout",
     "output_type": "stream",
     "text": [
      "Running on diffractem: v0.3.2-60-g604d443\n",
      "Running on CrystFEL: 0.9.1+886ae521\n",
      "Current path is: /localdata/serialed/lys_2019_redo\n"
     ]
    }
   ],
   "source": [
    "# import hdf5plugin # required to access LZ4-encoded HDF5 data sets, if not on your global path\n",
    "import matplotlib.pyplot as plt\n",
    "from diffractem import version, proc2d, pre_proc_opts, io\n",
    "from diffractem.dataset import Dataset\n",
    "from tifffile import imread\n",
    "import numpy as np\n",
    "from dask.distributed import Client, LocalCluster, TimeoutError\n",
    "import os\n",
    "import pandas as pd\n",
    "\n",
    "opts = pre_proc_opts.PreProcOpts('preproc.yaml')\n",
    "# opts.im_exc = 'indexamajig'\n",
    "cfver = !{opts.im_exc} -v\n",
    "print(f'Running on diffractem:', version())\n",
    "print(f'Running on', cfver[0])\n",
    "print(f'Current path is:', os.getcwd())\n",
    "\n",
    "pxmask=imread(opts.pxmask)\n",
    "reference=imread(opts.reference)"
   ]
  },
  {
   "cell_type": "markdown",
   "metadata": {},
   "source": [
    "# Pre-processing of SerialED data\n",
    "...from raw diffraction data in _NeXus_ format files to cleaned, sorted, selected, and corrected diffraction data, and accurate information about peak and pattern center positions for further steps. This comprises:\n",
    "* Aggregation of dose fractionation movies\n",
    "* Center and peak finding in diffraction patterns\n",
    "* Hit selection\n",
    "* Export of peak data files for indexing\n",
    "* Flat-field, dead-pixel and saturation correction; optionally background subtraction\n",
    "* Broadcasting of results to single fractionation frames, and different arbitrary cumulations\n",
    "\n",
    "The central tool are `diffractem.Dataset` objects, which handle file I/O, metadata, subset selection, fast computations, and much more.\n",
    "Also, the image processing functions in `diffractem.proc2d` are essential. \n",
    "By internally using the _dask_ framework, Datasets can be larger than memory, computations are lazy (i.e., executed only just when needed) and done in parallel, mostly scaling directly with the number of available cores."
   ]
  },
  {
   "cell_type": "markdown",
   "metadata": {},
   "source": [
    "## Initialize _dask.distributed_ cluster\n",
    "This initializes the computation backend. If there is no dask.distributed scheduler running at the specified port (usually 8786), a new one will be created. Make sure that the number of workers and threads make sense. It's a good idea to set it to your workstation's CPU configuration, and explicitly set a fast scratch drive as `local_directory`. In the output of the cell you will find the link for the dashboard of the scheduler, where you can follow the computation progress (NB: if you're connecting to Jupyter through a SSH tunnel, you'll need to open an additional tunnel for the port of the dashboard)."
   ]
  },
  {
   "cell_type": "code",
   "execution_count": 3,
   "metadata": {
    "tags": []
   },
   "outputs": [
    {
     "name": "stdout",
     "output_type": "stream",
     "text": [
      "Seems no cluster scheduler is running. Starting one.\n"
     ]
    },
    {
     "data": {
      "text/html": [
       "<table style=\"border: 2px solid white;\">\n",
       "<tr>\n",
       "<td style=\"vertical-align: top; border: 0px solid white\">\n",
       "<h3 style=\"text-align: left;\">Client</h3>\n",
       "<ul style=\"text-align: left; list-style: none; margin: 0; padding: 0;\">\n",
       "  <li><b>Scheduler: </b>tcp://127.0.0.1:8786</li>\n",
       "  <li><b>Dashboard: </b><a href='http://127.0.0.1:8787/status' target='_blank'>http://127.0.0.1:8787/status</a></li>\n",
       "</ul>\n",
       "</td>\n",
       "<td style=\"vertical-align: top; border: 0px solid white\">\n",
       "<h3 style=\"text-align: left;\">Cluster</h3>\n",
       "<ul style=\"text-align: left; list-style:none; margin: 0; padding: 0;\">\n",
       "  <li><b>Workers: </b>20</li>\n",
       "  <li><b>Cores: </b>40</li>\n",
       "  <li><b>Memory: </b>270.35 GB</li>\n",
       "</ul>\n",
       "</td>\n",
       "</tr>\n",
       "</table>"
      ],
      "text/plain": [
       "<Client: 'tcp://127.0.0.1:8786' processes=20 threads=40, memory=270.35 GB>"
      ]
     },
     "execution_count": 3,
     "metadata": {},
     "output_type": "execute_result"
    }
   ],
   "source": [
    "cluster_port = 8786\n",
    "\n",
    "try:\n",
    "    client = Client(address=f'127.0.0.1:{cluster_port}', timeout='2s')\n",
    "    print('Running cluster scheduler found and connected.')\n",
    "    client.run(os.chdir, os.getcwd()); # change the cluster to the current directory\n",
    "except (OSError, TimeoutError):\n",
    "    print('Seems no cluster scheduler is running. Starting one.')\n",
    "    cluster = LocalCluster(host=f'127.0.0.1:{cluster_port}', n_workers=20, threads_per_worker=2, \n",
    "                       local_directory='/scratch/distributed')\n",
    "    client = Client(address=f'127.0.0.1:{cluster_port}')\n",
    "\n",
    "client"
   ]
  },
  {
   "cell_type": "markdown",
   "metadata": {},
   "source": [
    "## Load the raw data set\n",
    "While the files could just be loaded using a wildcard expression in `Dataset.from_files`, it's a good idea to first get an explicit file list using `io.expand_files`, which you can filter in case you find that some files are troublemakers. This list can explicitly be used as input to `Dataset.from_files`.\n",
    "\n",
    "An import aspect now is the _chunking_ of the Dataset, which defines the size of blocks of the dataset that are loaded into memory and processed separately and in parallel. If you did not use dose fractionation, a value around 20 is a good idea. If you did use dose fractionation, it should be larger, and a multiple of the number of frames per crystal. Read more about chunks in the _dask_ documentation.\n",
    "\n",
    "In this data set we had 25 frames per movie, so we pick `chunking=50`."
   ]
  },
  {
   "cell_type": "code",
   "execution_count": 7,
   "metadata": {
    "tags": []
   },
   "outputs": [
    {
     "name": "stdout",
     "output_type": "stream",
     "text": [
      "Found 34 raw files. Have fun pre-processing!\n",
      "Persisting stacks to memory: \n"
     ]
    },
    {
     "data": {
      "text/plain": [
       "diffractem Dataset object spanning 34 NeXus/HDF5 files\n",
       "-----\n",
       "55800 shots (55800 selected)\n",
       "0 peaks, 0 predictions, 2247 features\n",
       "1 data stacks: raw_counts\n",
       "Diffraction data stack: raw_counts\n",
       "Data files open: True\n",
       "Data files writable: False"
      ]
     },
     "execution_count": 7,
     "metadata": {},
     "output_type": "execute_result"
    }
   ],
   "source": [
    "opts.load() # re-load parameters from the .yaml file\n",
    "\n",
    "raw_files = io.expand_files('raw_data/*.nxs', validate=True)\n",
    "print(f'Found {len(raw_files)} raw files. Have fun pre-processing!')\n",
    "ds = Dataset.from_files(raw_files, chunking=50, )\n",
    "ds"
   ]
  },
  {
   "cell_type": "markdown",
   "metadata": {},
   "source": [
    "### Merge global metadata into shot list\n",
    "Here, we only merge the shutter time of each movie frame (as they varied between the regions in this set)"
   ]
  },
  {
   "cell_type": "code",
   "execution_count": 8,
   "metadata": {},
   "outputs": [],
   "source": [
    "ds.merge_meta('/%/instrument/detector/collection/shutter_time')"
   ]
  },
  {
   "cell_type": "markdown",
   "metadata": {},
   "source": [
    "## Aggregation/selection\n",
    "Now, shots that correspond to auxiliary scan points have to be rejected (or based on other criteria in the shot list), and, if dose fractionation was used, movies should be summed over some reasonable range of frames before further processing. (In the final steps, we can work on the separate frames again.)\n",
    "\n",
    "Now is a good time to have a first look at the (aggregated) dataset using `tools.viewing_widget`. Note that no data is written to disk yet, all operations are done lazily, i.e. just computed in real time when you need it."
   ]
  },
  {
   "cell_type": "code",
   "execution_count": 9,
   "metadata": {
    "tags": []
   },
   "outputs": [
    {
     "name": "stdout",
     "output_type": "stream",
     "text": [
      "Monotonous aggregation: True \n",
      "File/subset remixing: False\n",
      "Frame aggregation: True\n",
      "Acq. run aggregation: False\n",
      "Discarding shot table columns: ['Event', 'frame', 'shot_in_subset']\n",
      "Persisting stacks to memory: \n",
      "Have 2146 shots for processing.\n"
     ]
    }
   ],
   "source": [
    "ds_agg = ds.aggregate(query='frame >= 1 and frame <= 4 and shutter_time == 2', \n",
    "                      by=['sample', 'region', 'run', 'crystal_id'], how='sum', new_folder='proc_data')\n",
    "print(f'Have {len(ds_agg.shots)} shots for processing.')"
   ]
  },
  {
   "cell_type": "markdown",
   "metadata": {},
   "source": [
    "#### Have a first look\n",
    "Fire up the viewing widget, with some reasonable default parameters.\n",
    "Log is helpful for unprocessed sets."
   ]
  },
  {
   "cell_type": "code",
   "execution_count": 10,
   "metadata": {},
   "outputs": [
    {
     "name": "stderr",
     "output_type": "stream",
     "text": [
      "/opts/dev/diffractem/diffractem/tools.py:734: RuntimeWarning: divide by zero encountered in log10\n",
      "  ih.set_data(np.log10(img_stack[shot,...].compute(scheduler='single-threaded')))\n"
     ]
    },
    {
     "data": {
      "application/vnd.jupyter.widget-view+json": {
       "model_id": "93ee39bb82f84019aa9d090b71a503c7",
       "version_major": 2,
       "version_minor": 0
      },
      "text/plain": [
       "VBox(children=(HBox(children=(VBox(children=(Textarea(value='sample: Lyso190304\\nregion: 3\\nrun: 0\\ncrystal_id…"
      ]
     },
     "metadata": {},
     "output_type": "display_data"
    }
   ],
   "source": [
    "%matplotlib widget\n",
    "ds_agg.view(Imax=4000, log=True)"
   ]
  },
  {
   "cell_type": "markdown",
   "metadata": {},
   "source": [
    "## Optimize the peak & center finding pipeline\n",
    "`get_pattern_info` analyzes diffraction patterns (with whatever steps you like) and returns the results as a pandas DataFrame and a dictionary containing found peak positions in CXI formats. For now, it finds the center of mass (COM), fits a Lorentz function to the central region, finds the peaks, and refines the center position using Friedel mate matching.\n",
    "\n",
    "Here, you can test this pipeline on a small subset of your dataset and check if the peak and center finding work reliably. If not then modify your `preproc.yaml` file parameters, especially those for peak finding under `peak_search_params`.\n",
    "Keep in mind that a too large number of false positive peaks will confuse the indexer horribly.\n",
    "\n",
    "For displaying, consider the `log` checkbox and set `Imax` to something high, so you can properly see if the center is well matched.\n",
    "Then browse a bit through the shots and check the quality of the image annotations."
   ]
  },
  {
   "cell_type": "code",
   "execution_count": 11,
   "metadata": {
    "tags": []
   },
   "outputs": [
    {
     "name": "stdout",
     "output_type": "stream",
     "text": [
      "Persisting stacks to memory: \n"
     ]
    }
   ],
   "source": [
    "N_sample = 30  # Number of sample shots\n",
    "opts.load() # load changes of YAML file\n",
    "np.random.seed(4200) # seed the random choice of patterns. Change the magic number if you don't like them.\n",
    "\n",
    "ds_agg.shots['selected'] = False\n",
    "ds_agg.shots.loc[np.random.choice(range(ds_agg.shots.shape[0]), N_sample), 'selected'] = True\n",
    "ds_sample = ds_agg.get_selection()\n",
    "ds_agg.shots['selected'] = True\n",
    "\n",
    "shotdata, peakinfo = proc2d.get_pattern_info(ds_sample.raw_counts, opts, client, via_array=True, output_file=None)\n",
    "\n",
    "ds_sample.shots = pd.concat([ds_sample.shots, shotdata], axis=1)\n",
    "for k, v in peakinfo.items():\n",
    "    ds_sample.add_stack(k, v, overwrite=True, persist=True)"
   ]
  },
  {
   "cell_type": "code",
   "execution_count": 17,
   "metadata": {},
   "outputs": [
    {
     "name": "stderr",
     "output_type": "stream",
     "text": [
      "/opts/dev/diffractem/diffractem/tools.py:734: RuntimeWarning: divide by zero encountered in log10\n",
      "  ih.set_data(np.log10(img_stack[shot,...].compute(scheduler='single-threaded')))\n"
     ]
    },
    {
     "data": {
      "application/vnd.jupyter.widget-view+json": {
       "model_id": "e63da274c7a048e98e3e019e0990f57b",
       "version_major": 2,
       "version_minor": 0
      },
      "text/plain": [
       "VBox(children=(HBox(children=(VBox(children=(Textarea(value='sample: Lyso190304\\nregion: 8\\nrun: 0\\ncrystal_id…"
      ]
     },
     "metadata": {},
     "output_type": "display_data"
    }
   ],
   "source": [
    "ds_sample.view(Imax=4000, log=True)"
   ]
  },
  {
   "cell_type": "markdown",
   "metadata": {},
   "source": [
    "## Run center & peak finding on full data set\n",
    "Now that you've found the optimal parameters, the same thing is run on the entire data set. We also store a file `image_info.h5`, which is a valid diffractem-type (NeXus) HDF5 file, which contains the metadata and peak/pattern center positions, but no image data. It is useful as a backup or to make export files for indexers. \n",
    "\n",
    "In the second cell, the results are weaved into our data set object. Optionally, you can instead load the data from an existing `image_info.h5` (or similar) file.\n",
    "\n",
    "Note also, that from this point on you can start using `process_peaks.ipynb` to optimize your geometry and unit cell."
   ]
  },
  {
   "cell_type": "code",
   "execution_count": 14,
   "metadata": {},
   "outputs": [
    {
     "name": "stdout",
     "output_type": "stream",
     "text": [
      "Wrote analysis results to file image_info.h5\n"
     ]
    }
   ],
   "source": [
    "# now do the same thing on the whole data set. Follow the progress on the dask.distributed dashboard (see above)\n",
    "shotdata, peakinfo = proc2d.get_pattern_info(ds_agg.raw_counts, opts, client, via_array=True, output_file='image_info.h5', \n",
    "                                             shots=ds_agg.shots[['file_raw', 'Event_raw', 'sample', 'region', 'run', 'crystal_id']])"
   ]
  },
  {
   "cell_type": "markdown",
   "metadata": {},
   "source": [
    "#### Merging into dataset\n",
    "We now have the info we want for the entire dataset, either directly from the previous cell, or from the \"backup\" earlier stored in `image_info.h5`.\n",
    "Here, this is merged into the `Dataset`.\n",
    "If you uncomment the dataset loading command, this means that you can restart your analysis from here if you got interrupted.\n",
    "Unfortunately, this still has to be done using manual _pandas_ calls, but this will likely become more elegant."
   ]
  },
  {
   "cell_type": "code",
   "execution_count": 15,
   "metadata": {},
   "outputs": [],
   "source": [
    "# if you want to restart from here...\n",
    "# ds_hit = Dataset.from_files('hits.lst', chunking=50)\n",
    "\n",
    "# merge found shot data into dataset\n",
    "from_backup = False\n",
    "\n",
    "if from_backup:\n",
    "    ds_info = Dataset.from_files('image_info.h5', chunking=-1)\n",
    "    shots = ds_agg.shots.merge(ds_info.shots, on=['file_raw', 'Event_raw', 'sample', 'region', 'run', 'crystal_id'], \n",
    "                   validate='1:1', how='left', suffixes=('', '_INFO'))\n",
    "    ds_agg.shots = shots.drop(columns=[c for c in shots.columns if c.endswith('_INFO')])\n",
    "    for k, v in ds_info.stacks.items():\n",
    "        ds_agg.add_stack(k, v.rechunk(chunks=(ds_agg.zchunks,) + v.shape[1:]), overwrite=True, persist=True) # rechunk is temporary workaround\n",
    "        \n",
    "else:\n",
    "    ds_agg.shots = pd.concat([ds_agg.shots.drop(columns=[c for c in shotdata.columns if c in ds_agg.shots.columns]), shotdata], axis=1)\n",
    "    for k, v in peakinfo.items():\n",
    "        ds_agg.add_stack(k, v, overwrite=True, persist=True)"
   ]
  },
  {
   "cell_type": "markdown",
   "metadata": {},
   "source": [
    "## Hit selection\n",
    "define a criterion to select hits, accordsing to the `selection` query string, then show random sample images to get an idea if it made sense. It often makes sense to not only look at the total `num_peaks`, but also `num_lores_peaks` and `frac_lores_peaks`. The resolution limit for what is considered lores is defined as `lores_limit` in inverse nanometres.\n",
    "\n",
    "Afterwards, you can look (again) at your hit-selected data set `ds_hit` to see if it contains hits only."
   ]
  },
  {
   "cell_type": "code",
   "execution_count": 16,
   "metadata": {},
   "outputs": [
    {
     "name": "stdout",
     "output_type": "stream",
     "text": [
      "1322 shots out of 2146 selected.\n",
      "Persisting stacks to memory: nPeaks, peakTotalIntensity, peakXPosRaw, peakYPosRaw\n"
     ]
    },
    {
     "data": {
      "application/vnd.jupyter.widget-view+json": {
       "model_id": "53f73b2c88d04f10abadafb9cbac7285",
       "version_major": 2,
       "version_minor": 0
      },
      "text/plain": [
       "VBox(children=(HBox(children=(VBox(children=(Textarea(value='sample: Lyso190304\\nregion: 3\\nrun: 0\\ncrystal_id…"
      ]
     },
     "metadata": {},
     "output_type": "display_data"
    }
   ],
   "source": [
    "plt.close('all')\n",
    "selection = 'num_peaks > 15'\n",
    "\n",
    "ds_agg.shots['hit'] = ds_agg.shots.eval(selection)\n",
    "ds_hit = ds_agg.get_selection('hit', file_suffix='_hit.h5')\n",
    "\n",
    "ds_hit.view(Imax=50)"
   ]
  },
  {
   "cell_type": "markdown",
   "metadata": {},
   "source": [
    "## Creation of peak file for indexing\n",
    "...based on the hits data set. Generates a file `virtual.hdf5`, containing all-one array in the HDF5 file as pseudo-image-data with settable image size, but keeps the peak positions, referenced to the image center.\n",
    "\n",
    "Also the shot table is kept, with added columns `_file` and `_Event` which indicate the _original_ ID of the shot in the `_hit`-data files. This means that when running `indexamajig` with corresponding options `--copy-hdf5-field=/%/shots/_file --copy-hdf5-field=/%/shots/_Event`, the resulting stream file contains the original shot ID can easily be mapped back to the original data for integration (see below). Don't worry, this is automatically handled later on, see `indexing.ipynb`.\n",
    "\n",
    "After this step, you can start indexing (`indexing.ipynb`). However you also may want to refine the cell parameters first (`peak_processing.ipynb`).\n",
    "\n",
    "As a TODO: this is the point where one could export to other codes than CrystFEL, like e.g. making _(n)XDS_ `SPOT.XDS` or _DIALS_ `.pickle` files."
   ]
  },
  {
   "cell_type": "code",
   "execution_count": 13,
   "metadata": {},
   "outputs": [
    {
     "name": "stdout",
     "output_type": "stream",
     "text": [
      "1322 shots out of 1322 selected.\n",
      "Persisting stacks to memory: nPeaks, peakTotalIntensity, peakXPosRaw, peakYPosRaw\n",
      "Writing fake all-ones data (yes, it takes that long).\n",
      "Writing recommended_zchunks attribute...\n",
      "[########################################] | 100% Completed | 29.1s\n",
      "Virtual file virtual.h5 and list file virtual.lst successfully exported.\n"
     ]
    }
   ],
   "source": [
    "%rm virtual.h5\n",
    "ds_hit.write_virtual_file()"
   ]
  },
  {
   "cell_type": "markdown",
   "metadata": {},
   "source": [
    "## Creation of actual processed images\n",
    "...using the `proc2d.correct_image` function, which applies corrections as defined in the `YAML` file. The stack with corrected images (dask arrays, so they are not actually computed yet!) is added to the dataset.\n",
    "\n",
    "Then, you can use the viewing widget to assess if the correction matches your expectations. If not, change the options file, and re-iterate until you're happy. (NB: The update of the widget might take slightly longer than before, as the correction is done in real time.)\n",
    "\n",
    "Finally, run the `compute_and_save` method, which actually computes all corrected patterns and writes them to disk. Note that using the `exclude_stacks='raw_counts'` will prevent the raw data from being written into the new files. This function might take quite a while. Please follow the progress on the dask dashboard. Note that if you follow the standard workflow, this will be the first time that diffraction data is actually _written_ to disk (besides the virtual one for indexing)."
   ]
  },
  {
   "cell_type": "code",
   "execution_count": 18,
   "metadata": {},
   "outputs": [],
   "source": [
    "opts.load()\n",
    "ds_compute = ds_hit # extra step just in case you want to work on a different set\n",
    "img_final = proc2d.correct_image(ds_compute.raw_counts, opts,\n",
    "                                ds_compute.shots.lor_x.values,\n",
    "                                ds_compute.shots.lor_y.values,\n",
    "                                ds_compute.peak_data) # keep in mind, that this a lazy computation, so nothing is actually done yet\n",
    "\n",
    "ds_compute.add_stack('corrected', img_final, overwrite=True, set_diff_stack=True)"
   ]
  },
  {
   "cell_type": "code",
   "execution_count": 19,
   "metadata": {},
   "outputs": [
    {
     "data": {
      "application/vnd.jupyter.widget-view+json": {
       "model_id": "61b87fe5ebcf4edd98e999f4611bdd18",
       "version_major": 2,
       "version_minor": 0
      },
      "text/plain": [
       "VBox(children=(HBox(children=(VBox(children=(Textarea(value='sample: Lyso190304\\nregion: 24\\nrun: 0\\ncrystal_i…"
      ]
     },
     "metadata": {},
     "output_type": "display_data"
    }
   ],
   "source": [
    "ds_compute.view(shot=402)"
   ]
  },
  {
   "cell_type": "code",
   "execution_count": 20,
   "metadata": {
    "collapsed": true,
    "jupyter": {
     "outputs_hidden": true
    }
   },
   "outputs": [
    {
     "name": "stdout",
     "output_type": "stream",
     "text": [
      "Initializing data files...\n",
      "Storing meta tables...\n"
     ]
    },
    {
     "name": "stderr",
     "output_type": "stream",
     "text": [
      "/opts/dev/diffractem/diffractem/dataset.py:1200: UserWarning: Non-matching primary diffraction stack labels: corrected vs raw_counts\n",
      "  warn(f'Non-matching primary diffraction stack labels: '\n"
     ]
    },
    {
     "name": "stdout",
     "output_type": "stream",
     "text": [
      "Storing meta stacks nPeaks, peakTotalIntensity, peakXPosRaw, peakYPosRaw\n",
      "[########################################] | 100% Completed |  8.0s\n",
      "Storing diffraction data stack corrected... monitor progress at http://127.0.0.1:8787/status (or forward port if remote)\n",
      "Initializing data sets for diffraction stack corrected...\n",
      "Submitting tasks to dask.distributed scheduler...\n",
      "Starting computation...\n"
     ]
    },
    {
     "name": "stderr",
     "output_type": "stream",
     "text": [
      "Task exception was never retrieved\n",
      "future: <Task finished coro=<connect.<locals>._() done, defined at /opts/anaconda/envs/preproc/lib/python3.7/site-packages/distributed/comm/core.py:288> exception=CommClosedError()>\n",
      "Traceback (most recent call last):\n",
      "  File \"/opts/anaconda/envs/preproc/lib/python3.7/site-packages/distributed/comm/core.py\", line 297, in _\n",
      "    handshake = await asyncio.wait_for(comm.read(), 1)\n",
      "  File \"/opts/anaconda/envs/preproc/lib/python3.7/asyncio/tasks.py\", line 448, in wait_for\n",
      "    await _cancel_and_wait(fut, loop=loop)\n",
      "  File \"/opts/anaconda/envs/preproc/lib/python3.7/asyncio/tasks.py\", line 509, in _cancel_and_wait\n",
      "    await waiter\n",
      "concurrent.futures._base.CancelledError\n",
      "\n",
      "The above exception was the direct cause of the following exception:\n",
      "\n",
      "Traceback (most recent call last):\n",
      "  File \"/opts/anaconda/envs/preproc/lib/python3.7/site-packages/distributed/comm/core.py\", line 304, in _\n",
      "    raise CommClosedError() from e\n",
      "distributed.comm.core.CommClosedError\n"
     ]
    }
   ],
   "source": [
    "# run the computation. Depending on your computer and data set size, have a coffee or go to bed now.\n",
    "ds_compute.compute_and_save(diff_stack_label='corrected', list_file='hits_agg.lst', exclude_stacks='raw_counts',\n",
    "                            client=client, overwrite=True)"
   ]
  },
  {
   "cell_type": "markdown",
   "metadata": {},
   "source": [
    "## Broadcasting to other aggregations\n",
    "\n",
    "With all the information we have about our initial aggregated set `ds_agg`, we can now also make other aggregations, e.g. with less or more exposure time, or including the first shot (0), which has artifacts that confuse indexing and is hence omitted.\n",
    "\n",
    "As you will see, this is easy: make an aggregated set as before, just be cautious to make a good `file_suffix`, so you don't overwrite the existing ones.\n",
    "Them `merge_pattern_info` will grab all there is to know from `image_info.h5`. \n",
    "From there, it behaves as above: do your hit correction, compute the final image using `proc2d.correct_image`, check the outcome using `view`, and compute and save it.\n",
    "The peak and center data in the new files will be _exactly_ as in those in `ds_agg` or e.g. the `virtual.h5` that is used for indexing.\n",
    "Hence, after indexing, you can use the newly made files for integration just as well - see `indexing.ipynb`."
   ]
  },
  {
   "cell_type": "code",
   "execution_count": 36,
   "metadata": {},
   "outputs": [
    {
     "name": "stdout",
     "output_type": "stream",
     "text": [
      "Monotonous aggregation: True \n",
      "File/subset remixing: False\n",
      "Frame aggregation: True\n",
      "Acq. run aggregation: False\n",
      "Discarding shot table columns: ['Event', 'frame', 'shot_in_subset']\n",
      "Persisting stacks to memory: \n",
      "Single-file dataset, disabling parallel I/O.\n",
      "No feature list in data set ('/%/map/features not found in image_info.h5.'). That's ok if it's a virtual or info file.\n",
      "Persisting stacks to memory: nPeaks, peakTotalIntensity, peakXPosRaw, peakYPosRaw\n",
      "Persisting stacks to memory: nPeaks, peakXPosRaw, peakYPosRaw, peakTotalIntensity\n",
      "1322 shots out of 2146 selected.\n",
      "Persisting stacks to memory: nPeaks, peakXPosRaw, peakYPosRaw, peakTotalIntensity\n"
     ]
    }
   ],
   "source": [
    "# now, e.g. make another aggregation...\n",
    "ds_0to2 = ds.aggregate(query='frame >= 0 and frame <= 2 and shutter_time == 2', \n",
    "                      by=['sample', 'region', 'run', 'crystal_id'], how='sum', \n",
    "                       new_folder='proc_data', file_suffix='_0to2.h5')\n",
    "ds_0to2.merge_pattern_info('image_info.h5')\n",
    "ds_0to2_hit = ds_0to2.get_selection(f'num_peaks > {opts.min_peaks}', file_suffix='_hit.h5')"
   ]
  },
  {
   "cell_type": "code",
   "execution_count": 39,
   "metadata": {},
   "outputs": [
    {
     "data": {
      "application/vnd.jupyter.widget-view+json": {
       "model_id": "3a62968c34944a9ba6052a76268f61ea",
       "version_major": 2,
       "version_minor": 0
      },
      "text/plain": [
       "VBox(children=(HBox(children=(VBox(children=(Textarea(value='sample: Lyso190304\\nregion: 3\\nrun: 0\\ncrystal_id…"
      ]
     },
     "metadata": {},
     "output_type": "display_data"
    }
   ],
   "source": [
    "# ...and correct the images\n",
    "opts.load()\n",
    "ds_compute = ds_0to2_hit\n",
    "img_final = proc2d.correct_image(ds_compute.raw_counts, opts,\n",
    "                                ds_compute.shots.lor_x.values,\n",
    "                                ds_compute.shots.lor_y.values,\n",
    "                                ds_compute.peak_data) # keep in mind, that this a lazy computation, so nothing is actually done yet\n",
    "\n",
    "ds_compute.add_stack('corrected', img_final, overwrite=True, set_diff_stack=True)\n",
    "ds_compute.view()"
   ]
  },
  {
   "cell_type": "markdown",
   "metadata": {},
   "source": [
    "Now, `ds_0to2_hit` has everything to be written to disk!"
   ]
  },
  {
   "cell_type": "code",
   "execution_count": 41,
   "metadata": {},
   "outputs": [
    {
     "name": "stdout",
     "output_type": "stream",
     "text": [
      "Initializing data files...\n",
      "Storing meta tables...\n"
     ]
    },
    {
     "name": "stderr",
     "output_type": "stream",
     "text": [
      "/opts/dev/diffractem/diffractem/dataset.py:1200: UserWarning: Non-matching primary diffraction stack labels: corrected vs raw_counts\n",
      "  warn(f'Non-matching primary diffraction stack labels: '\n"
     ]
    },
    {
     "name": "stdout",
     "output_type": "stream",
     "text": [
      "Storing meta stacks nPeaks, peakXPosRaw, peakYPosRaw, peakTotalIntensity\n",
      "[########################################] | 100% Completed |  7.9s\n",
      "Storing diffraction data stack corrected... monitor progress at http://127.0.0.1:8787/status (or forward port if remote)\n",
      "Initializing data sets for diffraction stack corrected...\n",
      "Submitting tasks to dask.distributed scheduler...\n",
      "Starting computation...\n"
     ]
    }
   ],
   "source": [
    "ds_0to2_hit.compute_and_save(diff_stack_label='corrected', list_file='hits_0to2.lst', exclude_stacks='raw_counts',\n",
    "                            client=client, overwrite=True)"
   ]
  },
  {
   "cell_type": "markdown",
   "metadata": {},
   "source": [
    "## Broadcasting to single shots\n",
    "\n",
    "(Advanced)\n",
    "\n",
    "Now, we want to make a corrected and annotated (i.e., including peaks and centers) version of the raw data, i.e., single movie frames, for example to study radiation damage or be flexible during merging.\n",
    "This is done essentially exactly the same as if you were just using a different aggregation (see above)."
   ]
  },
  {
   "cell_type": "code",
   "execution_count": null,
   "metadata": {},
   "outputs": [],
   "source": [
    "# now, do exactly the same thing as above, but on single-shot data\n",
    "unchunk = True # IMPORTANT: set to True to look at the set with .view(), otherwise set to False\n",
    "\n",
    "ds_sgl = ds.get_selection('frame >= 0 and frame < 10', file_suffix='_allframe.h5', new_folder='proc_data')\n",
    "\n",
    "ds_sgl.merge_pattern_info('image_info.h5')\n",
    "ds_sgl = ds_sgl.get_selection(f'num_peaks > {opts.min_peaks}', file_suffix='_hit.h5')\n",
    "\n",
    "if unchunk:\n",
    "    ds_sgl.rechunk_stacks(1)\n",
    "\n",
    "opts.load()\n",
    "ds_compute = ds_sgl\n",
    "img_final = proc2d.correct_image(ds_compute.raw_counts, opts,\n",
    "                                ds_compute.shots.lor_x.values,\n",
    "                                ds_compute.shots.lor_y.values,\n",
    "                                ds_compute.peak_data) # keep in mind, that this a lazy computation, so nothing is actually done yet\n",
    "\n",
    "ds_compute.add_stack('corrected', img_final, overwrite=True, set_diff_stack=True)"
   ]
  },
  {
   "cell_type": "code",
   "execution_count": null,
   "metadata": {},
   "outputs": [],
   "source": [
    "# ...and run the computation\n",
    "ds_compute.compute_and_save(diff_stack_label='corrected', list_file='hits-allframe.lst', exclude_stacks='raw_counts',\n",
    "                            client=client, overwrite=True)"
   ]
  },
  {
   "cell_type": "markdown",
   "metadata": {},
   "source": [
    "## Make cumulative-sum files\n",
    "(Advanced)\n",
    "\n",
    "Finally, you can also create a set of files, which instead of single frames, have their cumulative sums, which means that you can pick in hindsight which ones you want to use for the later steps. \n",
    "Some might prefer a workflow where you just make files for different aggregations (as above) that you think make sense.\n",
    "\n",
    "Anyway - for this case, the function `transform_stack_group` does exactly what you want: a cumulative sum over each group in your stack matching one unique crystal. The rest is as usual."
   ]
  },
  {
   "cell_type": "code",
   "execution_count": null,
   "metadata": {},
   "outputs": [],
   "source": [
    "# only if restarting from here\n",
    "ds_sgl = Dataset.from_files('hits-allframe.lst', chunking=20)"
   ]
  },
  {
   "cell_type": "code",
   "execution_count": null,
   "metadata": {},
   "outputs": [],
   "source": [
    "# copy data set and apply transform function, which defaults to cumulation\n",
    "ds_cum_0 = ds_sgl.get_selection('True', file_suffix='_cum_from_0.h5')\n",
    "ds_cum_0.transform_stack_groups(stacks='corrected')"
   ]
  },
  {
   "cell_type": "code",
   "execution_count": null,
   "metadata": {},
   "outputs": [],
   "source": [
    "# more sophisticated: start cumulation only at second frame\n",
    "# this reduces the signal somewhat and throws away the (maybe) most undamaged\n",
    "# frame, but avoids streak artifacts that might be in it\n",
    "cum_from_1 = lambda x: np.concatenate([x[:1,...], np.cumsum(x[1:,...], axis=0)], axis=0)\n",
    "ds_cum_1 = ds_sgl.get_selection('True', file_suffix='_cum_from_1.h5')\n",
    "ds_cum_1.transform_stack_groups(stacks='corrected', func=cum_from_1)"
   ]
  },
  {
   "cell_type": "code",
   "execution_count": null,
   "metadata": {},
   "outputs": [],
   "source": [
    "%matplotlib widget\n",
    "ds_cum_1.view()"
   ]
  },
  {
   "cell_type": "code",
   "execution_count": null,
   "metadata": {},
   "outputs": [],
   "source": [
    "# run the computation. Depending on your computer and data set size, have a coffee or go to bed now.\n",
    "ds_cum_0.compute_and_save(diff_stack_label='corrected', list_file='hits_cum-0.lst', exclude_stacks='raw_counts',\n",
    "                            client=client, overwrite=True)\n",
    "ds_cum_1.compute_and_save(diff_stack_label='corrected', list_file='hits_cum-1.lst', exclude_stacks='raw_counts',\n",
    "                            client=client, overwrite=True)"
   ]
  }
 ],
 "metadata": {
  "kernelspec": {
   "display_name": "Python 3.7.6 64-bit ('preproc')",
   "language": "python",
   "name": "python37664bitpreprocde2d2aa216c74fd08703cca08757b3d9"
  },
  "language_info": {
   "codemirror_mode": {
    "name": "ipython",
    "version": 3
   },
   "file_extension": ".py",
   "mimetype": "text/x-python",
   "name": "python",
   "nbconvert_exporter": "python",
   "pygments_lexer": "ipython3",
   "version": "3.7.6"
  },
  "widgets": {
   "application/vnd.jupyter.widget-state+json": {
    "state": {
     "00028bc316d84d68b1225a84650aa7d0": {
      "model_module": "@jupyter-widgets/controls",
      "model_module_version": "1.5.0",
      "model_name": "FloatTextModel",
      "state": {
       "description": "Imax",
       "layout": "IPY_MODEL_8c15b0819ef74e048b870791382a69e1",
       "step": null,
       "style": "IPY_MODEL_bb1bc02cc8674b628f8d245070330232",
       "value": 30
      }
     },
     "00d22db248844cc59bf9392767a0c87a": {
      "model_module": "@jupyter-widgets/base",
      "model_module_version": "1.2.0",
      "model_name": "LayoutModel",
      "state": {}
     },
     "029188cc9aa44fdeb8dcb1eb96779d36": {
      "model_module": "@jupyter-widgets/controls",
      "model_module_version": "1.5.0",
      "model_name": "CheckboxModel",
      "state": {
       "description": "log",
       "disabled": false,
       "layout": "IPY_MODEL_af8dc64b19e24f20ab2c2982724362b3",
       "style": "IPY_MODEL_64b9578a72ad42528a309e3101950d2e",
       "value": false
      }
     },
     "04223ae3770448f090de2b0ca07f140d": {
      "model_module": "@jupyter-widgets/output",
      "model_module_version": "1.0.0",
      "model_name": "OutputModel",
      "state": {
       "layout": "IPY_MODEL_b408c9011a844868ba0990070c851ca4",
       "outputs": [
        {
         "data": {
          "application/vnd.jupyter.widget-view+json": {
           "model_id": "5462be7b7c7246859b2d071d950a680f",
           "version_major": 2,
           "version_minor": 0
          },
          "text/plain": "Canvas(toolbar=Toolbar(toolitems=[('Home', 'Reset original view', 'home', 'home'), ('Back', 'Back to previous …"
         },
         "metadata": {},
         "output_type": "display_data"
        }
       ]
      }
     },
     "0563a73a0bfb4a639634584a3254f4b3": {
      "model_module": "@jupyter-widgets/base",
      "model_module_version": "1.2.0",
      "model_name": "LayoutModel",
      "state": {}
     },
     "060320687c9849f8be4fc18719c095f6": {
      "model_module": "@jupyter-widgets/controls",
      "model_module_version": "1.5.0",
      "model_name": "LabelModel",
      "state": {
       "layout": "IPY_MODEL_322610dfdde049bf9db567ba98d349e3",
       "style": "IPY_MODEL_7f6e08daea994c1abed42499477413ca",
       "value": "2146 of 2146 shots selected."
      }
     },
     "0681e81e5db04dbe9a93c2c0cb973639": {
      "model_module": "@jupyter-widgets/controls",
      "model_module_version": "1.5.0",
      "model_name": "LabelModel",
      "state": {
       "layout": "IPY_MODEL_8bee52e3cb8e442bb3e8e52ec017e136",
       "style": "IPY_MODEL_f127bf82fc0a401e96b5250826f52ff5",
       "value": "1322 of 1322 shots selected."
      }
     },
     "06a186e72da94d5b81039623f69d24fc": {
      "model_module": "@jupyter-widgets/base",
      "model_module_version": "1.2.0",
      "model_name": "LayoutModel",
      "state": {}
     },
     "08a1f6ead46f44679e02eafc63de48a6": {
      "model_module": "@jupyter-widgets/controls",
      "model_module_version": "1.5.0",
      "model_name": "ToggleButtonModel",
      "state": {
       "description": "selected",
       "layout": "IPY_MODEL_35e5e22f356842e5ae3e140cf2fd6abd",
       "style": "IPY_MODEL_2b486614a938432d99e0de159bb49ec6",
       "value": true
      }
     },
     "08a6400039014ac18c5ded22fd58c58e": {
      "model_module": "@jupyter-widgets/output",
      "model_module_version": "1.0.0",
      "model_name": "OutputModel",
      "state": {
       "layout": "IPY_MODEL_efdf9a503ade474590e3fa3eba7a9327",
       "outputs": [
        {
         "ename": "KeyError",
         "evalue": "1322",
         "output_type": "error",
         "traceback": [
          "\u001b[0;31m---------------------------------------------------------------------------\u001b[0m",
          "\u001b[0;31mKeyError\u001b[0m                                  Traceback (most recent call last)",
          "\u001b[0;32m/opts/anaconda/envs/preproc/lib/python3.7/site-packages/pandas/core/indexes/base.py\u001b[0m in \u001b[0;36mget_loc\u001b[0;34m(self, key, method, tolerance)\u001b[0m\n\u001b[1;32m   2890\u001b[0m             \u001b[0;32mtry\u001b[0m\u001b[0;34m:\u001b[0m\u001b[0;34m\u001b[0m\u001b[0;34m\u001b[0m\u001b[0m\n\u001b[0;32m-> 2891\u001b[0;31m                 \u001b[0;32mreturn\u001b[0m \u001b[0mself\u001b[0m\u001b[0;34m.\u001b[0m\u001b[0m_engine\u001b[0m\u001b[0;34m.\u001b[0m\u001b[0mget_loc\u001b[0m\u001b[0;34m(\u001b[0m\u001b[0mcasted_key\u001b[0m\u001b[0;34m)\u001b[0m\u001b[0;34m\u001b[0m\u001b[0;34m\u001b[0m\u001b[0m\n\u001b[0m\u001b[1;32m   2892\u001b[0m             \u001b[0;32mexcept\u001b[0m \u001b[0mKeyError\u001b[0m \u001b[0;32mas\u001b[0m \u001b[0merr\u001b[0m\u001b[0;34m:\u001b[0m\u001b[0;34m\u001b[0m\u001b[0;34m\u001b[0m\u001b[0m\n",
          "\u001b[0;32mpandas/_libs/index.pyx\u001b[0m in \u001b[0;36mpandas._libs.index.IndexEngine.get_loc\u001b[0;34m()\u001b[0m\n",
          "\u001b[0;32mpandas/_libs/index.pyx\u001b[0m in \u001b[0;36mpandas._libs.index.IndexEngine.get_loc\u001b[0;34m()\u001b[0m\n",
          "\u001b[0;32mpandas/_libs/hashtable_class_helper.pxi\u001b[0m in \u001b[0;36mpandas._libs.hashtable.Int64HashTable.get_item\u001b[0;34m()\u001b[0m\n",
          "\u001b[0;32mpandas/_libs/hashtable_class_helper.pxi\u001b[0m in \u001b[0;36mpandas._libs.hashtable.Int64HashTable.get_item\u001b[0;34m()\u001b[0m\n",
          "\u001b[0;31mKeyError\u001b[0m: 1322",
          "\nThe above exception was the direct cause of the following exception:\n",
          "\u001b[0;31mKeyError\u001b[0m                                  Traceback (most recent call last)",
          "\u001b[0;32m/opts/anaconda/envs/preproc/lib/python3.7/site-packages/ipywidgets/widgets/interaction.py\u001b[0m in \u001b[0;36mupdate\u001b[0;34m(self, *args)\u001b[0m\n\u001b[1;32m    254\u001b[0m                     \u001b[0mvalue\u001b[0m \u001b[0;34m=\u001b[0m \u001b[0mwidget\u001b[0m\u001b[0;34m.\u001b[0m\u001b[0mget_interact_value\u001b[0m\u001b[0;34m(\u001b[0m\u001b[0;34m)\u001b[0m\u001b[0;34m\u001b[0m\u001b[0;34m\u001b[0m\u001b[0m\n\u001b[1;32m    255\u001b[0m                     \u001b[0mself\u001b[0m\u001b[0;34m.\u001b[0m\u001b[0mkwargs\u001b[0m\u001b[0;34m[\u001b[0m\u001b[0mwidget\u001b[0m\u001b[0;34m.\u001b[0m\u001b[0m_kwarg\u001b[0m\u001b[0;34m]\u001b[0m \u001b[0;34m=\u001b[0m \u001b[0mvalue\u001b[0m\u001b[0;34m\u001b[0m\u001b[0;34m\u001b[0m\u001b[0m\n\u001b[0;32m--> 256\u001b[0;31m                 \u001b[0mself\u001b[0m\u001b[0;34m.\u001b[0m\u001b[0mresult\u001b[0m \u001b[0;34m=\u001b[0m \u001b[0mself\u001b[0m\u001b[0;34m.\u001b[0m\u001b[0mf\u001b[0m\u001b[0;34m(\u001b[0m\u001b[0;34m**\u001b[0m\u001b[0mself\u001b[0m\u001b[0;34m.\u001b[0m\u001b[0mkwargs\u001b[0m\u001b[0;34m)\u001b[0m\u001b[0;34m\u001b[0m\u001b[0;34m\u001b[0m\u001b[0m\n\u001b[0m\u001b[1;32m    257\u001b[0m                 \u001b[0mshow_inline_matplotlib_plots\u001b[0m\u001b[0;34m(\u001b[0m\u001b[0;34m)\u001b[0m\u001b[0;34m\u001b[0m\u001b[0;34m\u001b[0m\u001b[0m\n\u001b[1;32m    258\u001b[0m                 \u001b[0;32mif\u001b[0m \u001b[0mself\u001b[0m\u001b[0;34m.\u001b[0m\u001b[0mauto_display\u001b[0m \u001b[0;32mand\u001b[0m \u001b[0mself\u001b[0m\u001b[0;34m.\u001b[0m\u001b[0mresult\u001b[0m \u001b[0;32mis\u001b[0m \u001b[0;32mnot\u001b[0m \u001b[0;32mNone\u001b[0m\u001b[0;34m:\u001b[0m\u001b[0;34m\u001b[0m\u001b[0;34m\u001b[0m\u001b[0m\n",
          "\u001b[0;32m/opts/dev/diffractem/diffractem/tools.py\u001b[0m in \u001b[0;36mupdate\u001b[0;34m(shot, vmax, log)\u001b[0m\n\u001b[1;32m    728\u001b[0m \u001b[0;34m\u001b[0m\u001b[0m\n\u001b[1;32m    729\u001b[0m     \u001b[0;32mdef\u001b[0m \u001b[0mupdate\u001b[0m\u001b[0;34m(\u001b[0m\u001b[0mshot\u001b[0m\u001b[0;34m=\u001b[0m\u001b[0mshot\u001b[0m\u001b[0;34m,\u001b[0m \u001b[0mvmax\u001b[0m\u001b[0;34m=\u001b[0m\u001b[0mImax\u001b[0m\u001b[0;34m,\u001b[0m \u001b[0mlog\u001b[0m\u001b[0;34m=\u001b[0m\u001b[0mlog\u001b[0m\u001b[0;34m)\u001b[0m\u001b[0;34m:\u001b[0m\u001b[0;34m\u001b[0m\u001b[0;34m\u001b[0m\u001b[0m\n\u001b[0;32m--> 730\u001b[0;31m         \u001b[0mshdat\u001b[0m \u001b[0;34m=\u001b[0m \u001b[0mds_disp\u001b[0m\u001b[0;34m.\u001b[0m\u001b[0mshots\u001b[0m\u001b[0;34m.\u001b[0m\u001b[0mloc\u001b[0m\u001b[0;34m[\u001b[0m\u001b[0mshot\u001b[0m\u001b[0;34m]\u001b[0m\u001b[0;34m\u001b[0m\u001b[0;34m\u001b[0m\u001b[0m\n\u001b[0m\u001b[1;32m    731\u001b[0m         \u001b[0mw_selected\u001b[0m\u001b[0;34m.\u001b[0m\u001b[0mvalue\u001b[0m \u001b[0;34m=\u001b[0m \u001b[0mbool\u001b[0m\u001b[0;34m(\u001b[0m\u001b[0mshdat\u001b[0m\u001b[0;34m.\u001b[0m\u001b[0mselected\u001b[0m\u001b[0;34m)\u001b[0m\u001b[0;34m\u001b[0m\u001b[0;34m\u001b[0m\u001b[0m\n\u001b[1;32m    732\u001b[0m         \u001b[0mw_info\u001b[0m\u001b[0;34m.\u001b[0m\u001b[0mvalue\u001b[0m \u001b[0;34m=\u001b[0m \u001b[0;34m'\\n'\u001b[0m\u001b[0;34m.\u001b[0m\u001b[0mjoin\u001b[0m\u001b[0;34m(\u001b[0m\u001b[0;34m[\u001b[0m\u001b[0;34mf'{k}: {v}'\u001b[0m \u001b[0;32mfor\u001b[0m \u001b[0mk\u001b[0m\u001b[0;34m,\u001b[0m \u001b[0mv\u001b[0m \u001b[0;32min\u001b[0m \u001b[0mshdat\u001b[0m\u001b[0;34m.\u001b[0m\u001b[0mitems\u001b[0m\u001b[0;34m(\u001b[0m\u001b[0;34m)\u001b[0m\u001b[0;34m]\u001b[0m\u001b[0;34m)\u001b[0m\u001b[0;34m\u001b[0m\u001b[0;34m\u001b[0m\u001b[0m\n",
          "\u001b[0;32m/opts/anaconda/envs/preproc/lib/python3.7/site-packages/pandas/core/indexing.py\u001b[0m in \u001b[0;36m__getitem__\u001b[0;34m(self, key)\u001b[0m\n\u001b[1;32m    877\u001b[0m \u001b[0;34m\u001b[0m\u001b[0m\n\u001b[1;32m    878\u001b[0m             \u001b[0mmaybe_callable\u001b[0m \u001b[0;34m=\u001b[0m \u001b[0mcom\u001b[0m\u001b[0;34m.\u001b[0m\u001b[0mapply_if_callable\u001b[0m\u001b[0;34m(\u001b[0m\u001b[0mkey\u001b[0m\u001b[0;34m,\u001b[0m \u001b[0mself\u001b[0m\u001b[0;34m.\u001b[0m\u001b[0mobj\u001b[0m\u001b[0;34m)\u001b[0m\u001b[0;34m\u001b[0m\u001b[0;34m\u001b[0m\u001b[0m\n\u001b[0;32m--> 879\u001b[0;31m             \u001b[0;32mreturn\u001b[0m \u001b[0mself\u001b[0m\u001b[0;34m.\u001b[0m\u001b[0m_getitem_axis\u001b[0m\u001b[0;34m(\u001b[0m\u001b[0mmaybe_callable\u001b[0m\u001b[0;34m,\u001b[0m \u001b[0maxis\u001b[0m\u001b[0;34m=\u001b[0m\u001b[0maxis\u001b[0m\u001b[0;34m)\u001b[0m\u001b[0;34m\u001b[0m\u001b[0;34m\u001b[0m\u001b[0m\n\u001b[0m\u001b[1;32m    880\u001b[0m \u001b[0;34m\u001b[0m\u001b[0m\n\u001b[1;32m    881\u001b[0m     \u001b[0;32mdef\u001b[0m \u001b[0m_is_scalar_access\u001b[0m\u001b[0;34m(\u001b[0m\u001b[0mself\u001b[0m\u001b[0;34m,\u001b[0m \u001b[0mkey\u001b[0m\u001b[0;34m:\u001b[0m \u001b[0mTuple\u001b[0m\u001b[0;34m)\u001b[0m\u001b[0;34m:\u001b[0m\u001b[0;34m\u001b[0m\u001b[0;34m\u001b[0m\u001b[0m\n",
          "\u001b[0;32m/opts/anaconda/envs/preproc/lib/python3.7/site-packages/pandas/core/indexing.py\u001b[0m in \u001b[0;36m_getitem_axis\u001b[0;34m(self, key, axis)\u001b[0m\n\u001b[1;32m   1108\u001b[0m         \u001b[0;31m# fall thru to straight lookup\u001b[0m\u001b[0;34m\u001b[0m\u001b[0;34m\u001b[0m\u001b[0;34m\u001b[0m\u001b[0m\n\u001b[1;32m   1109\u001b[0m         \u001b[0mself\u001b[0m\u001b[0;34m.\u001b[0m\u001b[0m_validate_key\u001b[0m\u001b[0;34m(\u001b[0m\u001b[0mkey\u001b[0m\u001b[0;34m,\u001b[0m \u001b[0maxis\u001b[0m\u001b[0;34m)\u001b[0m\u001b[0;34m\u001b[0m\u001b[0;34m\u001b[0m\u001b[0m\n\u001b[0;32m-> 1110\u001b[0;31m         \u001b[0;32mreturn\u001b[0m \u001b[0mself\u001b[0m\u001b[0;34m.\u001b[0m\u001b[0m_get_label\u001b[0m\u001b[0;34m(\u001b[0m\u001b[0mkey\u001b[0m\u001b[0;34m,\u001b[0m \u001b[0maxis\u001b[0m\u001b[0;34m=\u001b[0m\u001b[0maxis\u001b[0m\u001b[0;34m)\u001b[0m\u001b[0;34m\u001b[0m\u001b[0;34m\u001b[0m\u001b[0m\n\u001b[0m\u001b[1;32m   1111\u001b[0m \u001b[0;34m\u001b[0m\u001b[0m\n\u001b[1;32m   1112\u001b[0m     \u001b[0;32mdef\u001b[0m \u001b[0m_get_slice_axis\u001b[0m\u001b[0;34m(\u001b[0m\u001b[0mself\u001b[0m\u001b[0;34m,\u001b[0m \u001b[0mslice_obj\u001b[0m\u001b[0;34m:\u001b[0m \u001b[0mslice\u001b[0m\u001b[0;34m,\u001b[0m \u001b[0maxis\u001b[0m\u001b[0;34m:\u001b[0m \u001b[0mint\u001b[0m\u001b[0;34m)\u001b[0m\u001b[0;34m:\u001b[0m\u001b[0;34m\u001b[0m\u001b[0;34m\u001b[0m\u001b[0m\n",
          "\u001b[0;32m/opts/anaconda/envs/preproc/lib/python3.7/site-packages/pandas/core/indexing.py\u001b[0m in \u001b[0;36m_get_label\u001b[0;34m(self, label, axis)\u001b[0m\n\u001b[1;32m   1057\u001b[0m     \u001b[0;32mdef\u001b[0m \u001b[0m_get_label\u001b[0m\u001b[0;34m(\u001b[0m\u001b[0mself\u001b[0m\u001b[0;34m,\u001b[0m \u001b[0mlabel\u001b[0m\u001b[0;34m,\u001b[0m \u001b[0maxis\u001b[0m\u001b[0;34m:\u001b[0m \u001b[0mint\u001b[0m\u001b[0;34m)\u001b[0m\u001b[0;34m:\u001b[0m\u001b[0;34m\u001b[0m\u001b[0;34m\u001b[0m\u001b[0m\n\u001b[1;32m   1058\u001b[0m         \u001b[0;31m# GH#5667 this will fail if the label is not present in the axis.\u001b[0m\u001b[0;34m\u001b[0m\u001b[0;34m\u001b[0m\u001b[0;34m\u001b[0m\u001b[0m\n\u001b[0;32m-> 1059\u001b[0;31m         \u001b[0;32mreturn\u001b[0m \u001b[0mself\u001b[0m\u001b[0;34m.\u001b[0m\u001b[0mobj\u001b[0m\u001b[0;34m.\u001b[0m\u001b[0mxs\u001b[0m\u001b[0;34m(\u001b[0m\u001b[0mlabel\u001b[0m\u001b[0;34m,\u001b[0m \u001b[0maxis\u001b[0m\u001b[0;34m=\u001b[0m\u001b[0maxis\u001b[0m\u001b[0;34m)\u001b[0m\u001b[0;34m\u001b[0m\u001b[0;34m\u001b[0m\u001b[0m\n\u001b[0m\u001b[1;32m   1060\u001b[0m \u001b[0;34m\u001b[0m\u001b[0m\n\u001b[1;32m   1061\u001b[0m     \u001b[0;32mdef\u001b[0m \u001b[0m_handle_lowerdim_multi_index_axis0\u001b[0m\u001b[0;34m(\u001b[0m\u001b[0mself\u001b[0m\u001b[0;34m,\u001b[0m \u001b[0mtup\u001b[0m\u001b[0;34m:\u001b[0m \u001b[0mTuple\u001b[0m\u001b[0;34m)\u001b[0m\u001b[0;34m:\u001b[0m\u001b[0;34m\u001b[0m\u001b[0;34m\u001b[0m\u001b[0m\n",
          "\u001b[0;32m/opts/anaconda/envs/preproc/lib/python3.7/site-packages/pandas/core/generic.py\u001b[0m in \u001b[0;36mxs\u001b[0;34m(self, key, axis, level, drop_level)\u001b[0m\n\u001b[1;32m   3486\u001b[0m             \u001b[0mloc\u001b[0m\u001b[0;34m,\u001b[0m \u001b[0mnew_index\u001b[0m \u001b[0;34m=\u001b[0m \u001b[0mself\u001b[0m\u001b[0;34m.\u001b[0m\u001b[0mindex\u001b[0m\u001b[0;34m.\u001b[0m\u001b[0mget_loc_level\u001b[0m\u001b[0;34m(\u001b[0m\u001b[0mkey\u001b[0m\u001b[0;34m,\u001b[0m \u001b[0mdrop_level\u001b[0m\u001b[0;34m=\u001b[0m\u001b[0mdrop_level\u001b[0m\u001b[0;34m)\u001b[0m\u001b[0;34m\u001b[0m\u001b[0;34m\u001b[0m\u001b[0m\n\u001b[1;32m   3487\u001b[0m         \u001b[0;32melse\u001b[0m\u001b[0;34m:\u001b[0m\u001b[0;34m\u001b[0m\u001b[0;34m\u001b[0m\u001b[0m\n\u001b[0;32m-> 3488\u001b[0;31m             \u001b[0mloc\u001b[0m \u001b[0;34m=\u001b[0m \u001b[0mself\u001b[0m\u001b[0;34m.\u001b[0m\u001b[0mindex\u001b[0m\u001b[0;34m.\u001b[0m\u001b[0mget_loc\u001b[0m\u001b[0;34m(\u001b[0m\u001b[0mkey\u001b[0m\u001b[0;34m)\u001b[0m\u001b[0;34m\u001b[0m\u001b[0;34m\u001b[0m\u001b[0m\n\u001b[0m\u001b[1;32m   3489\u001b[0m \u001b[0;34m\u001b[0m\u001b[0m\n\u001b[1;32m   3490\u001b[0m             \u001b[0;32mif\u001b[0m \u001b[0misinstance\u001b[0m\u001b[0;34m(\u001b[0m\u001b[0mloc\u001b[0m\u001b[0;34m,\u001b[0m \u001b[0mnp\u001b[0m\u001b[0;34m.\u001b[0m\u001b[0mndarray\u001b[0m\u001b[0;34m)\u001b[0m\u001b[0;34m:\u001b[0m\u001b[0;34m\u001b[0m\u001b[0;34m\u001b[0m\u001b[0m\n",
          "\u001b[0;32m/opts/anaconda/envs/preproc/lib/python3.7/site-packages/pandas/core/indexes/base.py\u001b[0m in \u001b[0;36mget_loc\u001b[0;34m(self, key, method, tolerance)\u001b[0m\n\u001b[1;32m   2891\u001b[0m                 \u001b[0;32mreturn\u001b[0m \u001b[0mself\u001b[0m\u001b[0;34m.\u001b[0m\u001b[0m_engine\u001b[0m\u001b[0;34m.\u001b[0m\u001b[0mget_loc\u001b[0m\u001b[0;34m(\u001b[0m\u001b[0mcasted_key\u001b[0m\u001b[0;34m)\u001b[0m\u001b[0;34m\u001b[0m\u001b[0;34m\u001b[0m\u001b[0m\n\u001b[1;32m   2892\u001b[0m             \u001b[0;32mexcept\u001b[0m \u001b[0mKeyError\u001b[0m \u001b[0;32mas\u001b[0m \u001b[0merr\u001b[0m\u001b[0;34m:\u001b[0m\u001b[0;34m\u001b[0m\u001b[0;34m\u001b[0m\u001b[0m\n\u001b[0;32m-> 2893\u001b[0;31m                 \u001b[0;32mraise\u001b[0m \u001b[0mKeyError\u001b[0m\u001b[0;34m(\u001b[0m\u001b[0mkey\u001b[0m\u001b[0;34m)\u001b[0m \u001b[0;32mfrom\u001b[0m \u001b[0merr\u001b[0m\u001b[0;34m\u001b[0m\u001b[0;34m\u001b[0m\u001b[0m\n\u001b[0m\u001b[1;32m   2894\u001b[0m \u001b[0;34m\u001b[0m\u001b[0m\n\u001b[1;32m   2895\u001b[0m         \u001b[0;32mif\u001b[0m \u001b[0mtolerance\u001b[0m \u001b[0;32mis\u001b[0m \u001b[0;32mnot\u001b[0m \u001b[0;32mNone\u001b[0m\u001b[0;34m:\u001b[0m\u001b[0;34m\u001b[0m\u001b[0;34m\u001b[0m\u001b[0m\n",
          "\u001b[0;31mKeyError\u001b[0m: 1322"
         ]
        }
       ]
      }
     },
     "096236584aa141b994cd371eb6360d4c": {
      "model_module": "@jupyter-widgets/base",
      "model_module_version": "1.2.0",
      "model_name": "LayoutModel",
      "state": {
       "height": "100%"
      }
     },
     "0a4d8e55d58f48909fefd2709e2aaa60": {
      "model_module": "@jupyter-widgets/base",
      "model_module_version": "1.2.0",
      "model_name": "LayoutModel",
      "state": {}
     },
     "0b261e2d162543699028771a1c9b6dc7": {
      "model_module": "@jupyter-widgets/base",
      "model_module_version": "1.2.0",
      "model_name": "LayoutModel",
      "state": {}
     },
     "0c22d8a1a5c947e8900d1361234aec98": {
      "model_module": "@jupyter-widgets/controls",
      "model_module_version": "1.5.0",
      "model_name": "CheckboxModel",
      "state": {
       "description": "log",
       "disabled": false,
       "layout": "IPY_MODEL_6b1910dff8dc4dcd89cf655e5129d452",
       "style": "IPY_MODEL_5bd027b261144b0193df95608ad51162",
       "value": true
      }
     },
     "0c806d331114493180f7f0162ebc7ab9": {
      "model_module": "@jupyter-widgets/controls",
      "model_module_version": "1.5.0",
      "model_name": "DescriptionStyleModel",
      "state": {
       "description_width": ""
      }
     },
     "0dd55d379a074b2487415f262883b25f": {
      "model_module": "@jupyter-widgets/controls",
      "model_module_version": "1.5.0",
      "model_name": "DescriptionStyleModel",
      "state": {
       "description_width": ""
      }
     },
     "0e16a9d52de24e449ad2144162ad106e": {
      "model_module": "@jupyter-widgets/controls",
      "model_module_version": "1.5.0",
      "model_name": "CheckboxModel",
      "state": {
       "description": "log",
       "disabled": false,
       "layout": "IPY_MODEL_d6047a70a9164dc7a258639586c8ee60",
       "style": "IPY_MODEL_8eef4c454d5e473ea2203ef5017bbd9f",
       "value": false
      }
     },
     "10b4f11ed51c4a36a7e0e2c176fc9bc2": {
      "model_module": "@jupyter-widgets/controls",
      "model_module_version": "1.5.0",
      "model_name": "ToggleButtonModel",
      "state": {
       "description": "selected",
       "layout": "IPY_MODEL_664c8b648daa4894a29bd24ecce91fc6",
       "style": "IPY_MODEL_80f90dccda7440cab986e3253e56476c",
       "value": true
      }
     },
     "10f86f9adcd449f69f38babe6712f78f": {
      "model_module": "@jupyter-widgets/controls",
      "model_module_version": "1.5.0",
      "model_name": "VBoxModel",
      "state": {
       "children": [
        "IPY_MODEL_7ae447701db14f85b2b94ebe479ba6fd",
        "IPY_MODEL_bd7226da987f4ee2a72dc098ef3c11ef"
       ],
       "layout": "IPY_MODEL_b2760e25bbc74015ac1bad7d673fd9dc"
      }
     },
     "121f79d889944e50a70e3825114f6556": {
      "model_module": "@jupyter-widgets/base",
      "model_module_version": "1.2.0",
      "model_name": "LayoutModel",
      "state": {}
     },
     "124508324ccb4915bff7aa0d0bebc479": {
      "model_module": "jupyter-matplotlib",
      "model_module_version": "^0.7.2",
      "model_name": "ToolbarModel",
      "state": {
       "_current_action": "zoom",
       "_model_module_version": "^0.7.2",
       "_view_module_version": "^0.7.2",
       "layout": "IPY_MODEL_fddd42d8a1434508bd8c7838eb3d5328",
       "orientation": "horizontal",
       "toolitems": [
        [
         "Home",
         "Reset original view",
         "home",
         "home"
        ],
        [
         "Back",
         "Back to previous view",
         "arrow-left",
         "back"
        ],
        [
         "Forward",
         "Forward to next view",
         "arrow-right",
         "forward"
        ],
        [
         "Pan",
         "Pan axes with left mouse, zoom with right",
         "arrows",
         "pan"
        ],
        [
         "Zoom",
         "Zoom to rectangle",
         "square-o",
         "zoom"
        ],
        [
         "Download",
         "Download plot",
         "floppy-o",
         "save_figure"
        ]
       ]
      }
     },
     "14761d56054c4796880bd108e1f63157": {
      "model_module": "@jupyter-widgets/controls",
      "model_module_version": "1.5.0",
      "model_name": "CheckboxModel",
      "state": {
       "description": "log",
       "disabled": false,
       "layout": "IPY_MODEL_7ee5341f3e174659b757d275bdb4faa7",
       "style": "IPY_MODEL_9e4a29c7ddba46988e859220819e47e2",
       "value": false
      }
     },
     "148b7dad905c4d80a67547dd6e1e37f8": {
      "model_module": "@jupyter-widgets/controls",
      "model_module_version": "1.5.0",
      "model_name": "FloatTextModel",
      "state": {
       "description": "Imax",
       "layout": "IPY_MODEL_dbe45e32482d4b4a9dc0edd003ff5e9d",
       "step": null,
       "style": "IPY_MODEL_0dd55d379a074b2487415f262883b25f",
       "value": 15
      }
     },
     "153fd4cacfa946fc8c21575935215103": {
      "model_module": "@jupyter-widgets/controls",
      "model_module_version": "1.5.0",
      "model_name": "SliderStyleModel",
      "state": {
       "description_width": ""
      }
     },
     "15509cebe7004cf2b53c8687f6db054e": {
      "model_module": "jupyter-matplotlib",
      "model_module_version": "^0.7.2",
      "model_name": "MPLCanvasModel",
      "state": {
       "_cursor": "default",
       "_figure_label": "Figure 1",
       "_height": 480,
       "_image_mode": "diff",
       "_message": "zoom rect",
       "_model_module_version": "^0.7.2",
       "_rubberband_y": 481,
       "_view_module_version": "^0.7.2",
       "_width": 640,
       "header_visible": false,
       "layout": "IPY_MODEL_da758dd4c7fb49c2a416c00c9dc86ed2",
       "toolbar": "IPY_MODEL_124508324ccb4915bff7aa0d0bebc479",
       "toolbar_position": "bottom"
      }
     },
     "16ad62c167ba4d589ba5ea4ed855af79": {
      "model_module": "@jupyter-widgets/controls",
      "model_module_version": "1.5.0",
      "model_name": "VBoxModel",
      "state": {
       "_dom_classes": [
        "widget-interact"
       ],
       "children": [
        "IPY_MODEL_bd7226da987f4ee2a72dc098ef3c11ef",
        "IPY_MODEL_816d952f36aa42b7b42a1726e64fa7e2",
        "IPY_MODEL_eeabff33ad0a4d7b9397fa8b665a3a20",
        "IPY_MODEL_736f7aedf7f34f6b9adc3f7c09c2db35"
       ],
       "layout": "IPY_MODEL_937cee59dce44b5d934924dab236a48d"
      }
     },
     "16c65d6d3a9c40168f34044babf10389": {
      "model_module": "@jupyter-widgets/controls",
      "model_module_version": "1.5.0",
      "model_name": "DescriptionStyleModel",
      "state": {
       "description_width": ""
      }
     },
     "17301743e84f47f49e9a91bd34c08707": {
      "model_module": "@jupyter-widgets/base",
      "model_module_version": "1.2.0",
      "model_name": "LayoutModel",
      "state": {}
     },
     "176e3d08e98e40829957978f1e104e91": {
      "model_module": "@jupyter-widgets/base",
      "model_module_version": "1.2.0",
      "model_name": "LayoutModel",
      "state": {}
     },
     "17fd1f317e8b48f4a5f7d5f0cb40dad2": {
      "model_module": "jupyter-matplotlib",
      "model_module_version": "^0.7.2",
      "model_name": "ToolbarModel",
      "state": {
       "_current_action": "zoom",
       "_model_module_version": "^0.7.2",
       "_view_module_version": "^0.7.2",
       "layout": "IPY_MODEL_9b844fc35f4048129d54fa7080aa38d5",
       "orientation": "horizontal",
       "toolitems": [
        [
         "Home",
         "Reset original view",
         "home",
         "home"
        ],
        [
         "Back",
         "Back to previous view",
         "arrow-left",
         "back"
        ],
        [
         "Forward",
         "Forward to next view",
         "arrow-right",
         "forward"
        ],
        [
         "Pan",
         "Pan axes with left mouse, zoom with right",
         "arrows",
         "pan"
        ],
        [
         "Zoom",
         "Zoom to rectangle",
         "square-o",
         "zoom"
        ],
        [
         "Download",
         "Download plot",
         "floppy-o",
         "save_figure"
        ]
       ]
      }
     },
     "187a2d53ff0142cf89496d188dec6777": {
      "model_module": "@jupyter-widgets/base",
      "model_module_version": "1.2.0",
      "model_name": "LayoutModel",
      "state": {}
     },
     "1980aa9bd7fc43979bf313821ad13b83": {
      "model_module": "@jupyter-widgets/controls",
      "model_module_version": "1.5.0",
      "model_name": "TextareaModel",
      "state": {
       "layout": "IPY_MODEL_096236584aa141b994cd371eb6360d4c",
       "style": "IPY_MODEL_8d94499355ca42f090a7b7489e0ea801",
       "value": "sample: Lyso190304\nregion: 27\nrun: 0\ncrystal_id: 0\ncrystal_x: 423.05868742111903\ncrystal_y: 121.75620530079932\npos_x: 408.35868742111904\npos_y: 123.65620530079934\nselected: True\nsubset: entry\nshutter_time: 2.0\nagg_len: 4\nfile_raw: raw_data/LysoS2_027_00000.nxs\nEvent_raw: entry//2\nfile: proc_data/LysoS2_027_00000_agg_sel.h5\nEvent: entry//0\nshot_in_subset: 0\nadf1: 29.21901778801744\nadf2: 12.192764910917937\ncenter_refine_score: 0.03378923313020224\ncenter_x: 732.509093143285\ncenter_y: 279.3363286565991\ncom_x: 732.6685400722985\ncom_y: 279.72150960635605\nlor_hwhm: 8.944281921261274\nlor_pk: 1254.7256585787816\nlor_x: 732.7017910635562\nlor_y: 280.19934068646114\nnum_peaks: 71\nshift_x_mm: -40.288000122880675\nshift_y_mm: -15.36349807611295"
      }
     },
     "1a73ca57f999415daf94292d09989c13": {
      "model_module": "@jupyter-widgets/base",
      "model_module_version": "1.2.0",
      "model_name": "LayoutModel",
      "state": {}
     },
     "1ad4be1c8960418d82207c8e27637791": {
      "model_module": "@jupyter-widgets/base",
      "model_module_version": "1.2.0",
      "model_name": "LayoutModel",
      "state": {}
     },
     "1e01fb7e792b4992a093e5c4fb1317aa": {
      "model_module": "@jupyter-widgets/base",
      "model_module_version": "1.2.0",
      "model_name": "LayoutModel",
      "state": {}
     },
     "1e95e852f8ce4e7cbac7f6a7af3950b1": {
      "model_module": "@jupyter-widgets/base",
      "model_module_version": "1.2.0",
      "model_name": "LayoutModel",
      "state": {}
     },
     "1e966e699f2f4fd7999f43c0d9f89166": {
      "model_module": "@jupyter-widgets/base",
      "model_module_version": "1.2.0",
      "model_name": "LayoutModel",
      "state": {
       "height": "100%"
      }
     },
     "1f160d300d824c779bd9107d087b4317": {
      "model_module": "@jupyter-widgets/controls",
      "model_module_version": "1.5.0",
      "model_name": "SliderStyleModel",
      "state": {
       "description_width": ""
      }
     },
     "1fccd01749cb409b8ff4bb8208cc0a5d": {
      "model_module": "@jupyter-widgets/base",
      "model_module_version": "1.2.0",
      "model_name": "LayoutModel",
      "state": {}
     },
     "20253a24b6564f58abbaf835ec95241d": {
      "model_module": "@jupyter-widgets/controls",
      "model_module_version": "1.5.0",
      "model_name": "CheckboxModel",
      "state": {
       "description": "log",
       "disabled": false,
       "layout": "IPY_MODEL_622dee525b1e436fabe1a0491e18f63a",
       "style": "IPY_MODEL_31afc527e99041249493cbc2db379f10",
       "value": false
      }
     },
     "22063bfd475b4d9fa987f55d32782742": {
      "model_module": "@jupyter-widgets/controls",
      "model_module_version": "1.5.0",
      "model_name": "LabelModel",
      "state": {
       "layout": "IPY_MODEL_444d49e998984e169a31768f2c2d8139",
       "style": "IPY_MODEL_fe70e0b816664f418a49aeccd7a11c69",
       "value": "55800 of 55800 shots selected."
      }
     },
     "22f62611f9164331a270d0f874ba5dd5": {
      "model_module": "@jupyter-widgets/base",
      "model_module_version": "1.2.0",
      "model_name": "LayoutModel",
      "state": {}
     },
     "236110544f024964850fce9f376fd6cd": {
      "model_module": "@jupyter-widgets/controls",
      "model_module_version": "1.5.0",
      "model_name": "VBoxModel",
      "state": {
       "_dom_classes": [
        "widget-interact"
       ],
       "children": [
        "IPY_MODEL_94e4d0b7c05f486f9d6d245cd7678be5",
        "IPY_MODEL_6b2b7aa6142d46b2ba75251fc7cf9656",
        "IPY_MODEL_20253a24b6564f58abbaf835ec95241d",
        "IPY_MODEL_6b357f932ab04e5c9fc0c4108a2f6dc2"
       ],
       "layout": "IPY_MODEL_1e01fb7e792b4992a093e5c4fb1317aa"
      }
     },
     "2423d47f55b54bdb8124d113e0dc26e0": {
      "model_module": "@jupyter-widgets/base",
      "model_module_version": "1.2.0",
      "model_name": "LayoutModel",
      "state": {}
     },
     "24a8b95c3ef2484aa5e90fc2b56949d6": {
      "model_module": "@jupyter-widgets/controls",
      "model_module_version": "1.5.0",
      "model_name": "DescriptionStyleModel",
      "state": {
       "description_width": ""
      }
     },
     "272fe98e8a5943ac83c03c5e41afbc9d": {
      "model_module": "@jupyter-widgets/controls",
      "model_module_version": "1.5.0",
      "model_name": "VBoxModel",
      "state": {
       "_dom_classes": [
        "widget-interact"
       ],
       "children": [
        "IPY_MODEL_aece9b95e1e24113a4cd424510cf3594",
        "IPY_MODEL_5a0830cfa7ec4c398ae5723930cd9fd2",
        "IPY_MODEL_0c22d8a1a5c947e8900d1361234aec98",
        "IPY_MODEL_273d4b8f13204249a729e64dbe69967b"
       ],
       "layout": "IPY_MODEL_9a09d00a39e5486aa8756e9c9fbdaf75"
      }
     },
     "273d4b8f13204249a729e64dbe69967b": {
      "model_module": "@jupyter-widgets/output",
      "model_module_version": "1.0.0",
      "model_name": "OutputModel",
      "state": {
       "layout": "IPY_MODEL_9fc05ecae9864a3cbd3aac94d6322ab9",
       "outputs": [
        {
         "name": "stderr",
         "output_type": "stream",
         "text": "/opts/dev/diffractem/diffractem/tools.py:734: RuntimeWarning: divide by zero encountered in log10\n  ih.set_data(np.log10(img_stack[shot,...].compute(scheduler='single-threaded')))\n"
        }
       ]
      }
     },
     "27d7c4ce2fef455f93b162e61841dc74": {
      "model_module": "jupyter-matplotlib",
      "model_module_version": "^0.7.2",
      "model_name": "ToolbarModel",
      "state": {
       "_current_action": "zoom",
       "_model_module_version": "^0.7.2",
       "_view_module_version": "^0.7.2",
       "layout": "IPY_MODEL_79c3a8c67df24a138f26c57729de8e5d",
       "orientation": "horizontal",
       "toolitems": [
        [
         "Home",
         "Reset original view",
         "home",
         "home"
        ],
        [
         "Back",
         "Back to previous view",
         "arrow-left",
         "back"
        ],
        [
         "Forward",
         "Forward to next view",
         "arrow-right",
         "forward"
        ],
        [
         "Pan",
         "Pan axes with left mouse, zoom with right",
         "arrows",
         "pan"
        ],
        [
         "Zoom",
         "Zoom to rectangle",
         "square-o",
         "zoom"
        ],
        [
         "Download",
         "Download plot",
         "floppy-o",
         "save_figure"
        ]
       ]
      }
     },
     "27dc938a775c407ea58a3d6ec7419cf1": {
      "model_module": "@jupyter-widgets/base",
      "model_module_version": "1.2.0",
      "model_name": "LayoutModel",
      "state": {}
     },
     "27f85bec03074637b62fd56c98d4af29": {
      "model_module": "@jupyter-widgets/controls",
      "model_module_version": "1.5.0",
      "model_name": "ToggleButtonModel",
      "state": {
       "description": "selected",
       "layout": "IPY_MODEL_84a2cfc7f320497eb72ffd59e4bdff80",
       "style": "IPY_MODEL_ae7f3f61e75444a7a3ab74001dc44b38",
       "value": true
      }
     },
     "2972881ac1c94f1890327f3d1a598819": {
      "model_module": "@jupyter-widgets/controls",
      "model_module_version": "1.5.0",
      "model_name": "VBoxModel",
      "state": {
       "children": [
        "IPY_MODEL_848942c0b000400e85d9797ccaecc8ab",
        "IPY_MODEL_ca4b5487a0dc44bf8c48e09376636e3d"
       ],
       "layout": "IPY_MODEL_0b261e2d162543699028771a1c9b6dc7"
      }
     },
     "2b486614a938432d99e0de159bb49ec6": {
      "model_module": "@jupyter-widgets/controls",
      "model_module_version": "1.5.0",
      "model_name": "DescriptionStyleModel",
      "state": {
       "description_width": ""
      }
     },
     "2b7ccc8ff111419f87376caec409c19e": {
      "model_module": "@jupyter-widgets/controls",
      "model_module_version": "1.5.0",
      "model_name": "DescriptionStyleModel",
      "state": {
       "description_width": ""
      }
     },
     "2c0898a34e0e477684c3174b0206dc0e": {
      "model_module": "@jupyter-widgets/base",
      "model_module_version": "1.2.0",
      "model_name": "LayoutModel",
      "state": {}
     },
     "2cf8801dd2834cd8a6bd4f04dd6fba1c": {
      "model_module": "@jupyter-widgets/controls",
      "model_module_version": "1.5.0",
      "model_name": "SliderStyleModel",
      "state": {
       "description_width": ""
      }
     },
     "2e6d4ca3557a4105bd0c8ae9514bc2a0": {
      "model_module": "jupyter-matplotlib",
      "model_module_version": "^0.7.2",
      "model_name": "MPLCanvasModel",
      "state": {
       "_figure_label": "Figure 5",
       "_height": 480,
       "_image_mode": "diff",
       "_model_module_version": "^0.7.2",
       "_view_module_version": "^0.7.2",
       "_width": 640,
       "header_visible": false,
       "layout": "IPY_MODEL_17301743e84f47f49e9a91bd34c08707",
       "toolbar": "IPY_MODEL_e7747cea916f46a1b622a37f64cd2255",
       "toolbar_position": "bottom"
      }
     },
     "2ec1b0fbf5e44aa790278a0c83c98ae2": {
      "model_module": "@jupyter-widgets/controls",
      "model_module_version": "1.5.0",
      "model_name": "VBoxModel",
      "state": {
       "children": [
        "IPY_MODEL_de5a7d5ba9694e03b3ef4fabacf79327",
        "IPY_MODEL_de72aab838cd4ea89f2af09586003869"
       ],
       "layout": "IPY_MODEL_27dc938a775c407ea58a3d6ec7419cf1"
      }
     },
     "3043faa4c3394c82ad7770160453a7cd": {
      "model_module": "@jupyter-widgets/base",
      "model_module_version": "1.2.0",
      "model_name": "LayoutModel",
      "state": {}
     },
     "30e97a05314b482f807e3939c1e8557d": {
      "model_module": "@jupyter-widgets/base",
      "model_module_version": "1.2.0",
      "model_name": "LayoutModel",
      "state": {
       "height": "100%"
      }
     },
     "3157f68469894642866b01ee1239886b": {
      "model_module": "@jupyter-widgets/controls",
      "model_module_version": "1.5.0",
      "model_name": "VBoxModel",
      "state": {
       "children": [
        "IPY_MODEL_1980aa9bd7fc43979bf313821ad13b83",
        "IPY_MODEL_e24e1a6422a54785b175ef61a2de59c2"
       ],
       "layout": "IPY_MODEL_5841fd24623a4976ba88e2ece1b9037d"
      }
     },
     "31afc527e99041249493cbc2db379f10": {
      "model_module": "@jupyter-widgets/controls",
      "model_module_version": "1.5.0",
      "model_name": "DescriptionStyleModel",
      "state": {
       "description_width": ""
      }
     },
     "31f58bab4ffb4a86a143fcdc989abf31": {
      "model_module": "@jupyter-widgets/controls",
      "model_module_version": "1.5.0",
      "model_name": "DescriptionStyleModel",
      "state": {
       "description_width": ""
      }
     },
     "322610dfdde049bf9db567ba98d349e3": {
      "model_module": "@jupyter-widgets/base",
      "model_module_version": "1.2.0",
      "model_name": "LayoutModel",
      "state": {}
     },
     "35e4b089489d440b9b0a0be291c9f7fd": {
      "model_module": "@jupyter-widgets/base",
      "model_module_version": "1.2.0",
      "model_name": "LayoutModel",
      "state": {}
     },
     "35e5e22f356842e5ae3e140cf2fd6abd": {
      "model_module": "@jupyter-widgets/base",
      "model_module_version": "1.2.0",
      "model_name": "LayoutModel",
      "state": {}
     },
     "361e4a8938c042289468e511ccc693e5": {
      "model_module": "@jupyter-widgets/controls",
      "model_module_version": "1.5.0",
      "model_name": "IntSliderModel",
      "state": {
       "description": "shot",
       "layout": "IPY_MODEL_f92a5897c3184865898815656b0f113a",
       "max": 55800,
       "style": "IPY_MODEL_9908d1623d7f46b99f6a6bafb801b7c4",
       "value": 36450
      }
     },
     "38506253ca704fbe87265210792158c4": {
      "model_module": "@jupyter-widgets/controls",
      "model_module_version": "1.5.0",
      "model_name": "DescriptionStyleModel",
      "state": {
       "description_width": ""
      }
     },
     "39ff9434c25847a1b51133e80e0f8b63": {
      "model_module": "@jupyter-widgets/base",
      "model_module_version": "1.2.0",
      "model_name": "LayoutModel",
      "state": {}
     },
     "3a62968c34944a9ba6052a76268f61ea": {
      "model_module": "@jupyter-widgets/controls",
      "model_module_version": "1.5.0",
      "model_name": "VBoxModel",
      "state": {
       "children": [
        "IPY_MODEL_786689b9762a4ff1b5b6d9bcd78ccef6",
        "IPY_MODEL_a9e232ba30ad44899627900bb3aca483"
       ],
       "layout": "IPY_MODEL_c8b4d8d9e5d643cc86f2adc960b6ec79"
      }
     },
     "3a6813e064564f0cb308c7dbba2229c6": {
      "model_module": "@jupyter-widgets/controls",
      "model_module_version": "1.5.0",
      "model_name": "DescriptionStyleModel",
      "state": {
       "description_width": ""
      }
     },
     "3b834323918b421b853bcfc9995f08c8": {
      "model_module": "@jupyter-widgets/output",
      "model_module_version": "1.0.0",
      "model_name": "OutputModel",
      "state": {
       "layout": "IPY_MODEL_8060d6af0d7e4f27acf4ea7dbdab1672",
       "outputs": [
        {
         "data": {
          "application/vnd.jupyter.widget-view+json": {
           "model_id": "d88febefcc634843b4e30039ba9c9d43",
           "version_major": 2,
           "version_minor": 0
          },
          "text/plain": "Canvas(toolbar=Toolbar(toolitems=[('Home', 'Reset original view', 'home', 'home'), ('Back', 'Back to previous …"
         },
         "metadata": {},
         "output_type": "display_data"
        }
       ]
      }
     },
     "3ddfcf2fa1d842aeb8631bf14d2a33bb": {
      "model_module": "@jupyter-widgets/base",
      "model_module_version": "1.2.0",
      "model_name": "LayoutModel",
      "state": {}
     },
     "3e1d257a7f334938bd37941030eb0b73": {
      "model_module": "@jupyter-widgets/base",
      "model_module_version": "1.2.0",
      "model_name": "LayoutModel",
      "state": {}
     },
     "3e58a4e8a5824dd58f8182bc0bb46c12": {
      "model_module": "@jupyter-widgets/base",
      "model_module_version": "1.2.0",
      "model_name": "LayoutModel",
      "state": {}
     },
     "3f864ccf5f144a969f7ede9ca54ccbb6": {
      "model_module": "@jupyter-widgets/controls",
      "model_module_version": "1.5.0",
      "model_name": "VBoxModel",
      "state": {
       "children": [
        "IPY_MODEL_b0d1f5fc5cd743e3b65a60e848ff2515",
        "IPY_MODEL_361e4a8938c042289468e511ccc693e5"
       ],
       "layout": "IPY_MODEL_6296a64e5f41413b9dd3a33464f19cf7"
      }
     },
     "40dcdb74b70c4175a5c45f16e94fbecb": {
      "model_module": "@jupyter-widgets/base",
      "model_module_version": "1.2.0",
      "model_name": "LayoutModel",
      "state": {}
     },
     "4141b9d7d3984cb68b90278427ff1997": {
      "model_module": "@jupyter-widgets/controls",
      "model_module_version": "1.5.0",
      "model_name": "VBoxModel",
      "state": {
       "_dom_classes": [
        "widget-interact"
       ],
       "children": [
        "IPY_MODEL_de72aab838cd4ea89f2af09586003869",
        "IPY_MODEL_576a4a83f9f2487d833377587d9dbf6a",
        "IPY_MODEL_14761d56054c4796880bd108e1f63157",
        "IPY_MODEL_08a6400039014ac18c5ded22fd58c58e"
       ],
       "layout": "IPY_MODEL_e922a4b8e6184018b74167d463770ea4"
      }
     },
     "444d49e998984e169a31768f2c2d8139": {
      "model_module": "@jupyter-widgets/base",
      "model_module_version": "1.2.0",
      "model_name": "LayoutModel",
      "state": {}
     },
     "445f90d4aea3461e80cb7aaa1c49b011": {
      "model_module": "@jupyter-widgets/base",
      "model_module_version": "1.2.0",
      "model_name": "LayoutModel",
      "state": {}
     },
     "44a4db9c30e34bf89c78f5039498b50f": {
      "model_module": "@jupyter-widgets/base",
      "model_module_version": "1.2.0",
      "model_name": "LayoutModel",
      "state": {}
     },
     "45a850067b6d48cabdbf67c16b04c5fa": {
      "model_module": "@jupyter-widgets/controls",
      "model_module_version": "1.5.0",
      "model_name": "SliderStyleModel",
      "state": {
       "description_width": ""
      }
     },
     "4713878108b640dfa510d48951c368c5": {
      "model_module": "@jupyter-widgets/base",
      "model_module_version": "1.2.0",
      "model_name": "LayoutModel",
      "state": {}
     },
     "487dd11bfdb847718a09bba19eb0b73a": {
      "model_module": "@jupyter-widgets/output",
      "model_module_version": "1.0.0",
      "model_name": "OutputModel",
      "state": {
       "layout": "IPY_MODEL_85d5ad77a1284c53bbffb993df498ab9",
       "outputs": [
        {
         "data": {
          "application/vnd.jupyter.widget-view+json": {
           "model_id": "73e3a45756fd43aab34bc0704dedebbf",
           "version_major": 2,
           "version_minor": 0
          },
          "text/plain": "Canvas(toolbar=Toolbar(toolitems=[('Home', 'Reset original view', 'home', 'home'), ('Back', 'Back to previous …"
         },
         "metadata": {},
         "output_type": "display_data"
        }
       ]
      }
     },
     "4891b735612c4949baf51b9ec5ff3f9d": {
      "model_module": "@jupyter-widgets/controls",
      "model_module_version": "1.5.0",
      "model_name": "DescriptionStyleModel",
      "state": {
       "description_width": ""
      }
     },
     "48978f9f540e40d9bcfae102490852dc": {
      "model_module": "@jupyter-widgets/controls",
      "model_module_version": "1.5.0",
      "model_name": "ToggleButtonModel",
      "state": {
       "description": "selected",
       "layout": "IPY_MODEL_06a186e72da94d5b81039623f69d24fc",
       "style": "IPY_MODEL_3a6813e064564f0cb308c7dbba2229c6",
       "value": true
      }
     },
     "4920ff7dd3034c8db5a00a696ee61401": {
      "model_module": "@jupyter-widgets/base",
      "model_module_version": "1.2.0",
      "model_name": "LayoutModel",
      "state": {
       "height": "100%"
      }
     },
     "49a269ba29e842beb0b825848c2189bb": {
      "model_module": "@jupyter-widgets/base",
      "model_module_version": "1.2.0",
      "model_name": "LayoutModel",
      "state": {}
     },
     "4b29e8e5710d46dfba75400fb9b9cd30": {
      "model_module": "@jupyter-widgets/controls",
      "model_module_version": "1.5.0",
      "model_name": "TextareaModel",
      "state": {
       "layout": "IPY_MODEL_a110b08f2cc242e2bf1fc20cd95e50c8",
       "style": "IPY_MODEL_9ae099d403524834933cc46b662e22ec",
       "value": "sample: Lyso190304\nregion: 12\nrun: 0\ncrystal_id: 83\ncrystal_x: 853.9447674418604\ncrystal_y: 992.8255813953489\npos_x: 837.3447674418604\npos_y: 993.9751937984497\nselected: True\nsubset: entry\nshutter_time: 2.0\nagg_len: 4\nfile: proc_data/LysoS1_012_00000_agg.h5\nfile_raw: raw_data/LysoS1_012_00000.nxs\nEvent: entry//82\nshot_in_subset: 82\nEvent_raw: entry//2104"
      }
     },
     "4c9e16cadad046ecafb04aad3c902bc6": {
      "model_module": "@jupyter-widgets/controls",
      "model_module_version": "1.5.0",
      "model_name": "HBoxModel",
      "state": {
       "children": [
        "IPY_MODEL_3f864ccf5f144a969f7ede9ca54ccbb6",
        "IPY_MODEL_772fb8c344164ef28434dab798c8cdb4"
       ],
       "layout": "IPY_MODEL_690b4cfc4bb944b09b5709495a4c546e"
      }
     },
     "4d6ec4910bb34335a5801891ec7c7474": {
      "model_module": "@jupyter-widgets/controls",
      "model_module_version": "1.5.0",
      "model_name": "VBoxModel",
      "state": {
       "children": [
        "IPY_MODEL_a24e2a01c6064e3ea2fe4ab86269535e",
        "IPY_MODEL_e9ee16fe467c46e4ab76f05765ad9d13"
       ],
       "layout": "IPY_MODEL_95225a667776455581fb714c137397c9"
      }
     },
     "4d727c003d214679a29b283df67e1547": {
      "model_module": "@jupyter-widgets/controls",
      "model_module_version": "1.5.0",
      "model_name": "SliderStyleModel",
      "state": {
       "description_width": ""
      }
     },
     "4f6195f3bd3549d0b9810c9c6047e354": {
      "model_module": "@jupyter-widgets/base",
      "model_module_version": "1.2.0",
      "model_name": "LayoutModel",
      "state": {}
     },
     "533931d1939b4ddb8db183d0da8439ed": {
      "model_module": "@jupyter-widgets/controls",
      "model_module_version": "1.5.0",
      "model_name": "DescriptionStyleModel",
      "state": {
       "description_width": ""
      }
     },
     "53f73b2c88d04f10abadafb9cbac7285": {
      "model_module": "@jupyter-widgets/controls",
      "model_module_version": "1.5.0",
      "model_name": "VBoxModel",
      "state": {
       "children": [
        "IPY_MODEL_d63b659972954c78af4c652180972170",
        "IPY_MODEL_5ff9d5dd9b6a46708050a867fb703d81"
       ],
       "layout": "IPY_MODEL_5a42589b3b7e46488dc531eb4455696c"
      }
     },
     "5462be7b7c7246859b2d071d950a680f": {
      "model_module": "jupyter-matplotlib",
      "model_module_version": "^0.7.2",
      "model_name": "MPLCanvasModel",
      "state": {
       "_cursor": "crosshair",
       "_figure_label": "Figure 3",
       "_height": 480,
       "_image_mode": "diff",
       "_message": "zoom rect, x=531.239      y=448.753      [3.65]",
       "_model_module_version": "^0.7.2",
       "_rubberband_y": 481,
       "_view_module_version": "^0.7.2",
       "_width": 640,
       "header_visible": false,
       "layout": "IPY_MODEL_7cfabbfda0fe40eabed501be993cbac1",
       "toolbar": "IPY_MODEL_27d7c4ce2fef455f93b162e61841dc74",
       "toolbar_position": "bottom"
      }
     },
     "576a4a83f9f2487d833377587d9dbf6a": {
      "model_module": "@jupyter-widgets/controls",
      "model_module_version": "1.5.0",
      "model_name": "FloatTextModel",
      "state": {
       "description": "Imax",
       "layout": "IPY_MODEL_3043faa4c3394c82ad7770160453a7cd",
       "step": null,
       "style": "IPY_MODEL_df9b05ac12a9498fb3c2f839fa7ee34f",
       "value": 50
      }
     },
     "57a0b28367d64d208170b98164e7d372": {
      "model_module": "@jupyter-widgets/output",
      "model_module_version": "1.0.0",
      "model_name": "OutputModel",
      "state": {
       "layout": "IPY_MODEL_35e4b089489d440b9b0a0be291c9f7fd",
       "outputs": [
        {
         "name": "stderr",
         "output_type": "stream",
         "text": "/opts/dev/diffractem/diffractem/tools.py:734: RuntimeWarning: divide by zero encountered in log10\n  ih.set_data(np.log10(img_stack[shot,...].compute(scheduler='single-threaded')))\n"
        }
       ]
      }
     },
     "58084c306aa84054845e002490979eee": {
      "model_module": "@jupyter-widgets/controls",
      "model_module_version": "1.5.0",
      "model_name": "DescriptionStyleModel",
      "state": {
       "description_width": ""
      }
     },
     "5841fd24623a4976ba88e2ece1b9037d": {
      "model_module": "@jupyter-widgets/base",
      "model_module_version": "1.2.0",
      "model_name": "LayoutModel",
      "state": {}
     },
     "5a0830cfa7ec4c398ae5723930cd9fd2": {
      "model_module": "@jupyter-widgets/controls",
      "model_module_version": "1.5.0",
      "model_name": "FloatTextModel",
      "state": {
       "description": "Imax",
       "layout": "IPY_MODEL_869cf7f463aa4a7bb0db16f17bd43366",
       "step": null,
       "style": "IPY_MODEL_38506253ca704fbe87265210792158c4",
       "value": 4000
      }
     },
     "5a42589b3b7e46488dc531eb4455696c": {
      "model_module": "@jupyter-widgets/base",
      "model_module_version": "1.2.0",
      "model_name": "LayoutModel",
      "state": {}
     },
     "5bd027b261144b0193df95608ad51162": {
      "model_module": "@jupyter-widgets/controls",
      "model_module_version": "1.5.0",
      "model_name": "DescriptionStyleModel",
      "state": {
       "description_width": ""
      }
     },
     "5c4c34889d3e4251b1ff73c589e8959a": {
      "model_module": "@jupyter-widgets/base",
      "model_module_version": "1.2.0",
      "model_name": "LayoutModel",
      "state": {}
     },
     "5d1bab35b6c14ed9aff61041ccd9b832": {
      "model_module": "@jupyter-widgets/controls",
      "model_module_version": "1.5.0",
      "model_name": "HBoxModel",
      "state": {
       "children": [
        "IPY_MODEL_9b34d201fdec4805a39229a83d6f5882",
        "IPY_MODEL_c706d9fd845b4f8bb6b0478fd539c752"
       ],
       "layout": "IPY_MODEL_826338d82d42461d82756c045bba0888"
      }
     },
     "5ee0e6c0405d4ab98747b3a64a1d44b2": {
      "model_module": "jupyter-matplotlib",
      "model_module_version": "^0.7.2",
      "model_name": "ToolbarModel",
      "state": {
       "_model_module_version": "^0.7.2",
       "_view_module_version": "^0.7.2",
       "layout": "IPY_MODEL_0563a73a0bfb4a639634584a3254f4b3",
       "orientation": "horizontal",
       "toolitems": [
        [
         "Home",
         "Reset original view",
         "home",
         "home"
        ],
        [
         "Back",
         "Back to previous view",
         "arrow-left",
         "back"
        ],
        [
         "Forward",
         "Forward to next view",
         "arrow-right",
         "forward"
        ],
        [
         "Pan",
         "Pan axes with left mouse, zoom with right",
         "arrows",
         "pan"
        ],
        [
         "Zoom",
         "Zoom to rectangle",
         "square-o",
         "zoom"
        ],
        [
         "Download",
         "Download plot",
         "floppy-o",
         "save_figure"
        ]
       ]
      }
     },
     "5fb849fe96144377991eded109fed92f": {
      "model_module": "@jupyter-widgets/controls",
      "model_module_version": "1.5.0",
      "model_name": "ToggleButtonModel",
      "state": {
       "description": "selected",
       "layout": "IPY_MODEL_39ff9434c25847a1b51133e80e0f8b63",
       "style": "IPY_MODEL_e64f9ef6528749cca908b701c7af6b0b",
       "value": true
      }
     },
     "5ff9d5dd9b6a46708050a867fb703d81": {
      "model_module": "@jupyter-widgets/controls",
      "model_module_version": "1.5.0",
      "model_name": "HBoxModel",
      "state": {
       "children": [
        "IPY_MODEL_48978f9f540e40d9bcfae102490852dc",
        "IPY_MODEL_fc7ce1fdd6ce4c6099a9474f41e63b99",
        "IPY_MODEL_576a4a83f9f2487d833377587d9dbf6a",
        "IPY_MODEL_14761d56054c4796880bd108e1f63157"
       ],
       "layout": "IPY_MODEL_3e1d257a7f334938bd37941030eb0b73"
      }
     },
     "61b87fe5ebcf4edd98e999f4611bdd18": {
      "model_module": "@jupyter-widgets/controls",
      "model_module_version": "1.5.0",
      "model_name": "VBoxModel",
      "state": {
       "children": [
        "IPY_MODEL_73b0e96f1e3e4070b6ba70776e8a4888",
        "IPY_MODEL_d11467141c4949a3802a1b1c4d514c8f"
       ],
       "layout": "IPY_MODEL_c953134672f144caaa7e22d2ab221fd4"
      }
     },
     "622a17543410484b8c6623a8d335c4e5": {
      "model_module": "@jupyter-widgets/controls",
      "model_module_version": "1.5.0",
      "model_name": "DescriptionStyleModel",
      "state": {
       "description_width": ""
      }
     },
     "622dee525b1e436fabe1a0491e18f63a": {
      "model_module": "@jupyter-widgets/base",
      "model_module_version": "1.2.0",
      "model_name": "LayoutModel",
      "state": {}
     },
     "6296a64e5f41413b9dd3a33464f19cf7": {
      "model_module": "@jupyter-widgets/base",
      "model_module_version": "1.2.0",
      "model_name": "LayoutModel",
      "state": {}
     },
     "64b9578a72ad42528a309e3101950d2e": {
      "model_module": "@jupyter-widgets/controls",
      "model_module_version": "1.5.0",
      "model_name": "DescriptionStyleModel",
      "state": {
       "description_width": ""
      }
     },
     "660ebea9a51443d8a27c16d789c74bfc": {
      "model_module": "@jupyter-widgets/base",
      "model_module_version": "1.2.0",
      "model_name": "LayoutModel",
      "state": {}
     },
     "664c8b648daa4894a29bd24ecce91fc6": {
      "model_module": "@jupyter-widgets/base",
      "model_module_version": "1.2.0",
      "model_name": "LayoutModel",
      "state": {}
     },
     "6810278aefc149e1a544b2511a451e3a": {
      "model_module": "@jupyter-widgets/base",
      "model_module_version": "1.2.0",
      "model_name": "LayoutModel",
      "state": {}
     },
     "690b4cfc4bb944b09b5709495a4c546e": {
      "model_module": "@jupyter-widgets/base",
      "model_module_version": "1.2.0",
      "model_name": "LayoutModel",
      "state": {}
     },
     "694940f3223646a696faa67327d639cc": {
      "model_module": "@jupyter-widgets/base",
      "model_module_version": "1.2.0",
      "model_name": "LayoutModel",
      "state": {}
     },
     "69a8316b416f44a499d07f0ef3915687": {
      "model_module": "@jupyter-widgets/base",
      "model_module_version": "1.2.0",
      "model_name": "LayoutModel",
      "state": {}
     },
     "6b1910dff8dc4dcd89cf655e5129d452": {
      "model_module": "@jupyter-widgets/base",
      "model_module_version": "1.2.0",
      "model_name": "LayoutModel",
      "state": {}
     },
     "6b23df77db574615b12a2591ace16cd0": {
      "model_module": "@jupyter-widgets/base",
      "model_module_version": "1.2.0",
      "model_name": "LayoutModel",
      "state": {}
     },
     "6b2b7aa6142d46b2ba75251fc7cf9656": {
      "model_module": "@jupyter-widgets/controls",
      "model_module_version": "1.5.0",
      "model_name": "FloatTextModel",
      "state": {
       "description": "Imax",
       "layout": "IPY_MODEL_694940f3223646a696faa67327d639cc",
       "step": null,
       "style": "IPY_MODEL_16c65d6d3a9c40168f34044babf10389",
       "value": 30
      }
     },
     "6b336bb218ab4e1482dc9b22bc75982a": {
      "model_module": "@jupyter-widgets/output",
      "model_module_version": "1.0.0",
      "model_name": "OutputModel",
      "state": {
       "layout": "IPY_MODEL_789a668f591a45dfaa94bf7a074d1e08",
       "outputs": [
        {
         "data": {
          "application/vnd.jupyter.widget-view+json": {
           "model_id": "15509cebe7004cf2b53c8687f6db054e",
           "version_major": 2,
           "version_minor": 0
          },
          "text/plain": "Canvas(toolbar=Toolbar(toolitems=[('Home', 'Reset original view', 'home', 'home'), ('Back', 'Back to previous …"
         },
         "metadata": {},
         "output_type": "display_data"
        }
       ]
      }
     },
     "6b357f932ab04e5c9fc0c4108a2f6dc2": {
      "model_module": "@jupyter-widgets/output",
      "model_module_version": "1.0.0",
      "model_name": "OutputModel",
      "state": {
       "layout": "IPY_MODEL_4f6195f3bd3549d0b9810c9c6047e354"
      }
     },
     "6f31bbeaee3445ac951af9d19a7ad26b": {
      "model_module": "@jupyter-widgets/controls",
      "model_module_version": "1.5.0",
      "model_name": "HBoxModel",
      "state": {
       "children": [
        "IPY_MODEL_ea14962d03f14bf587e2f776afe8f3dd",
        "IPY_MODEL_060320687c9849f8be4fc18719c095f6",
        "IPY_MODEL_5a0830cfa7ec4c398ae5723930cd9fd2",
        "IPY_MODEL_0c22d8a1a5c947e8900d1361234aec98"
       ],
       "layout": "IPY_MODEL_5c4c34889d3e4251b1ff73c589e8959a"
      }
     },
     "736f7aedf7f34f6b9adc3f7c09c2db35": {
      "model_module": "@jupyter-widgets/output",
      "model_module_version": "1.0.0",
      "model_name": "OutputModel",
      "state": {
       "layout": "IPY_MODEL_8b8f7345526b4ff497991b9c9d96029e",
       "outputs": [
        {
         "name": "stderr",
         "output_type": "stream",
         "text": "/opts/dev/diffractem/diffractem/tools.py:734: RuntimeWarning: divide by zero encountered in log10\n  ih.set_data(np.log10(img_stack[shot,...].compute(scheduler='single-threaded')))\n"
        }
       ]
      }
     },
     "73b0e96f1e3e4070b6ba70776e8a4888": {
      "model_module": "@jupyter-widgets/controls",
      "model_module_version": "1.5.0",
      "model_name": "HBoxModel",
      "state": {
       "children": [
        "IPY_MODEL_cc65f42d7f784330a408d53be7281761",
        "IPY_MODEL_04223ae3770448f090de2b0ca07f140d"
       ],
       "layout": "IPY_MODEL_9283aa3980b64142961c2378ffdd558b"
      }
     },
     "73ba32cc27b0485fb5df1a5f12c4b50a": {
      "model_module": "@jupyter-widgets/base",
      "model_module_version": "1.2.0",
      "model_name": "LayoutModel",
      "state": {}
     },
     "73e3a45756fd43aab34bc0704dedebbf": {
      "model_module": "jupyter-matplotlib",
      "model_module_version": "^0.7.2",
      "model_name": "MPLCanvasModel",
      "state": {
       "_cursor": "default",
       "_figure_label": "Figure 6",
       "_height": 480,
       "_image_mode": "diff",
       "_message": "zoom rect",
       "_model_module_version": "^0.7.2",
       "_rubberband_x": -0.5,
       "_rubberband_y": 481.5,
       "_view_module_version": "^0.7.2",
       "_width": 640,
       "header_visible": false,
       "layout": "IPY_MODEL_c0ea7c3d857f4d1485b4f66bcf5a822b",
       "toolbar": "IPY_MODEL_17fd1f317e8b48f4a5f7d5f0cb40dad2",
       "toolbar_position": "bottom"
      }
     },
     "7526be8928cc422b866b5c78dff4af3c": {
      "model_module": "@jupyter-widgets/base",
      "model_module_version": "1.2.0",
      "model_name": "LayoutModel",
      "state": {}
     },
     "75dafa6862fa4cb392ef335ddd5d430d": {
      "model_module": "jupyter-matplotlib",
      "model_module_version": "^0.7.2",
      "model_name": "ToolbarModel",
      "state": {
       "_current_action": "zoom",
       "_model_module_version": "^0.7.2",
       "_view_module_version": "^0.7.2",
       "layout": "IPY_MODEL_ca4694a86a28496db8080e4772329060",
       "orientation": "horizontal",
       "toolitems": [
        [
         "Home",
         "Reset original view",
         "home",
         "home"
        ],
        [
         "Back",
         "Back to previous view",
         "arrow-left",
         "back"
        ],
        [
         "Forward",
         "Forward to next view",
         "arrow-right",
         "forward"
        ],
        [
         "Pan",
         "Pan axes with left mouse, zoom with right",
         "arrows",
         "pan"
        ],
        [
         "Zoom",
         "Zoom to rectangle",
         "square-o",
         "zoom"
        ],
        [
         "Download",
         "Download plot",
         "floppy-o",
         "save_figure"
        ]
       ]
      }
     },
     "7727d3dbec7c409397f53457f50b56a9": {
      "model_module": "@jupyter-widgets/base",
      "model_module_version": "1.2.0",
      "model_name": "LayoutModel",
      "state": {
       "height": "100%"
      }
     },
     "772fb8c344164ef28434dab798c8cdb4": {
      "model_module": "@jupyter-widgets/output",
      "model_module_version": "1.0.0",
      "model_name": "OutputModel",
      "state": {
       "layout": "IPY_MODEL_97cd14e1e1284c219b1f28c52939325e",
       "outputs": [
        {
         "data": {
          "application/vnd.jupyter.widget-view+json": {
           "model_id": "",
           "version_major": 2,
           "version_minor": 0
          },
          "text/plain": "Canvas(toolbar=Toolbar(toolitems=[('Home', 'Reset original view', 'home', 'home'), ('Back', 'Back to previous …"
         },
         "metadata": {},
         "output_type": "display_data"
        }
       ]
      }
     },
     "786689b9762a4ff1b5b6d9bcd78ccef6": {
      "model_module": "@jupyter-widgets/controls",
      "model_module_version": "1.5.0",
      "model_name": "HBoxModel",
      "state": {
       "children": [
        "IPY_MODEL_2972881ac1c94f1890327f3d1a598819",
        "IPY_MODEL_487dd11bfdb847718a09bba19eb0b73a"
       ],
       "layout": "IPY_MODEL_7cc0eb139a804cb4b0c79a4f84c3f257"
      }
     },
     "789a668f591a45dfaa94bf7a074d1e08": {
      "model_module": "@jupyter-widgets/base",
      "model_module_version": "1.2.0",
      "model_name": "LayoutModel",
      "state": {}
     },
     "79c3a8c67df24a138f26c57729de8e5d": {
      "model_module": "@jupyter-widgets/base",
      "model_module_version": "1.2.0",
      "model_name": "LayoutModel",
      "state": {}
     },
     "7ae447701db14f85b2b94ebe479ba6fd": {
      "model_module": "@jupyter-widgets/controls",
      "model_module_version": "1.5.0",
      "model_name": "TextareaModel",
      "state": {
       "layout": "IPY_MODEL_7727d3dbec7c409397f53457f50b56a9",
       "style": "IPY_MODEL_2b7ccc8ff111419f87376caec409c19e",
       "value": "sample: Lyso190304\nregion: 14\nrun: 0\ncrystal_id: 14\ncrystal_x: 540.0980392156863\ncrystal_y: 156.9281045751634\npos_x: 523.4980392156863\npos_y: 159.41844605159451\nselected: True\nsubset: entry\nshutter_time: 2.0\nagg_len: 4\nfile_raw: raw_data/LysoS1_014_00000.nxs\nEvent_raw: entry//312\nfile: proc_data/LysoS1_014_00000_agg_sel.h5\nEvent: entry//0\nshot_in_subset: 0\nadf1: 31.260875415081845\nadf2: 11.972472026020348\ncenter_refine_score: 0.04863835717022417\ncenter_x: 739.7617520555066\ncenter_y: 283.61060268177096\ncom_x: 739.1048407182732\ncom_y: 283.32960959917773\nlor_hwhm: 9.468556369077435\nlor_pk: 1484.4431114564893\nlor_x: 739.3620847791043\nlor_y: 283.9966759467171\nnum_peaks: 66\nshift_x_mm: -40.68689636305286\nshift_y_mm: -15.598583147497402"
      }
     },
     "7cc0eb139a804cb4b0c79a4f84c3f257": {
      "model_module": "@jupyter-widgets/base",
      "model_module_version": "1.2.0",
      "model_name": "LayoutModel",
      "state": {}
     },
     "7cdf9337670642ad83d9945d9bc082ef": {
      "model_module": "@jupyter-widgets/controls",
      "model_module_version": "1.5.0",
      "model_name": "VBoxModel",
      "state": {
       "children": [
        "IPY_MODEL_ee88c1842fad4074ab6bdbf253493bed",
        "IPY_MODEL_7d0461e38bcf4447843c7c634f45e7b5"
       ],
       "layout": "IPY_MODEL_84f0b71636dc4a8a90a40de51c7e1e6c"
      }
     },
     "7cfabbfda0fe40eabed501be993cbac1": {
      "model_module": "@jupyter-widgets/base",
      "model_module_version": "1.2.0",
      "model_name": "LayoutModel",
      "state": {}
     },
     "7d0461e38bcf4447843c7c634f45e7b5": {
      "model_module": "@jupyter-widgets/controls",
      "model_module_version": "1.5.0",
      "model_name": "HBoxModel",
      "state": {
       "children": [
        "IPY_MODEL_10b4f11ed51c4a36a7e0e2c176fc9bc2",
        "IPY_MODEL_d8db8625e7354ad9aaa0fbec32346858",
        "IPY_MODEL_c2a7829a04414e64804de55e28a950ab",
        "IPY_MODEL_85001986e9f643a78df328ebae5fac5e"
       ],
       "layout": "IPY_MODEL_2423d47f55b54bdb8124d113e0dc26e0"
      }
     },
     "7e3128dbc3fd40908ebdd46641ead12c": {
      "model_module": "@jupyter-widgets/controls",
      "model_module_version": "1.5.0",
      "model_name": "HBoxModel",
      "state": {
       "children": [
        "IPY_MODEL_9b17f57a5adb472580111722a19748a4",
        "IPY_MODEL_22063bfd475b4d9fa987f55d32782742",
        "IPY_MODEL_148b7dad905c4d80a67547dd6e1e37f8",
        "IPY_MODEL_029188cc9aa44fdeb8dcb1eb96779d36"
       ],
       "layout": "IPY_MODEL_1ad4be1c8960418d82207c8e27637791"
      }
     },
     "7ee5341f3e174659b757d275bdb4faa7": {
      "model_module": "@jupyter-widgets/base",
      "model_module_version": "1.2.0",
      "model_name": "LayoutModel",
      "state": {}
     },
     "7f6e08daea994c1abed42499477413ca": {
      "model_module": "@jupyter-widgets/controls",
      "model_module_version": "1.5.0",
      "model_name": "DescriptionStyleModel",
      "state": {
       "description_width": ""
      }
     },
     "8060d6af0d7e4f27acf4ea7dbdab1672": {
      "model_module": "@jupyter-widgets/base",
      "model_module_version": "1.2.0",
      "model_name": "LayoutModel",
      "state": {}
     },
     "806900bf0f2144b1a38321b45d6017d6": {
      "model_module": "@jupyter-widgets/base",
      "model_module_version": "1.2.0",
      "model_name": "LayoutModel",
      "state": {}
     },
     "80f90dccda7440cab986e3253e56476c": {
      "model_module": "@jupyter-widgets/controls",
      "model_module_version": "1.5.0",
      "model_name": "DescriptionStyleModel",
      "state": {
       "description_width": ""
      }
     },
     "816d952f36aa42b7b42a1726e64fa7e2": {
      "model_module": "@jupyter-widgets/controls",
      "model_module_version": "1.5.0",
      "model_name": "FloatTextModel",
      "state": {
       "description": "Imax",
       "layout": "IPY_MODEL_95b7efd3ebec4218a2072151de65fe26",
       "step": null,
       "style": "IPY_MODEL_ad55e408a6754526aee497be2655554f",
       "value": 4000
      }
     },
     "826338d82d42461d82756c045bba0888": {
      "model_module": "@jupyter-widgets/base",
      "model_module_version": "1.2.0",
      "model_name": "LayoutModel",
      "state": {}
     },
     "83bd370ccf0b4a1e80b9155f080d7923": {
      "model_module": "@jupyter-widgets/base",
      "model_module_version": "1.2.0",
      "model_name": "LayoutModel",
      "state": {}
     },
     "848942c0b000400e85d9797ccaecc8ab": {
      "model_module": "@jupyter-widgets/controls",
      "model_module_version": "1.5.0",
      "model_name": "TextareaModel",
      "state": {
       "layout": "IPY_MODEL_4920ff7dd3034c8db5a00a696ee61401",
       "style": "IPY_MODEL_ea2eb2953eb7477b8c91e9a6ad275c0a",
       "value": "sample: Lyso190304\nregion: 19\nrun: 0\ncrystal_id: 24\ncrystal_x: 166.52472858866105\ncrystal_y: 788.826296743064\npos_x: 144.92472858866105\npos_y: 791.426296743064\nselected: True\nsubset: entry\nshutter_time: 2.0\nagg_len: 3\nfile_raw: raw_data/LysoS2_019_00000.nxs\nEvent_raw: entry//612\nadf1: 29.908668998024442\nadf2: 10.678603693548705\ncenter_refine_score: 0.006549543119855038\ncenter_x: 761.1423528657535\ncenter_y: 248.70339135217256\ncom_x: 760.4894094539833\ncom_y: 250.42694165143274\nlor_hwhm: 11.321482035002811\nlor_pk: 1035.861406920318\nlor_x: 760.4112782960242\nlor_y: 249.70202594439667\nnum_peaks: 123\nshift_x_mm: -41.862829407616445\nshift_y_mm: -13.67868652436949\nii_from: 602\nfile: proc_data/LysoS2_019_00000_0to2_hit.h5\nEvent: entry//7\nshot_in_subset: 7"
      }
     },
     "84a2cfc7f320497eb72ffd59e4bdff80": {
      "model_module": "@jupyter-widgets/base",
      "model_module_version": "1.2.0",
      "model_name": "LayoutModel",
      "state": {}
     },
     "84f0b71636dc4a8a90a40de51c7e1e6c": {
      "model_module": "@jupyter-widgets/base",
      "model_module_version": "1.2.0",
      "model_name": "LayoutModel",
      "state": {}
     },
     "85001986e9f643a78df328ebae5fac5e": {
      "model_module": "@jupyter-widgets/controls",
      "model_module_version": "1.5.0",
      "model_name": "CheckboxModel",
      "state": {
       "description": "log",
       "disabled": false,
       "layout": "IPY_MODEL_b4b780f9208143d283f95c9707632e01",
       "style": "IPY_MODEL_b912e6678d78415a90cc6ecdee9be9e7",
       "value": true
      }
     },
     "85d5ad77a1284c53bbffb993df498ab9": {
      "model_module": "@jupyter-widgets/base",
      "model_module_version": "1.2.0",
      "model_name": "LayoutModel",
      "state": {}
     },
     "869cf7f463aa4a7bb0db16f17bd43366": {
      "model_module": "@jupyter-widgets/base",
      "model_module_version": "1.2.0",
      "model_name": "LayoutModel",
      "state": {}
     },
     "871a14bcf6ff446ca7ddf80405e39caf": {
      "model_module": "@jupyter-widgets/base",
      "model_module_version": "1.2.0",
      "model_name": "LayoutModel",
      "state": {}
     },
     "87815e1c41934d20a3d2b388d90f022a": {
      "model_module": "@jupyter-widgets/base",
      "model_module_version": "1.2.0",
      "model_name": "LayoutModel",
      "state": {}
     },
     "88c35de9e4ef4b70ae88123104e371c0": {
      "model_module": "@jupyter-widgets/controls",
      "model_module_version": "1.5.0",
      "model_name": "VBoxModel",
      "state": {
       "_dom_classes": [
        "widget-interact"
       ],
       "children": [
        "IPY_MODEL_ca4b5487a0dc44bf8c48e09376636e3d",
        "IPY_MODEL_a453cd9990e54417b81a5308264ecfe1",
        "IPY_MODEL_ca542f1fcf814819bace901dbacfcc97",
        "IPY_MODEL_8e41cb9e05eb46a7bfd6bcba1a218769"
       ],
       "layout": "IPY_MODEL_9d5527a924ed45bd887fa17c615fce2c"
      }
     },
     "897069284c514f6384c131a0c656857b": {
      "model_module": "@jupyter-widgets/controls",
      "model_module_version": "1.5.0",
      "model_name": "VBoxModel",
      "state": {
       "children": [
        "IPY_MODEL_4c9e16cadad046ecafb04aad3c902bc6",
        "IPY_MODEL_7e3128dbc3fd40908ebdd46641ead12c"
       ],
       "layout": "IPY_MODEL_fc1336b351c048c9b1395f4596a48fbf"
      }
     },
     "8b8f7345526b4ff497991b9c9d96029e": {
      "model_module": "@jupyter-widgets/base",
      "model_module_version": "1.2.0",
      "model_name": "LayoutModel",
      "state": {}
     },
     "8bee52e3cb8e442bb3e8e52ec017e136": {
      "model_module": "@jupyter-widgets/base",
      "model_module_version": "1.2.0",
      "model_name": "LayoutModel",
      "state": {}
     },
     "8c15b0819ef74e048b870791382a69e1": {
      "model_module": "@jupyter-widgets/base",
      "model_module_version": "1.2.0",
      "model_name": "LayoutModel",
      "state": {}
     },
     "8d94499355ca42f090a7b7489e0ea801": {
      "model_module": "@jupyter-widgets/controls",
      "model_module_version": "1.5.0",
      "model_name": "DescriptionStyleModel",
      "state": {
       "description_width": ""
      }
     },
     "8e41cb9e05eb46a7bfd6bcba1a218769": {
      "model_module": "@jupyter-widgets/output",
      "model_module_version": "1.0.0",
      "model_name": "OutputModel",
      "state": {
       "layout": "IPY_MODEL_660ebea9a51443d8a27c16d789c74bfc"
      }
     },
     "8ebc78b9c8ee479a93cb7b1fc65f420e": {
      "model_module": "@jupyter-widgets/controls",
      "model_module_version": "1.5.0",
      "model_name": "VBoxModel",
      "state": {
       "children": [
        "IPY_MODEL_9cb1fb47c6364a36b45da128c66e7d7e",
        "IPY_MODEL_94e4d0b7c05f486f9d6d245cd7678be5"
       ],
       "layout": "IPY_MODEL_187a2d53ff0142cf89496d188dec6777"
      }
     },
     "8eef4c454d5e473ea2203ef5017bbd9f": {
      "model_module": "@jupyter-widgets/controls",
      "model_module_version": "1.5.0",
      "model_name": "DescriptionStyleModel",
      "state": {
       "description_width": ""
      }
     },
     "8ef2a66de2dd45198ffa09fa82e527f0": {
      "model_module": "@jupyter-widgets/base",
      "model_module_version": "1.2.0",
      "model_name": "LayoutModel",
      "state": {}
     },
     "8f2d274b1f464b8c8e1e7e8937beb7b4": {
      "model_module": "@jupyter-widgets/base",
      "model_module_version": "1.2.0",
      "model_name": "LayoutModel",
      "state": {}
     },
     "9283aa3980b64142961c2378ffdd558b": {
      "model_module": "@jupyter-widgets/base",
      "model_module_version": "1.2.0",
      "model_name": "LayoutModel",
      "state": {}
     },
     "937cee59dce44b5d934924dab236a48d": {
      "model_module": "@jupyter-widgets/base",
      "model_module_version": "1.2.0",
      "model_name": "LayoutModel",
      "state": {}
     },
     "93ee39bb82f84019aa9d090b71a503c7": {
      "model_module": "@jupyter-widgets/controls",
      "model_module_version": "1.5.0",
      "model_name": "VBoxModel",
      "state": {
       "children": [
        "IPY_MODEL_5d1bab35b6c14ed9aff61041ccd9b832",
        "IPY_MODEL_6f31bbeaee3445ac951af9d19a7ad26b"
       ],
       "layout": "IPY_MODEL_40dcdb74b70c4175a5c45f16e94fbecb"
      }
     },
     "94e4d0b7c05f486f9d6d245cd7678be5": {
      "model_module": "@jupyter-widgets/controls",
      "model_module_version": "1.5.0",
      "model_name": "IntSliderModel",
      "state": {
       "description": "shot",
       "layout": "IPY_MODEL_176e3d08e98e40829957978f1e104e91",
       "max": 1322,
       "style": "IPY_MODEL_2cf8801dd2834cd8a6bd4f04dd6fba1c",
       "value": 309
      }
     },
     "950e97055dad41c285822717319df9d8": {
      "model_module": "@jupyter-widgets/controls",
      "model_module_version": "1.5.0",
      "model_name": "VBoxModel",
      "state": {
       "_dom_classes": [
        "widget-interact"
       ],
       "children": [
        "IPY_MODEL_e80e2750cbfe46a4a13798d37b4033c6",
        "IPY_MODEL_00028bc316d84d68b1225a84650aa7d0",
        "IPY_MODEL_0e16a9d52de24e449ad2144162ad106e",
        "IPY_MODEL_a3f839e9ee2040898c8f7853d7a5d1ad"
       ],
       "layout": "IPY_MODEL_e2b4ef6f850f499b9cdaea06aea3bb25"
      }
     },
     "95225a667776455581fb714c137397c9": {
      "model_module": "@jupyter-widgets/base",
      "model_module_version": "1.2.0",
      "model_name": "LayoutModel",
      "state": {}
     },
     "95b7efd3ebec4218a2072151de65fe26": {
      "model_module": "@jupyter-widgets/base",
      "model_module_version": "1.2.0",
      "model_name": "LayoutModel",
      "state": {}
     },
     "97cd14e1e1284c219b1f28c52939325e": {
      "model_module": "@jupyter-widgets/base",
      "model_module_version": "1.2.0",
      "model_name": "LayoutModel",
      "state": {}
     },
     "9908d1623d7f46b99f6a6bafb801b7c4": {
      "model_module": "@jupyter-widgets/controls",
      "model_module_version": "1.5.0",
      "model_name": "SliderStyleModel",
      "state": {
       "description_width": ""
      }
     },
     "9a09d00a39e5486aa8756e9c9fbdaf75": {
      "model_module": "@jupyter-widgets/base",
      "model_module_version": "1.2.0",
      "model_name": "LayoutModel",
      "state": {}
     },
     "9ab9e443fcbc4494a7a38f0f99bc1d69": {
      "model_module": "jupyter-matplotlib",
      "model_module_version": "^0.7.2",
      "model_name": "MPLCanvasModel",
      "state": {
       "_cursor": "crosshair",
       "_figure_label": "Figure 4",
       "_height": 480,
       "_image_mode": "diff",
       "_message": "zoom rect, x=616.843      y=38.0975      [5]",
       "_model_module_version": "^0.7.2",
       "_rubberband_x": -0.5,
       "_rubberband_y": 481.5,
       "_view_module_version": "^0.7.2",
       "_width": 640,
       "header_visible": false,
       "layout": "IPY_MODEL_7526be8928cc422b866b5c78dff4af3c",
       "toolbar": "IPY_MODEL_bf18e74f53c44afca7b0e41f195745db",
       "toolbar_position": "bottom"
      }
     },
     "9ae099d403524834933cc46b662e22ec": {
      "model_module": "@jupyter-widgets/controls",
      "model_module_version": "1.5.0",
      "model_name": "DescriptionStyleModel",
      "state": {
       "description_width": ""
      }
     },
     "9b17f57a5adb472580111722a19748a4": {
      "model_module": "@jupyter-widgets/controls",
      "model_module_version": "1.5.0",
      "model_name": "ToggleButtonModel",
      "state": {
       "description": "selected",
       "layout": "IPY_MODEL_dd4a45ea3a8a4c1bbae4823539797657",
       "style": "IPY_MODEL_0c806d331114493180f7f0162ebc7ab9",
       "value": true
      }
     },
     "9b34d201fdec4805a39229a83d6f5882": {
      "model_module": "@jupyter-widgets/controls",
      "model_module_version": "1.5.0",
      "model_name": "VBoxModel",
      "state": {
       "children": [
        "IPY_MODEL_4b29e8e5710d46dfba75400fb9b9cd30",
        "IPY_MODEL_aece9b95e1e24113a4cd424510cf3594"
       ],
       "layout": "IPY_MODEL_b5ad264469e24e408271cdf3931ff1c4"
      }
     },
     "9b844fc35f4048129d54fa7080aa38d5": {
      "model_module": "@jupyter-widgets/base",
      "model_module_version": "1.2.0",
      "model_name": "LayoutModel",
      "state": {}
     },
     "9cb1fb47c6364a36b45da128c66e7d7e": {
      "model_module": "@jupyter-widgets/controls",
      "model_module_version": "1.5.0",
      "model_name": "TextareaModel",
      "state": {
       "layout": "IPY_MODEL_1e966e699f2f4fd7999f43c0d9f89166",
       "style": "IPY_MODEL_fdc3a06e4f7d4ef3bb119cf6c3d4e1ba",
       "value": "sample: Lyso190304\nregion: 22\nrun: 0\ncrystal_id: 14\ncrystal_x: 602.1463414634146\ncrystal_y: 383.4471544715447\npos_x: 587.4463414634146\npos_y: 385.3471544715447\nselected: True\nsubset: entry\nshutter_time: 2.0\nagg_len: 3\nfile_raw: raw_data/LysoS2_022_00000.nxs\nEvent_raw: entry//361\nadf1: 31.00285066380563\nadf2: 11.739985259729977\ncenter_refine_score: 0.011850456105202408\ncenter_x: 740.8407651592224\ncenter_y: 263.00943011445736\ncom_x: 740.7650940298676\ncom_y: 264.8819856908382\nlor_hwhm: 11.69664298469418\nlor_pk: 993.3354964607482\nlor_x: 740.5795591368302\nlor_y: 265.7325775997987\nnum_peaks: 89\nshift_x_mm: -40.74624208375723\nshift_y_mm: -14.465518656295155\nii_from: 622\nfile: proc_data/LysoS2_022_00000_0to2_hit.h5\nEvent: entry//10\nshot_in_subset: 10"
      }
     },
     "9d5527a924ed45bd887fa17c615fce2c": {
      "model_module": "@jupyter-widgets/base",
      "model_module_version": "1.2.0",
      "model_name": "LayoutModel",
      "state": {}
     },
     "9d7a824220f548a693617b520629debb": {
      "model_module": "@jupyter-widgets/base",
      "model_module_version": "1.2.0",
      "model_name": "LayoutModel",
      "state": {}
     },
     "9e4a29c7ddba46988e859220819e47e2": {
      "model_module": "@jupyter-widgets/controls",
      "model_module_version": "1.5.0",
      "model_name": "DescriptionStyleModel",
      "state": {
       "description_width": ""
      }
     },
     "9fb75b3a3a37423986a9c976d5faca49": {
      "model_module": "@jupyter-widgets/base",
      "model_module_version": "1.2.0",
      "model_name": "LayoutModel",
      "state": {
       "height": "100%"
      }
     },
     "9fc05ecae9864a3cbd3aac94d6322ab9": {
      "model_module": "@jupyter-widgets/base",
      "model_module_version": "1.2.0",
      "model_name": "LayoutModel",
      "state": {}
     },
     "a0d89e7b1b1e42dea71eb4b629a06b83": {
      "model_module": "@jupyter-widgets/controls",
      "model_module_version": "1.5.0",
      "model_name": "DescriptionStyleModel",
      "state": {
       "description_width": ""
      }
     },
     "a110b08f2cc242e2bf1fc20cd95e50c8": {
      "model_module": "@jupyter-widgets/base",
      "model_module_version": "1.2.0",
      "model_name": "LayoutModel",
      "state": {
       "height": "100%"
      }
     },
     "a24e2a01c6064e3ea2fe4ab86269535e": {
      "model_module": "@jupyter-widgets/controls",
      "model_module_version": "1.5.0",
      "model_name": "HBoxModel",
      "state": {
       "children": [
        "IPY_MODEL_8ebc78b9c8ee479a93cb7b1fc65f420e",
        "IPY_MODEL_db9cbf34e6d44a34a3f5dc6c19162969"
       ],
       "layout": "IPY_MODEL_121f79d889944e50a70e3825114f6556"
      }
     },
     "a296e1036f8848bf936d60675d53e443": {
      "model_module": "@jupyter-widgets/controls",
      "model_module_version": "1.5.0",
      "model_name": "LabelModel",
      "state": {
       "layout": "IPY_MODEL_dcca7525580e436d83e0d2ca479740d8",
       "style": "IPY_MODEL_d74fb6d359ee40c8b66eaed7d1448ce1",
       "value": "30 of 30 shots selected."
      }
     },
     "a3f839e9ee2040898c8f7853d7a5d1ad": {
      "model_module": "@jupyter-widgets/output",
      "model_module_version": "1.0.0",
      "model_name": "OutputModel",
      "state": {
       "layout": "IPY_MODEL_87815e1c41934d20a3d2b388d90f022a"
      }
     },
     "a453cd9990e54417b81a5308264ecfe1": {
      "model_module": "@jupyter-widgets/controls",
      "model_module_version": "1.5.0",
      "model_name": "FloatTextModel",
      "state": {
       "description": "Imax",
       "layout": "IPY_MODEL_1a73ca57f999415daf94292d09989c13",
       "step": null,
       "style": "IPY_MODEL_fe8e32e203924dc79e67261123a9e701",
       "value": 30
      }
     },
     "a676dcf367b14cc689880224c58da471": {
      "model_module": "@jupyter-widgets/base",
      "model_module_version": "1.2.0",
      "model_name": "LayoutModel",
      "state": {}
     },
     "a85c5fbafddb48ecadaa1e123b96de53": {
      "model_module": "@jupyter-widgets/base",
      "model_module_version": "1.2.0",
      "model_name": "LayoutModel",
      "state": {}
     },
     "a884b0d5664349f98b7c81ac81a227ff": {
      "model_module": "@jupyter-widgets/base",
      "model_module_version": "1.2.0",
      "model_name": "LayoutModel",
      "state": {}
     },
     "a8c330f37cf9402aa8b01844fc1bd598": {
      "model_module": "@jupyter-widgets/controls",
      "model_module_version": "1.5.0",
      "model_name": "DescriptionStyleModel",
      "state": {
       "description_width": ""
      }
     },
     "a9e232ba30ad44899627900bb3aca483": {
      "model_module": "@jupyter-widgets/controls",
      "model_module_version": "1.5.0",
      "model_name": "HBoxModel",
      "state": {
       "children": [
        "IPY_MODEL_c1986a8e66124da6a9d72f969a903652",
        "IPY_MODEL_0681e81e5db04dbe9a93c2c0cb973639",
        "IPY_MODEL_a453cd9990e54417b81a5308264ecfe1",
        "IPY_MODEL_ca542f1fcf814819bace901dbacfcc97"
       ],
       "layout": "IPY_MODEL_c23447c5c3644309a08dbe3eac9118d6"
      }
     },
     "aa11feb7cf9d437092ea9ada1501afc8": {
      "model_module": "@jupyter-widgets/base",
      "model_module_version": "1.2.0",
      "model_name": "LayoutModel",
      "state": {}
     },
     "abbcf7bec91f4908a2ca6107bef7cce1": {
      "model_module": "@jupyter-widgets/controls",
      "model_module_version": "1.5.0",
      "model_name": "HBoxModel",
      "state": {
       "children": [
        "IPY_MODEL_27f85bec03074637b62fd56c98d4af29",
        "IPY_MODEL_a296e1036f8848bf936d60675d53e443",
        "IPY_MODEL_816d952f36aa42b7b42a1726e64fa7e2",
        "IPY_MODEL_eeabff33ad0a4d7b9397fa8b665a3a20"
       ],
       "layout": "IPY_MODEL_e68c21ca481843c79ce341ec35adf7c0"
      }
     },
     "acd8f9ff35ae410cba58a02119df2189": {
      "model_module": "@jupyter-widgets/controls",
      "model_module_version": "1.5.0",
      "model_name": "SliderStyleModel",
      "state": {
       "description_width": ""
      }
     },
     "ad55e408a6754526aee497be2655554f": {
      "model_module": "@jupyter-widgets/controls",
      "model_module_version": "1.5.0",
      "model_name": "DescriptionStyleModel",
      "state": {
       "description_width": ""
      }
     },
     "ae7f3f61e75444a7a3ab74001dc44b38": {
      "model_module": "@jupyter-widgets/controls",
      "model_module_version": "1.5.0",
      "model_name": "DescriptionStyleModel",
      "state": {
       "description_width": ""
      }
     },
     "aece9b95e1e24113a4cd424510cf3594": {
      "model_module": "@jupyter-widgets/controls",
      "model_module_version": "1.5.0",
      "model_name": "IntSliderModel",
      "state": {
       "description": "shot",
       "layout": "IPY_MODEL_00d22db248844cc59bf9392767a0c87a",
       "max": 2146,
       "style": "IPY_MODEL_45a850067b6d48cabdbf67c16b04c5fa",
       "value": 366
      }
     },
     "aedc23b92c074a5ea9cc8bc8cb76e9a5": {
      "model_module": "@jupyter-widgets/controls",
      "model_module_version": "1.5.0",
      "model_name": "HBoxModel",
      "state": {
       "children": [
        "IPY_MODEL_10f86f9adcd449f69f38babe6712f78f",
        "IPY_MODEL_3b834323918b421b853bcfc9995f08c8"
       ],
       "layout": "IPY_MODEL_aa11feb7cf9d437092ea9ada1501afc8"
      }
     },
     "af8dc64b19e24f20ab2c2982724362b3": {
      "model_module": "@jupyter-widgets/base",
      "model_module_version": "1.2.0",
      "model_name": "LayoutModel",
      "state": {}
     },
     "b0d1f5fc5cd743e3b65a60e848ff2515": {
      "model_module": "@jupyter-widgets/controls",
      "model_module_version": "1.5.0",
      "model_name": "TextareaModel",
      "state": {
       "layout": "IPY_MODEL_9fb75b3a3a37423986a9c976d5faca49",
       "style": "IPY_MODEL_a8c330f37cf9402aa8b01844fc1bd598",
       "value": "Event: entry//1073\ncrystal_id: 44\ncrystal_x: 656.1990083973909\ncrystal_y: 622.6283281969054\nfile: raw_data/LysoS2_035_00000.nxs\nframe: 1\npos_x: 641.4990083973909\npos_y: 625.1341495318103\nregion: 35\nrun: 0\nsample: Lyso190304\nselected: True\nshot_in_subset: 1073\nsubset: entry\nshutter_time: 2.0"
      }
     },
     "b1837b8ce1db427bbbd0aed046734765": {
      "model_module": "@jupyter-widgets/controls",
      "model_module_version": "1.5.0",
      "model_name": "DescriptionStyleModel",
      "state": {
       "description_width": ""
      }
     },
     "b2760e25bbc74015ac1bad7d673fd9dc": {
      "model_module": "@jupyter-widgets/base",
      "model_module_version": "1.2.0",
      "model_name": "LayoutModel",
      "state": {}
     },
     "b3570e887e6a42d59999a7d2e1b4805b": {
      "model_module": "@jupyter-widgets/base",
      "model_module_version": "1.2.0",
      "model_name": "LayoutModel",
      "state": {}
     },
     "b408c9011a844868ba0990070c851ca4": {
      "model_module": "@jupyter-widgets/base",
      "model_module_version": "1.2.0",
      "model_name": "LayoutModel",
      "state": {}
     },
     "b4a9c31eb766473cbdcdd11c8c040568": {
      "model_module": "@jupyter-widgets/controls",
      "model_module_version": "1.5.0",
      "model_name": "DescriptionStyleModel",
      "state": {
       "description_width": ""
      }
     },
     "b4b780f9208143d283f95c9707632e01": {
      "model_module": "@jupyter-widgets/base",
      "model_module_version": "1.2.0",
      "model_name": "LayoutModel",
      "state": {}
     },
     "b5ad264469e24e408271cdf3931ff1c4": {
      "model_module": "@jupyter-widgets/base",
      "model_module_version": "1.2.0",
      "model_name": "LayoutModel",
      "state": {}
     },
     "b65a96a1482545bb855d741d5d53410a": {
      "model_module": "@jupyter-widgets/output",
      "model_module_version": "1.0.0",
      "model_name": "OutputModel",
      "state": {
       "layout": "IPY_MODEL_806900bf0f2144b1a38321b45d6017d6",
       "outputs": [
        {
         "data": {
          "application/vnd.jupyter.widget-view+json": {
           "model_id": "",
           "version_major": 2,
           "version_minor": 0
          },
          "text/plain": "Canvas(toolbar=Toolbar(toolitems=[('Home', 'Reset original view', 'home', 'home'), ('Back', 'Back to previous …"
         },
         "metadata": {},
         "output_type": "display_data"
        }
       ]
      }
     },
     "b912e6678d78415a90cc6ecdee9be9e7": {
      "model_module": "@jupyter-widgets/controls",
      "model_module_version": "1.5.0",
      "model_name": "DescriptionStyleModel",
      "state": {
       "description_width": ""
      }
     },
     "b9cc8201b5b7422da8bc70bbd2851a15": {
      "model_module": "@jupyter-widgets/base",
      "model_module_version": "1.2.0",
      "model_name": "LayoutModel",
      "state": {}
     },
     "b9dedf02b0d5499abd0a29d9c2dba952": {
      "model_module": "@jupyter-widgets/controls",
      "model_module_version": "1.5.0",
      "model_name": "SliderStyleModel",
      "state": {
       "description_width": ""
      }
     },
     "ba10ba64a62544d4934953386e2dd1be": {
      "model_module": "@jupyter-widgets/controls",
      "model_module_version": "1.5.0",
      "model_name": "DescriptionStyleModel",
      "state": {
       "description_width": ""
      }
     },
     "bb1bc02cc8674b628f8d245070330232": {
      "model_module": "@jupyter-widgets/controls",
      "model_module_version": "1.5.0",
      "model_name": "DescriptionStyleModel",
      "state": {
       "description_width": ""
      }
     },
     "bd7226da987f4ee2a72dc098ef3c11ef": {
      "model_module": "@jupyter-widgets/controls",
      "model_module_version": "1.5.0",
      "model_name": "IntSliderModel",
      "state": {
       "description": "shot",
       "layout": "IPY_MODEL_3e58a4e8a5824dd58f8182bc0bb46c12",
       "max": 30,
       "style": "IPY_MODEL_4d727c003d214679a29b283df67e1547",
       "value": 5
      }
     },
     "bf18e74f53c44afca7b0e41f195745db": {
      "model_module": "jupyter-matplotlib",
      "model_module_version": "^0.7.2",
      "model_name": "ToolbarModel",
      "state": {
       "_current_action": "zoom",
       "_model_module_version": "^0.7.2",
       "_view_module_version": "^0.7.2",
       "layout": "IPY_MODEL_f63f171b497a4501bf4f3a7700bdf3f0",
       "orientation": "horizontal",
       "toolitems": [
        [
         "Home",
         "Reset original view",
         "home",
         "home"
        ],
        [
         "Back",
         "Back to previous view",
         "arrow-left",
         "back"
        ],
        [
         "Forward",
         "Forward to next view",
         "arrow-right",
         "forward"
        ],
        [
         "Pan",
         "Pan axes with left mouse, zoom with right",
         "arrows",
         "pan"
        ],
        [
         "Zoom",
         "Zoom to rectangle",
         "square-o",
         "zoom"
        ],
        [
         "Download",
         "Download plot",
         "floppy-o",
         "save_figure"
        ]
       ]
      }
     },
     "c0ea7c3d857f4d1485b4f66bcf5a822b": {
      "model_module": "@jupyter-widgets/base",
      "model_module_version": "1.2.0",
      "model_name": "LayoutModel",
      "state": {}
     },
     "c1986a8e66124da6a9d72f969a903652": {
      "model_module": "@jupyter-widgets/controls",
      "model_module_version": "1.5.0",
      "model_name": "ToggleButtonModel",
      "state": {
       "description": "selected",
       "layout": "IPY_MODEL_83bd370ccf0b4a1e80b9155f080d7923",
       "style": "IPY_MODEL_533931d1939b4ddb8db183d0da8439ed",
       "value": true
      }
     },
     "c23447c5c3644309a08dbe3eac9118d6": {
      "model_module": "@jupyter-widgets/base",
      "model_module_version": "1.2.0",
      "model_name": "LayoutModel",
      "state": {}
     },
     "c2a7829a04414e64804de55e28a950ab": {
      "model_module": "@jupyter-widgets/controls",
      "model_module_version": "1.5.0",
      "model_name": "FloatTextModel",
      "state": {
       "description": "Imax",
       "layout": "IPY_MODEL_73ba32cc27b0485fb5df1a5f12c4b50a",
       "step": null,
       "style": "IPY_MODEL_31f58bab4ffb4a86a143fcdc989abf31",
       "value": 4000
      }
     },
     "c3be85eee33b4a0c99d5ef4a06920398": {
      "model_module": "@jupyter-widgets/output",
      "model_module_version": "1.0.0",
      "model_name": "OutputModel",
      "state": {
       "layout": "IPY_MODEL_44a4db9c30e34bf89c78f5039498b50f"
      }
     },
     "c706d9fd845b4f8bb6b0478fd539c752": {
      "model_module": "@jupyter-widgets/output",
      "model_module_version": "1.0.0",
      "model_name": "OutputModel",
      "state": {
       "layout": "IPY_MODEL_a85c5fbafddb48ecadaa1e123b96de53",
       "outputs": [
        {
         "data": {
          "application/vnd.jupyter.widget-view+json": {
           "model_id": "4ffd0011f3cd418c99396bd3aac14c36",
           "version_major": 2,
           "version_minor": 0
          },
          "text/plain": "Canvas(toolbar=Toolbar(toolitems=[('Home', 'Reset original view', 'home', 'home'), ('Back', 'Back to previous …"
         },
         "metadata": {},
         "output_type": "display_data"
        }
       ]
      }
     },
     "c8b4d8d9e5d643cc86f2adc960b6ec79": {
      "model_module": "@jupyter-widgets/base",
      "model_module_version": "1.2.0",
      "model_name": "LayoutModel",
      "state": {}
     },
     "c953134672f144caaa7e22d2ab221fd4": {
      "model_module": "@jupyter-widgets/base",
      "model_module_version": "1.2.0",
      "model_name": "LayoutModel",
      "state": {}
     },
     "ca4694a86a28496db8080e4772329060": {
      "model_module": "@jupyter-widgets/base",
      "model_module_version": "1.2.0",
      "model_name": "LayoutModel",
      "state": {}
     },
     "ca4b5487a0dc44bf8c48e09376636e3d": {
      "model_module": "@jupyter-widgets/controls",
      "model_module_version": "1.5.0",
      "model_name": "IntSliderModel",
      "state": {
       "description": "shot",
       "layout": "IPY_MODEL_b3570e887e6a42d59999a7d2e1b4805b",
       "max": 1322,
       "style": "IPY_MODEL_153fd4cacfa946fc8c21575935215103",
       "value": 296
      }
     },
     "ca542f1fcf814819bace901dbacfcc97": {
      "model_module": "@jupyter-widgets/controls",
      "model_module_version": "1.5.0",
      "model_name": "CheckboxModel",
      "state": {
       "description": "log",
       "disabled": false,
       "layout": "IPY_MODEL_f1bcec4c57a24540b7d1c19c14d96dde",
       "style": "IPY_MODEL_f666e10295fb423f9d278f4c8fb08d06",
       "value": false
      }
     },
     "cc65f42d7f784330a408d53be7281761": {
      "model_module": "@jupyter-widgets/controls",
      "model_module_version": "1.5.0",
      "model_name": "VBoxModel",
      "state": {
       "children": [
        "IPY_MODEL_ed1f4aadf42c4f1792eea108d0397dad",
        "IPY_MODEL_e80e2750cbfe46a4a13798d37b4033c6"
       ],
       "layout": "IPY_MODEL_22f62611f9164331a270d0f874ba5dd5"
      }
     },
     "cce8a1ea30c94374bf1fbb9ead85b6b0": {
      "model_module": "@jupyter-widgets/base",
      "model_module_version": "1.2.0",
      "model_name": "LayoutModel",
      "state": {}
     },
     "d11467141c4949a3802a1b1c4d514c8f": {
      "model_module": "@jupyter-widgets/controls",
      "model_module_version": "1.5.0",
      "model_name": "HBoxModel",
      "state": {
       "children": [
        "IPY_MODEL_08a1f6ead46f44679e02eafc63de48a6",
        "IPY_MODEL_d8c86ba213574049bc8e66728990e70b",
        "IPY_MODEL_00028bc316d84d68b1225a84650aa7d0",
        "IPY_MODEL_0e16a9d52de24e449ad2144162ad106e"
       ],
       "layout": "IPY_MODEL_4713878108b640dfa510d48951c368c5"
      }
     },
     "d5e0214c8f5c4619a7a6c11aee4643df": {
      "model_module": "jupyter-matplotlib",
      "model_module_version": "^0.7.2",
      "model_name": "ToolbarModel",
      "state": {
       "_current_action": "zoom",
       "_model_module_version": "^0.7.2",
       "_view_module_version": "^0.7.2",
       "layout": "IPY_MODEL_a884b0d5664349f98b7c81ac81a227ff",
       "orientation": "horizontal",
       "toolitems": [
        [
         "Home",
         "Reset original view",
         "home",
         "home"
        ],
        [
         "Back",
         "Back to previous view",
         "arrow-left",
         "back"
        ],
        [
         "Forward",
         "Forward to next view",
         "arrow-right",
         "forward"
        ],
        [
         "Pan",
         "Pan axes with left mouse, zoom with right",
         "arrows",
         "pan"
        ],
        [
         "Zoom",
         "Zoom to rectangle",
         "square-o",
         "zoom"
        ],
        [
         "Download",
         "Download plot",
         "floppy-o",
         "save_figure"
        ]
       ]
      }
     },
     "d6047a70a9164dc7a258639586c8ee60": {
      "model_module": "@jupyter-widgets/base",
      "model_module_version": "1.2.0",
      "model_name": "LayoutModel",
      "state": {}
     },
     "d63b659972954c78af4c652180972170": {
      "model_module": "@jupyter-widgets/controls",
      "model_module_version": "1.5.0",
      "model_name": "HBoxModel",
      "state": {
       "children": [
        "IPY_MODEL_2ec1b0fbf5e44aa790278a0c83c98ae2",
        "IPY_MODEL_6b336bb218ab4e1482dc9b22bc75982a"
       ],
       "layout": "IPY_MODEL_6b23df77db574615b12a2591ace16cd0"
      }
     },
     "d6426ccb443348d6bf15e9df34518b8e": {
      "model_module": "@jupyter-widgets/controls",
      "model_module_version": "1.5.0",
      "model_name": "LabelModel",
      "state": {
       "layout": "IPY_MODEL_49a269ba29e842beb0b825848c2189bb",
       "style": "IPY_MODEL_a0d89e7b1b1e42dea71eb4b629a06b83",
       "value": "1322 of 1322 shots selected."
      }
     },
     "d74fb6d359ee40c8b66eaed7d1448ce1": {
      "model_module": "@jupyter-widgets/controls",
      "model_module_version": "1.5.0",
      "model_name": "DescriptionStyleModel",
      "state": {
       "description_width": ""
      }
     },
     "d88febefcc634843b4e30039ba9c9d43": {
      "model_module": "jupyter-matplotlib",
      "model_module_version": "^0.7.2",
      "model_name": "MPLCanvasModel",
      "state": {
       "_cursor": "crosshair",
       "_figure_label": "Figure 2",
       "_height": 480,
       "_image_mode": "diff",
       "_message": "zoom rect, x=702.073      y=507.782      [0.477]",
       "_model_module_version": "^0.7.2",
       "_rubberband_y": 481,
       "_view_module_version": "^0.7.2",
       "_width": 640,
       "header_visible": false,
       "layout": "IPY_MODEL_8ef2a66de2dd45198ffa09fa82e527f0",
       "toolbar": "IPY_MODEL_75dafa6862fa4cb392ef335ddd5d430d",
       "toolbar_position": "bottom"
      }
     },
     "d8c86ba213574049bc8e66728990e70b": {
      "model_module": "@jupyter-widgets/controls",
      "model_module_version": "1.5.0",
      "model_name": "LabelModel",
      "state": {
       "layout": "IPY_MODEL_cce8a1ea30c94374bf1fbb9ead85b6b0",
       "style": "IPY_MODEL_58084c306aa84054845e002490979eee",
       "value": "1322 of 1322 shots selected."
      }
     },
     "d8db8625e7354ad9aaa0fbec32346858": {
      "model_module": "@jupyter-widgets/controls",
      "model_module_version": "1.5.0",
      "model_name": "LabelModel",
      "state": {
       "layout": "IPY_MODEL_f50ae8ece57048bc912ba8f16380f93a",
       "style": "IPY_MODEL_b4a9c31eb766473cbdcdd11c8c040568",
       "value": "30 of 30 shots selected."
      }
     },
     "da758dd4c7fb49c2a416c00c9dc86ed2": {
      "model_module": "@jupyter-widgets/base",
      "model_module_version": "1.2.0",
      "model_name": "LayoutModel",
      "state": {}
     },
     "db9cbf34e6d44a34a3f5dc6c19162969": {
      "model_module": "@jupyter-widgets/output",
      "model_module_version": "1.0.0",
      "model_name": "OutputModel",
      "state": {
       "layout": "IPY_MODEL_69a8316b416f44a499d07f0ef3915687",
       "outputs": [
        {
         "data": {
          "application/vnd.jupyter.widget-view+json": {
           "model_id": "",
           "version_major": 2,
           "version_minor": 0
          },
          "text/plain": "Canvas(toolbar=Toolbar(toolitems=[('Home', 'Reset original view', 'home', 'home'), ('Back', 'Back to previous …"
         },
         "metadata": {},
         "output_type": "display_data"
        }
       ]
      }
     },
     "dbe45e32482d4b4a9dc0edd003ff5e9d": {
      "model_module": "@jupyter-widgets/base",
      "model_module_version": "1.2.0",
      "model_name": "LayoutModel",
      "state": {}
     },
     "dcca7525580e436d83e0d2ca479740d8": {
      "model_module": "@jupyter-widgets/base",
      "model_module_version": "1.2.0",
      "model_name": "LayoutModel",
      "state": {}
     },
     "dd4a45ea3a8a4c1bbae4823539797657": {
      "model_module": "@jupyter-widgets/base",
      "model_module_version": "1.2.0",
      "model_name": "LayoutModel",
      "state": {}
     },
     "de5a7d5ba9694e03b3ef4fabacf79327": {
      "model_module": "@jupyter-widgets/controls",
      "model_module_version": "1.5.0",
      "model_name": "TextareaModel",
      "state": {
       "layout": "IPY_MODEL_e8277047362341159f3e2936cc228919",
       "style": "IPY_MODEL_4891b735612c4949baf51b9ec5ff3f9d",
       "value": "sample: Lyso190304\nregion: 38\nrun: 0\ncrystal_id: 11\ncrystal_x: 639.9937351943968\ncrystal_y: 62.00722425598677\npos_x: 626.4937351943968\npos_y: 61.12746806809861\nselected: True\nsubset: entry\nshutter_time: 2.0\nagg_len: 4\nfile_raw: raw_data/LysoS2_038_00000.nxs\nEvent_raw: entry//281\nadf1: 30.705749898806744\nadf2: 11.09915803364941\ncenter_refine_score: 0.018659374115855852\ncenter_x: 746.4798779891358\ncenter_y: 281.6398570910109\ncom_x: 746.2666939569559\ncom_y: 282.23286822660424\nlor_hwhm: 9.48781078355626\nlor_pk: 1488.243093805072\nlor_x: 746.2591773000288\nlor_y: 282.8308108369381\nnum_peaks: 39\nshift_x_mm: -41.05639328940247\nshift_y_mm: -15.4901921400056\nhit: True\nfile: proc_data/LysoS2_038_00000_agg_hit.h5\nEvent: entry//11\nshot_in_subset: 11"
      }
     },
     "de72aab838cd4ea89f2af09586003869": {
      "model_module": "@jupyter-widgets/controls",
      "model_module_version": "1.5.0",
      "model_name": "IntSliderModel",
      "state": {
       "description": "shot",
       "layout": "IPY_MODEL_1e95e852f8ce4e7cbac7f6a7af3950b1",
       "max": 1322,
       "style": "IPY_MODEL_acd8f9ff35ae410cba58a02119df2189",
       "value": 917
      }
     },
     "df9b05ac12a9498fb3c2f839fa7ee34f": {
      "model_module": "@jupyter-widgets/controls",
      "model_module_version": "1.5.0",
      "model_name": "DescriptionStyleModel",
      "state": {
       "description_width": ""
      }
     },
     "e114795ab7e7486caad2a6f0babf1a9b": {
      "model_module": "@jupyter-widgets/base",
      "model_module_version": "1.2.0",
      "model_name": "LayoutModel",
      "state": {}
     },
     "e24e1a6422a54785b175ef61a2de59c2": {
      "model_module": "@jupyter-widgets/controls",
      "model_module_version": "1.5.0",
      "model_name": "IntSliderModel",
      "state": {
       "description": "shot",
       "layout": "IPY_MODEL_3ddfcf2fa1d842aeb8631bf14d2a33bb",
       "max": 30,
       "style": "IPY_MODEL_b9dedf02b0d5499abd0a29d9c2dba952",
       "value": 7
      }
     },
     "e2b4ef6f850f499b9cdaea06aea3bb25": {
      "model_module": "@jupyter-widgets/base",
      "model_module_version": "1.2.0",
      "model_name": "LayoutModel",
      "state": {}
     },
     "e3ba0f26fe3543f895f2c2e8b61ad0de": {
      "model_module": "@jupyter-widgets/base",
      "model_module_version": "1.2.0",
      "model_name": "LayoutModel",
      "state": {}
     },
     "e63da274c7a048e98e3e019e0990f57b": {
      "model_module": "@jupyter-widgets/controls",
      "model_module_version": "1.5.0",
      "model_name": "VBoxModel",
      "state": {
       "children": [
        "IPY_MODEL_aedc23b92c074a5ea9cc8bc8cb76e9a5",
        "IPY_MODEL_abbcf7bec91f4908a2ca6107bef7cce1"
       ],
       "layout": "IPY_MODEL_6810278aefc149e1a544b2511a451e3a"
      }
     },
     "e64f9ef6528749cca908b701c7af6b0b": {
      "model_module": "@jupyter-widgets/controls",
      "model_module_version": "1.5.0",
      "model_name": "DescriptionStyleModel",
      "state": {
       "description_width": ""
      }
     },
     "e68c21ca481843c79ce341ec35adf7c0": {
      "model_module": "@jupyter-widgets/base",
      "model_module_version": "1.2.0",
      "model_name": "LayoutModel",
      "state": {}
     },
     "e7747cea916f46a1b622a37f64cd2255": {
      "model_module": "jupyter-matplotlib",
      "model_module_version": "^0.7.2",
      "model_name": "ToolbarModel",
      "state": {
       "_model_module_version": "^0.7.2",
       "_view_module_version": "^0.7.2",
       "layout": "IPY_MODEL_e3ba0f26fe3543f895f2c2e8b61ad0de",
       "orientation": "horizontal",
       "toolitems": [
        [
         "Home",
         "Reset original view",
         "home",
         "home"
        ],
        [
         "Back",
         "Back to previous view",
         "arrow-left",
         "back"
        ],
        [
         "Forward",
         "Forward to next view",
         "arrow-right",
         "forward"
        ],
        [
         "Pan",
         "Pan axes with left mouse, zoom with right",
         "arrows",
         "pan"
        ],
        [
         "Zoom",
         "Zoom to rectangle",
         "square-o",
         "zoom"
        ],
        [
         "Download",
         "Download plot",
         "floppy-o",
         "save_figure"
        ]
       ]
      }
     },
     "e80e2750cbfe46a4a13798d37b4033c6": {
      "model_module": "@jupyter-widgets/controls",
      "model_module_version": "1.5.0",
      "model_name": "IntSliderModel",
      "state": {
       "description": "shot",
       "layout": "IPY_MODEL_445f90d4aea3461e80cb7aaa1c49b011",
       "max": 1322,
       "style": "IPY_MODEL_1f160d300d824c779bd9107d087b4317",
       "value": 402
      }
     },
     "e8277047362341159f3e2936cc228919": {
      "model_module": "@jupyter-widgets/base",
      "model_module_version": "1.2.0",
      "model_name": "LayoutModel",
      "state": {
       "height": "100%"
      }
     },
     "e922a4b8e6184018b74167d463770ea4": {
      "model_module": "@jupyter-widgets/base",
      "model_module_version": "1.2.0",
      "model_name": "LayoutModel",
      "state": {}
     },
     "e9ee16fe467c46e4ab76f05765ad9d13": {
      "model_module": "@jupyter-widgets/controls",
      "model_module_version": "1.5.0",
      "model_name": "HBoxModel",
      "state": {
       "children": [
        "IPY_MODEL_5fb849fe96144377991eded109fed92f",
        "IPY_MODEL_d6426ccb443348d6bf15e9df34518b8e",
        "IPY_MODEL_6b2b7aa6142d46b2ba75251fc7cf9656",
        "IPY_MODEL_20253a24b6564f58abbaf835ec95241d"
       ],
       "layout": "IPY_MODEL_9d7a824220f548a693617b520629debb"
      }
     },
     "ea14962d03f14bf587e2f776afe8f3dd": {
      "model_module": "@jupyter-widgets/controls",
      "model_module_version": "1.5.0",
      "model_name": "ToggleButtonModel",
      "state": {
       "description": "selected",
       "layout": "IPY_MODEL_0a4d8e55d58f48909fefd2709e2aaa60",
       "style": "IPY_MODEL_b1837b8ce1db427bbbd0aed046734765",
       "value": true
      }
     },
     "ea2eb2953eb7477b8c91e9a6ad275c0a": {
      "model_module": "@jupyter-widgets/controls",
      "model_module_version": "1.5.0",
      "model_name": "DescriptionStyleModel",
      "state": {
       "description_width": ""
      }
     },
     "ed1f4aadf42c4f1792eea108d0397dad": {
      "model_module": "@jupyter-widgets/controls",
      "model_module_version": "1.5.0",
      "model_name": "TextareaModel",
      "state": {
       "layout": "IPY_MODEL_30e97a05314b482f807e3939c1e8557d",
       "style": "IPY_MODEL_ba10ba64a62544d4934953386e2dd1be",
       "value": "sample: Lyso190304\nregion: 24\nrun: 0\ncrystal_id: 2\ncrystal_x: 692.2261410788382\ncrystal_y: 21.716804979253112\npos_x: 677.5261410788381\npos_y: 23.616804979253118\nselected: True\nsubset: entry\nshutter_time: 2.0\nagg_len: 4\nfile_raw: raw_data/LysoS2_024_00000.nxs\nEvent_raw: entry//53\nadf1: 32.36444683953667\nadf2: 12.376786337613774\ncenter_refine_score: 0.020813135101233487\ncenter_x: 741.7896852997765\ncenter_y: 284.9270952168545\ncom_x: 741.4433189341985\ncom_y: 285.5343385543691\nlor_hwhm: 9.424938918398581\nlor_pk: 1471.0554191820365\nlor_x: 741.4343634897051\nlor_y: 285.9373324540116\nnum_peaks: 122\nshift_x_mm: -40.798432691487704\nshift_y_mm: -15.670990236926999\nhit: True\nfile: proc_data/LysoS2_024_00000_agg_hit.h5\nEvent: entry//0\nshot_in_subset: 0"
      }
     },
     "ee88c1842fad4074ab6bdbf253493bed": {
      "model_module": "@jupyter-widgets/controls",
      "model_module_version": "1.5.0",
      "model_name": "HBoxModel",
      "state": {
       "children": [
        "IPY_MODEL_3157f68469894642866b01ee1239886b",
        "IPY_MODEL_b65a96a1482545bb855d741d5d53410a"
       ],
       "layout": "IPY_MODEL_871a14bcf6ff446ca7ddf80405e39caf"
      }
     },
     "eea6a6ebd3f743c99d679737dc63b079": {
      "model_module": "@jupyter-widgets/controls",
      "model_module_version": "1.5.0",
      "model_name": "VBoxModel",
      "state": {
       "_dom_classes": [
        "widget-interact"
       ],
       "children": [
        "IPY_MODEL_361e4a8938c042289468e511ccc693e5",
        "IPY_MODEL_148b7dad905c4d80a67547dd6e1e37f8",
        "IPY_MODEL_029188cc9aa44fdeb8dcb1eb96779d36",
        "IPY_MODEL_c3be85eee33b4a0c99d5ef4a06920398"
       ],
       "layout": "IPY_MODEL_2c0898a34e0e477684c3174b0206dc0e"
      }
     },
     "eeabff33ad0a4d7b9397fa8b665a3a20": {
      "model_module": "@jupyter-widgets/controls",
      "model_module_version": "1.5.0",
      "model_name": "CheckboxModel",
      "state": {
       "description": "log",
       "disabled": false,
       "layout": "IPY_MODEL_b9cc8201b5b7422da8bc70bbd2851a15",
       "style": "IPY_MODEL_24a8b95c3ef2484aa5e90fc2b56949d6",
       "value": true
      }
     },
     "efdf9a503ade474590e3fa3eba7a9327": {
      "model_module": "@jupyter-widgets/base",
      "model_module_version": "1.2.0",
      "model_name": "LayoutModel",
      "state": {}
     },
     "f127bf82fc0a401e96b5250826f52ff5": {
      "model_module": "@jupyter-widgets/controls",
      "model_module_version": "1.5.0",
      "model_name": "DescriptionStyleModel",
      "state": {
       "description_width": ""
      }
     },
     "f1bcec4c57a24540b7d1c19c14d96dde": {
      "model_module": "@jupyter-widgets/base",
      "model_module_version": "1.2.0",
      "model_name": "LayoutModel",
      "state": {}
     },
     "f50ae8ece57048bc912ba8f16380f93a": {
      "model_module": "@jupyter-widgets/base",
      "model_module_version": "1.2.0",
      "model_name": "LayoutModel",
      "state": {}
     },
     "f63f171b497a4501bf4f3a7700bdf3f0": {
      "model_module": "@jupyter-widgets/base",
      "model_module_version": "1.2.0",
      "model_name": "LayoutModel",
      "state": {}
     },
     "f666e10295fb423f9d278f4c8fb08d06": {
      "model_module": "@jupyter-widgets/controls",
      "model_module_version": "1.5.0",
      "model_name": "DescriptionStyleModel",
      "state": {
       "description_width": ""
      }
     },
     "f92a5897c3184865898815656b0f113a": {
      "model_module": "@jupyter-widgets/base",
      "model_module_version": "1.2.0",
      "model_name": "LayoutModel",
      "state": {}
     },
     "fc1336b351c048c9b1395f4596a48fbf": {
      "model_module": "@jupyter-widgets/base",
      "model_module_version": "1.2.0",
      "model_name": "LayoutModel",
      "state": {}
     },
     "fc7ce1fdd6ce4c6099a9474f41e63b99": {
      "model_module": "@jupyter-widgets/controls",
      "model_module_version": "1.5.0",
      "model_name": "LabelModel",
      "state": {
       "layout": "IPY_MODEL_e114795ab7e7486caad2a6f0babf1a9b",
       "style": "IPY_MODEL_622a17543410484b8c6623a8d335c4e5",
       "value": "1322 of 1322 shots selected."
      }
     },
     "fc8be1c648b448e59c6b5ef20cb9954e": {
      "model_module": "@jupyter-widgets/controls",
      "model_module_version": "1.5.0",
      "model_name": "VBoxModel",
      "state": {
       "_dom_classes": [
        "widget-interact"
       ],
       "children": [
        "IPY_MODEL_e24e1a6422a54785b175ef61a2de59c2",
        "IPY_MODEL_c2a7829a04414e64804de55e28a950ab",
        "IPY_MODEL_85001986e9f643a78df328ebae5fac5e",
        "IPY_MODEL_57a0b28367d64d208170b98164e7d372"
       ],
       "layout": "IPY_MODEL_1fccd01749cb409b8ff4bb8208cc0a5d"
      }
     },
     "fdc3a06e4f7d4ef3bb119cf6c3d4e1ba": {
      "model_module": "@jupyter-widgets/controls",
      "model_module_version": "1.5.0",
      "model_name": "DescriptionStyleModel",
      "state": {
       "description_width": ""
      }
     },
     "fddd42d8a1434508bd8c7838eb3d5328": {
      "model_module": "@jupyter-widgets/base",
      "model_module_version": "1.2.0",
      "model_name": "LayoutModel",
      "state": {}
     },
     "fe70e0b816664f418a49aeccd7a11c69": {
      "model_module": "@jupyter-widgets/controls",
      "model_module_version": "1.5.0",
      "model_name": "DescriptionStyleModel",
      "state": {
       "description_width": ""
      }
     },
     "fe8e32e203924dc79e67261123a9e701": {
      "model_module": "@jupyter-widgets/controls",
      "model_module_version": "1.5.0",
      "model_name": "DescriptionStyleModel",
      "state": {
       "description_width": ""
      }
     }
    },
    "version_major": 2,
    "version_minor": 0
   }
  }
 },
 "nbformat": 4,
 "nbformat_minor": 4
}
