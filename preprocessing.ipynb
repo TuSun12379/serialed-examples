{
 "cells": [
  {
   "cell_type": "code",
   "execution_count": null,
   "metadata": {
    "pycharm": {
     "is_executing": false
    }
   },
   "outputs": [],
   "source": [
    "# for developers\n",
    "%load_ext autoreload\n",
    "%autoreload 2"
   ]
  },
  {
   "cell_type": "code",
   "execution_count": 1,
   "metadata": {
    "pycharm": {
     "is_executing": false
    },
    "tags": []
   },
   "outputs": [
    {
     "name": "stdout",
     "output_type": "stream",
     "text": [
      "Running on diffractem: v0.3.2-60-g604d443\n",
      "Running on CrystFEL: 0.9.1+886ae521\n",
      "Current path is: /localdata/serialed/serialed-examples\n"
     ]
    }
   ],
   "source": [
    "# import hdf5plugin # required to access LZ4-encoded HDF5 data sets, if not on your global path\n",
    "import matplotlib.pyplot as plt\n",
    "from diffractem import version, proc2d, pre_proc_opts, io\n",
    "from diffractem.dataset import Dataset\n",
    "from tifffile import imread\n",
    "import numpy as np\n",
    "from dask.distributed import Client, LocalCluster, TimeoutError\n",
    "import os\n",
    "import pandas as pd\n",
    "\n",
    "opts = pre_proc_opts.PreProcOpts('preproc.yaml')\n",
    "# opts.im_exc = 'indexamajig'\n",
    "cfver = !{opts.im_exc} -v\n",
    "print(f'Running on diffractem:', version())\n",
    "print(f'Running on', cfver[0])\n",
    "print(f'Current path is:', os.getcwd())\n",
    "\n",
    "pxmask=imread(opts.pxmask)\n",
    "reference=imread(opts.reference)"
   ]
  },
  {
   "cell_type": "markdown",
   "metadata": {},
   "source": [
    "# Pre-processing of SerialED data\n",
    "...from raw diffraction data in _NeXus_ format files to cleaned, sorted, selected, and corrected diffraction data, and accurate information about peak and pattern center positions for further steps. This comprises:\n",
    "* Aggregation of dose fractionation movies\n",
    "* Center and peak finding in diffraction patterns\n",
    "* Hit selection\n",
    "* Export of peak data files for indexing\n",
    "* Flat-field, dead-pixel and saturation correction; optionally background subtraction\n",
    "* Broadcasting of results to single fractionation frames, and different arbitrary cumulations\n",
    "\n",
    "The central tool are `diffractem.Dataset` objects, which handle file I/O, metadata, subset selection, fast computations, and much more.\n",
    "Also, the image processing functions in `diffractem.proc2d` are essential. \n",
    "By internally using the _dask_ framework, Datasets can be larger than memory, computations are lazy (i.e., executed only just when needed) and done in parallel, mostly scaling directly with the number of available cores."
   ]
  },
  {
   "cell_type": "markdown",
   "metadata": {},
   "source": [
    "## Initialize _dask.distributed_ cluster\n",
    "This initializes the computation backend. If there is no dask.distributed scheduler running at the specified port (usually 8786), a new one will be created. Make sure that the number of workers and threads make sense. It's a good idea to set it to your workstation's CPU configuration, and explicitly set a fast scratch drive as `local_directory`. In the output of the cell you will find the link for the dashboard of the scheduler, where you can follow the computation progress (NB: if you're connecting to Jupyter through a SSH tunnel, you'll need to open an additional tunnel for the port of the dashboard)."
   ]
  },
  {
   "cell_type": "code",
   "execution_count": 2,
   "metadata": {
    "tags": []
   },
   "outputs": [
    {
     "name": "stdout",
     "output_type": "stream",
     "text": [
      "Seems no cluster scheduler is running. Starting one.\n"
     ]
    },
    {
     "data": {
      "text/html": [
       "<table style=\"border: 2px solid white;\">\n",
       "<tr>\n",
       "<td style=\"vertical-align: top; border: 0px solid white\">\n",
       "<h3 style=\"text-align: left;\">Client</h3>\n",
       "<ul style=\"text-align: left; list-style: none; margin: 0; padding: 0;\">\n",
       "  <li><b>Scheduler: </b>tcp://127.0.0.1:8786</li>\n",
       "  <li><b>Dashboard: </b><a href='http://127.0.0.1:8787/status' target='_blank'>http://127.0.0.1:8787/status</a></li>\n",
       "</ul>\n",
       "</td>\n",
       "<td style=\"vertical-align: top; border: 0px solid white\">\n",
       "<h3 style=\"text-align: left;\">Cluster</h3>\n",
       "<ul style=\"text-align: left; list-style:none; margin: 0; padding: 0;\">\n",
       "  <li><b>Workers: </b>20</li>\n",
       "  <li><b>Cores: </b>40</li>\n",
       "  <li><b>Memory: </b>270.35 GB</li>\n",
       "</ul>\n",
       "</td>\n",
       "</tr>\n",
       "</table>"
      ],
      "text/plain": [
       "<Client: 'tcp://127.0.0.1:8786' processes=20 threads=40, memory=270.35 GB>"
      ]
     },
     "execution_count": 2,
     "metadata": {},
     "output_type": "execute_result"
    }
   ],
   "source": [
    "cluster_port = 8786\n",
    "\n",
    "try:\n",
    "    client = Client(address=f'127.0.0.1:{cluster_port}', timeout='2s')\n",
    "    print('Running cluster scheduler found and connected.')\n",
    "    client.run(os.chdir, os.getcwd()); # change the cluster to the current directory\n",
    "except (OSError, TimeoutError):\n",
    "    print('Seems no cluster scheduler is running. Starting one.')\n",
    "    cluster = LocalCluster(host=f'127.0.0.1:{cluster_port}', n_workers=20, threads_per_worker=2, \n",
    "                       local_directory='/scratch/distributed')\n",
    "    client = Client(address=f'127.0.0.1:{cluster_port}')\n",
    "\n",
    "client"
   ]
  },
  {
   "cell_type": "markdown",
   "metadata": {},
   "source": [
    "## Load the raw data set\n",
    "While the files could just be loaded using a wildcard expression in `Dataset.from_files`, it's a good idea to first get an explicit file list using `io.expand_files`, which you can filter in case you find that some files are troublemakers. This list can explicitly be used as input to `Dataset.from_files`.\n",
    "\n",
    "An import aspect now is the _chunking_ of the Dataset, which defines the size of blocks of the dataset that are loaded into memory and processed separately and in parallel. If you did not use dose fractionation, a value around 20 is a good idea. If you did use dose fractionation, it should be larger, and a multiple of the number of frames per crystal. Read more about chunks in the _dask_ documentation.\n",
    "\n",
    "In this data set we had 25 frames per movie, so we pick `chunking=50`."
   ]
  },
  {
   "cell_type": "code",
   "execution_count": 3,
   "metadata": {
    "tags": []
   },
   "outputs": [
    {
     "name": "stdout",
     "output_type": "stream",
     "text": [
      "Found 34 raw files. Have fun pre-processing!\n",
      "Persisting stacks to memory: \n"
     ]
    },
    {
     "data": {
      "text/plain": [
       "diffractem Dataset object spanning 34 NeXus/HDF5 files\n",
       "-----\n",
       "55800 shots (55800 selected)\n",
       "0 peaks, 0 predictions, 2247 features\n",
       "1 data stacks: raw_counts\n",
       "Diffraction data stack: raw_counts\n",
       "Data files open: True\n",
       "Data files writable: False"
      ]
     },
     "execution_count": 3,
     "metadata": {},
     "output_type": "execute_result"
    }
   ],
   "source": [
    "opts.load() # re-load parameters from the .yaml file\n",
    "\n",
    "raw_files = io.expand_files('raw_data/*.nxs', validate=True)\n",
    "print(f'Found {len(raw_files)} raw files. Have fun pre-processing!')\n",
    "ds = Dataset.from_files(raw_files, chunking=50, )\n",
    "ds"
   ]
  },
  {
   "cell_type": "markdown",
   "metadata": {},
   "source": [
    "### Merge global metadata into shot list\n",
    "Here, we only merge the shutter time of each movie frame (as they varied between the regions in this set)"
   ]
  },
  {
   "cell_type": "code",
   "execution_count": 4,
   "metadata": {},
   "outputs": [],
   "source": [
    "ds.merge_meta('/%/instrument/detector/collection/shutter_time')"
   ]
  },
  {
   "cell_type": "markdown",
   "metadata": {},
   "source": [
    "## Aggregation/selection\n",
    "Now, shots that correspond to auxiliary scan points have to be rejected (or based on other criteria in the shot list), and, if dose fractionation was used, movies should be summed over some reasonable range of frames before further processing. (In the final steps, we can work on the separate frames again.)\n",
    "\n",
    "Now is a good time to have a first look at the (aggregated) dataset using `tools.viewing_widget`. Note that no data is written to disk yet, all operations are done lazily, i.e. just computed in real time when you need it."
   ]
  },
  {
   "cell_type": "code",
   "execution_count": 5,
   "metadata": {
    "tags": []
   },
   "outputs": [
    {
     "name": "stdout",
     "output_type": "stream",
     "text": [
      "Monotonous aggregation: True \n",
      "File/subset remixing: False\n",
      "Frame aggregation: True\n",
      "Acq. run aggregation: False\n",
      "Discarding shot table columns: ['Event', 'frame', 'shot_in_subset']\n",
      "Persisting stacks to memory: \n",
      "Have 2146 shots for processing.\n"
     ]
    }
   ],
   "source": [
    "ds_agg = ds.aggregate(query='frame >= 1 and frame <= 4 and shutter_time == 2', \n",
    "                      by=['sample', 'region', 'run', 'crystal_id'], how='sum', new_folder='proc_data')\n",
    "print(f'Have {len(ds_agg.shots)} shots for processing.')"
   ]
  },
  {
   "cell_type": "markdown",
   "metadata": {},
   "source": [
    "#### Have a first look\n",
    "Fire up the viewing widget, with some reasonable default parameters.\n",
    "Log is helpful for unprocessed sets."
   ]
  },
  {
   "cell_type": "code",
   "execution_count": 6,
   "metadata": {},
   "outputs": [
    {
     "name": "stderr",
     "output_type": "stream",
     "text": [
      "/opts/dev/diffractem/diffractem/tools.py:734: RuntimeWarning: divide by zero encountered in log10\n",
      "  ih.set_data(np.log10(img_stack[shot,...].compute(scheduler='single-threaded')))\n"
     ]
    },
    {
     "data": {
      "application/vnd.jupyter.widget-view+json": {
       "model_id": "ac385b3af2c24f2483facb793cd244f3",
       "version_major": 2,
       "version_minor": 0
      },
      "text/plain": [
       "VBox(children=(HBox(children=(VBox(children=(Textarea(value='sample: Lyso190304\\nregion: 3\\nrun: 0\\ncrystal_id…"
      ]
     },
     "metadata": {},
     "output_type": "display_data"
    }
   ],
   "source": [
    "%matplotlib widget\n",
    "ds_agg.view(Imax=4000, log=True)"
   ]
  },
  {
   "cell_type": "markdown",
   "metadata": {},
   "source": [
    "## Optimize the peak & center finding pipeline\n",
    "`get_pattern_info` analyzes diffraction patterns (with whatever steps you like - define them in `preproc.yaml`) and returns the results as a pandas DataFrame and a dictionary containing found peak positions in CXI formats. For now, it finds the center of mass (COM), fits a Lorentz function to the central region, finds the peaks, and refines the center position using Friedel mate matching.\n",
    "\n",
    "Here, you can test this pipeline on a small subset of your dataset and check if the peak and center finding work reliably. If not then modify your `preproc.yaml` file parameters, especially those for peak finding under `peak_search_params`.\n",
    "Keep in mind that a too large number of false positive peaks will confuse the indexer horribly.\n",
    "\n",
    "For displaying, consider the `log` checkbox and set `Imax` to something high, so you can properly see if the center is well matched.\n",
    "Then browse a bit through the shots and check the quality of the image annotations."
   ]
  },
  {
   "cell_type": "code",
   "execution_count": 7,
   "metadata": {
    "tags": []
   },
   "outputs": [
    {
     "name": "stdout",
     "output_type": "stream",
     "text": [
      "Persisting stacks to memory: \n"
     ]
    }
   ],
   "source": [
    "N_sample = 30  # Number of sample shots\n",
    "opts.load() # load changes of YAML file\n",
    "np.random.seed(4200) # seed the random choice of patterns. Change the magic number if you don't like them.\n",
    "\n",
    "ds_agg.shots['selected'] = False\n",
    "ds_agg.shots.loc[np.random.choice(range(ds_agg.shots.shape[0]), N_sample), 'selected'] = True\n",
    "ds_sample = ds_agg.get_selection()\n",
    "ds_agg.shots['selected'] = True\n",
    "\n",
    "shotdata, peakinfo = proc2d.get_pattern_info(ds_sample.raw_counts, opts, client, via_array=True, output_file=None)\n",
    "\n",
    "ds_sample.shots = pd.concat([ds_sample.shots, shotdata], axis=1)\n",
    "for k, v in peakinfo.items():\n",
    "    ds_sample.add_stack(k, v, overwrite=True, persist=True)"
   ]
  },
  {
   "cell_type": "code",
   "execution_count": 8,
   "metadata": {},
   "outputs": [
    {
     "name": "stderr",
     "output_type": "stream",
     "text": [
      "/opts/dev/diffractem/diffractem/tools.py:734: RuntimeWarning: divide by zero encountered in log10\n",
      "  ih.set_data(np.log10(img_stack[shot,...].compute(scheduler='single-threaded')))\n"
     ]
    },
    {
     "data": {
      "application/vnd.jupyter.widget-view+json": {
       "model_id": "a7964adcb7e14ad6bb3a51d2223e1da9",
       "version_major": 2,
       "version_minor": 0
      },
      "text/plain": [
       "VBox(children=(HBox(children=(VBox(children=(Textarea(value='sample: Lyso190304\\nregion: 8\\nrun: 0\\ncrystal_id…"
      ]
     },
     "metadata": {},
     "output_type": "display_data"
    }
   ],
   "source": [
    "ds_sample.view(Imax=4000, log=True)"
   ]
  },
  {
   "cell_type": "markdown",
   "metadata": {},
   "source": [
    "## Run center & peak finding on full data set\n",
    "Now that you've found the optimal parameters, the same thing is run on the entire data set. We also store a file `image_info.h5`, which is a valid diffractem-type (NeXus) HDF5 file, which contains the metadata and peak/pattern center positions, but no image data. It is useful as a backup or to make export files for indexers. \n",
    "\n",
    "In the second cell, the results are weaved into our data set object. Optionally, you can instead load the data from an existing `image_info.h5` (or similar) file.\n",
    "\n",
    "Note also, that from this point on you can start using `process_peaks.ipynb` to optimize your geometry and unit cell."
   ]
  },
  {
   "cell_type": "code",
   "execution_count": 9,
   "metadata": {},
   "outputs": [
    {
     "name": "stdout",
     "output_type": "stream",
     "text": [
      "Wrote analysis results to file image_info.h5\n"
     ]
    }
   ],
   "source": [
    "# now do the same thing on the whole data set. Follow the progress on the dask.distributed dashboard (see above)\n",
    "shotdata, peakinfo = proc2d.get_pattern_info(ds_agg.raw_counts, opts, client, via_array=True, output_file='image_info.h5', \n",
    "                                             shots=ds_agg.shots[['file_raw', 'Event_raw', 'sample', 'region', 'run', 'crystal_id']])"
   ]
  },
  {
   "cell_type": "markdown",
   "metadata": {},
   "source": [
    "#### Merging into dataset\n",
    "We now have the info we want for the entire dataset, either directly from the previous cell, or from the \"backup\" earlier stored in `image_info.h5`.\n",
    "Here, this is merged into the `Dataset`.\n",
    "If you uncomment the dataset loading command, this means that you can restart your analysis from here if you got interrupted.\n",
    "Unfortunately, this still has to be done using manual _pandas_ calls, but this will likely become more elegant."
   ]
  },
  {
   "cell_type": "code",
   "execution_count": 10,
   "metadata": {},
   "outputs": [],
   "source": [
    "# if you want to restart from here...\n",
    "# ds_hit = Dataset.from_files('hits.lst', chunking=50)\n",
    "\n",
    "# merge found shot data into dataset\n",
    "from_backup = False\n",
    "\n",
    "if from_backup:\n",
    "    ds_info = Dataset.from_files('image_info.h5', chunking=-1)\n",
    "    shots = ds_agg.shots.merge(ds_info.shots, on=['file_raw', 'Event_raw', 'sample', 'region', 'run', 'crystal_id'], \n",
    "                   validate='1:1', how='left', suffixes=('', '_INFO'))\n",
    "    ds_agg.shots = shots.drop(columns=[c for c in shots.columns if c.endswith('_INFO')])\n",
    "    for k, v in ds_info.stacks.items():\n",
    "        ds_agg.add_stack(k, v.rechunk(chunks=(ds_agg.zchunks,) + v.shape[1:]), overwrite=True, persist=True) # rechunk is temporary workaround\n",
    "        \n",
    "else:\n",
    "    ds_agg.shots = pd.concat([ds_agg.shots.drop(columns=[c for c in shotdata.columns if c in ds_agg.shots.columns]), shotdata], axis=1)\n",
    "    for k, v in peakinfo.items():\n",
    "        ds_agg.add_stack(k, v, overwrite=True, persist=True)"
   ]
  },
  {
   "cell_type": "markdown",
   "metadata": {},
   "source": [
    "## Hit selection\n",
    "define a criterion to select hits, accordsing to the `selection` query string, then show random sample images to get an idea if it made sense. It often makes sense to not only look at the total `num_peaks`, but also `num_lores_peaks` and `frac_lores_peaks`. The resolution limit for what is considered lores is defined as `lores_limit` in inverse nanometres.\n",
    "\n",
    "Afterwards, you can look (again) at your hit-selected data set `ds_hit` to see if it contains hits only."
   ]
  },
  {
   "cell_type": "code",
   "execution_count": 11,
   "metadata": {},
   "outputs": [
    {
     "name": "stdout",
     "output_type": "stream",
     "text": [
      "1322 shots out of 2146 selected.\n",
      "Persisting stacks to memory: nPeaks, peakTotalIntensity, peakXPosRaw, peakYPosRaw\n"
     ]
    },
    {
     "data": {
      "application/vnd.jupyter.widget-view+json": {
       "model_id": "7ef25b803a9c441390a8364da46d1491",
       "version_major": 2,
       "version_minor": 0
      },
      "text/plain": [
       "VBox(children=(HBox(children=(VBox(children=(Textarea(value='sample: Lyso190304\\nregion: 3\\nrun: 0\\ncrystal_id…"
      ]
     },
     "metadata": {},
     "output_type": "display_data"
    }
   ],
   "source": [
    "plt.close('all')\n",
    "selection = 'num_peaks > 15'\n",
    "\n",
    "ds_agg.shots['hit'] = ds_agg.shots.eval(selection)\n",
    "ds_hit = ds_agg.get_selection('hit', file_suffix='_hit.h5')\n",
    "\n",
    "ds_hit.view(Imax=50)"
   ]
  },
  {
   "cell_type": "markdown",
   "metadata": {},
   "source": [
    "## Creation of peak file for indexing\n",
    "...based on the hits data set. Generates a file `virtual.hdf5`, containing all-one array in the HDF5 file as pseudo-image-data with settable image size, but keeps the peak positions, referenced to the image center.\n",
    "\n",
    "Also the shot table is kept, with added columns `_file` and `_Event` which indicate the _original_ ID of the shot in the `_hit`-data files. This means that when running `indexamajig` with corresponding options `--copy-hdf5-field=/%/shots/_file --copy-hdf5-field=/%/shots/_Event`, the resulting stream file contains the original shot ID can easily be mapped back to the original data for integration (see below). Don't worry, this is automatically handled later on, see `indexing.ipynb`.\n",
    "\n",
    "After this step, you can start indexing (`indexing.ipynb`). However you also may want to refine the cell parameters first (`peak_processing.ipynb`).\n",
    "\n",
    "As a TODO: this is the point where one could export to other codes than CrystFEL, like e.g. making _(n)XDS_ `SPOT.XDS` or _DIALS_ `.pickle` files."
   ]
  },
  {
   "cell_type": "code",
   "execution_count": 12,
   "metadata": {},
   "outputs": [
    {
     "name": "stdout",
     "output_type": "stream",
     "text": [
      "rm: cannot remove 'virtual.h5': No such file or directory\n",
      "1322 shots out of 1322 selected.\n",
      "Persisting stacks to memory: nPeaks, peakTotalIntensity, peakXPosRaw, peakYPosRaw\n",
      "Writing fake all-ones data (yes, it takes that long).\n",
      "[########################################] | 100% Completed | 27.5s\n",
      "Virtual file virtual.h5 and list file virtual.lst successfully exported.\n"
     ]
    }
   ],
   "source": [
    "%rm virtual.h5\n",
    "ds_hit.write_virtual_file()"
   ]
  },
  {
   "cell_type": "markdown",
   "metadata": {},
   "source": [
    "## Creation of actual processed images\n",
    "...using the `proc2d.correct_image` function, which applies corrections as defined in the `YAML` file. The stack with corrected images (dask arrays, so they are not actually computed yet!) is added to the dataset.\n",
    "\n",
    "Then, you can use the viewing widget to assess if the correction matches your expectations. If not, change the options file, and re-iterate until you're happy. (NB: The update of the widget might take slightly longer than before, as the correction is done in real time.)\n",
    "\n",
    "Finally, run the `compute_and_save` method, which actually computes all corrected patterns and writes them to disk. Note that using the `exclude_stacks='raw_counts'` will prevent the raw data from being written into the new files. This function might take quite a while. Please follow the progress on the dask dashboard. Note that if you follow the standard workflow, this will be the first time that diffraction data is actually _written_ to disk (besides the virtual one for indexing)."
   ]
  },
  {
   "cell_type": "code",
   "execution_count": 13,
   "metadata": {},
   "outputs": [],
   "source": [
    "opts.load()\n",
    "ds_compute = ds_hit # extra step just in case you want to work on a different set\n",
    "img_final = proc2d.correct_image(ds_compute.raw_counts, opts,\n",
    "                                ds_compute.shots.lor_x.values,\n",
    "                                ds_compute.shots.lor_y.values,\n",
    "                                ds_compute.peak_data) # keep in mind, that this a lazy computation, so nothing is actually done yet\n",
    "\n",
    "ds_compute.add_stack('corrected', img_final, overwrite=True, set_diff_stack=True)"
   ]
  },
  {
   "cell_type": "code",
   "execution_count": 14,
   "metadata": {},
   "outputs": [
    {
     "data": {
      "application/vnd.jupyter.widget-view+json": {
       "model_id": "dfda100c8e6c4df79a86d6ff69882e5e",
       "version_major": 2,
       "version_minor": 0
      },
      "text/plain": [
       "VBox(children=(HBox(children=(VBox(children=(Textarea(value='sample: Lyso190304\\nregion: 24\\nrun: 0\\ncrystal_i…"
      ]
     },
     "metadata": {},
     "output_type": "display_data"
    }
   ],
   "source": [
    "ds_compute.view(shot=402)"
   ]
  },
  {
   "cell_type": "code",
   "execution_count": 15,
   "metadata": {},
   "outputs": [
    {
     "name": "stdout",
     "output_type": "stream",
     "text": [
      "Initializing data files...\n",
      "Storing meta tables...\n"
     ]
    },
    {
     "name": "stderr",
     "output_type": "stream",
     "text": [
      "/opts/dev/diffractem/diffractem/dataset.py:1200: UserWarning: Non-matching primary diffraction stack labels: corrected vs raw_counts\n",
      "  warn(f'Non-matching primary diffraction stack labels: '\n"
     ]
    },
    {
     "name": "stdout",
     "output_type": "stream",
     "text": [
      "Storing meta stacks nPeaks, peakTotalIntensity, peakXPosRaw, peakYPosRaw\n",
      "[########################################] | 100% Completed |  7.8s\n",
      "Storing diffraction data stack corrected... monitor progress at http://127.0.0.1:8787/status (or forward port if remote)\n",
      "Initializing data sets for diffraction stack corrected...\n",
      "Submitting tasks to dask.distributed scheduler...\n",
      "Starting computation...\n"
     ]
    }
   ],
   "source": [
    "# run the computation. Depending on your computer and data set size, have a coffee or go to bed now.\n",
    "ds_compute.compute_and_save(diff_stack_label='corrected', list_file='hits_agg.lst', exclude_stacks='raw_counts',\n",
    "                            client=client, overwrite=True)"
   ]
  },
  {
   "cell_type": "markdown",
   "metadata": {},
   "source": [
    "## Broadcasting to other aggregations\n",
    "\n",
    "With all the information we have about our initial aggregated set `ds_agg`, we can now also make other aggregations, e.g. with less or more exposure time, or including the first shot (0), which has artifacts that confuse indexing and is hence omitted.\n",
    "\n",
    "As you will see, this is easy: make an aggregated set as before, just be cautious to make a good `file_suffix`, so you don't overwrite the existing ones.\n",
    "Them `merge_pattern_info` will grab all there is to know from `image_info.h5`. \n",
    "From there, it behaves as above: do your hit correction, compute the final image using `proc2d.correct_image`, check the outcome using `view`, and compute and save it.\n",
    "The peak and center data in the new files will be _exactly_ as in those in `ds_agg` or e.g. the `virtual.h5` that is used for indexing.\n",
    "Hence, after indexing, you can use the newly made files for integration just as well - see `indexing.ipynb`."
   ]
  },
  {
   "cell_type": "code",
   "execution_count": 16,
   "metadata": {},
   "outputs": [
    {
     "name": "stdout",
     "output_type": "stream",
     "text": [
      "Monotonous aggregation: True \n",
      "File/subset remixing: False\n",
      "Frame aggregation: True\n",
      "Acq. run aggregation: False\n",
      "Discarding shot table columns: ['Event', 'frame', 'shot_in_subset']\n",
      "Persisting stacks to memory: \n",
      "Single-file dataset, disabling parallel I/O.\n",
      "No feature list in data set ('/%/map/features not found in image_info.h5.'). That's ok if it's a virtual or info file.\n",
      "Persisting stacks to memory: nPeaks, peakTotalIntensity, peakXPosRaw, peakYPosRaw\n",
      "Persisting stacks to memory: nPeaks, peakXPosRaw, peakYPosRaw, peakTotalIntensity\n",
      "1322 shots out of 2146 selected.\n",
      "Persisting stacks to memory: nPeaks, peakXPosRaw, peakYPosRaw, peakTotalIntensity\n"
     ]
    }
   ],
   "source": [
    "# now, e.g. make another aggregation...\n",
    "ds_0to2 = ds.aggregate(query='frame >= 0 and frame <= 2 and shutter_time == 2', \n",
    "                      by=['sample', 'region', 'run', 'crystal_id'], how='sum', \n",
    "                       new_folder='proc_data', file_suffix='_0to2.h5')\n",
    "ds_0to2.merge_pattern_info('image_info.h5')\n",
    "ds_0to2_hit = ds_0to2.get_selection(f'num_peaks > {opts.min_peaks}', file_suffix='_hit.h5')"
   ]
  },
  {
   "cell_type": "code",
   "execution_count": 17,
   "metadata": {},
   "outputs": [
    {
     "data": {
      "application/vnd.jupyter.widget-view+json": {
       "model_id": "9ce7de93565b44d4a90da05aa04a17ff",
       "version_major": 2,
       "version_minor": 0
      },
      "text/plain": [
       "VBox(children=(HBox(children=(VBox(children=(Textarea(value='sample: Lyso190304\\nregion: 3\\nrun: 0\\ncrystal_id…"
      ]
     },
     "metadata": {},
     "output_type": "display_data"
    }
   ],
   "source": [
    "# ...and correct the images\n",
    "opts.load()\n",
    "ds_compute = ds_0to2_hit\n",
    "img_final = proc2d.correct_image(ds_compute.raw_counts, opts,\n",
    "                                ds_compute.shots.lor_x.values,\n",
    "                                ds_compute.shots.lor_y.values,\n",
    "                                ds_compute.peak_data) # keep in mind, that this a lazy computation, so nothing is actually done yet\n",
    "\n",
    "ds_compute.add_stack('corrected', img_final, overwrite=True, set_diff_stack=True)\n",
    "ds_compute.view()"
   ]
  },
  {
   "cell_type": "markdown",
   "metadata": {},
   "source": [
    "Now, `ds_0to2_hit` has everything to be written to disk!"
   ]
  },
  {
   "cell_type": "code",
   "execution_count": 18,
   "metadata": {},
   "outputs": [
    {
     "name": "stdout",
     "output_type": "stream",
     "text": [
      "Initializing data files...\n",
      "Storing meta tables...\n"
     ]
    },
    {
     "name": "stderr",
     "output_type": "stream",
     "text": [
      "/opts/dev/diffractem/diffractem/dataset.py:1200: UserWarning: Non-matching primary diffraction stack labels: corrected vs raw_counts\n",
      "  warn(f'Non-matching primary diffraction stack labels: '\n"
     ]
    },
    {
     "name": "stdout",
     "output_type": "stream",
     "text": [
      "Storing meta stacks nPeaks, peakXPosRaw, peakYPosRaw, peakTotalIntensity\n",
      "[########################################] | 100% Completed |  7.8s\n",
      "Storing diffraction data stack corrected... monitor progress at http://127.0.0.1:8787/status (or forward port if remote)\n",
      "Initializing data sets for diffraction stack corrected...\n",
      "Submitting tasks to dask.distributed scheduler...\n",
      "Starting computation...\n"
     ]
    }
   ],
   "source": [
    "ds_0to2_hit.compute_and_save(diff_stack_label='corrected', list_file='hits_0to2.lst', exclude_stacks='raw_counts',\n",
    "                            client=client, overwrite=True)"
   ]
  },
  {
   "cell_type": "markdown",
   "metadata": {},
   "source": [
    "## Broadcasting to single shots\n",
    "\n",
    "(Advanced)\n",
    "\n",
    "Now, we want to make a corrected and annotated (i.e., including peaks and centers) version of the raw data, i.e., single movie frames, for example to study radiation damage or be flexible during merging.\n",
    "This is done essentially exactly the same as if you were just using a different aggregation (see above)."
   ]
  },
  {
   "cell_type": "code",
   "execution_count": null,
   "metadata": {},
   "outputs": [],
   "source": [
    "# now, do exactly the same thing as above, but on single-shot data\n",
    "unchunk = True # IMPORTANT: set to True to look at the set with .view(), otherwise set to False\n",
    "\n",
    "ds_sgl = ds.get_selection('frame >= 0 and frame < 10', file_suffix='_allframe.h5', new_folder='proc_data')\n",
    "\n",
    "ds_sgl.merge_pattern_info('image_info.h5')\n",
    "ds_sgl = ds_sgl.get_selection(f'num_peaks > {opts.min_peaks}', file_suffix='_hit.h5')\n",
    "\n",
    "if unchunk:\n",
    "    ds_sgl.rechunk_stacks(1)\n",
    "\n",
    "opts.load()\n",
    "ds_compute = ds_sgl\n",
    "img_final = proc2d.correct_image(ds_compute.raw_counts, opts,\n",
    "                                ds_compute.shots.lor_x.values,\n",
    "                                ds_compute.shots.lor_y.values,\n",
    "                                ds_compute.peak_data) # keep in mind, that this a lazy computation, so nothing is actually done yet\n",
    "\n",
    "ds_compute.add_stack('corrected', img_final, overwrite=True, set_diff_stack=True)"
   ]
  },
  {
   "cell_type": "code",
   "execution_count": null,
   "metadata": {},
   "outputs": [],
   "source": [
    "# ...and run the computation\n",
    "ds_compute.compute_and_save(diff_stack_label='corrected', list_file='hits-allframe.lst', exclude_stacks='raw_counts',\n",
    "                            client=client, overwrite=True)"
   ]
  },
  {
   "cell_type": "markdown",
   "metadata": {},
   "source": [
    "## Make cumulative-sum files\n",
    "(Advanced)\n",
    "\n",
    "Finally, you can also create a set of files, which instead of single frames, have their cumulative sums, which means that you can pick in hindsight which ones you want to use for the later steps. \n",
    "Some might prefer a workflow where you just make files for different aggregations (as above) that you think make sense.\n",
    "\n",
    "Anyway - for this case, the function `transform_stack_group` does exactly what you want: a cumulative sum over each group in your stack matching one unique crystal. The rest is as usual."
   ]
  },
  {
   "cell_type": "code",
   "execution_count": null,
   "metadata": {},
   "outputs": [],
   "source": [
    "# only if restarting from here\n",
    "ds_sgl = Dataset.from_files('hits-allframe.lst', chunking=20)"
   ]
  },
  {
   "cell_type": "code",
   "execution_count": null,
   "metadata": {},
   "outputs": [],
   "source": [
    "# copy data set and apply transform function, which defaults to cumulation\n",
    "ds_cum_0 = ds_sgl.get_selection('True', file_suffix='_cum_from_0.h5')\n",
    "ds_cum_0.transform_stack_groups(stacks='corrected')"
   ]
  },
  {
   "cell_type": "code",
   "execution_count": null,
   "metadata": {},
   "outputs": [],
   "source": [
    "# more sophisticated: start cumulation only at second frame\n",
    "# this reduces the signal somewhat and throws away the (maybe) most undamaged\n",
    "# frame, but avoids streak artifacts that might be in it\n",
    "cum_from_1 = lambda x: np.concatenate([x[:1,...], np.cumsum(x[1:,...], axis=0)], axis=0)\n",
    "ds_cum_1 = ds_sgl.get_selection('True', file_suffix='_cum_from_1.h5')\n",
    "ds_cum_1.transform_stack_groups(stacks='corrected', func=cum_from_1)"
   ]
  },
  {
   "cell_type": "code",
   "execution_count": null,
   "metadata": {},
   "outputs": [],
   "source": [
    "%matplotlib widget\n",
    "ds_cum_1.view()"
   ]
  },
  {
   "cell_type": "code",
   "execution_count": null,
   "metadata": {},
   "outputs": [],
   "source": [
    "# run the computation. Depending on your computer and data set size, have a coffee or go to bed now.\n",
    "ds_cum_0.compute_and_save(diff_stack_label='corrected', list_file='hits_cum-0.lst', exclude_stacks='raw_counts',\n",
    "                            client=client, overwrite=True)\n",
    "ds_cum_1.compute_and_save(diff_stack_label='corrected', list_file='hits_cum-1.lst', exclude_stacks='raw_counts',\n",
    "                            client=client, overwrite=True)"
   ]
  }
 ],
 "metadata": {
  "kernelspec": {
   "display_name": "Python 3.7.6 64-bit ('preproc')",
   "language": "python",
   "name": "python37664bitpreprocde2d2aa216c74fd08703cca08757b3d9"
  },
  "language_info": {
   "codemirror_mode": {
    "name": "ipython",
    "version": 3
   },
   "file_extension": ".py",
   "mimetype": "text/x-python",
   "name": "python",
   "nbconvert_exporter": "python",
   "pygments_lexer": "ipython3",
   "version": "3.7.6"
  },
  "widgets": {
   "application/vnd.jupyter.widget-state+json": {
    "state": {
     "00bdf1c5a52940ff942334d575f3b877": {
      "model_module": "@jupyter-widgets/controls",
      "model_module_version": "1.5.0",
      "model_name": "HBoxModel",
      "state": {
       "children": [
        "IPY_MODEL_4085f83f176c43e08e7312e64c4427d0",
        "IPY_MODEL_a8dbc079e9df4fb0ae70da04e29fa1c6"
       ],
       "layout": "IPY_MODEL_5b6ba69ec93448ff8c31b3f4ac0925dd"
      }
     },
     "044b51c6a602426cbb2c8964d43b4c35": {
      "model_module": "@jupyter-widgets/controls",
      "model_module_version": "1.5.0",
      "model_name": "DescriptionStyleModel",
      "state": {
       "description_width": ""
      }
     },
     "07743d0f747b418c96c5ed20fcebf35b": {
      "model_module": "@jupyter-widgets/base",
      "model_module_version": "1.2.0",
      "model_name": "LayoutModel",
      "state": {}
     },
     "08882e5221ab455e9491cba553502965": {
      "model_module": "@jupyter-widgets/base",
      "model_module_version": "1.2.0",
      "model_name": "LayoutModel",
      "state": {}
     },
     "0922725874f2473190620f81c3317766": {
      "model_module": "@jupyter-widgets/controls",
      "model_module_version": "1.5.0",
      "model_name": "VBoxModel",
      "state": {
       "_dom_classes": [
        "widget-interact"
       ],
       "children": [
        "IPY_MODEL_fdabdb07a9a848f39ccc7a1e5d3f8be4",
        "IPY_MODEL_c84eee32c9a7420cbae7c6da1a105744",
        "IPY_MODEL_7e9e19ba73f54680aed4c4f0f34beea3",
        "IPY_MODEL_71b23b5a66964c708d847ad97d2cac35"
       ],
       "layout": "IPY_MODEL_baa744d006014607a34a36f7520fdbf5"
      }
     },
     "0a1fdec9b5c941eab7396d7aabe8faf1": {
      "model_module": "@jupyter-widgets/base",
      "model_module_version": "1.2.0",
      "model_name": "LayoutModel",
      "state": {}
     },
     "0c5b0faae3954da39194fd5992672883": {
      "model_module": "jupyter-matplotlib",
      "model_module_version": "^0.7.2",
      "model_name": "ToolbarModel",
      "state": {
       "_model_module_version": "^0.7.2",
       "_view_module_version": "^0.7.2",
       "layout": "IPY_MODEL_90841d34dde748daab3bb366f6477491",
       "orientation": "horizontal",
       "toolitems": [
        [
         "Home",
         "Reset original view",
         "home",
         "home"
        ],
        [
         "Back",
         "Back to previous view",
         "arrow-left",
         "back"
        ],
        [
         "Forward",
         "Forward to next view",
         "arrow-right",
         "forward"
        ],
        [
         "Pan",
         "Pan axes with left mouse, zoom with right",
         "arrows",
         "pan"
        ],
        [
         "Zoom",
         "Zoom to rectangle",
         "square-o",
         "zoom"
        ],
        [
         "Download",
         "Download plot",
         "floppy-o",
         "save_figure"
        ]
       ]
      }
     },
     "0c63150916dd403bacd961283423a1b1": {
      "model_module": "jupyter-matplotlib",
      "model_module_version": "^0.7.2",
      "model_name": "MPLCanvasModel",
      "state": {
       "_figure_label": "Figure 2",
       "_height": 480,
       "_image_mode": "diff",
       "_model_module_version": "^0.7.2",
       "_view_module_version": "^0.7.2",
       "_width": 640,
       "header_visible": false,
       "layout": "IPY_MODEL_52610ca9793b4e90992df459ac3a81c7",
       "toolbar": "IPY_MODEL_db7bbf6e634f4f50a61689e49afc1a2a",
       "toolbar_position": "bottom"
      }
     },
     "0c6f04fd7dd2424480590c561594137c": {
      "model_module": "@jupyter-widgets/controls",
      "model_module_version": "1.5.0",
      "model_name": "DescriptionStyleModel",
      "state": {
       "description_width": ""
      }
     },
     "10044663fbdb42fca91ded9bb3a75544": {
      "model_module": "@jupyter-widgets/controls",
      "model_module_version": "1.5.0",
      "model_name": "SliderStyleModel",
      "state": {
       "description_width": ""
      }
     },
     "1588e884b9bb4397a19144d81f02cc0d": {
      "model_module": "@jupyter-widgets/base",
      "model_module_version": "1.2.0",
      "model_name": "LayoutModel",
      "state": {}
     },
     "15e678df37c34b5db889be3826526666": {
      "model_module": "@jupyter-widgets/controls",
      "model_module_version": "1.5.0",
      "model_name": "DescriptionStyleModel",
      "state": {
       "description_width": ""
      }
     },
     "160f67a8f1d14d5a8b4bb883c1be345a": {
      "model_module": "@jupyter-widgets/base",
      "model_module_version": "1.2.0",
      "model_name": "LayoutModel",
      "state": {}
     },
     "168177757e154ad1948d01dfd72a3c15": {
      "model_module": "@jupyter-widgets/controls",
      "model_module_version": "1.5.0",
      "model_name": "SliderStyleModel",
      "state": {
       "description_width": ""
      }
     },
     "16ca1097d0894e87b55d922cee9f9752": {
      "model_module": "@jupyter-widgets/controls",
      "model_module_version": "1.5.0",
      "model_name": "DescriptionStyleModel",
      "state": {
       "description_width": ""
      }
     },
     "17313ccc31d4470fbf992edad289d6cd": {
      "model_module": "@jupyter-widgets/controls",
      "model_module_version": "1.5.0",
      "model_name": "TextareaModel",
      "state": {
       "layout": "IPY_MODEL_a24644dafb7841be865720401f775d26",
       "style": "IPY_MODEL_c28232c80c0b4b67a0e23d08b4a490c2",
       "value": "sample: Lyso190304\nregion: 22\nrun: 0\ncrystal_id: 25\ncrystal_x: 442.75824175824175\ncrystal_y: 516.4505494505495\npos_x: 428.05824175824176\npos_y: 518.7852053896997\nselected: True\nsubset: entry\nshutter_time: 2.0\nagg_len: 3\nfile_raw: raw_data/LysoS2_022_00000.nxs\nEvent_raw: entry//667\nadf1: 28.915239940981113\nadf2: 9.966560347075983\ncenter_refine_score: 0.0067619297512548455\ncenter_x: 738.7362587675722\ncenter_y: 245.81391447881253\ncom_x: 739.5783522464139\ncom_y: 250.23718453579508\nlor_hwhm: 11.400036059776367\nlor_pk: 1066.3459861025765\nlor_x: 739.6785577100877\nlor_y: 249.38546547631657\nnum_peaks: 85\nshift_x_mm: -40.63049423221647\nshift_y_mm: -13.51976529633469\nii_from: 634\nfile: proc_data/LysoS2_022_00000_0to2_hit.h5\nEvent: entry//21\nshot_in_subset: 21"
      }
     },
     "17583efd29c84ba7a423530e1db8f364": {
      "model_module": "@jupyter-widgets/controls",
      "model_module_version": "1.5.0",
      "model_name": "TextareaModel",
      "state": {
       "layout": "IPY_MODEL_5ca0ccb70b81424fb2e1a5d56f2ee814",
       "style": "IPY_MODEL_0c6f04fd7dd2424480590c561594137c",
       "value": "sample: Lyso190304\nregion: 41\nrun: 0\ncrystal_id: 8\ncrystal_x: 314.4667801951001\ncrystal_y: 198.11381132572177\npos_x: 300.9667801951001\npos_y: 197.3107551400998\nselected: True\nsubset: entry\nshutter_time: 2.0\nagg_len: 4\nfile_raw: raw_data/LysoS2_041_00000.nxs\nEvent_raw: entry//206\nfile: proc_data/LysoS2_041_00000_agg_sel.h5\nEvent: entry//0\nshot_in_subset: 0\nadf1: 31.011446779508734\nadf2: 12.106935492190667\ncenter_refine_score: 0.04408569224859015\ncenter_x: 739.5497171233311\ncenter_y: 270.6757002388508\ncom_x: 739.8595641980166\ncom_y: 271.345107592951\nlor_hwhm: 9.570386627799214\nlor_pk: 1442.5718975977904\nlor_x: 739.9959955851739\nlor_y: 272.24072143117246\nnum_peaks: 109\nshift_x_mm: -40.67523444178321\nshift_y_mm: -14.887163513136795"
      }
     },
     "187f1422b92049c38be04424b8a3bde6": {
      "model_module": "@jupyter-widgets/controls",
      "model_module_version": "1.5.0",
      "model_name": "DescriptionStyleModel",
      "state": {
       "description_width": ""
      }
     },
     "1a62f83791564867936d27fcbd3b9700": {
      "model_module": "@jupyter-widgets/controls",
      "model_module_version": "1.5.0",
      "model_name": "HBoxModel",
      "state": {
       "children": [
        "IPY_MODEL_a46923df35364922b8106e2351ce9556",
        "IPY_MODEL_61a6ad43ad1f42619821c3531f66db40",
        "IPY_MODEL_45e5f54605da41179a97f0b3254599ff",
        "IPY_MODEL_e68458745ece4eec901d017d68b4ed54"
       ],
       "layout": "IPY_MODEL_781551cca53a4e06b4461783ef710db5"
      }
     },
     "1ce713f4159742808a3568bc22b7567c": {
      "model_module": "@jupyter-widgets/base",
      "model_module_version": "1.2.0",
      "model_name": "LayoutModel",
      "state": {}
     },
     "1cffdfb9a2014441a249cd788817ef15": {
      "model_module": "@jupyter-widgets/controls",
      "model_module_version": "1.5.0",
      "model_name": "HBoxModel",
      "state": {
       "children": [
        "IPY_MODEL_98c405f2db4d443eb1b0c6fde717d694",
        "IPY_MODEL_956dba6963184dec85666f80e3d2a142",
        "IPY_MODEL_e5ec9ce0aaec40318e709a5fbc339922",
        "IPY_MODEL_3c4ecd6428c74e0590189ef858149151"
       ],
       "layout": "IPY_MODEL_08882e5221ab455e9491cba553502965"
      }
     },
     "1eb919f169c34502984eed279558b37f": {
      "model_module": "@jupyter-widgets/controls",
      "model_module_version": "1.5.0",
      "model_name": "DescriptionStyleModel",
      "state": {
       "description_width": ""
      }
     },
     "1feef35ee9f84a95a4f9898bab523ecc": {
      "model_module": "@jupyter-widgets/controls",
      "model_module_version": "1.5.0",
      "model_name": "FloatTextModel",
      "state": {
       "description": "Imax",
       "layout": "IPY_MODEL_4d3061b92457416b9808d410a28def93",
       "step": null,
       "style": "IPY_MODEL_c0ad091c92864793b9def6b5cf16764b",
       "value": 4000
      }
     },
     "2039b3724b214ac091986ed919b69260": {
      "model_module": "@jupyter-widgets/controls",
      "model_module_version": "1.5.0",
      "model_name": "DescriptionStyleModel",
      "state": {
       "description_width": ""
      }
     },
     "22ad6f4716794a26a929becebd1a364d": {
      "model_module": "@jupyter-widgets/base",
      "model_module_version": "1.2.0",
      "model_name": "LayoutModel",
      "state": {}
     },
     "24f930041975431ebe148874c13a6b11": {
      "model_module": "@jupyter-widgets/controls",
      "model_module_version": "1.5.0",
      "model_name": "DescriptionStyleModel",
      "state": {
       "description_width": ""
      }
     },
     "259d24253a2f44ce9836a099cc7cab61": {
      "model_module": "@jupyter-widgets/controls",
      "model_module_version": "1.5.0",
      "model_name": "CheckboxModel",
      "state": {
       "description": "log",
       "disabled": false,
       "layout": "IPY_MODEL_1588e884b9bb4397a19144d81f02cc0d",
       "style": "IPY_MODEL_60fe51a3ba31461d8d7e9e3757d220cb",
       "value": false
      }
     },
     "260af3c9dc9342bc96e084cff20edb1c": {
      "model_module": "@jupyter-widgets/base",
      "model_module_version": "1.2.0",
      "model_name": "LayoutModel",
      "state": {}
     },
     "2871a981b5914649af7941fe7d560f6c": {
      "model_module": "@jupyter-widgets/base",
      "model_module_version": "1.2.0",
      "model_name": "LayoutModel",
      "state": {}
     },
     "2a7722b33f144351a6f2544f989f3d69": {
      "model_module": "@jupyter-widgets/base",
      "model_module_version": "1.2.0",
      "model_name": "LayoutModel",
      "state": {}
     },
     "2bc8ce140cbd49cd894eeec1a92bab84": {
      "model_module": "@jupyter-widgets/controls",
      "model_module_version": "1.5.0",
      "model_name": "IntSliderModel",
      "state": {
       "description": "shot",
       "layout": "IPY_MODEL_7f3b2a940531432bbbfbfa760d57a95f",
       "max": 30,
       "style": "IPY_MODEL_fbbe8e5a34d147098fca47e3797c7367",
       "value": 24
      }
     },
     "2c68ace615b64cbd810953c08e2c7624": {
      "model_module": "@jupyter-widgets/controls",
      "model_module_version": "1.5.0",
      "model_name": "LabelModel",
      "state": {
       "layout": "IPY_MODEL_a85eba3e836f45ed8ce54b3f3e56b2cb",
       "style": "IPY_MODEL_6ce338b21c74427da08d3b41b6b6a422",
       "value": "1322 of 1322 shots selected."
      }
     },
     "2d736c7cfdca40acb46d970c9b97cc28": {
      "model_module": "@jupyter-widgets/controls",
      "model_module_version": "1.5.0",
      "model_name": "HBoxModel",
      "state": {
       "children": [
        "IPY_MODEL_7c53c85dbd254e0897486943168a8137",
        "IPY_MODEL_2c68ace615b64cbd810953c08e2c7624",
        "IPY_MODEL_9869975ca3dc41d6b5493a99693c4773",
        "IPY_MODEL_259d24253a2f44ce9836a099cc7cab61"
       ],
       "layout": "IPY_MODEL_3fa6b6028f4f4f9db08cef4bb3fbb3a9"
      }
     },
     "2f9839e47d0b40149094161f926bf608": {
      "model_module": "@jupyter-widgets/controls",
      "model_module_version": "1.5.0",
      "model_name": "DescriptionStyleModel",
      "state": {
       "description_width": ""
      }
     },
     "31e058b5f33e475dbde01f045f2c4268": {
      "model_module": "jupyter-matplotlib",
      "model_module_version": "^0.7.2",
      "model_name": "ToolbarModel",
      "state": {
       "_model_module_version": "^0.7.2",
       "_view_module_version": "^0.7.2",
       "layout": "IPY_MODEL_68c0bb83eae54fab844e60fd145ca3f1",
       "orientation": "horizontal",
       "toolitems": [
        [
         "Home",
         "Reset original view",
         "home",
         "home"
        ],
        [
         "Back",
         "Back to previous view",
         "arrow-left",
         "back"
        ],
        [
         "Forward",
         "Forward to next view",
         "arrow-right",
         "forward"
        ],
        [
         "Pan",
         "Pan axes with left mouse, zoom with right",
         "arrows",
         "pan"
        ],
        [
         "Zoom",
         "Zoom to rectangle",
         "square-o",
         "zoom"
        ],
        [
         "Download",
         "Download plot",
         "floppy-o",
         "save_figure"
        ]
       ]
      }
     },
     "347a8b2b7d824e1b99fae4a65c2b6696": {
      "model_module": "@jupyter-widgets/controls",
      "model_module_version": "1.5.0",
      "model_name": "DescriptionStyleModel",
      "state": {
       "description_width": ""
      }
     },
     "352651555d9648ba8c6fa51308ba0a05": {
      "model_module": "@jupyter-widgets/output",
      "model_module_version": "1.0.0",
      "model_name": "OutputModel",
      "state": {
       "layout": "IPY_MODEL_f4dd9b3c6429421a8cf2f13a58e5ac3f",
       "outputs": [
        {
         "data": {
          "application/vnd.jupyter.widget-view+json": {
           "model_id": "0c63150916dd403bacd961283423a1b1",
           "version_major": 2,
           "version_minor": 0
          },
          "text/plain": "Canvas(toolbar=Toolbar(toolitems=[('Home', 'Reset original view', 'home', 'home'), ('Back', 'Back to previous …"
         },
         "metadata": {},
         "output_type": "display_data"
        }
       ]
      }
     },
     "38695d6f53184e668cf9c0cad0f7e0ee": {
      "model_module": "@jupyter-widgets/controls",
      "model_module_version": "1.5.0",
      "model_name": "VBoxModel",
      "state": {
       "_dom_classes": [
        "widget-interact"
       ],
       "children": [
        "IPY_MODEL_ed40fb6339c64d4994d35b3dcd1d0e7a",
        "IPY_MODEL_45e5f54605da41179a97f0b3254599ff",
        "IPY_MODEL_e68458745ece4eec901d017d68b4ed54",
        "IPY_MODEL_c724ab5dbe034fdf924abc05ccc89f6e"
       ],
       "layout": "IPY_MODEL_53cc140283f94e66aaf3cb53338cfa7c"
      }
     },
     "38989cfc0f114a4283a937ec7f8d423c": {
      "model_module": "@jupyter-widgets/base",
      "model_module_version": "1.2.0",
      "model_name": "LayoutModel",
      "state": {}
     },
     "3964383c5ba448dba15758d92a7f2b44": {
      "model_module": "@jupyter-widgets/base",
      "model_module_version": "1.2.0",
      "model_name": "LayoutModel",
      "state": {}
     },
     "3c4ecd6428c74e0590189ef858149151": {
      "model_module": "@jupyter-widgets/controls",
      "model_module_version": "1.5.0",
      "model_name": "CheckboxModel",
      "state": {
       "description": "log",
       "disabled": false,
       "layout": "IPY_MODEL_d53f9211750547468c63d97527161288",
       "style": "IPY_MODEL_347a8b2b7d824e1b99fae4a65c2b6696",
       "value": true
      }
     },
     "3fa6b6028f4f4f9db08cef4bb3fbb3a9": {
      "model_module": "@jupyter-widgets/base",
      "model_module_version": "1.2.0",
      "model_name": "LayoutModel",
      "state": {}
     },
     "4085f83f176c43e08e7312e64c4427d0": {
      "model_module": "@jupyter-widgets/controls",
      "model_module_version": "1.5.0",
      "model_name": "VBoxModel",
      "state": {
       "children": [
        "IPY_MODEL_bf02d3c0080b48a49af65931447bac71",
        "IPY_MODEL_812de6bc162c4563a0048dc9c1476587"
       ],
       "layout": "IPY_MODEL_a01ac85b573745129bd090fec99f2f8d"
      }
     },
     "41f346f888c548cc8338881a1edec80e": {
      "model_module": "@jupyter-widgets/base",
      "model_module_version": "1.2.0",
      "model_name": "LayoutModel",
      "state": {}
     },
     "45e5f54605da41179a97f0b3254599ff": {
      "model_module": "@jupyter-widgets/controls",
      "model_module_version": "1.5.0",
      "model_name": "FloatTextModel",
      "state": {
       "description": "Imax",
       "layout": "IPY_MODEL_f67428d3681049ba8c6e35329c146b32",
       "step": null,
       "style": "IPY_MODEL_24f930041975431ebe148874c13a6b11",
       "value": 30
      }
     },
     "469b5a6860ab4b278c8954d715f098da": {
      "model_module": "@jupyter-widgets/controls",
      "model_module_version": "1.5.0",
      "model_name": "DescriptionStyleModel",
      "state": {
       "description_width": ""
      }
     },
     "46a6b3d600ee41c3971babfbb9ca878a": {
      "model_module": "@jupyter-widgets/controls",
      "model_module_version": "1.5.0",
      "model_name": "SliderStyleModel",
      "state": {
       "description_width": ""
      }
     },
     "47a3f86207514802821831e1920c2060": {
      "model_module": "@jupyter-widgets/controls",
      "model_module_version": "1.5.0",
      "model_name": "SliderStyleModel",
      "state": {
       "description_width": ""
      }
     },
     "48f5a1552abd4b31b0600b3bac72e68b": {
      "model_module": "@jupyter-widgets/base",
      "model_module_version": "1.2.0",
      "model_name": "LayoutModel",
      "state": {}
     },
     "49ab54b6e4634d3fa6b73eb4512753e6": {
      "model_module": "@jupyter-widgets/base",
      "model_module_version": "1.2.0",
      "model_name": "LayoutModel",
      "state": {}
     },
     "4cf0589c530f4be695a7c9812f67078e": {
      "model_module": "@jupyter-widgets/base",
      "model_module_version": "1.2.0",
      "model_name": "LayoutModel",
      "state": {}
     },
     "4d3061b92457416b9808d410a28def93": {
      "model_module": "@jupyter-widgets/base",
      "model_module_version": "1.2.0",
      "model_name": "LayoutModel",
      "state": {}
     },
     "4d32c5d4981f4c4498f989613fa23966": {
      "model_module": "@jupyter-widgets/controls",
      "model_module_version": "1.5.0",
      "model_name": "CheckboxModel",
      "state": {
       "description": "log",
       "disabled": false,
       "layout": "IPY_MODEL_8850d182ee8b425e9991ea10682664b2",
       "style": "IPY_MODEL_e9b83751cc70478397d93c33d17a50ee",
       "value": true
      }
     },
     "4d6313b269064e678a32b7731f65e719": {
      "model_module": "@jupyter-widgets/base",
      "model_module_version": "1.2.0",
      "model_name": "LayoutModel",
      "state": {
       "height": "100%"
      }
     },
     "52610ca9793b4e90992df459ac3a81c7": {
      "model_module": "@jupyter-widgets/base",
      "model_module_version": "1.2.0",
      "model_name": "LayoutModel",
      "state": {}
     },
     "52cec7770e0a47329797d6d9097bbab0": {
      "model_module": "@jupyter-widgets/base",
      "model_module_version": "1.2.0",
      "model_name": "LayoutModel",
      "state": {}
     },
     "53cc140283f94e66aaf3cb53338cfa7c": {
      "model_module": "@jupyter-widgets/base",
      "model_module_version": "1.2.0",
      "model_name": "LayoutModel",
      "state": {}
     },
     "57f1d946753440b8851d2b5f93242989": {
      "model_module": "@jupyter-widgets/controls",
      "model_module_version": "1.5.0",
      "model_name": "VBoxModel",
      "state": {
       "children": [
        "IPY_MODEL_17583efd29c84ba7a423530e1db8f364",
        "IPY_MODEL_2bc8ce140cbd49cd894eeec1a92bab84"
       ],
       "layout": "IPY_MODEL_5ff4fab71aa748bcaf090da4ef8c120e"
      }
     },
     "5812449162b1445597db591c16ffc135": {
      "model_module": "@jupyter-widgets/base",
      "model_module_version": "1.2.0",
      "model_name": "LayoutModel",
      "state": {}
     },
     "5b6ba69ec93448ff8c31b3f4ac0925dd": {
      "model_module": "@jupyter-widgets/base",
      "model_module_version": "1.2.0",
      "model_name": "LayoutModel",
      "state": {}
     },
     "5ca0ccb70b81424fb2e1a5d56f2ee814": {
      "model_module": "@jupyter-widgets/base",
      "model_module_version": "1.2.0",
      "model_name": "LayoutModel",
      "state": {
       "height": "100%"
      }
     },
     "5f77abdd592040ad84f27f6d612c24cf": {
      "model_module": "@jupyter-widgets/controls",
      "model_module_version": "1.5.0",
      "model_name": "DescriptionStyleModel",
      "state": {
       "description_width": ""
      }
     },
     "5ff4fab71aa748bcaf090da4ef8c120e": {
      "model_module": "@jupyter-widgets/base",
      "model_module_version": "1.2.0",
      "model_name": "LayoutModel",
      "state": {}
     },
     "602fbd76e78f4a6c9be2e6481d91a314": {
      "model_module": "@jupyter-widgets/controls",
      "model_module_version": "1.5.0",
      "model_name": "TextareaModel",
      "state": {
       "layout": "IPY_MODEL_4d6313b269064e678a32b7731f65e719",
       "style": "IPY_MODEL_044b51c6a602426cbb2c8964d43b4c35",
       "value": "sample: Lyso190304\nregion: 24\nrun: 0\ncrystal_id: 2\ncrystal_x: 692.2261410788382\ncrystal_y: 21.716804979253112\npos_x: 677.5261410788381\npos_y: 23.616804979253118\nselected: True\nsubset: entry\nshutter_time: 2.0\nagg_len: 4\nfile_raw: raw_data/LysoS2_024_00000.nxs\nEvent_raw: entry//53\nadf1: 32.36444683953667\nadf2: 12.376786337613774\ncenter_refine_score: 0.020813135101233487\ncenter_x: 741.7896852997765\ncenter_y: 284.9270952168545\ncom_x: 741.4433189341985\ncom_y: 285.5343385543691\nlor_hwhm: 9.424938918398581\nlor_pk: 1471.0554191820365\nlor_x: 741.4343634897051\nlor_y: 285.9373324540116\nnum_peaks: 122\nshift_x_mm: -40.798432691487704\nshift_y_mm: -15.670990236926999\nhit: True\nfile: proc_data/LysoS2_024_00000_agg_hit.h5\nEvent: entry//0\nshot_in_subset: 0"
      }
     },
     "60b41a9a2e314e588277794783367c07": {
      "model_module": "@jupyter-widgets/base",
      "model_module_version": "1.2.0",
      "model_name": "LayoutModel",
      "state": {}
     },
     "60fe51a3ba31461d8d7e9e3757d220cb": {
      "model_module": "@jupyter-widgets/controls",
      "model_module_version": "1.5.0",
      "model_name": "DescriptionStyleModel",
      "state": {
       "description_width": ""
      }
     },
     "61476adb47d24406832b94e2a22ec273": {
      "model_module": "@jupyter-widgets/controls",
      "model_module_version": "1.5.0",
      "model_name": "TextareaModel",
      "state": {
       "layout": "IPY_MODEL_911d37c64d0546f8864ceb5d698c1cf9",
       "style": "IPY_MODEL_e61bf3bc520a48cea20f22ebdadbe8a8",
       "value": "sample: Lyso190304\nregion: 12\nrun: 0\ncrystal_id: 29\ncrystal_x: 303.2\ncrystal_y: 351.64\npos_x: 286.59999999999997\npos_y: 353.61883720930234\nselected: True\nsubset: entry\nshutter_time: 2.0\nagg_len: 4\nfile: proc_data/LysoS1_012_00000_agg.h5\nfile_raw: raw_data/LysoS1_012_00000.nxs\nEvent: entry//28\nshot_in_subset: 28\nEvent_raw: entry//723"
      }
     },
     "61a6ad43ad1f42619821c3531f66db40": {
      "model_module": "@jupyter-widgets/controls",
      "model_module_version": "1.5.0",
      "model_name": "LabelModel",
      "state": {
       "layout": "IPY_MODEL_86fe98a29dd948d2aef3abda33390287",
       "style": "IPY_MODEL_7ffc4e17c2734c6db8408747027b85b0",
       "value": "1322 of 1322 shots selected."
      }
     },
     "6310e8d58b7c4b7b9cd6dba1c61c646d": {
      "model_module": "@jupyter-widgets/controls",
      "model_module_version": "1.5.0",
      "model_name": "HBoxModel",
      "state": {
       "children": [
        "IPY_MODEL_fc60cd953141428cba50c642b35a482d",
        "IPY_MODEL_ab4ba0c99fa44aff9b7aaab8c6fc3e8e"
       ],
       "layout": "IPY_MODEL_fb5b20c07f3e465cbc09536ebe9855f1"
      }
     },
     "6667a2a0a5c14df186ad48fd089a5e7d": {
      "model_module": "@jupyter-widgets/base",
      "model_module_version": "1.2.0",
      "model_name": "LayoutModel",
      "state": {}
     },
     "67660c431a6b4c56b77bea6b0e1d70e4": {
      "model_module": "@jupyter-widgets/controls",
      "model_module_version": "1.5.0",
      "model_name": "VBoxModel",
      "state": {
       "_dom_classes": [
        "widget-interact"
       ],
       "children": [
        "IPY_MODEL_817c92c44742484dba94e993254aee17",
        "IPY_MODEL_e5ec9ce0aaec40318e709a5fbc339922",
        "IPY_MODEL_3c4ecd6428c74e0590189ef858149151",
        "IPY_MODEL_db9daf8ee954492e9459944299ff9c29"
       ],
       "layout": "IPY_MODEL_bc075d079a504673bb8c585da449df79"
      }
     },
     "68c0bb83eae54fab844e60fd145ca3f1": {
      "model_module": "@jupyter-widgets/base",
      "model_module_version": "1.2.0",
      "model_name": "LayoutModel",
      "state": {}
     },
     "6ce338b21c74427da08d3b41b6b6a422": {
      "model_module": "@jupyter-widgets/controls",
      "model_module_version": "1.5.0",
      "model_name": "DescriptionStyleModel",
      "state": {
       "description_width": ""
      }
     },
     "6ddfc020b54345c28bb73d079428cbd0": {
      "model_module": "@jupyter-widgets/base",
      "model_module_version": "1.2.0",
      "model_name": "LayoutModel",
      "state": {}
     },
     "6f54d41822754e7f9cb3f7143d91ec56": {
      "model_module": "@jupyter-widgets/base",
      "model_module_version": "1.2.0",
      "model_name": "LayoutModel",
      "state": {}
     },
     "6fb8e1575e764e7882780ee37345f60a": {
      "model_module": "@jupyter-widgets/controls",
      "model_module_version": "1.5.0",
      "model_name": "DescriptionStyleModel",
      "state": {
       "description_width": ""
      }
     },
     "71b23b5a66964c708d847ad97d2cac35": {
      "model_module": "@jupyter-widgets/output",
      "model_module_version": "1.0.0",
      "model_name": "OutputModel",
      "state": {
       "layout": "IPY_MODEL_9cc73ab222624100982e73b876cb6c0d"
      }
     },
     "732897f085084e858493394876ffd7e2": {
      "model_module": "@jupyter-widgets/base",
      "model_module_version": "1.2.0",
      "model_name": "LayoutModel",
      "state": {}
     },
     "754cc4c2f8ec48ae8ae119167a09dc64": {
      "model_module": "@jupyter-widgets/base",
      "model_module_version": "1.2.0",
      "model_name": "LayoutModel",
      "state": {}
     },
     "75f75c1a7fd04ec7b5ea2c594a95b4cb": {
      "model_module": "@jupyter-widgets/base",
      "model_module_version": "1.2.0",
      "model_name": "LayoutModel",
      "state": {}
     },
     "781551cca53a4e06b4461783ef710db5": {
      "model_module": "@jupyter-widgets/base",
      "model_module_version": "1.2.0",
      "model_name": "LayoutModel",
      "state": {}
     },
     "79a264c77cd84ac8a1c93ff12d7bfd00": {
      "model_module": "@jupyter-widgets/base",
      "model_module_version": "1.2.0",
      "model_name": "LayoutModel",
      "state": {}
     },
     "7b16ede3504a4ae89b5b6ef2aaf6c3f2": {
      "model_module": "jupyter-matplotlib",
      "model_module_version": "^0.7.2",
      "model_name": "MPLCanvasModel",
      "state": {
       "_figure_label": "Figure 1",
       "_height": 480,
       "_image_mode": "diff",
       "_model_module_version": "^0.7.2",
       "_view_module_version": "^0.7.2",
       "_width": 640,
       "header_visible": false,
       "layout": "IPY_MODEL_2871a981b5914649af7941fe7d560f6c",
       "toolbar": "IPY_MODEL_9607d84c0b5a4f3cb86a7fa9116e84d4",
       "toolbar_position": "bottom"
      }
     },
     "7c0dc744cda742edb93a41b21f199f08": {
      "model_module": "@jupyter-widgets/base",
      "model_module_version": "1.2.0",
      "model_name": "LayoutModel",
      "state": {}
     },
     "7c53c85dbd254e0897486943168a8137": {
      "model_module": "@jupyter-widgets/controls",
      "model_module_version": "1.5.0",
      "model_name": "ToggleButtonModel",
      "state": {
       "description": "selected",
       "layout": "IPY_MODEL_49ab54b6e4634d3fa6b73eb4512753e6",
       "style": "IPY_MODEL_6fb8e1575e764e7882780ee37345f60a",
       "value": true
      }
     },
     "7e9e19ba73f54680aed4c4f0f34beea3": {
      "model_module": "@jupyter-widgets/controls",
      "model_module_version": "1.5.0",
      "model_name": "CheckboxModel",
      "state": {
       "description": "log",
       "disabled": false,
       "layout": "IPY_MODEL_f6c5481fb5cb4ea1a4dc093f03f03b6f",
       "style": "IPY_MODEL_f9f60a127b6c49bea6aa6b8825337340",
       "value": false
      }
     },
     "7eaf1bf8742d40888e0089fce552b4fb": {
      "model_module": "@jupyter-widgets/controls",
      "model_module_version": "1.5.0",
      "model_name": "ToggleButtonModel",
      "state": {
       "description": "selected",
       "layout": "IPY_MODEL_c009f3ab174e4fe296531eced45e77a1",
       "style": "IPY_MODEL_2039b3724b214ac091986ed919b69260",
       "value": true
      }
     },
     "7ef25b803a9c441390a8364da46d1491": {
      "model_module": "@jupyter-widgets/controls",
      "model_module_version": "1.5.0",
      "model_name": "VBoxModel",
      "state": {
       "children": [
        "IPY_MODEL_00bdf1c5a52940ff942334d575f3b877",
        "IPY_MODEL_2d736c7cfdca40acb46d970c9b97cc28"
       ],
       "layout": "IPY_MODEL_48f5a1552abd4b31b0600b3bac72e68b"
      }
     },
     "7f3b2a940531432bbbfbfa760d57a95f": {
      "model_module": "@jupyter-widgets/base",
      "model_module_version": "1.2.0",
      "model_name": "LayoutModel",
      "state": {}
     },
     "7fd1358358734b528e0a73c6988b3df4": {
      "model_module": "@jupyter-widgets/controls",
      "model_module_version": "1.5.0",
      "model_name": "HBoxModel",
      "state": {
       "children": [
        "IPY_MODEL_913308c35e014d9784f2900fab8f024a",
        "IPY_MODEL_ea7e9f9eb2a446d793896daf153e7a7d",
        "IPY_MODEL_1feef35ee9f84a95a4f9898bab523ecc",
        "IPY_MODEL_4d32c5d4981f4c4498f989613fa23966"
       ],
       "layout": "IPY_MODEL_07743d0f747b418c96c5ed20fcebf35b"
      }
     },
     "7ffc4e17c2734c6db8408747027b85b0": {
      "model_module": "@jupyter-widgets/controls",
      "model_module_version": "1.5.0",
      "model_name": "DescriptionStyleModel",
      "state": {
       "description_width": ""
      }
     },
     "810b144ab57648bc81e4286a241ab492": {
      "model_module": "@jupyter-widgets/base",
      "model_module_version": "1.2.0",
      "model_name": "LayoutModel",
      "state": {}
     },
     "812de6bc162c4563a0048dc9c1476587": {
      "model_module": "@jupyter-widgets/controls",
      "model_module_version": "1.5.0",
      "model_name": "IntSliderModel",
      "state": {
       "description": "shot",
       "layout": "IPY_MODEL_38989cfc0f114a4283a937ec7f8d423c",
       "max": 1322,
       "style": "IPY_MODEL_10044663fbdb42fca91ded9bb3a75544",
       "value": 139
      }
     },
     "817c92c44742484dba94e993254aee17": {
      "model_module": "@jupyter-widgets/controls",
      "model_module_version": "1.5.0",
      "model_name": "IntSliderModel",
      "state": {
       "description": "shot",
       "layout": "IPY_MODEL_889029e2b78649739d6264cecabb5afc",
       "max": 2146,
       "style": "IPY_MODEL_46a6b3d600ee41c3971babfbb9ca878a",
       "value": 312
      }
     },
     "836ab4c0402644c8853423a94130ea16": {
      "model_module": "@jupyter-widgets/base",
      "model_module_version": "1.2.0",
      "model_name": "LayoutModel",
      "state": {}
     },
     "84020c20bdaf4fb88657cd6fef225be7": {
      "model_module": "jupyter-matplotlib",
      "model_module_version": "^0.7.2",
      "model_name": "MPLCanvasModel",
      "state": {
       "_figure_label": "Figure 3",
       "_height": 480,
       "_image_mode": "diff",
       "_model_module_version": "^0.7.2",
       "_view_module_version": "^0.7.2",
       "_width": 640,
       "header_visible": false,
       "layout": "IPY_MODEL_f41186e627624304981220ed72bb904c",
       "toolbar": "IPY_MODEL_0c5b0faae3954da39194fd5992672883",
       "toolbar_position": "bottom"
      }
     },
     "8499c854c43143f6b5764db0073e925a": {
      "model_module": "@jupyter-widgets/controls",
      "model_module_version": "1.5.0",
      "model_name": "DescriptionStyleModel",
      "state": {
       "description_width": ""
      }
     },
     "86fe98a29dd948d2aef3abda33390287": {
      "model_module": "@jupyter-widgets/base",
      "model_module_version": "1.2.0",
      "model_name": "LayoutModel",
      "state": {}
     },
     "884054d06b5e4d1888e1ecd998f5fc98": {
      "model_module": "@jupyter-widgets/controls",
      "model_module_version": "1.5.0",
      "model_name": "DescriptionStyleModel",
      "state": {
       "description_width": ""
      }
     },
     "8850d182ee8b425e9991ea10682664b2": {
      "model_module": "@jupyter-widgets/base",
      "model_module_version": "1.2.0",
      "model_name": "LayoutModel",
      "state": {}
     },
     "889029e2b78649739d6264cecabb5afc": {
      "model_module": "@jupyter-widgets/base",
      "model_module_version": "1.2.0",
      "model_name": "LayoutModel",
      "state": {}
     },
     "89bc89f9e89845c9871b3fe370c13753": {
      "model_module": "@jupyter-widgets/base",
      "model_module_version": "1.2.0",
      "model_name": "LayoutModel",
      "state": {}
     },
     "8b02d357b26143e5bfc6244ced9d2a4f": {
      "model_module": "@jupyter-widgets/output",
      "model_module_version": "1.0.0",
      "model_name": "OutputModel",
      "state": {
       "layout": "IPY_MODEL_dffebeec55ed4a02bc52e1f8990d6cc6",
       "outputs": [
        {
         "data": {
          "application/vnd.jupyter.widget-view+json": {
           "model_id": "37cfcfb98fdf4bb4bbefc5e3cdb6b979",
           "version_major": 2,
           "version_minor": 0
          },
          "text/plain": "Canvas(toolbar=Toolbar(toolitems=[('Home', 'Reset original view', 'home', 'home'), ('Back', 'Back to previous …"
         },
         "metadata": {},
         "output_type": "display_data"
        }
       ]
      }
     },
     "8e3c8f582a10492291912a2a45e12d34": {
      "model_module": "@jupyter-widgets/base",
      "model_module_version": "1.2.0",
      "model_name": "LayoutModel",
      "state": {}
     },
     "8e8779dd5b344ea3b1406a250ae14582": {
      "model_module": "@jupyter-widgets/output",
      "model_module_version": "1.0.0",
      "model_name": "OutputModel",
      "state": {
       "layout": "IPY_MODEL_f78f0974b7aa468085262beec1a40133",
       "outputs": [
        {
         "data": {
          "application/vnd.jupyter.widget-view+json": {
           "model_id": "603dce8da24749c7abc816fe97377029",
           "version_major": 2,
           "version_minor": 0
          },
          "text/plain": "Canvas(toolbar=Toolbar(toolitems=[('Home', 'Reset original view', 'home', 'home'), ('Back', 'Back to previous …"
         },
         "metadata": {},
         "output_type": "display_data"
        }
       ]
      }
     },
     "90467063bc5c4fcc999eded2171db08c": {
      "model_module": "@jupyter-widgets/base",
      "model_module_version": "1.2.0",
      "model_name": "LayoutModel",
      "state": {}
     },
     "90841d34dde748daab3bb366f6477491": {
      "model_module": "@jupyter-widgets/base",
      "model_module_version": "1.2.0",
      "model_name": "LayoutModel",
      "state": {}
     },
     "911d37c64d0546f8864ceb5d698c1cf9": {
      "model_module": "@jupyter-widgets/base",
      "model_module_version": "1.2.0",
      "model_name": "LayoutModel",
      "state": {
       "height": "100%"
      }
     },
     "913308c35e014d9784f2900fab8f024a": {
      "model_module": "@jupyter-widgets/controls",
      "model_module_version": "1.5.0",
      "model_name": "ToggleButtonModel",
      "state": {
       "description": "selected",
       "layout": "IPY_MODEL_90467063bc5c4fcc999eded2171db08c",
       "style": "IPY_MODEL_469b5a6860ab4b278c8954d715f098da",
       "value": true
      }
     },
     "956dba6963184dec85666f80e3d2a142": {
      "model_module": "@jupyter-widgets/controls",
      "model_module_version": "1.5.0",
      "model_name": "LabelModel",
      "state": {
       "layout": "IPY_MODEL_2a7722b33f144351a6f2544f989f3d69",
       "style": "IPY_MODEL_8499c854c43143f6b5764db0073e925a",
       "value": "2146 of 2146 shots selected."
      }
     },
     "9607d84c0b5a4f3cb86a7fa9116e84d4": {
      "model_module": "jupyter-matplotlib",
      "model_module_version": "^0.7.2",
      "model_name": "ToolbarModel",
      "state": {
       "_model_module_version": "^0.7.2",
       "_view_module_version": "^0.7.2",
       "layout": "IPY_MODEL_982804d75c224c0b865ab8564884c81a",
       "orientation": "horizontal",
       "toolitems": [
        [
         "Home",
         "Reset original view",
         "home",
         "home"
        ],
        [
         "Back",
         "Back to previous view",
         "arrow-left",
         "back"
        ],
        [
         "Forward",
         "Forward to next view",
         "arrow-right",
         "forward"
        ],
        [
         "Pan",
         "Pan axes with left mouse, zoom with right",
         "arrows",
         "pan"
        ],
        [
         "Zoom",
         "Zoom to rectangle",
         "square-o",
         "zoom"
        ],
        [
         "Download",
         "Download plot",
         "floppy-o",
         "save_figure"
        ]
       ]
      }
     },
     "96818c50219f4e7ba1b6e18bcdcc96b1": {
      "model_module": "@jupyter-widgets/controls",
      "model_module_version": "1.5.0",
      "model_name": "HBoxModel",
      "state": {
       "children": [
        "IPY_MODEL_57f1d946753440b8851d2b5f93242989",
        "IPY_MODEL_8e8779dd5b344ea3b1406a250ae14582"
       ],
       "layout": "IPY_MODEL_0a1fdec9b5c941eab7396d7aabe8faf1"
      }
     },
     "982804d75c224c0b865ab8564884c81a": {
      "model_module": "@jupyter-widgets/base",
      "model_module_version": "1.2.0",
      "model_name": "LayoutModel",
      "state": {}
     },
     "9869975ca3dc41d6b5493a99693c4773": {
      "model_module": "@jupyter-widgets/controls",
      "model_module_version": "1.5.0",
      "model_name": "FloatTextModel",
      "state": {
       "description": "Imax",
       "layout": "IPY_MODEL_41f346f888c548cc8338881a1edec80e",
       "step": null,
       "style": "IPY_MODEL_1eb919f169c34502984eed279558b37f",
       "value": 50
      }
     },
     "98c405f2db4d443eb1b0c6fde717d694": {
      "model_module": "@jupyter-widgets/controls",
      "model_module_version": "1.5.0",
      "model_name": "ToggleButtonModel",
      "state": {
       "description": "selected",
       "layout": "IPY_MODEL_6ddfc020b54345c28bb73d079428cbd0",
       "style": "IPY_MODEL_16ca1097d0894e87b55d922cee9f9752",
       "value": true
      }
     },
     "9a3ca706a46145fc90bd6dd7a9c48771": {
      "model_module": "@jupyter-widgets/controls",
      "model_module_version": "1.5.0",
      "model_name": "HBoxModel",
      "state": {
       "children": [
        "IPY_MODEL_fd790caebe5949b7adf2a48dac74cb17",
        "IPY_MODEL_352651555d9648ba8c6fa51308ba0a05"
       ],
       "layout": "IPY_MODEL_260af3c9dc9342bc96e084cff20edb1c"
      }
     },
     "9cc73ab222624100982e73b876cb6c0d": {
      "model_module": "@jupyter-widgets/base",
      "model_module_version": "1.2.0",
      "model_name": "LayoutModel",
      "state": {}
     },
     "9ce7de93565b44d4a90da05aa04a17ff": {
      "model_module": "@jupyter-widgets/controls",
      "model_module_version": "1.5.0",
      "model_name": "VBoxModel",
      "state": {
       "children": [
        "IPY_MODEL_6310e8d58b7c4b7b9cd6dba1c61c646d",
        "IPY_MODEL_cef6a737fe8d4365ad304f3269314390"
       ],
       "layout": "IPY_MODEL_8e3c8f582a10492291912a2a45e12d34"
      }
     },
     "a01ac85b573745129bd090fec99f2f8d": {
      "model_module": "@jupyter-widgets/base",
      "model_module_version": "1.2.0",
      "model_name": "LayoutModel",
      "state": {}
     },
     "a24644dafb7841be865720401f775d26": {
      "model_module": "@jupyter-widgets/base",
      "model_module_version": "1.2.0",
      "model_name": "LayoutModel",
      "state": {
       "height": "100%"
      }
     },
     "a45f7bfbf0884d22bc64f42acad4f3a5": {
      "model_module": "@jupyter-widgets/base",
      "model_module_version": "1.2.0",
      "model_name": "LayoutModel",
      "state": {}
     },
     "a46923df35364922b8106e2351ce9556": {
      "model_module": "@jupyter-widgets/controls",
      "model_module_version": "1.5.0",
      "model_name": "ToggleButtonModel",
      "state": {
       "description": "selected",
       "layout": "IPY_MODEL_e9ef5d452d84459489ca878e225f7f7a",
       "style": "IPY_MODEL_c9480fb8cfb04cab939d89fe5de7694b",
       "value": true
      }
     },
     "a7964adcb7e14ad6bb3a51d2223e1da9": {
      "model_module": "@jupyter-widgets/controls",
      "model_module_version": "1.5.0",
      "model_name": "VBoxModel",
      "state": {
       "children": [
        "IPY_MODEL_96818c50219f4e7ba1b6e18bcdcc96b1",
        "IPY_MODEL_7fd1358358734b528e0a73c6988b3df4"
       ],
       "layout": "IPY_MODEL_5812449162b1445597db591c16ffc135"
      }
     },
     "a85eba3e836f45ed8ce54b3f3e56b2cb": {
      "model_module": "@jupyter-widgets/base",
      "model_module_version": "1.2.0",
      "model_name": "LayoutModel",
      "state": {}
     },
     "a8dbc079e9df4fb0ae70da04e29fa1c6": {
      "model_module": "@jupyter-widgets/output",
      "model_module_version": "1.0.0",
      "model_name": "OutputModel",
      "state": {
       "layout": "IPY_MODEL_75f75c1a7fd04ec7b5ea2c594a95b4cb",
       "outputs": [
        {
         "data": {
          "application/vnd.jupyter.widget-view+json": {
           "model_id": "7b16ede3504a4ae89b5b6ef2aaf6c3f2",
           "version_major": 2,
           "version_minor": 0
          },
          "text/plain": "Canvas(toolbar=Toolbar(toolitems=[('Home', 'Reset original view', 'home', 'home'), ('Back', 'Back to previous …"
         },
         "metadata": {},
         "output_type": "display_data"
        }
       ]
      }
     },
     "ab4ba0c99fa44aff9b7aaab8c6fc3e8e": {
      "model_module": "@jupyter-widgets/output",
      "model_module_version": "1.0.0",
      "model_name": "OutputModel",
      "state": {
       "layout": "IPY_MODEL_1ce713f4159742808a3568bc22b7567c",
       "outputs": [
        {
         "data": {
          "application/vnd.jupyter.widget-view+json": {
           "model_id": "84020c20bdaf4fb88657cd6fef225be7",
           "version_major": 2,
           "version_minor": 0
          },
          "text/plain": "Canvas(toolbar=Toolbar(toolitems=[('Home', 'Reset original view', 'home', 'home'), ('Back', 'Back to previous …"
         },
         "metadata": {},
         "output_type": "display_data"
        }
       ]
      }
     },
     "ab80d751881945e5bc5df1e6d82fd6f8": {
      "model_module": "@jupyter-widgets/controls",
      "model_module_version": "1.5.0",
      "model_name": "VBoxModel",
      "state": {
       "_dom_classes": [
        "widget-interact"
       ],
       "children": [
        "IPY_MODEL_812de6bc162c4563a0048dc9c1476587",
        "IPY_MODEL_9869975ca3dc41d6b5493a99693c4773",
        "IPY_MODEL_259d24253a2f44ce9836a099cc7cab61",
        "IPY_MODEL_ee6d4fb2d2c246fbb618a4dda542fadf"
       ],
       "layout": "IPY_MODEL_732897f085084e858493394876ffd7e2"
      }
     },
     "ac385b3af2c24f2483facb793cd244f3": {
      "model_module": "@jupyter-widgets/controls",
      "model_module_version": "1.5.0",
      "model_name": "VBoxModel",
      "state": {
       "children": [
        "IPY_MODEL_d3debcdcbf25421f897b01e4a79204ba",
        "IPY_MODEL_1cffdfb9a2014441a249cd788817ef15"
       ],
       "layout": "IPY_MODEL_c72d9279aaf84ff589293c902007ef3a"
      }
     },
     "b0ffb2dc078f4931bf39364914588119": {
      "model_module": "@jupyter-widgets/base",
      "model_module_version": "1.2.0",
      "model_name": "LayoutModel",
      "state": {}
     },
     "b11794062a0f4b0f8f2e671d059ea2c1": {
      "model_module": "@jupyter-widgets/base",
      "model_module_version": "1.2.0",
      "model_name": "LayoutModel",
      "state": {}
     },
     "b95bf753a05e40de83a17d5317b30919": {
      "model_module": "@jupyter-widgets/base",
      "model_module_version": "1.2.0",
      "model_name": "LayoutModel",
      "state": {}
     },
     "b9c96322098e49ab9a35dc8adfc000ed": {
      "model_module": "@jupyter-widgets/controls",
      "model_module_version": "1.5.0",
      "model_name": "VBoxModel",
      "state": {
       "_dom_classes": [
        "widget-interact"
       ],
       "children": [
        "IPY_MODEL_2bc8ce140cbd49cd894eeec1a92bab84",
        "IPY_MODEL_1feef35ee9f84a95a4f9898bab523ecc",
        "IPY_MODEL_4d32c5d4981f4c4498f989613fa23966",
        "IPY_MODEL_c2d27e1dc0b7418c951e84e2189b5395"
       ],
       "layout": "IPY_MODEL_bd674f6e4f2d48cdb140725e6f4ab50a"
      }
     },
     "b9ca971ca38f4102b849dc2185342a14": {
      "model_module": "jupyter-matplotlib",
      "model_module_version": "^0.7.2",
      "model_name": "ToolbarModel",
      "state": {
       "_model_module_version": "^0.7.2",
       "_view_module_version": "^0.7.2",
       "layout": "IPY_MODEL_b0ffb2dc078f4931bf39364914588119",
       "orientation": "horizontal",
       "toolitems": [
        [
         "Home",
         "Reset original view",
         "home",
         "home"
        ],
        [
         "Back",
         "Back to previous view",
         "arrow-left",
         "back"
        ],
        [
         "Forward",
         "Forward to next view",
         "arrow-right",
         "forward"
        ],
        [
         "Pan",
         "Pan axes with left mouse, zoom with right",
         "arrows",
         "pan"
        ],
        [
         "Zoom",
         "Zoom to rectangle",
         "square-o",
         "zoom"
        ],
        [
         "Download",
         "Download plot",
         "floppy-o",
         "save_figure"
        ]
       ]
      }
     },
     "baa744d006014607a34a36f7520fdbf5": {
      "model_module": "@jupyter-widgets/base",
      "model_module_version": "1.2.0",
      "model_name": "LayoutModel",
      "state": {}
     },
     "bc075d079a504673bb8c585da449df79": {
      "model_module": "@jupyter-widgets/base",
      "model_module_version": "1.2.0",
      "model_name": "LayoutModel",
      "state": {}
     },
     "bca806d3da8741d0ac382c201272fab9": {
      "model_module": "@jupyter-widgets/base",
      "model_module_version": "1.2.0",
      "model_name": "LayoutModel",
      "state": {}
     },
     "bd674f6e4f2d48cdb140725e6f4ab50a": {
      "model_module": "@jupyter-widgets/base",
      "model_module_version": "1.2.0",
      "model_name": "LayoutModel",
      "state": {}
     },
     "bd9ae0a1034444cf9a426b30f5507b12": {
      "model_module": "@jupyter-widgets/base",
      "model_module_version": "1.2.0",
      "model_name": "LayoutModel",
      "state": {}
     },
     "bf02d3c0080b48a49af65931447bac71": {
      "model_module": "@jupyter-widgets/controls",
      "model_module_version": "1.5.0",
      "model_name": "TextareaModel",
      "state": {
       "layout": "IPY_MODEL_d67d48b6433048da8a2913e8c235ae5f",
       "style": "IPY_MODEL_15e678df37c34b5db889be3826526666",
       "value": "sample: Lyso190304\nregion: 12\nrun: 0\ncrystal_id: 30\ncrystal_x: 830.0733137829912\ncrystal_y: 379.8856304985337\npos_x: 813.4733137829912\npos_y: 382.5856304985337\nselected: True\nsubset: entry\nshutter_time: 2.0\nagg_len: 4\nfile_raw: raw_data/LysoS1_012_00000.nxs\nEvent_raw: entry//749\nadf1: 30.820557005688556\nadf2: 11.139370798019353\ncenter_refine_score: 0.07887126412146238\ncenter_x: 737.9068367711131\ncenter_y: 270.5175510480967\ncom_x: 737.4499835801231\ncom_y: 270.7751721052827\nlor_hwhm: 9.686587977996618\nlor_pk: 1445.7461235396795\nlor_x: 737.2683852442132\nlor_y: 271.7818165622019\nnum_peaks: 73\nshift_x_mm: -40.58487602241122\nshift_y_mm: -14.87846530764532\nhit: True\nfile: proc_data/LysoS1_012_00000_agg_hit.h5\nEvent: entry//13\nshot_in_subset: 13"
      }
     },
     "c009f3ab174e4fe296531eced45e77a1": {
      "model_module": "@jupyter-widgets/base",
      "model_module_version": "1.2.0",
      "model_name": "LayoutModel",
      "state": {}
     },
     "c0ad091c92864793b9def6b5cf16764b": {
      "model_module": "@jupyter-widgets/controls",
      "model_module_version": "1.5.0",
      "model_name": "DescriptionStyleModel",
      "state": {
       "description_width": ""
      }
     },
     "c1f108147226427ca4610ce725686593": {
      "model_module": "@jupyter-widgets/controls",
      "model_module_version": "1.5.0",
      "model_name": "LabelModel",
      "state": {
       "layout": "IPY_MODEL_3964383c5ba448dba15758d92a7f2b44",
       "style": "IPY_MODEL_2f9839e47d0b40149094161f926bf608",
       "value": "1322 of 1322 shots selected."
      }
     },
     "c28232c80c0b4b67a0e23d08b4a490c2": {
      "model_module": "@jupyter-widgets/controls",
      "model_module_version": "1.5.0",
      "model_name": "DescriptionStyleModel",
      "state": {
       "description_width": ""
      }
     },
     "c2d27e1dc0b7418c951e84e2189b5395": {
      "model_module": "@jupyter-widgets/output",
      "model_module_version": "1.0.0",
      "model_name": "OutputModel",
      "state": {
       "layout": "IPY_MODEL_89bc89f9e89845c9871b3fe370c13753",
       "outputs": [
        {
         "name": "stderr",
         "output_type": "stream",
         "text": "/opts/dev/diffractem/diffractem/tools.py:734: RuntimeWarning: divide by zero encountered in log10\n  ih.set_data(np.log10(img_stack[shot,...].compute(scheduler='single-threaded')))\n"
        }
       ]
      }
     },
     "c724ab5dbe034fdf924abc05ccc89f6e": {
      "model_module": "@jupyter-widgets/output",
      "model_module_version": "1.0.0",
      "model_name": "OutputModel",
      "state": {
       "layout": "IPY_MODEL_a45f7bfbf0884d22bc64f42acad4f3a5"
      }
     },
     "c72d9279aaf84ff589293c902007ef3a": {
      "model_module": "@jupyter-widgets/base",
      "model_module_version": "1.2.0",
      "model_name": "LayoutModel",
      "state": {}
     },
     "c84eee32c9a7420cbae7c6da1a105744": {
      "model_module": "@jupyter-widgets/controls",
      "model_module_version": "1.5.0",
      "model_name": "FloatTextModel",
      "state": {
       "description": "Imax",
       "layout": "IPY_MODEL_6667a2a0a5c14df186ad48fd089a5e7d",
       "step": null,
       "style": "IPY_MODEL_5f77abdd592040ad84f27f6d612c24cf",
       "value": 30
      }
     },
     "c9480fb8cfb04cab939d89fe5de7694b": {
      "model_module": "@jupyter-widgets/controls",
      "model_module_version": "1.5.0",
      "model_name": "DescriptionStyleModel",
      "state": {
       "description_width": ""
      }
     },
     "cef6a737fe8d4365ad304f3269314390": {
      "model_module": "@jupyter-widgets/controls",
      "model_module_version": "1.5.0",
      "model_name": "HBoxModel",
      "state": {
       "children": [
        "IPY_MODEL_7eaf1bf8742d40888e0089fce552b4fb",
        "IPY_MODEL_c1f108147226427ca4610ce725686593",
        "IPY_MODEL_c84eee32c9a7420cbae7c6da1a105744",
        "IPY_MODEL_7e9e19ba73f54680aed4c4f0f34beea3"
       ],
       "layout": "IPY_MODEL_b11794062a0f4b0f8f2e671d059ea2c1"
      }
     },
     "d3debcdcbf25421f897b01e4a79204ba": {
      "model_module": "@jupyter-widgets/controls",
      "model_module_version": "1.5.0",
      "model_name": "HBoxModel",
      "state": {
       "children": [
        "IPY_MODEL_d910107a76414818b6dbb16ea1bc1ea7",
        "IPY_MODEL_8b02d357b26143e5bfc6244ced9d2a4f"
       ],
       "layout": "IPY_MODEL_bd9ae0a1034444cf9a426b30f5507b12"
      }
     },
     "d53f9211750547468c63d97527161288": {
      "model_module": "@jupyter-widgets/base",
      "model_module_version": "1.2.0",
      "model_name": "LayoutModel",
      "state": {}
     },
     "d67d48b6433048da8a2913e8c235ae5f": {
      "model_module": "@jupyter-widgets/base",
      "model_module_version": "1.2.0",
      "model_name": "LayoutModel",
      "state": {
       "height": "100%"
      }
     },
     "d910107a76414818b6dbb16ea1bc1ea7": {
      "model_module": "@jupyter-widgets/controls",
      "model_module_version": "1.5.0",
      "model_name": "VBoxModel",
      "state": {
       "children": [
        "IPY_MODEL_61476adb47d24406832b94e2a22ec273",
        "IPY_MODEL_817c92c44742484dba94e993254aee17"
       ],
       "layout": "IPY_MODEL_836ab4c0402644c8853423a94130ea16"
      }
     },
     "db7bbf6e634f4f50a61689e49afc1a2a": {
      "model_module": "jupyter-matplotlib",
      "model_module_version": "^0.7.2",
      "model_name": "ToolbarModel",
      "state": {
       "_model_module_version": "^0.7.2",
       "_view_module_version": "^0.7.2",
       "layout": "IPY_MODEL_b95bf753a05e40de83a17d5317b30919",
       "orientation": "horizontal",
       "toolitems": [
        [
         "Home",
         "Reset original view",
         "home",
         "home"
        ],
        [
         "Back",
         "Back to previous view",
         "arrow-left",
         "back"
        ],
        [
         "Forward",
         "Forward to next view",
         "arrow-right",
         "forward"
        ],
        [
         "Pan",
         "Pan axes with left mouse, zoom with right",
         "arrows",
         "pan"
        ],
        [
         "Zoom",
         "Zoom to rectangle",
         "square-o",
         "zoom"
        ],
        [
         "Download",
         "Download plot",
         "floppy-o",
         "save_figure"
        ]
       ]
      }
     },
     "db9daf8ee954492e9459944299ff9c29": {
      "model_module": "@jupyter-widgets/output",
      "model_module_version": "1.0.0",
      "model_name": "OutputModel",
      "state": {
       "layout": "IPY_MODEL_79a264c77cd84ac8a1c93ff12d7bfd00",
       "outputs": [
        {
         "name": "stderr",
         "output_type": "stream",
         "text": "/opts/dev/diffractem/diffractem/tools.py:734: RuntimeWarning: divide by zero encountered in log10\n  ih.set_data(np.log10(img_stack[shot,...].compute(scheduler='single-threaded')))\n"
        }
       ]
      }
     },
     "dfda100c8e6c4df79a86d6ff69882e5e": {
      "model_module": "@jupyter-widgets/controls",
      "model_module_version": "1.5.0",
      "model_name": "VBoxModel",
      "state": {
       "children": [
        "IPY_MODEL_9a3ca706a46145fc90bd6dd7a9c48771",
        "IPY_MODEL_1a62f83791564867936d27fcbd3b9700"
       ],
       "layout": "IPY_MODEL_160f67a8f1d14d5a8b4bb883c1be345a"
      }
     },
     "dffebeec55ed4a02bc52e1f8990d6cc6": {
      "model_module": "@jupyter-widgets/base",
      "model_module_version": "1.2.0",
      "model_name": "LayoutModel",
      "state": {}
     },
     "e5ec9ce0aaec40318e709a5fbc339922": {
      "model_module": "@jupyter-widgets/controls",
      "model_module_version": "1.5.0",
      "model_name": "FloatTextModel",
      "state": {
       "description": "Imax",
       "layout": "IPY_MODEL_4cf0589c530f4be695a7c9812f67078e",
       "step": null,
       "style": "IPY_MODEL_f957e0b23ecd44fa9341d9b74eb44b2f",
       "value": 4000
      }
     },
     "e61bf3bc520a48cea20f22ebdadbe8a8": {
      "model_module": "@jupyter-widgets/controls",
      "model_module_version": "1.5.0",
      "model_name": "DescriptionStyleModel",
      "state": {
       "description_width": ""
      }
     },
     "e68458745ece4eec901d017d68b4ed54": {
      "model_module": "@jupyter-widgets/controls",
      "model_module_version": "1.5.0",
      "model_name": "CheckboxModel",
      "state": {
       "description": "log",
       "disabled": false,
       "layout": "IPY_MODEL_6f54d41822754e7f9cb3f7143d91ec56",
       "style": "IPY_MODEL_884054d06b5e4d1888e1ecd998f5fc98",
       "value": false
      }
     },
     "e85a50836fcc46fa933cc8e1943356f4": {
      "model_module": "@jupyter-widgets/base",
      "model_module_version": "1.2.0",
      "model_name": "LayoutModel",
      "state": {}
     },
     "e9b83751cc70478397d93c33d17a50ee": {
      "model_module": "@jupyter-widgets/controls",
      "model_module_version": "1.5.0",
      "model_name": "DescriptionStyleModel",
      "state": {
       "description_width": ""
      }
     },
     "e9ef5d452d84459489ca878e225f7f7a": {
      "model_module": "@jupyter-widgets/base",
      "model_module_version": "1.2.0",
      "model_name": "LayoutModel",
      "state": {}
     },
     "ea7e9f9eb2a446d793896daf153e7a7d": {
      "model_module": "@jupyter-widgets/controls",
      "model_module_version": "1.5.0",
      "model_name": "LabelModel",
      "state": {
       "layout": "IPY_MODEL_810b144ab57648bc81e4286a241ab492",
       "style": "IPY_MODEL_187f1422b92049c38be04424b8a3bde6",
       "value": "30 of 30 shots selected."
      }
     },
     "ed40fb6339c64d4994d35b3dcd1d0e7a": {
      "model_module": "@jupyter-widgets/controls",
      "model_module_version": "1.5.0",
      "model_name": "IntSliderModel",
      "state": {
       "description": "shot",
       "layout": "IPY_MODEL_7c0dc744cda742edb93a41b21f199f08",
       "max": 1322,
       "style": "IPY_MODEL_47a3f86207514802821831e1920c2060",
       "value": 402
      }
     },
     "ee6d4fb2d2c246fbb618a4dda542fadf": {
      "model_module": "@jupyter-widgets/output",
      "model_module_version": "1.0.0",
      "model_name": "OutputModel",
      "state": {
       "layout": "IPY_MODEL_22ad6f4716794a26a929becebd1a364d"
      }
     },
     "f41186e627624304981220ed72bb904c": {
      "model_module": "@jupyter-widgets/base",
      "model_module_version": "1.2.0",
      "model_name": "LayoutModel",
      "state": {}
     },
     "f4dd9b3c6429421a8cf2f13a58e5ac3f": {
      "model_module": "@jupyter-widgets/base",
      "model_module_version": "1.2.0",
      "model_name": "LayoutModel",
      "state": {}
     },
     "f67428d3681049ba8c6e35329c146b32": {
      "model_module": "@jupyter-widgets/base",
      "model_module_version": "1.2.0",
      "model_name": "LayoutModel",
      "state": {}
     },
     "f6c5481fb5cb4ea1a4dc093f03f03b6f": {
      "model_module": "@jupyter-widgets/base",
      "model_module_version": "1.2.0",
      "model_name": "LayoutModel",
      "state": {}
     },
     "f78f0974b7aa468085262beec1a40133": {
      "model_module": "@jupyter-widgets/base",
      "model_module_version": "1.2.0",
      "model_name": "LayoutModel",
      "state": {}
     },
     "f957e0b23ecd44fa9341d9b74eb44b2f": {
      "model_module": "@jupyter-widgets/controls",
      "model_module_version": "1.5.0",
      "model_name": "DescriptionStyleModel",
      "state": {
       "description_width": ""
      }
     },
     "f9f60a127b6c49bea6aa6b8825337340": {
      "model_module": "@jupyter-widgets/controls",
      "model_module_version": "1.5.0",
      "model_name": "DescriptionStyleModel",
      "state": {
       "description_width": ""
      }
     },
     "fb5b20c07f3e465cbc09536ebe9855f1": {
      "model_module": "@jupyter-widgets/base",
      "model_module_version": "1.2.0",
      "model_name": "LayoutModel",
      "state": {}
     },
     "fbbe8e5a34d147098fca47e3797c7367": {
      "model_module": "@jupyter-widgets/controls",
      "model_module_version": "1.5.0",
      "model_name": "SliderStyleModel",
      "state": {
       "description_width": ""
      }
     },
     "fc60cd953141428cba50c642b35a482d": {
      "model_module": "@jupyter-widgets/controls",
      "model_module_version": "1.5.0",
      "model_name": "VBoxModel",
      "state": {
       "children": [
        "IPY_MODEL_17313ccc31d4470fbf992edad289d6cd",
        "IPY_MODEL_fdabdb07a9a848f39ccc7a1e5d3f8be4"
       ],
       "layout": "IPY_MODEL_754cc4c2f8ec48ae8ae119167a09dc64"
      }
     },
     "fd790caebe5949b7adf2a48dac74cb17": {
      "model_module": "@jupyter-widgets/controls",
      "model_module_version": "1.5.0",
      "model_name": "VBoxModel",
      "state": {
       "children": [
        "IPY_MODEL_602fbd76e78f4a6c9be2e6481d91a314",
        "IPY_MODEL_ed40fb6339c64d4994d35b3dcd1d0e7a"
       ],
       "layout": "IPY_MODEL_bca806d3da8741d0ac382c201272fab9"
      }
     },
     "fdabdb07a9a848f39ccc7a1e5d3f8be4": {
      "model_module": "@jupyter-widgets/controls",
      "model_module_version": "1.5.0",
      "model_name": "IntSliderModel",
      "state": {
       "description": "shot",
       "layout": "IPY_MODEL_52cec7770e0a47329797d6d9097bbab0",
       "max": 1322,
       "style": "IPY_MODEL_168177757e154ad1948d01dfd72a3c15",
       "value": 320
      }
     }
    },
    "version_major": 2,
    "version_minor": 0
   }
  }
 },
 "nbformat": 4,
 "nbformat_minor": 4
}
