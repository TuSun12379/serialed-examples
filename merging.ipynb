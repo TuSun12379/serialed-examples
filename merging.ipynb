{
 "cells": [
  {
   "cell_type": "code",
   "execution_count": null,
   "metadata": {
    "tags": []
   },
   "outputs": [],
   "source": [
    "# only for development\n",
    "%load_ext autoreload\n",
    "%autoreload 2"
   ]
  },
  {
   "cell_type": "code",
   "execution_count": 1,
   "metadata": {
    "tags": []
   },
   "outputs": [],
   "source": [
    "import warnings\n",
    "warnings.filterwarnings('ignore')\n",
    "import matplotlib.pyplot as plt\n",
    "from diffractem import io, tools\n",
    "from diffractem.stream_parser import StreamParser, make_substream\n",
    "import numpy as np\n",
    "import pandas as pd\n",
    "import os\n",
    "import matplotlib\n",
    "import seaborn as sns\n",
    "bin_path = '/opts/crystfel_master/bin/' # might be different than standard\n",
    "from glob import glob\n",
    "from concurrent.futures import ProcessPoolExecutor, ThreadPoolExecutor"
   ]
  },
  {
   "cell_type": "markdown",
   "metadata": {},
   "source": [
    "# Merging and first validation of serial data sets\n",
    "...from stream files, mostly using `partialator`, `ambigator`, `check_hkl` and `compare_hkl` from CrystFEL, plus some nice plotting functions. Handles parallel processing of merging runs with different parameters and/or input stream files, as well as creation of custom-split files.\n",
    "\n",
    "Contains the following parts:\n",
    "* Pre-processing of stream files, e.g. for making sub-streams by random sampling, or preparing split-lists\n",
    "* Generation of a command script for partilator, which runs it with a bunch of different settings, either directly in a shell, or by submission to a SLURM queue\n",
    "* Batch analysis of `hkl` files using CrystFEL's tools (in parallel) and results parsing\n",
    "* Plotting of results as function of resolution shell and crystal number"
   ]
  },
  {
   "cell_type": "markdown",
   "metadata": {},
   "source": [
    "## Step 1: Polishing stream-files\n",
    "...which contain the indexing solutions and integrated intensities from each shot. \n",
    "Here, you might e.g. want to generate a file for `custom-split` (see `man partialator`), or to generate stream files with random subsets of events. \n",
    "If non-random subsets (e.g. the first N crystals) are also ok, you can use `partialator`'s `start-after` and `stop-after` options instead!\n",
    "\n",
    "**If you don't care about any of this, you can skip this section and proceed to Step 2**\n",
    "\n",
    "We start by loading the stream file..."
   ]
  },
  {
   "cell_type": "code",
   "execution_count": 2,
   "metadata": {
    "tags": []
   },
   "outputs": [
    {
     "name": "stdout",
     "output_type": "stream",
     "text": [
      "Stream file contains 1152 crystals in 1322 shots\n"
     ]
    }
   ],
   "source": [
    "stream = StreamParser('streams/0to2.stream')\n",
    "print(f'Stream file contains {stream.num_crystals} crystals in {stream.num_shots} shots')"
   ]
  },
  {
   "cell_type": "markdown",
   "metadata": {},
   "source": [
    "#### Random sub-sampling\n",
    "Creates stream-files with *random* subsets of shots and suffix `-N_<# of crystals>.stream`."
   ]
  },
  {
   "cell_type": "code",
   "execution_count": null,
   "metadata": {
    "scrolled": true,
    "tags": []
   },
   "outputs": [],
   "source": [
    "subset_range = list(range(200, stream.num_crystals, 200)) + [stream.num_crystals]\n",
    "\n",
    "with ThreadPoolExecutor() as exc:\n",
    "    Ntotal = (stream.shots.indexed_by != 'none').sum() \n",
    "    exc.map(lambda N: make_substream(stream, N, \n",
    "                                     filename=stream.filename.rsplit('.',1)[0] + f'-N_{N}.stream', \n",
    "        query='indexed_by != \"none\"'), subset_range)"
   ]
  },
  {
   "cell_type": "markdown",
   "metadata": {},
   "source": [
    "### Custom-split file\n",
    "Creates a custom-split file for the stream from some parameter in `stream.shots`. This can be very useful e.g. if you want to run a stream containing many time-points (or aggregations) of the same crystals, which you want to scale consistently (example 1).\n",
    "For many other interesting applications, you may have to bin the parameters first, though.\n",
    "This is shown here for the example of `profile_radius`, for which we will do a quantile-based binning (example 2)."
   ]
  },
  {
   "cell_type": "code",
   "execution_count": null,
   "metadata": {},
   "outputs": [],
   "source": [
    "# EXAMPLE 1: dose-fractionation frames.\n",
    "# only works if the stream file is from a multi-frame dataset\n",
    "split_data = stream.shots[['file', 'Event', 'hdf5/%/shots/frame']]\n",
    "split_data.to_csv(stream.filename.rsplit('.', 1)[0] + '_split.txt', index=False, header=False, sep=' ')"
   ]
  },
  {
   "cell_type": "code",
   "execution_count": 3,
   "metadata": {},
   "outputs": [],
   "source": [
    "# EXAMPLE 2: profile radius\n",
    "n_quantiles = 4 # number of quantile groups.\n",
    "\n",
    "pr = stream.shots.profile_radius.str.split(expand=True)[0].astype(float)\n",
    "group = (pd.qcut(pr, n_quantiles, labels=False)+1).fillna(0).astype(int)\n",
    "split_data = pd.concat([stream.shots[['file', 'Event']], group], axis=1)\n",
    "split_data.to_csv(stream.filename.rsplit('.', 1)[0] + '_split.txt', index=False, header=False, sep=' ')"
   ]
  },
  {
   "cell_type": "markdown",
   "metadata": {},
   "source": [
    "## Step 2: Preparation of a partialator script\n",
    "...which can run partialator with a range of different settings, in order to find the one that fits your data best.\n",
    "The partialator parameters are all set in the `popts` dictionary.\n",
    "Please consult the parameter descriptions available via `man partialator`.\n",
    "If you put a list in any of them, `partialator` will be run in all possible combinations.\n",
    "In this example we use `stop-after` to get a range of different crystal numbers (we might as well have used the random sampling from streams as shown above) and test two merging models.\n",
    "\n",
    "It comes in different flavors - either for direct execution, or for submission to a SLURM queue, depending on what you set for the `slurm` argument\\*.\n",
    "If you want a custom-split, set `split=True` and create a split list file with the same name and path as the stream file and ending `_split.txt` - see examples above how to make it.\n",
    "We will however not work with this for now.\n",
    "\n",
    "`call_partialator` will create a script file `partialator_run.sh` and return a `DataFrame` containing a list of the settings with which partialator is run, and what the filename will be.\n",
    "\n",
    "\\*(Note that, unlike with `call_indexamajig_slurm`, no further options are available to e.g. make an archive file for transfer. \n",
    "Just copy the script and your stream file(s) to the cluster)"
   ]
  },
  {
   "cell_type": "code",
   "execution_count": 4,
   "metadata": {
    "tags": []
   },
   "outputs": [
    {
     "name": "stdout",
     "output_type": "stream",
     "text": [
      "Please run partialator_run.sh to start merging.\n"
     ]
    },
    {
     "data": {
      "text/html": [
       "<div>\n",
       "<style scoped>\n",
       "    .dataframe tbody tr th:only-of-type {\n",
       "        vertical-align: middle;\n",
       "    }\n",
       "\n",
       "    .dataframe tbody tr th {\n",
       "        vertical-align: top;\n",
       "    }\n",
       "\n",
       "    .dataframe thead th {\n",
       "        text-align: right;\n",
       "    }\n",
       "</style>\n",
       "<table border=\"1\" class=\"dataframe\">\n",
       "  <thead>\n",
       "    <tr style=\"text-align: right;\">\n",
       "      <th></th>\n",
       "      <th>input</th>\n",
       "      <th>min_measurements</th>\n",
       "      <th>model</th>\n",
       "      <th>stop_after</th>\n",
       "      <th>hklfile</th>\n",
       "    </tr>\n",
       "  </thead>\n",
       "  <tbody>\n",
       "    <tr>\n",
       "      <th>0</th>\n",
       "      <td>streams/0to2.stream</td>\n",
       "      <td>3</td>\n",
       "      <td>unity</td>\n",
       "      <td>200</td>\n",
       "      <td>merged/0to2__3__unity__200.hkl</td>\n",
       "    </tr>\n",
       "    <tr>\n",
       "      <th>1</th>\n",
       "      <td>streams/0to2.stream</td>\n",
       "      <td>3</td>\n",
       "      <td>unity</td>\n",
       "      <td>400</td>\n",
       "      <td>merged/0to2__3__unity__400.hkl</td>\n",
       "    </tr>\n",
       "    <tr>\n",
       "      <th>2</th>\n",
       "      <td>streams/0to2.stream</td>\n",
       "      <td>3</td>\n",
       "      <td>unity</td>\n",
       "      <td>600</td>\n",
       "      <td>merged/0to2__3__unity__600.hkl</td>\n",
       "    </tr>\n",
       "    <tr>\n",
       "      <th>3</th>\n",
       "      <td>streams/0to2.stream</td>\n",
       "      <td>3</td>\n",
       "      <td>unity</td>\n",
       "      <td>800</td>\n",
       "      <td>merged/0to2__3__unity__800.hkl</td>\n",
       "    </tr>\n",
       "    <tr>\n",
       "      <th>4</th>\n",
       "      <td>streams/0to2.stream</td>\n",
       "      <td>3</td>\n",
       "      <td>unity</td>\n",
       "      <td>1000</td>\n",
       "      <td>merged/0to2__3__unity__1000.hkl</td>\n",
       "    </tr>\n",
       "    <tr>\n",
       "      <th>...</th>\n",
       "      <td>...</td>\n",
       "      <td>...</td>\n",
       "      <td>...</td>\n",
       "      <td>...</td>\n",
       "      <td>...</td>\n",
       "    </tr>\n",
       "    <tr>\n",
       "      <th>79</th>\n",
       "      <td>streams/0to8.stream</td>\n",
       "      <td>3</td>\n",
       "      <td>xsphere</td>\n",
       "      <td>400</td>\n",
       "      <td>merged/0to8__3__xsphere__400.hkl</td>\n",
       "    </tr>\n",
       "    <tr>\n",
       "      <th>80</th>\n",
       "      <td>streams/0to8.stream</td>\n",
       "      <td>3</td>\n",
       "      <td>xsphere</td>\n",
       "      <td>600</td>\n",
       "      <td>merged/0to8__3__xsphere__600.hkl</td>\n",
       "    </tr>\n",
       "    <tr>\n",
       "      <th>81</th>\n",
       "      <td>streams/0to8.stream</td>\n",
       "      <td>3</td>\n",
       "      <td>xsphere</td>\n",
       "      <td>800</td>\n",
       "      <td>merged/0to8__3__xsphere__800.hkl</td>\n",
       "    </tr>\n",
       "    <tr>\n",
       "      <th>82</th>\n",
       "      <td>streams/0to8.stream</td>\n",
       "      <td>3</td>\n",
       "      <td>xsphere</td>\n",
       "      <td>1000</td>\n",
       "      <td>merged/0to8__3__xsphere__1000.hkl</td>\n",
       "    </tr>\n",
       "    <tr>\n",
       "      <th>83</th>\n",
       "      <td>streams/0to8.stream</td>\n",
       "      <td>3</td>\n",
       "      <td>xsphere</td>\n",
       "      <td>1147</td>\n",
       "      <td>merged/0to8__3__xsphere__1147.hkl</td>\n",
       "    </tr>\n",
       "  </tbody>\n",
       "</table>\n",
       "<p>84 rows × 5 columns</p>\n",
       "</div>"
      ],
      "text/plain": [
       "                  input  min_measurements    model  stop_after  \\\n",
       "0   streams/0to2.stream                 3    unity         200   \n",
       "1   streams/0to2.stream                 3    unity         400   \n",
       "2   streams/0to2.stream                 3    unity         600   \n",
       "3   streams/0to2.stream                 3    unity         800   \n",
       "4   streams/0to2.stream                 3    unity        1000   \n",
       "..                  ...               ...      ...         ...   \n",
       "79  streams/0to8.stream                 3  xsphere         400   \n",
       "80  streams/0to8.stream                 3  xsphere         600   \n",
       "81  streams/0to8.stream                 3  xsphere         800   \n",
       "82  streams/0to8.stream                 3  xsphere        1000   \n",
       "83  streams/0to8.stream                 3  xsphere        1147   \n",
       "\n",
       "                              hklfile  \n",
       "0      merged/0to2__3__unity__200.hkl  \n",
       "1      merged/0to2__3__unity__400.hkl  \n",
       "2      merged/0to2__3__unity__600.hkl  \n",
       "3      merged/0to2__3__unity__800.hkl  \n",
       "4     merged/0to2__3__unity__1000.hkl  \n",
       "..                                ...  \n",
       "79   merged/0to8__3__xsphere__400.hkl  \n",
       "80   merged/0to8__3__xsphere__600.hkl  \n",
       "81   merged/0to8__3__xsphere__800.hkl  \n",
       "82  merged/0to8__3__xsphere__1000.hkl  \n",
       "83  merged/0to8__3__xsphere__1147.hkl  \n",
       "\n",
       "[84 rows x 5 columns]"
      ]
     },
     "execution_count": 4,
     "metadata": {},
     "output_type": "execute_result"
    }
   ],
   "source": [
    "# get a list of stream files\n",
    "stream_list = glob('streams/*.stream')\n",
    "\n",
    "popts = {'no-polarisation': True, 'no-Bscale': False, 'no-scale': False, \n",
    "        'force-bandwidth': 2e-5,  'force-radius': False, 'force-lambda': 0.0251,\n",
    "            'push-res': 1.4,  'min-measurements': [3, ], 'model': ['unity', 'xsphere'],\n",
    "            'symmetry': '422', 'stop-after': list(range(200, 1147, 200)) + [1147],\n",
    "            'no-logs': False, 'iterations': 3, 'j': 10}\n",
    "\n",
    "# you need to set those if you want to use slurm to submit merging runs\n",
    "slurm_opts = {'C': 'scratch', \n",
    "                'partition': 'medium', \n",
    "                'time': '\"04:00:00\"',\n",
    "                'nodes': 1}\n",
    "\n",
    "tools.call_partialator(stream_list, popts, par_runs=4, \n",
    "                       split=False, out_dir='merged',\n",
    "                       slurm=False, cache_streams=False, \n",
    "                       slurm_opts=slurm_opts)"
   ]
  },
  {
   "cell_type": "code",
   "execution_count": null,
   "metadata": {},
   "outputs": [],
   "source": [
    "# example how to send data to a cluster\n",
    "# !scp -r streams rbuecke1@transfer.gwdg.de:~/SHARED/EDIFF/temp\n",
    "# !scp partialator_run.sh rbuecke1@transfer.gwdg.de:~/SHARED/EDIFF/temp"
   ]
  },
  {
   "cell_type": "code",
   "execution_count": null,
   "metadata": {
    "scrolled": true
   },
   "outputs": [],
   "source": [
    "# example how to get it back from a cluster\n",
    "# %mkdir merged\n",
    "# !scp 'rbuecke1@transfer.gwdg.de:~/SHARED/EDIFF/temp/merged/*.hkl*' merged/"
   ]
  },
  {
   "cell_type": "markdown",
   "metadata": {
    "toc-hr-collapsed": true,
    "toc-nb-collapsed": true
   },
   "source": [
    "## Step 3: Analyze and validate results\n",
    "...assuming your partialator run has finished, and using CrystFELs `check_hkl` and `compare_hkl` tools. The results are parsed into _pandas_ DataFrames using `tools.analzye_hkl` and automatically labeled. While `overall` contains the overall figures of merit for all data frames, `sd` is a flat list of all per-shell and per-setting FOMs. You can use pandas' `groupby` and `pivot` features to get from this table whatever you need conveniently.\n",
    "\n",
    "Finally, plots of figures of merit vs. resolution shell can be generated."
   ]
  },
  {
   "cell_type": "markdown",
   "metadata": {},
   "source": [
    "#### Parse available files\n",
    "If you haven't just run the merging before, but started from here, you need a `settings` DataFrame to get started.\n",
    "This cell does that for you, mostly rather accurately, using `tools.get_hkl_settings`.\n",
    "It can then also be used to reject some settings from further analysis (not needed now, but examples are in comments), or mangle with the data columns to have more convenient indicators (done here)"
   ]
  },
  {
   "cell_type": "code",
   "execution_count": 5,
   "metadata": {},
   "outputs": [],
   "source": [
    "# check what hkls we have available....\n",
    "settings = tools.get_hkl_settings('merged/*.hkl', unique_only=True, custom_split=True)\n",
    "\n",
    "# reject some for analysis...\n",
    "# settings = settings.query('model != \"random\"')\n",
    "# settings = settings.loc[settings.input.str.contains('v_2')]\n",
    "# settings.drop(columns='input', inplace=True)\n",
    "\n",
    "# or do some name mangling... (here: make sure that the folder is stripped of the stream)\n",
    "settings['input'] = settings['input'].str.rsplit('/', 1, expand=True).iloc[:,-1]"
   ]
  },
  {
   "cell_type": "markdown",
   "metadata": {},
   "source": [
    "#### Run the analysis\n",
    "This is done using the `tools.analyze_hkl` function.\n",
    "However, as the analysis is single-threaded, we can get much faster by doing it in parallel using a `ProcessPoolExecutor` (see the documentation of the `concurrent.futures` package if you want to know more.\n",
    "Concise tables of the results are written into the `shell/` subdirectory.\n",
    "\n",
    "(if there is trouble with finding the CrystFEL executables, set the bin_path parameter manually)"
   ]
  },
  {
   "cell_type": "code",
   "execution_count": 6,
   "metadata": {},
   "outputs": [],
   "source": [
    "default_symmetry = '422'\n",
    "highres = 1.75 # highest shell, in A\n",
    "nshells = 10\n",
    "\n",
    "# tools.analyze_hkl() #...is used using ProcessPoolExecutor\n",
    "\n",
    "ftrs = {}\n",
    "with ProcessPoolExecutor() as exc:\n",
    "    for _, s in settings.iterrows():\n",
    "        ftrs[s.hklfile] = exc.submit(tools.analyze_hkl, fn=s.hklfile, cell='gencell.cell', \n",
    "                              point_group=s.symmetry if 'symmetry' in s else default_symmetry, \n",
    "                              highres=highres, nshells=nshells, bin_path='/opts/crystfel_master/bin')    \n",
    "\n",
    "err = {lbl: v.exception() for lbl, v in ftrs.items() if v.exception()}\n",
    "if err:\n",
    "    print('Analysis gave errors!', str(err))\n",
    "out = {lbl: v.result() for lbl, v in ftrs.items() if not v.exception()}\n",
    "\n",
    "sd = pd.concat([v.result()[0].assign(hklfile=lbl) \n",
    "                for lbl, v in ftrs.items() \n",
    "                    if not v.exception()], axis=0).merge(\n",
    "    settings, on='hklfile')\n",
    "\n",
    "overall = pd.concat([pd.DataFrame(v.result()[1], index=[lbl])\n",
    "                for lbl, v in ftrs.items() \n",
    "                     if not v.exception()], axis=0).merge(\n",
    "    settings, right_on='hklfile', left_index=True).rename(\n",
    "    columns={'<snr>': 'SNR', 'redundancy': 'Red', 'completeness': 'Compl', 'CC*': 'CCstar'})\n",
    "\n",
    "# write out results\n",
    "%rm -f shell/*\n",
    "for ident, grp in sd.groupby(['hklfile']):\n",
    "    grp.sort_values('Center 1/nm')[['Center 1/nm', 'nref', 'Possible', 'Compl', 'Meas', 'Red', 'SNR',\n",
    "           'Std dev', 'Mean', 'd/A', 'Min 1/nm', 'Max 1/nm', 'CC', 'CCstar',\n",
    "           'Rsplit']].to_csv(f'shell/{ident.rsplit(\"/\",1)[-1]}.csv', index=False, float_format='%.2f')"
   ]
  },
  {
   "cell_type": "markdown",
   "metadata": {},
   "source": [
    "#### Example to show results\n",
    "...using the result DataFrame's `pivot` function."
   ]
  },
  {
   "cell_type": "code",
   "execution_count": 7,
   "metadata": {},
   "outputs": [
    {
     "data": {
      "text/html": [
       "<div>\n",
       "<style scoped>\n",
       "    .dataframe tbody tr th:only-of-type {\n",
       "        vertical-align: middle;\n",
       "    }\n",
       "\n",
       "    .dataframe tbody tr th {\n",
       "        vertical-align: top;\n",
       "    }\n",
       "\n",
       "    .dataframe thead tr th {\n",
       "        text-align: left;\n",
       "    }\n",
       "\n",
       "    .dataframe thead tr:last-of-type th {\n",
       "        text-align: right;\n",
       "    }\n",
       "</style>\n",
       "<table border=\"1\" class=\"dataframe\">\n",
       "  <thead>\n",
       "    <tr>\n",
       "      <th></th>\n",
       "      <th colspan=\"21\" halign=\"left\">CC</th>\n",
       "    </tr>\n",
       "    <tr>\n",
       "      <th>hklfile</th>\n",
       "      <th>merged/0to1__3__unity__1000.hkl</th>\n",
       "      <th>merged/0to1__3__unity__1147.hkl</th>\n",
       "      <th>merged/0to1__3__unity__200.hkl</th>\n",
       "      <th>merged/0to1__3__unity__400.hkl</th>\n",
       "      <th>merged/0to1__3__unity__600.hkl</th>\n",
       "      <th>merged/0to1__3__unity__800.hkl</th>\n",
       "      <th>merged/0to1__3__xsphere__1000.hkl</th>\n",
       "      <th>merged/0to1__3__xsphere__1147.hkl</th>\n",
       "      <th>merged/0to1__3__xsphere__200.hkl</th>\n",
       "      <th>merged/0to1__3__xsphere__400.hkl</th>\n",
       "      <th>...</th>\n",
       "      <th>merged/0to8__3__unity__200.hkl</th>\n",
       "      <th>merged/0to8__3__unity__400.hkl</th>\n",
       "      <th>merged/0to8__3__unity__600.hkl</th>\n",
       "      <th>merged/0to8__3__unity__800.hkl</th>\n",
       "      <th>merged/0to8__3__xsphere__1000.hkl</th>\n",
       "      <th>merged/0to8__3__xsphere__1147.hkl</th>\n",
       "      <th>merged/0to8__3__xsphere__200.hkl</th>\n",
       "      <th>merged/0to8__3__xsphere__400.hkl</th>\n",
       "      <th>merged/0to8__3__xsphere__600.hkl</th>\n",
       "      <th>merged/0to8__3__xsphere__800.hkl</th>\n",
       "    </tr>\n",
       "    <tr>\n",
       "      <th>d/A</th>\n",
       "      <th></th>\n",
       "      <th></th>\n",
       "      <th></th>\n",
       "      <th></th>\n",
       "      <th></th>\n",
       "      <th></th>\n",
       "      <th></th>\n",
       "      <th></th>\n",
       "      <th></th>\n",
       "      <th></th>\n",
       "      <th></th>\n",
       "      <th></th>\n",
       "      <th></th>\n",
       "      <th></th>\n",
       "      <th></th>\n",
       "      <th></th>\n",
       "      <th></th>\n",
       "      <th></th>\n",
       "      <th></th>\n",
       "      <th></th>\n",
       "      <th></th>\n",
       "    </tr>\n",
       "  </thead>\n",
       "  <tbody>\n",
       "    <tr>\n",
       "      <th>6.80</th>\n",
       "      <td>0.891341</td>\n",
       "      <td>0.899728</td>\n",
       "      <td>0.662385</td>\n",
       "      <td>0.795289</td>\n",
       "      <td>0.792589</td>\n",
       "      <td>0.871779</td>\n",
       "      <td>0.954691</td>\n",
       "      <td>0.954990</td>\n",
       "      <td>0.771382</td>\n",
       "      <td>0.911636</td>\n",
       "      <td>...</td>\n",
       "      <td>0.724041</td>\n",
       "      <td>0.858255</td>\n",
       "      <td>0.873251</td>\n",
       "      <td>0.895467</td>\n",
       "      <td>0.973358</td>\n",
       "      <td>0.978789</td>\n",
       "      <td>0.927947</td>\n",
       "      <td>0.954931</td>\n",
       "      <td>0.954451</td>\n",
       "      <td>0.947019</td>\n",
       "    </tr>\n",
       "    <tr>\n",
       "      <th>3.34</th>\n",
       "      <td>0.883699</td>\n",
       "      <td>0.889219</td>\n",
       "      <td>0.671010</td>\n",
       "      <td>0.794244</td>\n",
       "      <td>0.848588</td>\n",
       "      <td>0.864697</td>\n",
       "      <td>0.947629</td>\n",
       "      <td>0.951426</td>\n",
       "      <td>0.859688</td>\n",
       "      <td>0.916103</td>\n",
       "      <td>...</td>\n",
       "      <td>0.746280</td>\n",
       "      <td>0.807223</td>\n",
       "      <td>0.848111</td>\n",
       "      <td>0.865399</td>\n",
       "      <td>0.956480</td>\n",
       "      <td>0.969308</td>\n",
       "      <td>0.891781</td>\n",
       "      <td>0.942055</td>\n",
       "      <td>0.954148</td>\n",
       "      <td>0.956926</td>\n",
       "    </tr>\n",
       "    <tr>\n",
       "      <th>2.79</th>\n",
       "      <td>0.802455</td>\n",
       "      <td>0.811093</td>\n",
       "      <td>0.643565</td>\n",
       "      <td>0.714528</td>\n",
       "      <td>0.773898</td>\n",
       "      <td>0.796733</td>\n",
       "      <td>0.898183</td>\n",
       "      <td>0.902387</td>\n",
       "      <td>0.740223</td>\n",
       "      <td>0.856176</td>\n",
       "      <td>...</td>\n",
       "      <td>0.671764</td>\n",
       "      <td>0.765264</td>\n",
       "      <td>0.814846</td>\n",
       "      <td>0.854438</td>\n",
       "      <td>0.934142</td>\n",
       "      <td>0.937633</td>\n",
       "      <td>0.815367</td>\n",
       "      <td>0.892431</td>\n",
       "      <td>0.903969</td>\n",
       "      <td>0.916961</td>\n",
       "    </tr>\n",
       "    <tr>\n",
       "      <th>2.49</th>\n",
       "      <td>0.714571</td>\n",
       "      <td>0.719277</td>\n",
       "      <td>0.540547</td>\n",
       "      <td>0.557943</td>\n",
       "      <td>0.661187</td>\n",
       "      <td>0.685684</td>\n",
       "      <td>0.790941</td>\n",
       "      <td>0.819549</td>\n",
       "      <td>0.548257</td>\n",
       "      <td>0.692431</td>\n",
       "      <td>...</td>\n",
       "      <td>0.568825</td>\n",
       "      <td>0.642424</td>\n",
       "      <td>0.711965</td>\n",
       "      <td>0.746812</td>\n",
       "      <td>0.857989</td>\n",
       "      <td>0.863761</td>\n",
       "      <td>0.687975</td>\n",
       "      <td>0.797693</td>\n",
       "      <td>0.813064</td>\n",
       "      <td>0.858403</td>\n",
       "    </tr>\n",
       "    <tr>\n",
       "      <th>2.29</th>\n",
       "      <td>0.710093</td>\n",
       "      <td>0.707172</td>\n",
       "      <td>0.397646</td>\n",
       "      <td>0.585105</td>\n",
       "      <td>0.621458</td>\n",
       "      <td>0.661993</td>\n",
       "      <td>0.802404</td>\n",
       "      <td>0.792893</td>\n",
       "      <td>0.657931</td>\n",
       "      <td>0.734230</td>\n",
       "      <td>...</td>\n",
       "      <td>0.532835</td>\n",
       "      <td>0.611110</td>\n",
       "      <td>0.672966</td>\n",
       "      <td>0.710581</td>\n",
       "      <td>0.809276</td>\n",
       "      <td>0.842952</td>\n",
       "      <td>0.574791</td>\n",
       "      <td>0.771729</td>\n",
       "      <td>0.795913</td>\n",
       "      <td>0.808924</td>\n",
       "    </tr>\n",
       "    <tr>\n",
       "      <th>2.14</th>\n",
       "      <td>0.560271</td>\n",
       "      <td>0.567976</td>\n",
       "      <td>0.249249</td>\n",
       "      <td>0.410799</td>\n",
       "      <td>0.507826</td>\n",
       "      <td>0.528161</td>\n",
       "      <td>0.685546</td>\n",
       "      <td>0.692624</td>\n",
       "      <td>0.255617</td>\n",
       "      <td>0.750349</td>\n",
       "      <td>...</td>\n",
       "      <td>0.384647</td>\n",
       "      <td>0.476177</td>\n",
       "      <td>0.525289</td>\n",
       "      <td>0.578583</td>\n",
       "      <td>0.713824</td>\n",
       "      <td>0.758913</td>\n",
       "      <td>0.557424</td>\n",
       "      <td>0.590254</td>\n",
       "      <td>0.646853</td>\n",
       "      <td>0.725706</td>\n",
       "    </tr>\n",
       "    <tr>\n",
       "      <th>2.02</th>\n",
       "      <td>0.438179</td>\n",
       "      <td>0.484880</td>\n",
       "      <td>0.226432</td>\n",
       "      <td>0.291775</td>\n",
       "      <td>0.324062</td>\n",
       "      <td>0.407306</td>\n",
       "      <td>0.585370</td>\n",
       "      <td>0.601198</td>\n",
       "      <td>0.291241</td>\n",
       "      <td>0.436586</td>\n",
       "      <td>...</td>\n",
       "      <td>0.530673</td>\n",
       "      <td>0.294166</td>\n",
       "      <td>0.393407</td>\n",
       "      <td>0.466139</td>\n",
       "      <td>0.603789</td>\n",
       "      <td>0.615985</td>\n",
       "      <td>1.000000</td>\n",
       "      <td>0.645139</td>\n",
       "      <td>0.587832</td>\n",
       "      <td>0.577961</td>\n",
       "    </tr>\n",
       "    <tr>\n",
       "      <th>1.93</th>\n",
       "      <td>0.342366</td>\n",
       "      <td>0.385313</td>\n",
       "      <td>0.433509</td>\n",
       "      <td>0.019775</td>\n",
       "      <td>0.287397</td>\n",
       "      <td>0.338452</td>\n",
       "      <td>0.468334</td>\n",
       "      <td>0.433334</td>\n",
       "      <td>NaN</td>\n",
       "      <td>0.005683</td>\n",
       "      <td>...</td>\n",
       "      <td>-0.029408</td>\n",
       "      <td>0.292383</td>\n",
       "      <td>0.407906</td>\n",
       "      <td>0.401805</td>\n",
       "      <td>0.532218</td>\n",
       "      <td>0.534537</td>\n",
       "      <td>NaN</td>\n",
       "      <td>0.135021</td>\n",
       "      <td>0.572051</td>\n",
       "      <td>0.503084</td>\n",
       "    </tr>\n",
       "    <tr>\n",
       "      <th>1.85</th>\n",
       "      <td>0.218812</td>\n",
       "      <td>0.243168</td>\n",
       "      <td>-1.000000</td>\n",
       "      <td>0.311495</td>\n",
       "      <td>0.165745</td>\n",
       "      <td>0.175348</td>\n",
       "      <td>0.279087</td>\n",
       "      <td>0.337972</td>\n",
       "      <td>NaN</td>\n",
       "      <td>NaN</td>\n",
       "      <td>...</td>\n",
       "      <td>-1.000000</td>\n",
       "      <td>-0.017152</td>\n",
       "      <td>0.205537</td>\n",
       "      <td>0.210585</td>\n",
       "      <td>0.295051</td>\n",
       "      <td>0.313541</td>\n",
       "      <td>NaN</td>\n",
       "      <td>-0.842685</td>\n",
       "      <td>0.097246</td>\n",
       "      <td>0.341290</td>\n",
       "    </tr>\n",
       "    <tr>\n",
       "      <th>1.78</th>\n",
       "      <td>0.146146</td>\n",
       "      <td>0.096615</td>\n",
       "      <td>NaN</td>\n",
       "      <td>0.394951</td>\n",
       "      <td>0.321814</td>\n",
       "      <td>0.190080</td>\n",
       "      <td>0.129693</td>\n",
       "      <td>0.303768</td>\n",
       "      <td>NaN</td>\n",
       "      <td>NaN</td>\n",
       "      <td>...</td>\n",
       "      <td>NaN</td>\n",
       "      <td>0.214929</td>\n",
       "      <td>0.322522</td>\n",
       "      <td>0.224674</td>\n",
       "      <td>0.334507</td>\n",
       "      <td>0.382780</td>\n",
       "      <td>NaN</td>\n",
       "      <td>NaN</td>\n",
       "      <td>NaN</td>\n",
       "      <td>0.475240</td>\n",
       "    </tr>\n",
       "  </tbody>\n",
       "</table>\n",
       "<p>10 rows × 84 columns</p>\n",
       "</div>"
      ],
      "text/plain": [
       "                                     CC                                  \\\n",
       "hklfile merged/0to1__3__unity__1000.hkl merged/0to1__3__unity__1147.hkl   \n",
       "d/A                                                                       \n",
       "6.80                           0.891341                        0.899728   \n",
       "3.34                           0.883699                        0.889219   \n",
       "2.79                           0.802455                        0.811093   \n",
       "2.49                           0.714571                        0.719277   \n",
       "2.29                           0.710093                        0.707172   \n",
       "2.14                           0.560271                        0.567976   \n",
       "2.02                           0.438179                        0.484880   \n",
       "1.93                           0.342366                        0.385313   \n",
       "1.85                           0.218812                        0.243168   \n",
       "1.78                           0.146146                        0.096615   \n",
       "\n",
       "                                                                       \\\n",
       "hklfile merged/0to1__3__unity__200.hkl merged/0to1__3__unity__400.hkl   \n",
       "d/A                                                                     \n",
       "6.80                          0.662385                       0.795289   \n",
       "3.34                          0.671010                       0.794244   \n",
       "2.79                          0.643565                       0.714528   \n",
       "2.49                          0.540547                       0.557943   \n",
       "2.29                          0.397646                       0.585105   \n",
       "2.14                          0.249249                       0.410799   \n",
       "2.02                          0.226432                       0.291775   \n",
       "1.93                          0.433509                       0.019775   \n",
       "1.85                         -1.000000                       0.311495   \n",
       "1.78                               NaN                       0.394951   \n",
       "\n",
       "                                                                       \\\n",
       "hklfile merged/0to1__3__unity__600.hkl merged/0to1__3__unity__800.hkl   \n",
       "d/A                                                                     \n",
       "6.80                          0.792589                       0.871779   \n",
       "3.34                          0.848588                       0.864697   \n",
       "2.79                          0.773898                       0.796733   \n",
       "2.49                          0.661187                       0.685684   \n",
       "2.29                          0.621458                       0.661993   \n",
       "2.14                          0.507826                       0.528161   \n",
       "2.02                          0.324062                       0.407306   \n",
       "1.93                          0.287397                       0.338452   \n",
       "1.85                          0.165745                       0.175348   \n",
       "1.78                          0.321814                       0.190080   \n",
       "\n",
       "                                                                             \\\n",
       "hklfile merged/0to1__3__xsphere__1000.hkl merged/0to1__3__xsphere__1147.hkl   \n",
       "d/A                                                                           \n",
       "6.80                             0.954691                          0.954990   \n",
       "3.34                             0.947629                          0.951426   \n",
       "2.79                             0.898183                          0.902387   \n",
       "2.49                             0.790941                          0.819549   \n",
       "2.29                             0.802404                          0.792893   \n",
       "2.14                             0.685546                          0.692624   \n",
       "2.02                             0.585370                          0.601198   \n",
       "1.93                             0.468334                          0.433334   \n",
       "1.85                             0.279087                          0.337972   \n",
       "1.78                             0.129693                          0.303768   \n",
       "\n",
       "                                                                           \\\n",
       "hklfile merged/0to1__3__xsphere__200.hkl merged/0to1__3__xsphere__400.hkl   \n",
       "d/A                                                                         \n",
       "6.80                            0.771382                         0.911636   \n",
       "3.34                            0.859688                         0.916103   \n",
       "2.79                            0.740223                         0.856176   \n",
       "2.49                            0.548257                         0.692431   \n",
       "2.29                            0.657931                         0.734230   \n",
       "2.14                            0.255617                         0.750349   \n",
       "2.02                            0.291241                         0.436586   \n",
       "1.93                                 NaN                         0.005683   \n",
       "1.85                                 NaN                              NaN   \n",
       "1.78                                 NaN                              NaN   \n",
       "\n",
       "         ...                                                                \\\n",
       "hklfile  ... merged/0to8__3__unity__200.hkl merged/0to8__3__unity__400.hkl   \n",
       "d/A      ...                                                                 \n",
       "6.80     ...                       0.724041                       0.858255   \n",
       "3.34     ...                       0.746280                       0.807223   \n",
       "2.79     ...                       0.671764                       0.765264   \n",
       "2.49     ...                       0.568825                       0.642424   \n",
       "2.29     ...                       0.532835                       0.611110   \n",
       "2.14     ...                       0.384647                       0.476177   \n",
       "2.02     ...                       0.530673                       0.294166   \n",
       "1.93     ...                      -0.029408                       0.292383   \n",
       "1.85     ...                      -1.000000                      -0.017152   \n",
       "1.78     ...                            NaN                       0.214929   \n",
       "\n",
       "                                                                       \\\n",
       "hklfile merged/0to8__3__unity__600.hkl merged/0to8__3__unity__800.hkl   \n",
       "d/A                                                                     \n",
       "6.80                          0.873251                       0.895467   \n",
       "3.34                          0.848111                       0.865399   \n",
       "2.79                          0.814846                       0.854438   \n",
       "2.49                          0.711965                       0.746812   \n",
       "2.29                          0.672966                       0.710581   \n",
       "2.14                          0.525289                       0.578583   \n",
       "2.02                          0.393407                       0.466139   \n",
       "1.93                          0.407906                       0.401805   \n",
       "1.85                          0.205537                       0.210585   \n",
       "1.78                          0.322522                       0.224674   \n",
       "\n",
       "                                                                             \\\n",
       "hklfile merged/0to8__3__xsphere__1000.hkl merged/0to8__3__xsphere__1147.hkl   \n",
       "d/A                                                                           \n",
       "6.80                             0.973358                          0.978789   \n",
       "3.34                             0.956480                          0.969308   \n",
       "2.79                             0.934142                          0.937633   \n",
       "2.49                             0.857989                          0.863761   \n",
       "2.29                             0.809276                          0.842952   \n",
       "2.14                             0.713824                          0.758913   \n",
       "2.02                             0.603789                          0.615985   \n",
       "1.93                             0.532218                          0.534537   \n",
       "1.85                             0.295051                          0.313541   \n",
       "1.78                             0.334507                          0.382780   \n",
       "\n",
       "                                                                           \\\n",
       "hklfile merged/0to8__3__xsphere__200.hkl merged/0to8__3__xsphere__400.hkl   \n",
       "d/A                                                                         \n",
       "6.80                            0.927947                         0.954931   \n",
       "3.34                            0.891781                         0.942055   \n",
       "2.79                            0.815367                         0.892431   \n",
       "2.49                            0.687975                         0.797693   \n",
       "2.29                            0.574791                         0.771729   \n",
       "2.14                            0.557424                         0.590254   \n",
       "2.02                            1.000000                         0.645139   \n",
       "1.93                                 NaN                         0.135021   \n",
       "1.85                                 NaN                        -0.842685   \n",
       "1.78                                 NaN                              NaN   \n",
       "\n",
       "                                                                           \n",
       "hklfile merged/0to8__3__xsphere__600.hkl merged/0to8__3__xsphere__800.hkl  \n",
       "d/A                                                                        \n",
       "6.80                            0.954451                         0.947019  \n",
       "3.34                            0.954148                         0.956926  \n",
       "2.79                            0.903969                         0.916961  \n",
       "2.49                            0.813064                         0.858403  \n",
       "2.29                            0.795913                         0.808924  \n",
       "2.14                            0.646853                         0.725706  \n",
       "2.02                            0.587832                         0.577961  \n",
       "1.93                            0.572051                         0.503084  \n",
       "1.85                            0.097246                         0.341290  \n",
       "1.78                                 NaN                         0.475240  \n",
       "\n",
       "[10 rows x 84 columns]"
      ]
     },
     "execution_count": 7,
     "metadata": {},
     "output_type": "execute_result"
    }
   ],
   "source": [
    "# convenient function to get FOMs. Set the one you want as 'value'\n",
    "sd.pivot(index='d/A', columns='hklfile', values=['CC']).sort_index(ascending=False)"
   ]
  },
  {
   "cell_type": "markdown",
   "metadata": {},
   "source": [
    "## Step 4: Analysis Plots\n",
    "...ideally using an interactive backend, like `qt`, or `widget`. You can choose which 4 FOMs to plot as a function of resolution, and their display ranges. \n",
    "From the $CC=1/7$, or $CC^*=1/2$ criterion (which are automatically drawn if you ask for those), we can read off a reasonable cut-off for resulution. \n",
    "To learn about what FOMs you can plot, please look at `sd.columns`.\n",
    "The `sdsel=sd.query(......)` allows you to only plot a sub-selection - e.g. here only the full set with unity merging, but all aggregations."
   ]
  },
  {
   "cell_type": "markdown",
   "metadata": {},
   "source": [
    "### Fig 1: Figures of Merit vs resolution shell\n",
    "You can pick subsets of merging runs using `sd.query`, and set the x axis by setting `angstrom`."
   ]
  },
  {
   "cell_type": "code",
   "execution_count": 8,
   "metadata": {},
   "outputs": [
    {
     "data": {
      "application/vnd.jupyter.widget-view+json": {
       "model_id": "8d0c5776f32441dab75993df98a68340",
       "version_major": 2,
       "version_minor": 0
      },
      "text/plain": [
       "Canvas(toolbar=Toolbar(toolitems=[('Home', 'Reset original view', 'home', 'home'), ('Back', 'Back to previous …"
      ]
     },
     "metadata": {},
     "output_type": "display_data"
    },
    {
     "name": "stdout",
     "output_type": "stream",
     "text": [
      "Legend is input\n"
     ]
    }
   ],
   "source": [
    "%matplotlib widget\n",
    "# SETTINGS ---\n",
    "\n",
    "fh, axs = plt.subplots(2, 2, figsize=(18/2.54,15/2.54), dpi=120, sharex=True)\n",
    "lsp, lrow = 0.85, 3 # space near top left for legend, and # of legend columns\n",
    "\n",
    "# pick your FOMs and their y ranges\n",
    "FOMs = [('CC', 0, 1), ('Mean', 0, 100), ('Compl', 0, 100), ('Red', 0, 100)]\n",
    "sdsel = sd.query('stop_after > 1000 and model==\"xsphere\"')\n",
    "angstrom = False # if True, show x axis in A, instead of 1/nm\n",
    "\n",
    "# ------\n",
    "\n",
    "try:\n",
    "    import seaborn as sns\n",
    "    sns.set('notebook','whitegrid') # optional. Set a style...\n",
    "except:\n",
    "    print('Seaborn not installed, it seems.')\n",
    "\n",
    "axs = axs.ravel()\n",
    "\n",
    "# ids = get_id_table(sdsel['identifier'])\n",
    "idcols = [cn for cn, col in sdsel[settings.columns].iteritems() \n",
    "          if len(col.unique()) > 1 and (cn != 'hklfile')]\n",
    "print('Legend is', ' '.join(idcols))\n",
    "\n",
    "for ident, grp in sdsel.groupby(['hklfile']):\n",
    "    \n",
    "    ls = '-'\n",
    "     \n",
    "    lbl = tuple(grp[idcols].drop_duplicates().values.astype(str).ravel())\n",
    "    \n",
    "    for ax, (fom, ymin, ymax) in zip(axs, FOMs):\n",
    "        ax.plot(grp['d/A'] if angstrom else grp['Center 1/nm'], grp[fom], \n",
    "                label=' '.join(lbl), ls=ls)\n",
    "        ax.set_title(fom)\n",
    "        ax.set_ylim((ymin, ymax))\n",
    "        if angstrom:\n",
    "            ax.set_xlim(sorted(ax.get_xlim(), reverse=True))\n",
    "        ax.grid(True)\n",
    "        if fom in ['CC', 'CCstar']:\n",
    "            ax.axhline(0.143 if fom == 'CC' else 0.5,ls=':')\n",
    "        \n",
    "lg = fh.legend(*ax.get_legend_handles_labels(), ncol=lrow, \n",
    "               fontsize='xx-small', loc='lower center', \n",
    "               bbox_to_anchor=(0.5, lsp), frameon=True)\n",
    "axs[-1].set_xlabel(r'Resolution shell/Å' if angstrom else r'Resolution shell/nm$^{-1}$')\n",
    "plt.draw()\n",
    "# lpos = lg.get_window_extent()\n",
    "\n",
    "fh.subplots_adjust(wspace=0.3, top=lsp-0.05)"
   ]
  },
  {
   "cell_type": "markdown",
   "metadata": {},
   "source": [
    "### Fig. 2: overall and single-shell FOM vs. crystal number.\n",
    "Obviously only makes sense for data sets which have multiple crystal numbers. If you did not define this using `stop_after` or `start_after`, you'll have to mangle around with e.g. hklfile names yourself before. The plots display values of a selected shell in dashed lines, which you can pick in the variable `res`. The available values are printed when running the cell."
   ]
  },
  {
   "cell_type": "code",
   "execution_count": 9,
   "metadata": {},
   "outputs": [
    {
     "data": {
      "application/vnd.jupyter.widget-view+json": {
       "model_id": "52872c54911346a98a22fae80cb743bd",
       "version_major": 2,
       "version_minor": 0
      },
      "text/plain": [
       "Canvas(toolbar=Toolbar(toolitems=[('Home', 'Reset original view', 'home', 'home'), ('Back', 'Back to previous …"
      ]
     },
     "metadata": {},
     "output_type": "display_data"
    },
    {
     "name": "stdout",
     "output_type": "stream",
     "text": [
      "Available resolution bins are 6.8 3.34 2.79 2.49 2.29 2.14 2.02 1.93 1.85 1.78\n",
      "Legend is input model\n"
     ]
    }
   ],
   "source": [
    "# SETTINGS ---\n",
    "\n",
    "N_col = 'stop_after' # column containing the number of crystals\n",
    "\n",
    "fh, axs = plt.subplots(2,2,figsize=(18/2.54,15/2.54),dpi=120,sharex=True)\n",
    "\n",
    "# pick your FOMs and their y ranges\n",
    "FOMs = [('CC', 0, 1), ('Compl', 0, 100), ('Rsplit', 0, 100), ('Red', 0, 50)]\n",
    "\n",
    "# resolution bin for dashed plot\n",
    "res = 1.93\n",
    "ovsel = overall.query('input in [\"0to1.stream\", \"0to2.stream\", \"0to8.stream\"]')\n",
    "\n",
    "# -----\n",
    "\n",
    "try:\n",
    "    import seaborn as sns\n",
    "    sns.set('notebook','whitegrid') # optional. Set a style...\n",
    "except:\n",
    "    print('Seaborn not installed, it seems.')\n",
    "    \n",
    "axs = axs.ravel()\n",
    "\n",
    "idcols = [cn for cn, col in sd[settings.columns].iteritems() \n",
    "          if len(col.unique()) > 1 and (cn not in  ['hklfile', N_col])]\n",
    "\n",
    "print('Available resolution bins are', ' '.join(sd['d/A'].unique().astype(str)))\n",
    "print('Legend is', ' '.join(idcols))\n",
    "\n",
    "for idcol, grp in ovsel.groupby(idcols if len(idcols) else np.ones(len(ovsel))):\n",
    "    \n",
    "    sdsel = sd.merge(grp, on='hklfile', validate='m:1', suffixes=('','_ov'))\n",
    "    sdsel = sdsel[sdsel['d/A'] == res].sort_values(N_col)\n",
    "    \n",
    "    grp = grp.sort_values(N_col)\n",
    "    lbl = tuple(grp[idcols].drop_duplicates().values.astype(str).ravel())\n",
    "    for ax, (fom, xmin, xmax) in zip(axs, FOMs):\n",
    "        ph = ax.plot(grp[N_col], grp[fom], label=' '.join(lbl), ls='-')\n",
    "        ax.plot(sdsel[N_col], sdsel[fom], color=ph[0].get_color(), ls='--')\n",
    "        ax.set_title(fom)\n",
    "        ax.set_ylim((xmin, xmax))\n",
    "        ax.grid(True)\n",
    "        if fom in ['CC', 'CCstar']:\n",
    "            ax.axhline(0.143 if fom == 'CC' else 0.5,ls=':')\n",
    "        \n",
    "axs[-1].legend(ncol=2, fontsize='xx-small')\n",
    "axs[-1].set_xlabel(r'Crystal number')\n",
    "\n",
    "fh.subplots_adjust(wspace=0.3)"
   ]
  },
  {
   "cell_type": "markdown",
   "metadata": {},
   "source": [
    "## Step 5: publication-ready plots\n",
    "Another plot section, which is more dataset-specific and less convenient, but really makes good plots for final reports with slightly more effort. \n",
    "Needs to be adapted to each dataset manually, so you'll have to do that if you copied this notebook from another dataset.\n",
    "\n",
    "**This is _not_ part of a general workflow tutorial - most likely it will not work without lots of customization**"
   ]
  },
  {
   "cell_type": "markdown",
   "metadata": {},
   "source": [
    "#### Versus Resolution shell"
   ]
  },
  {
   "cell_type": "code",
   "execution_count": 10,
   "metadata": {},
   "outputs": [
    {
     "data": {
      "application/vnd.jupyter.widget-view+json": {
       "model_id": "646088b3ae06452fb4867fb18f8b36c1",
       "version_major": 2,
       "version_minor": 0
      },
      "text/plain": [
       "Canvas(toolbar=Toolbar(toolitems=[('Home', 'Reset original view', 'home', 'home'), ('Back', 'Back to previous …"
      ]
     },
     "metadata": {},
     "output_type": "display_data"
    }
   ],
   "source": [
    "import matplotlib as mpl\n",
    "\n",
    "mpl.rc('axes', titleweight='normal', labelweight='normal')\n",
    "\n",
    "# Dataset-separated FOM vs resolution plot\n",
    "import seaborn as sns\n",
    "sns.set('paper','whitegrid') # optional. Set a style...\n",
    "\n",
    "FOMs = [(['CC', None], 0, 1, '$CC_{1/2}$'), \n",
    "        (['Compl', None], 0, 100, 'Completeness'),\n",
    "       (['Red', None], 0, 50, 'Redundancy')]#, R_\\mathrm{work}$ (dashed)')]\n",
    "\n",
    "# select the data subset to show. Add \"cmp\" to the method list if you want relative data\n",
    "sd_sel = sd.query(f'stop_after > 1000 and input in [\"0to1.stream\", \"0to2.stream\", \"0to8.stream\"]')\n",
    "\n",
    "plt.close('all')\n",
    "\n",
    "fh, axs= plt.subplots(len(FOMs), 1, figsize=(8.5/2.54, 15/2.54), sharex=True, dpi=300,\n",
    "                      gridspec_kw={'hspace':0.1, 'wspace':0.1, 'height_ratios': [1]*len(FOMs)})\n",
    "\n",
    "# The 'zzz' rename is required to put the plots in proper order\n",
    "last_model = ''\n",
    "for (model, agg, hklfile), grp in \\\n",
    "    sd_sel.groupby(['model', 'input', 'hklfile'], sort=True):\n",
    "    \n",
    "    for ii, (fom, ymin, ymax, cpt) in enumerate(FOMs):    \n",
    "        ax = axs[ii]\n",
    "    \n",
    "        if model != last_model:\n",
    "            ax.set_prop_cycle(None)\n",
    "        \n",
    "        if fom[0] == 'CC':\n",
    "            ax.axhline(0.143, color='k', alpha=0.1)\n",
    "        \n",
    "        lbl = f'{2*int(agg[3])+1} ms' if model=='unity' else ''\n",
    "        src = grp\n",
    "        ph = ax.plot(src['Center 1/nm'], src[fom[0]], \n",
    "                     label=lbl, \n",
    "                     ls='-' if model=='unity' else '--', \n",
    "                     marker='o' if model=='unity' else 'v', markersize=3,\n",
    "                     fillstyle='none')\n",
    "        c = [p.get_color() for p in ph]\n",
    "        if fom[1] is not None:\n",
    "            lbl = None\n",
    "            ax.plot(src['Center 1/nm'], src[fom[1]], \n",
    "                    label=lbl, color=c[0], ls='--',\n",
    "                    marker='o' if model=='unity' else 'v', fillstyle='none')\n",
    "        \n",
    "        # common axis settings\n",
    "        ax.set_ylim((ymin, ymax))\n",
    "        ax.set_xticks([10/d for d in range(6,1,-1)])\n",
    "        ax.grid(True)\n",
    "        \n",
    "        # stuff appearing for specific axes only\n",
    "        if ii == 0:\n",
    "            ax.legend()\n",
    "        ax.set_ylabel(cpt)                 \n",
    "        if ii == (len(FOMs)-1):\n",
    "            ax.set_xlabel('Resolution (Å)')\n",
    "            ax.set_xticklabels([f'{(10/float(l)):.0f}' for l in ax.get_xticks()])\n",
    "        else:\n",
    "            ax.set_xticklabels([])          \n",
    "            \n",
    "    last_model = model\n",
    "            \n",
    "ax.set_xlim(10/4.5, ax.get_xlim()[1])\n",
    "\n",
    "plt.savefig(f'fom_vs_res.pdf', transparent=True, bbox_inches='tight')"
   ]
  },
  {
   "cell_type": "markdown",
   "metadata": {},
   "source": [
    "### Versus Crystal Number"
   ]
  },
  {
   "cell_type": "code",
   "execution_count": 16,
   "metadata": {},
   "outputs": [
    {
     "data": {
      "application/vnd.jupyter.widget-view+json": {
       "model_id": "ed7dda2fc6aa475caee9e1ea8e0b97f8",
       "version_major": 2,
       "version_minor": 0
      },
      "text/plain": [
       "Canvas(toolbar=Toolbar(toolitems=[('Home', 'Reset original view', 'home', 'home'), ('Back', 'Back to previous …"
      ]
     },
     "metadata": {},
     "output_type": "display_data"
    }
   ],
   "source": [
    "# PART 2: FOMs at fixed resolution/overall vs. crystal number\n",
    "# %matplotlib inline\n",
    "# MAIN TEXT\n",
    "target = 'main'\n",
    "FOMs = [(['CC_ov', 'CC'], 0, 1, '$CC_{1/2}$'), \n",
    "        (['Compl_ov', 'Compl', None], 0, 100, 'Completeness'),\n",
    "       (['Red_ov', 'Red'], 0, 50, 'Redundancy')]\n",
    "\n",
    "# make subset (including carving out the highest shell only)\n",
    "hishell = 1.85\n",
    "sd_sel = sd.loc[sd['d/A'] == hishell,:].sort_index() # xfel9 / ssx9: 0.9.0\n",
    "\n",
    "# merge overall data. Inner merge, so it is sub-selected automatically\n",
    "sd_sel = sd_sel.merge(overall, on=['model', 'input', 'stop_after'], \n",
    "                    how='inner', suffixes=('', '_ov'))\n",
    "\n",
    "# select crystal number range\n",
    "sd_sel = sd_sel.query('input == \"0to2.stream\"')\n",
    "\n",
    "fh, axs= plt.subplots(len(FOMs), 1, figsize=(8.5/2.54, 15/2.54), sharex=True, dpi=150,\n",
    "                      gridspec_kw={'hspace':0.1, 'wspace':0.1, 'height_ratios': [1]*len(FOMs)})\n",
    "\n",
    "for (model, agg), grp in sd_sel.groupby(['model', 'input'], sort=True):\n",
    "    grps = grp.sort_values(by='stop_after').rename(columns={'stop_after': 'crystals'})\n",
    "    \n",
    "    for ii, (fom, ymin, ymax, cpt) in enumerate(FOMs):\n",
    "        ax = axs[ii]\n",
    "        if fom[0] in grps.columns:\n",
    "            ph = ax.plot(grps.crystals, grps[fom[0]], \n",
    "                     label=f'{model}', \n",
    "                     linestyle='-', marker='o' if model=='unity' else 'v', \n",
    "                         fillstyle='none', markersize=3)\n",
    "        if (fom[1] is not None) and (fom[1] in grps.columns):\n",
    "            ax.plot(grps.crystals, grps[fom[1]], \n",
    "    #                 label=f'{method.upper()} ({fom[1]})',\n",
    "                    label = None,\n",
    "                    color=ph[0].get_color(), \n",
    "                    linestyle='--', marker='o' if model=='unity' else 'v', \n",
    "                    fillstyle='none', markersize=3)\n",
    "\n",
    "        ax.set_ylim((ymin, ymax))\n",
    "        ax.set_ylabel(cpt)                 \n",
    "\n",
    "        if (ii == 0):\n",
    "            ax.legend()  \n",
    "        ax.set_xlim(100, 1300)\n",
    "        if ii == (len(FOMs)-1):\n",
    "            ax.set_xlabel('Crystal number')\n",
    "plt.savefig(f'fom_vs_number.pdf', transparent=True, bbox_inches='tight')"
   ]
  },
  {
   "cell_type": "code",
   "execution_count": 19,
   "metadata": {},
   "outputs": [
    {
     "data": {
      "application/vnd.jupyter.widget-view+json": {
       "model_id": "32741f49a7414993a53c51049b10ea9e",
       "version_major": 2,
       "version_minor": 0
      },
      "text/plain": [
       "Canvas(toolbar=Toolbar(toolitems=[('Home', 'Reset original view', 'home', 'home'), ('Back', 'Back to previous …"
      ]
     },
     "metadata": {},
     "output_type": "display_data"
    }
   ],
   "source": [
    "import matplotlib as mpl\n",
    "\n",
    "mpl.rc('axes', titleweight='normal', labelweight='normal')\n",
    "plt.close('all')\n",
    "\n",
    "# Dataset-separated FOM vs resolution plot\n",
    "import seaborn as sns\n",
    "sns.set('paper','whitegrid') # optional. Set a style...\n",
    "\n",
    "FOMs = [(['CC', None], 0, 1, '$CC_{1/2}$'), \n",
    "        (['Compl', None], 0, 100, 'Completeness'),\n",
    "       (['Red', None], 0, 50, 'Redundancy')]#, R_\\mathrm{work}$ (dashed)')]\n",
    "\n",
    "\n",
    "fh, axs_both = plt.subplots(len(FOMs), 2, figsize=(17/2.54, 15/2.54), sharex=False, sharey=False, dpi=150,\n",
    "                      gridspec_kw={'hspace':0.1, 'wspace':0.1, 'height_ratios': [1]*len(FOMs)})\n",
    "\n",
    "# select the data subset to show. Add \"cmp\" to the method list if you want relative data\n",
    "sd_sel = sd.query(f'stop_after > 1000 and input in [\"0to1.stream\", \"0to2.stream\", \"0to8.stream\"]')\n",
    "\n",
    "axs = axs_both[:, 0]\n",
    "\n",
    "# The 'zzz' rename is required to put the plots in proper order\n",
    "last_model = ''\n",
    "for (model, agg, hklfile), grp in \\\n",
    "    sd_sel.groupby(['model', 'input', 'hklfile'], sort=True):\n",
    "    \n",
    "    for ii, (fom, ymin, ymax, cpt) in enumerate(FOMs):    \n",
    "        ax = axs[ii]\n",
    "    \n",
    "        if model != last_model:\n",
    "#             print(last_model, model)\n",
    "            ax.set_prop_cycle(None)\n",
    "        \n",
    "        if fom[0] == 'CC':\n",
    "            ax.axhline(0.143, color='k', alpha=0.1)\n",
    "        \n",
    "        lbl = f'{2*int(agg[3])+1} ms' if model=='unity' else ''\n",
    "#         lbl = f'{model}, {2*int(agg[3])+1} ms'\n",
    "        src = grp\n",
    "        ph = ax.plot(src['Center 1/nm'], src[fom[0]], \n",
    "                     label=lbl, \n",
    "                     ls='-' if model=='unity' else '--', \n",
    "                     marker='o' if model=='unity' else 'v', markersize=3,\n",
    "                     fillstyle='none')\n",
    "        c = [p.get_color() for p in ph]\n",
    "        if fom[1] is not None:\n",
    "            lbl = None\n",
    "            ax.plot(src['Center 1/nm'], src[fom[1]], \n",
    "                    label=lbl, color=c[0], ls='--',\n",
    "                    marker='o' if model=='unity' else 'v', fillstyle='none')\n",
    "        \n",
    "        # common axis settings\n",
    "        ax.set_ylim((ymin, ymax))\n",
    "        ax.set_xticks([10/d for d in range(6,1,-1)])\n",
    "        ax.grid(True)\n",
    "        \n",
    "        # stuff appearing for specific axes only\n",
    "        if ii == 0:\n",
    "#             ax.set_title('MB ($N=8000$)' if sample=='mb' else 'FAcD ($N=10000$)')\n",
    "            ax.legend(ncol=1)\n",
    "        ax.set_ylabel(cpt)                 \n",
    "        if ii == (len(FOMs)-1):\n",
    "            ax.set_xlabel('Resolution (Å)')\n",
    "            ax.set_xticklabels([f'{(10/float(l)):.0f}' for l in ax.get_xticks()])\n",
    "        else:\n",
    "            ax.set_xticklabels([])         \n",
    "            \n",
    "        ax.set_xlim(10/4.5, ax.get_xlim()[1])\n",
    "                    \n",
    "    last_model = model\n",
    "            \n",
    "# plt.savefig(f'fom_vs_res.pdf', transparent=True, bbox_inches='tight')\n",
    "\n",
    "# PART 2: FOMs at fixed resolution/overall vs. crystal number\n",
    "# %matplotlib inline\n",
    "# MAIN TEXT\n",
    "target = 'main'\n",
    "FOMs = [(['CC_ov', 'CC'], 0, 1, '$CC_{1/2}$'), \n",
    "        (['Compl_ov', 'Compl', None], 0, 100, 'Completeness'),\n",
    "       (['Red_ov', 'Red'], 0, 50, 'Redundancy')]\n",
    "\n",
    "# make subset (including carving out the highest shell only)\n",
    "hishell = 1.85\n",
    "sd_sel = sd.loc[sd['d/A'] == hishell,:].sort_index() # xfel9 / ssx9: 0.9.0\n",
    "\n",
    "# merge overall data. Inner merge, so it is sub-selected automatically\n",
    "sd_sel = sd_sel.merge(overall, on=['model', 'input', 'stop_after'], \n",
    "                    how='inner', suffixes=('', '_ov'))\n",
    "\n",
    "# select crystal number range\n",
    "sd_sel = sd_sel.query('input == \"0to2.stream\"')\n",
    "\n",
    "axs = axs_both[:, 1]\n",
    "\n",
    "for (model, agg), grp in sd_sel.groupby(['model', 'input'], sort=True):\n",
    "    grps = grp.sort_values(by='stop_after').rename(columns={'stop_after': 'crystals'})\n",
    "    \n",
    "    for ii, (fom, ymin, ymax, cpt) in enumerate(FOMs):\n",
    "        ax = axs[ii]\n",
    "        if fom[0] in grps.columns:\n",
    "            ph = ax.plot(grps.crystals, grps[fom[0]], \n",
    "                     label=f'{model}', \n",
    "                     linestyle='-', marker='o' if model=='unity' else 'v', \n",
    "                         fillstyle='none', markersize=3)\n",
    "        if (fom[1] is not None) and (fom[1] in grps.columns):\n",
    "            ax.plot(grps.crystals, grps[fom[1]], \n",
    "    #                 label=f'{method.upper()} ({fom[1]})',\n",
    "                    label = None,\n",
    "                    color=ph[0].get_color(), \n",
    "                    linestyle=':', marker='o' if model=='unity' else 'v', \n",
    "                    fillstyle='none', markersize=3)\n",
    "\n",
    "        ax.set_ylim((ymin, ymax))\n",
    "#         ax.set_ylabel(cpt)       \n",
    "        ax.set_yticklabels([])\n",
    "\n",
    "        if (ii == 0):\n",
    "            ax.legend()  \n",
    "        ax.set_xlim(100, 1300)\n",
    "        if ii == (len(FOMs)-1):\n",
    "            ax.set_xlabel('Crystal number')\n",
    "        else:\n",
    "            ax.set_xticklabels([])\n",
    "            \n",
    "plt.savefig(f'fom_all.pdf', transparent=True, bbox_inches='tight')"
   ]
  }
 ],
 "metadata": {
  "kernelspec": {
   "display_name": "Python 3.7.6 64-bit ('preproc')",
   "language": "python",
   "name": "python37664bitpreprocde2d2aa216c74fd08703cca08757b3d9"
  },
  "language_info": {
   "codemirror_mode": {
    "name": "ipython",
    "version": 3
   },
   "file_extension": ".py",
   "mimetype": "text/x-python",
   "name": "python",
   "nbconvert_exporter": "python",
   "pygments_lexer": "ipython3",
   "version": "3.7.6"
  },
  "widgets": {
   "application/vnd.jupyter.widget-state+json": {
    "state": {
     "0185453b29a9427daf1ce59923c85a18": {
      "model_module": "@jupyter-widgets/base",
      "model_module_version": "1.2.0",
      "model_name": "LayoutModel",
      "state": {}
     },
     "150f736782af48f696070f98770529ff": {
      "model_module": "jupyter-matplotlib",
      "model_module_version": "^0.7.2",
      "model_name": "ToolbarModel",
      "state": {
       "_model_module_version": "^0.7.2",
       "_view_module_version": "^0.7.2",
       "layout": "IPY_MODEL_c0907accfc394e3cb900021009f68068",
       "toolitems": [
        [
         "Home",
         "Reset original view",
         "home",
         "home"
        ],
        [
         "Back",
         "Back to previous view",
         "arrow-left",
         "back"
        ],
        [
         "Forward",
         "Forward to next view",
         "arrow-right",
         "forward"
        ],
        [
         "Pan",
         "Pan axes with left mouse, zoom with right",
         "arrows",
         "pan"
        ],
        [
         "Zoom",
         "Zoom to rectangle",
         "square-o",
         "zoom"
        ],
        [
         "Download",
         "Download plot",
         "floppy-o",
         "save_figure"
        ]
       ]
      }
     },
     "16f5e7d56af2486c929f3712f1810bb7": {
      "model_module": "@jupyter-widgets/base",
      "model_module_version": "1.2.0",
      "model_name": "LayoutModel",
      "state": {}
     },
     "1729913a39cc4a9e86718da5419444f4": {
      "model_module": "@jupyter-widgets/base",
      "model_module_version": "1.2.0",
      "model_name": "LayoutModel",
      "state": {}
     },
     "1a8b3eed01504b2f930c1fd2e418467e": {
      "model_module": "@jupyter-widgets/base",
      "model_module_version": "1.2.0",
      "model_name": "LayoutModel",
      "state": {}
     },
     "2b4779b5ccce4f528ad8bb5f9a02b9a0": {
      "model_module": "@jupyter-widgets/base",
      "model_module_version": "1.2.0",
      "model_name": "LayoutModel",
      "state": {}
     },
     "2e41b2a8d1d04fdaad0aeecdf8cd74b2": {
      "model_module": "@jupyter-widgets/base",
      "model_module_version": "1.2.0",
      "model_name": "LayoutModel",
      "state": {}
     },
     "310fb43a39ec4aeeb777ad9fa90c4012": {
      "model_module": "jupyter-matplotlib",
      "model_module_version": "^0.7.2",
      "model_name": "ToolbarModel",
      "state": {
       "_model_module_version": "^0.7.2",
       "_view_module_version": "^0.7.2",
       "layout": "IPY_MODEL_74b7cb696f2547f48bf5edb3f5bf52d6",
       "toolitems": [
        [
         "Home",
         "Reset original view",
         "home",
         "home"
        ],
        [
         "Back",
         "Back to previous view",
         "arrow-left",
         "back"
        ],
        [
         "Forward",
         "Forward to next view",
         "arrow-right",
         "forward"
        ],
        [
         "Pan",
         "Pan axes with left mouse, zoom with right",
         "arrows",
         "pan"
        ],
        [
         "Zoom",
         "Zoom to rectangle",
         "square-o",
         "zoom"
        ],
        [
         "Download",
         "Download plot",
         "floppy-o",
         "save_figure"
        ]
       ]
      }
     },
     "32741f49a7414993a53c51049b10ea9e": {
      "model_module": "jupyter-matplotlib",
      "model_module_version": "^0.7.2",
      "model_name": "MPLCanvasModel",
      "state": {
       "_figure_label": "Figure 1",
       "_height": 885,
       "_image_mode": "diff",
       "_model_module_version": "^0.7.2",
       "_view_module_version": "^0.7.2",
       "_width": 1003,
       "layout": "IPY_MODEL_e24eec7a2ac44028a2f4439a006be1b6",
       "toolbar": "IPY_MODEL_df9fff118ee949f79f323ad032fc263c",
       "toolbar_position": "left"
      }
     },
     "37e47414f7f24b5cb65dce3ac5937c56": {
      "model_module": "@jupyter-widgets/base",
      "model_module_version": "1.2.0",
      "model_name": "LayoutModel",
      "state": {}
     },
     "3d4632fd9eaf4ac2af7d7b426e9c1028": {
      "model_module": "@jupyter-widgets/base",
      "model_module_version": "1.2.0",
      "model_name": "LayoutModel",
      "state": {}
     },
     "4466dbac8e904e76bf04a4e24170406f": {
      "model_module": "jupyter-matplotlib",
      "model_module_version": "^0.7.2",
      "model_name": "ToolbarModel",
      "state": {
       "_model_module_version": "^0.7.2",
       "_view_module_version": "^0.7.2",
       "layout": "IPY_MODEL_648f9c5f734a4bafade73fcfca8e4105",
       "toolitems": [
        [
         "Home",
         "Reset original view",
         "home",
         "home"
        ],
        [
         "Back",
         "Back to previous view",
         "arrow-left",
         "back"
        ],
        [
         "Forward",
         "Forward to next view",
         "arrow-right",
         "forward"
        ],
        [
         "Pan",
         "Pan axes with left mouse, zoom with right",
         "arrows",
         "pan"
        ],
        [
         "Zoom",
         "Zoom to rectangle",
         "square-o",
         "zoom"
        ],
        [
         "Download",
         "Download plot",
         "floppy-o",
         "save_figure"
        ]
       ]
      }
     },
     "457c439bf7714fc8a8ab03c8659eb6a8": {
      "model_module": "jupyter-matplotlib",
      "model_module_version": "^0.7.2",
      "model_name": "ToolbarModel",
      "state": {
       "_model_module_version": "^0.7.2",
       "_view_module_version": "^0.7.2",
       "layout": "IPY_MODEL_1a8b3eed01504b2f930c1fd2e418467e",
       "toolitems": [
        [
         "Home",
         "Reset original view",
         "home",
         "home"
        ],
        [
         "Back",
         "Back to previous view",
         "arrow-left",
         "back"
        ],
        [
         "Forward",
         "Forward to next view",
         "arrow-right",
         "forward"
        ],
        [
         "Pan",
         "Pan axes with left mouse, zoom with right",
         "arrows",
         "pan"
        ],
        [
         "Zoom",
         "Zoom to rectangle",
         "square-o",
         "zoom"
        ],
        [
         "Download",
         "Download plot",
         "floppy-o",
         "save_figure"
        ]
       ]
      }
     },
     "4ee54833917c4902941b277981bbbbdb": {
      "model_module": "jupyter-matplotlib",
      "model_module_version": "^0.7.2",
      "model_name": "ToolbarModel",
      "state": {
       "_model_module_version": "^0.7.2",
       "_view_module_version": "^0.7.2",
       "layout": "IPY_MODEL_a8206be9318340cab2bdf8dfa5c67bcc",
       "toolitems": [
        [
         "Home",
         "Reset original view",
         "home",
         "home"
        ],
        [
         "Back",
         "Back to previous view",
         "arrow-left",
         "back"
        ],
        [
         "Forward",
         "Forward to next view",
         "arrow-right",
         "forward"
        ],
        [
         "Pan",
         "Pan axes with left mouse, zoom with right",
         "arrows",
         "pan"
        ],
        [
         "Zoom",
         "Zoom to rectangle",
         "square-o",
         "zoom"
        ],
        [
         "Download",
         "Download plot",
         "floppy-o",
         "save_figure"
        ]
       ]
      }
     },
     "5f523f0cdc4a4e84b351df30016e6f08": {
      "model_module": "@jupyter-widgets/base",
      "model_module_version": "1.2.0",
      "model_name": "LayoutModel",
      "state": {}
     },
     "648f9c5f734a4bafade73fcfca8e4105": {
      "model_module": "@jupyter-widgets/base",
      "model_module_version": "1.2.0",
      "model_name": "LayoutModel",
      "state": {}
     },
     "6a86f7d9e1c040118265cfbe6fe820e5": {
      "model_module": "@jupyter-widgets/base",
      "model_module_version": "1.2.0",
      "model_name": "LayoutModel",
      "state": {}
     },
     "7222b315980d4fd1a9aba5ccbde55dcf": {
      "model_module": "@jupyter-widgets/base",
      "model_module_version": "1.2.0",
      "model_name": "LayoutModel",
      "state": {}
     },
     "74b7cb696f2547f48bf5edb3f5bf52d6": {
      "model_module": "@jupyter-widgets/base",
      "model_module_version": "1.2.0",
      "model_name": "LayoutModel",
      "state": {}
     },
     "7e2c4638cc6443738fb76f2f554c3aa9": {
      "model_module": "jupyter-matplotlib",
      "model_module_version": "^0.7.2",
      "model_name": "ToolbarModel",
      "state": {
       "_model_module_version": "^0.7.2",
       "_view_module_version": "^0.7.2",
       "layout": "IPY_MODEL_2b4779b5ccce4f528ad8bb5f9a02b9a0",
       "toolitems": [
        [
         "Home",
         "Reset original view",
         "home",
         "home"
        ],
        [
         "Back",
         "Back to previous view",
         "arrow-left",
         "back"
        ],
        [
         "Forward",
         "Forward to next view",
         "arrow-right",
         "forward"
        ],
        [
         "Pan",
         "Pan axes with left mouse, zoom with right",
         "arrows",
         "pan"
        ],
        [
         "Zoom",
         "Zoom to rectangle",
         "square-o",
         "zoom"
        ],
        [
         "Download",
         "Download plot",
         "floppy-o",
         "save_figure"
        ]
       ]
      }
     },
     "8c4848bf05574ea1bbfce796157687ac": {
      "model_module": "jupyter-matplotlib",
      "model_module_version": "^0.7.2",
      "model_name": "ToolbarModel",
      "state": {
       "_model_module_version": "^0.7.2",
       "_view_module_version": "^0.7.2",
       "layout": "IPY_MODEL_2e41b2a8d1d04fdaad0aeecdf8cd74b2",
       "toolitems": [
        [
         "Home",
         "Reset original view",
         "home",
         "home"
        ],
        [
         "Back",
         "Back to previous view",
         "arrow-left",
         "back"
        ],
        [
         "Forward",
         "Forward to next view",
         "arrow-right",
         "forward"
        ],
        [
         "Pan",
         "Pan axes with left mouse, zoom with right",
         "arrows",
         "pan"
        ],
        [
         "Zoom",
         "Zoom to rectangle",
         "square-o",
         "zoom"
        ],
        [
         "Download",
         "Download plot",
         "floppy-o",
         "save_figure"
        ]
       ]
      }
     },
     "9cf4c36dfdfc436d97e8ca4e0793ffa4": {
      "model_module": "@jupyter-widgets/base",
      "model_module_version": "1.2.0",
      "model_name": "LayoutModel",
      "state": {}
     },
     "a8206be9318340cab2bdf8dfa5c67bcc": {
      "model_module": "@jupyter-widgets/base",
      "model_module_version": "1.2.0",
      "model_name": "LayoutModel",
      "state": {}
     },
     "ab0d7387453643029fd8c8fec3105d17": {
      "model_module": "jupyter-matplotlib",
      "model_module_version": "^0.7.2",
      "model_name": "ToolbarModel",
      "state": {
       "_model_module_version": "^0.7.2",
       "_view_module_version": "^0.7.2",
       "layout": "IPY_MODEL_3d4632fd9eaf4ac2af7d7b426e9c1028",
       "toolitems": [
        [
         "Home",
         "Reset original view",
         "home",
         "home"
        ],
        [
         "Back",
         "Back to previous view",
         "arrow-left",
         "back"
        ],
        [
         "Forward",
         "Forward to next view",
         "arrow-right",
         "forward"
        ],
        [
         "Pan",
         "Pan axes with left mouse, zoom with right",
         "arrows",
         "pan"
        ],
        [
         "Zoom",
         "Zoom to rectangle",
         "square-o",
         "zoom"
        ],
        [
         "Download",
         "Download plot",
         "floppy-o",
         "save_figure"
        ]
       ]
      }
     },
     "ae0c39b9a6ef40fdbcd039d20d326ef1": {
      "model_module": "@jupyter-widgets/base",
      "model_module_version": "1.2.0",
      "model_name": "LayoutModel",
      "state": {}
     },
     "bc46a9ad25354ebeb27f0eb71ede36fa": {
      "model_module": "jupyter-matplotlib",
      "model_module_version": "^0.7.2",
      "model_name": "ToolbarModel",
      "state": {
       "_model_module_version": "^0.7.2",
       "_view_module_version": "^0.7.2",
       "layout": "IPY_MODEL_16f5e7d56af2486c929f3712f1810bb7",
       "toolitems": [
        [
         "Home",
         "Reset original view",
         "home",
         "home"
        ],
        [
         "Back",
         "Back to previous view",
         "arrow-left",
         "back"
        ],
        [
         "Forward",
         "Forward to next view",
         "arrow-right",
         "forward"
        ],
        [
         "Pan",
         "Pan axes with left mouse, zoom with right",
         "arrows",
         "pan"
        ],
        [
         "Zoom",
         "Zoom to rectangle",
         "square-o",
         "zoom"
        ],
        [
         "Download",
         "Download plot",
         "floppy-o",
         "save_figure"
        ]
       ]
      }
     },
     "c0907accfc394e3cb900021009f68068": {
      "model_module": "@jupyter-widgets/base",
      "model_module_version": "1.2.0",
      "model_name": "LayoutModel",
      "state": {}
     },
     "c33c34f8ed4149eea3c4a7e6c32e0770": {
      "model_module": "jupyter-matplotlib",
      "model_module_version": "^0.7.2",
      "model_name": "ToolbarModel",
      "state": {
       "_model_module_version": "^0.7.2",
       "_view_module_version": "^0.7.2",
       "layout": "IPY_MODEL_5f523f0cdc4a4e84b351df30016e6f08",
       "toolitems": [
        [
         "Home",
         "Reset original view",
         "home",
         "home"
        ],
        [
         "Back",
         "Back to previous view",
         "arrow-left",
         "back"
        ],
        [
         "Forward",
         "Forward to next view",
         "arrow-right",
         "forward"
        ],
        [
         "Pan",
         "Pan axes with left mouse, zoom with right",
         "arrows",
         "pan"
        ],
        [
         "Zoom",
         "Zoom to rectangle",
         "square-o",
         "zoom"
        ],
        [
         "Download",
         "Download plot",
         "floppy-o",
         "save_figure"
        ]
       ]
      }
     },
     "cb74d7f01cfa4551ae0d1d3652eb91d7": {
      "model_module": "@jupyter-widgets/base",
      "model_module_version": "1.2.0",
      "model_name": "LayoutModel",
      "state": {}
     },
     "d190b6e200b44dcaa02508066fd12250": {
      "model_module": "@jupyter-widgets/base",
      "model_module_version": "1.2.0",
      "model_name": "LayoutModel",
      "state": {}
     },
     "df9facfec5924282b978c4b795d82261": {
      "model_module": "@jupyter-widgets/base",
      "model_module_version": "1.2.0",
      "model_name": "LayoutModel",
      "state": {}
     },
     "df9fff118ee949f79f323ad032fc263c": {
      "model_module": "jupyter-matplotlib",
      "model_module_version": "^0.7.2",
      "model_name": "ToolbarModel",
      "state": {
       "_model_module_version": "^0.7.2",
       "_view_module_version": "^0.7.2",
       "layout": "IPY_MODEL_1729913a39cc4a9e86718da5419444f4",
       "toolitems": [
        [
         "Home",
         "Reset original view",
         "home",
         "home"
        ],
        [
         "Back",
         "Back to previous view",
         "arrow-left",
         "back"
        ],
        [
         "Forward",
         "Forward to next view",
         "arrow-right",
         "forward"
        ],
        [
         "Pan",
         "Pan axes with left mouse, zoom with right",
         "arrows",
         "pan"
        ],
        [
         "Zoom",
         "Zoom to rectangle",
         "square-o",
         "zoom"
        ],
        [
         "Download",
         "Download plot",
         "floppy-o",
         "save_figure"
        ]
       ]
      }
     },
     "e24eec7a2ac44028a2f4439a006be1b6": {
      "model_module": "@jupyter-widgets/base",
      "model_module_version": "1.2.0",
      "model_name": "LayoutModel",
      "state": {}
     },
     "e2c8f881b5c7448986679a5a6578dee4": {
      "model_module": "@jupyter-widgets/base",
      "model_module_version": "1.2.0",
      "model_name": "LayoutModel",
      "state": {}
     },
     "e739de361572461c94ac0201bdb81b9e": {
      "model_module": "jupyter-matplotlib",
      "model_module_version": "^0.7.2",
      "model_name": "ToolbarModel",
      "state": {
       "_model_module_version": "^0.7.2",
       "_view_module_version": "^0.7.2",
       "layout": "IPY_MODEL_e2c8f881b5c7448986679a5a6578dee4",
       "toolitems": [
        [
         "Home",
         "Reset original view",
         "home",
         "home"
        ],
        [
         "Back",
         "Back to previous view",
         "arrow-left",
         "back"
        ],
        [
         "Forward",
         "Forward to next view",
         "arrow-right",
         "forward"
        ],
        [
         "Pan",
         "Pan axes with left mouse, zoom with right",
         "arrows",
         "pan"
        ],
        [
         "Zoom",
         "Zoom to rectangle",
         "square-o",
         "zoom"
        ],
        [
         "Download",
         "Download plot",
         "floppy-o",
         "save_figure"
        ]
       ]
      }
     },
     "ea2c88b0bbba475d963b640e9ef3bfd2": {
      "model_module": "@jupyter-widgets/base",
      "model_module_version": "1.2.0",
      "model_name": "LayoutModel",
      "state": {}
     },
     "fb657a6564594e73b382173c67f73382": {
      "model_module": "@jupyter-widgets/base",
      "model_module_version": "1.2.0",
      "model_name": "LayoutModel",
      "state": {}
     }
    },
    "version_major": 2,
    "version_minor": 0
   }
  }
 },
 "nbformat": 4,
 "nbformat_minor": 4
}
