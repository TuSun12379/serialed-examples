{
 "cells": [
  {
   "cell_type": "code",
   "execution_count": null,
   "metadata": {
    "pycharm": {
     "is_executing": false
    }
   },
   "outputs": [],
   "source": [
    "%load_ext autoreload\n",
    "%autoreload 2"
   ]
  },
  {
   "cell_type": "code",
   "execution_count": 1,
   "metadata": {
    "pycharm": {
     "is_executing": false
    }
   },
   "outputs": [
    {
     "name": "stdout",
     "output_type": "stream",
     "text": [
      "['CrystFEL: 0.9.1+886ae521', 'License GPLv3+: GNU GPL version 3 or later <http://gnu.org/licenses/gpl.html>.', 'This is free software: you are free to change and redistribute it.', 'There is NO WARRANTY, to the extent permitted by law.', '', 'Written by Thomas White and others.']\n"
     ]
    }
   ],
   "source": [
    "import matplotlib.pyplot as plt\n",
    "from diffractem import tools, version\n",
    "from diffractem.dataset import Dataset\n",
    "from diffractem.stream_parser import StreamParser, augment_stream\n",
    "from diffractem import pre_proc_opts\n",
    "import numpy as np\n",
    "import pandas as pd\n",
    "import dask.array as da\n",
    "# from dask.distributed import Client, LocalCluster\n",
    "import dask\n",
    "# import h5py\n",
    "\n",
    "opts = pre_proc_opts.PreProcOpts('preproc.yaml')\n",
    "cfver = !{opts.im_exc} -v\n",
    "print(cfver)"
   ]
  },
  {
   "cell_type": "markdown",
   "metadata": {},
   "source": [
    "# Indexing and Integration\n",
    "...using _CrystFEL's_ `indexamajig` tool and several wrappers around it.\n",
    "What you need to begin:\n",
    "* a virtual-geometry data file, which you should have created during preprocessing. It contains, first and foremost, all necessary information about the beam center and Bragg peak positions.\n",
    "* a refined unit-cell file, which you can generate using `peak_processing.ipynb`, and good geometry settings in your `.yaml` config file. If unsure about ellipticity, double check using `peak_processing.ipynb`.\n",
    "\n",
    "First, we define the list of shot list fields which should go into the output stream file of indexing. (See `indexamajig --copy-hdf5-filed`).\n",
    "Here, we only use the really crucial ones, without which the stream file will be hard to use later on."
   ]
  },
  {
   "cell_type": "code",
   "execution_count": 2,
   "metadata": {},
   "outputs": [
    {
     "name": "stdout",
     "output_type": "stream",
     "text": [
      "Single-file dataset, disabling parallel I/O.\n",
      "No feature list in data set ('/%/map/features not found in virtual.h5.'). That's ok if it's a virtual or info file.\n",
      "Persisting stacks to memory: index, nPeaks, peakTotalIntensity, peakXPosRaw, peakYPosRaw\n"
     ]
    }
   ],
   "source": [
    "stream_fields = ['frame', 'sample', 'region', 'crystal_id', 'run', \n",
    "                '_Event', '_file', 'center_x', 'center_y'] \n",
    "\n",
    "# filter to only take the ones that are actually present\n",
    "ds_ctr = Dataset.from_files('virtual.h5', open_stacks=True, chunking=-1)\n",
    "stream_fields = [f'/%/shots/{f}' for f in  stream_fields if f in ds_ctr.shots.columns]\n",
    "\n",
    "# generate geometry file for virtual geometry from yaml file parameters.\n",
    "opts.load()\n",
    "tools.make_geometry(opts, 'virtual.geom', image_name='zero_image', xsize=1024, ysize=1024, mask=False)"
   ]
  },
  {
   "cell_type": "markdown",
   "metadata": {},
   "source": [
    "### Direct local execution\n",
    "...generates a shell script `im_run.sh` containing the CrystFEL call, to directly run on this machine, using a number of processes defined in the `procs` argument.\n",
    "All parameters for indexing are set in the `preproc.yaml` file."
   ]
  },
  {
   "cell_type": "code",
   "execution_count": 3,
   "metadata": {},
   "outputs": [],
   "source": [
    "opts.load() # often reload the opts so they remain updated\n",
    "tools.call_indexamajig('virtual.lst', 'virtual.geom', script='im_run.sh', \n",
    "                       output='virtual.stream',  cell='gencell.cell', im_params=opts.indexing_params, \n",
    "                       copy_fields=stream_fields, procs=40)"
   ]
  },
  {
   "cell_type": "code",
   "execution_count": 4,
   "metadata": {},
   "outputs": [
    {
     "name": "stdout",
     "output_type": "stream",
     "text": [
      "indexamajig -g virtual.geom -i virtual.lst -o virtual.stream -j 40 -p gencell.cell --indexing=pinkIndexer --integration=rings-nograd-nocen --int-radius=3,4,6 --peaks=cxi --hdf5-peaks=/entry/data --no-revalidate --max-res=400 --pinkIndexer-considered-peaks-count=4 --pinkIndexer-angle-resolution=4 --pinkIndexer-refinement-type=5 --pinkIndexer-thread-count=1 --pinkIndexer-tolerance=0.1 --pinkIndexer-reflection-radius=0.001 --pinkIndexer-max-resolution-for-indexing=2 --min-peaks=15 --no-refine --no-retry --no-check-peaks --temp-dir=/scratch/diffractem --copy-hdf5-field=/%/shots/sample --copy-hdf5-field=/%/shots/region --copy-hdf5-field=/%/shots/crystal_id --copy-hdf5-field=/%/shots/run --copy-hdf5-field=/%/shots/_Event --copy-hdf5-field=/%/shots/_file --copy-hdf5-field=/%/shots/center_x --copy-hdf5-field=/%/shots/center_y"
     ]
    }
   ],
   "source": [
    "# for the curious cats\n",
    "!cat im_run.sh"
   ]
  },
  {
   "cell_type": "markdown",
   "metadata": {},
   "source": [
    "### Version for clusters\n",
    "...which splits up the patterns into sections of `shot_per_run`, and generates a script file that submits them independently to a SLURM queue manager. Similar to CrystFEL's `turbo-index-slurm`, but a bit more streamlined. All required files for indexing can be optionally packed into a `.tar.gz` file, which can be uploaded to a cluster right away and run there.\n",
    "\n",
    "Here, `procs` defines the number of parallel processes with which a chunk of `shots_per_run` shots is processed; additionally `threads` can be defined, which are used by _pinkIndexer_. Vs `procs`, this is especially useful to save memory.\n",
    "\n",
    "Here it is important, that the `exc` argument gets the path to the `indexamajig` executable on your cluster."
   ]
  },
  {
   "cell_type": "code",
   "execution_count": 5,
   "metadata": {},
   "outputs": [
    {
     "name": "stdout",
     "output_type": "stream",
     "text": [
      "Wrote self-contained tar file lyso_idx.tar.gz. Upload to your favorite cluster and extract with: tar -xf lyso_idx.tar.gz\n",
      "Run indexing by calling ./im_run_lyso_idx.sh\n"
     ]
    }
   ],
   "source": [
    "tar, script = tools.call_indexamajig_slurm('virtual.lst', 'virtual.geom', name='lyso_idx', cell='refined.cell',\n",
    "                             im_params=opts.indexing_params, procs=4, threads=2, shots_per_run=50,\n",
    "                             tar_file='virtual.tar.gz', temp_dir='$TMP_LOCAL', copy_fields=stream_fields,\n",
    "                             exc='$HOME/SHARED/EDIFF/software/crystfel9/bin/indexamajig', \n",
    "                                           local_bin_dir='/opts/crystfel_master/bin')"
   ]
  },
  {
   "cell_type": "markdown",
   "metadata": {},
   "source": [
    "#### Template for sending to/receiving from a cluster"
   ]
  },
  {
   "cell_type": "code",
   "execution_count": null,
   "metadata": {},
   "outputs": [],
   "source": [
    "# upload immediately to your cluster\n",
    "# remote = 'rbuecke1@login.gwdg.de:~/SHARED/EDIFF/lyso_redo'\n",
    "# !ssh {remote.split(\":\")[0]} 'mkdir -p {remote.split(\":\")[1]}'\n",
    "# !scp {tar} {remote}"
   ]
  },
  {
   "cell_type": "code",
   "execution_count": null,
   "metadata": {},
   "outputs": [],
   "source": [
    "# concat streams on server and transfer back\n",
    "# name = 'lyso_idx'\n",
    "# cmd = f'ssh {remote.split(\":\")[0]} \\\"cat {remote.split(\":\")[1]}/partitions/*.stream > {remote.split(\":\")[1]}/virtual.stream\\\"'\n",
    "# !{cmd}\n",
    "# !scp -r {remote}/virtual.stream ."
   ]
  },
  {
   "cell_type": "markdown",
   "metadata": {},
   "source": [
    "## Integration\n",
    "Now we have the file `virtual.stream`, which contains our indexing solution!\n",
    "We now need to run `indexamajig` a second time, this time on our actual data and using `indexing=file`.\n",
    "This way, instead of running a fresh indexing, it will take a _solution file_ (`.sol`), which contains per line:\n",
    "* The filename and CrystFEL event identifier of an indexed crystal (2 parameters)\n",
    "* The reciprocal lattice vectors in laboratory frame (9 parameters)\n",
    "* The shift of the detector for that pattern (2 parameters). This is particularly important, as here we can inject the variable beam center of our datasets, on top of the (much smaller) residual shift that a prediction refinement after index might have found\n",
    "Of course this file is generated automatically.\n",
    "\n",
    "But first we have to make a geometry file, using our optimized geometry parameters (including ellipticity refinement from `proc_peaks.ipynb`).\n",
    "All required parameters are in `preproc.yaml`."
   ]
  },
  {
   "cell_type": "code",
   "execution_count": 6,
   "metadata": {},
   "outputs": [],
   "source": [
    "# make the final geometry\n",
    "opts = pre_proc_opts.PreProcOpts('preproc.yaml')\n",
    "geo = tools.make_geometry(opts, 'refined.geom', write_mask=True)"
   ]
  },
  {
   "cell_type": "markdown",
   "metadata": {},
   "source": [
    "#### Solution file from dataset\n",
    "This is usual the better (if a bit slower version) compared to that belo.\n",
    "Here, a Dataset object is loaded from disk.\n",
    "Now, the stored crystal identification data for each shot in the Dataset (i.e.: `sample`, `region`, `run`, `crystal_id`) are used for matching.\n",
    "You can hence now integrate even from a totally different set of patterns (e.g. a different aggregation range, or even a set with all non-aggregated data - the crystal ID data will just repeat for each frame).\n",
    "\n",
    "The solution should have the same name as the `.lst` file, which is inherently assumed by the `file` indexer."
   ]
  },
  {
   "cell_type": "code",
   "execution_count": 7,
   "metadata": {},
   "outputs": [
    {
     "data": {
      "text/html": [
       "<div>\n",
       "<style scoped>\n",
       "    .dataframe tbody tr th:only-of-type {\n",
       "        vertical-align: middle;\n",
       "    }\n",
       "\n",
       "    .dataframe tbody tr th {\n",
       "        vertical-align: top;\n",
       "    }\n",
       "\n",
       "    .dataframe thead th {\n",
       "        text-align: right;\n",
       "    }\n",
       "</style>\n",
       "<table border=\"1\" class=\"dataframe\">\n",
       "  <thead>\n",
       "    <tr style=\"text-align: right;\">\n",
       "      <th></th>\n",
       "      <th>file</th>\n",
       "      <th>Event</th>\n",
       "      <th>astar_x</th>\n",
       "      <th>astar_y</th>\n",
       "      <th>astar_z</th>\n",
       "      <th>bstar_x</th>\n",
       "      <th>bstar_y</th>\n",
       "      <th>bstar_z</th>\n",
       "      <th>cstar_x</th>\n",
       "      <th>cstar_y</th>\n",
       "      <th>cstar_z</th>\n",
       "      <th>xshift</th>\n",
       "      <th>yshift</th>\n",
       "    </tr>\n",
       "  </thead>\n",
       "  <tbody>\n",
       "    <tr>\n",
       "      <th>20</th>\n",
       "      <td>proc_data/LysoS1_001_00000_allframe_hit.h5</td>\n",
       "      <td>entry//20</td>\n",
       "      <td>-0.123163</td>\n",
       "      <td>-0.030406</td>\n",
       "      <td>0.012811</td>\n",
       "      <td>0.024581</td>\n",
       "      <td>-0.116320</td>\n",
       "      <td>-0.043168</td>\n",
       "      <td>0.046089</td>\n",
       "      <td>-0.081634</td>\n",
       "      <td>0.249403</td>\n",
       "      <td>2.471316</td>\n",
       "      <td>-1.535916</td>\n",
       "    </tr>\n",
       "    <tr>\n",
       "      <th>21</th>\n",
       "      <td>proc_data/LysoS1_001_00000_allframe_hit.h5</td>\n",
       "      <td>entry//21</td>\n",
       "      <td>-0.123163</td>\n",
       "      <td>-0.030406</td>\n",
       "      <td>0.012811</td>\n",
       "      <td>0.024581</td>\n",
       "      <td>-0.116320</td>\n",
       "      <td>-0.043168</td>\n",
       "      <td>0.046089</td>\n",
       "      <td>-0.081634</td>\n",
       "      <td>0.249403</td>\n",
       "      <td>2.471316</td>\n",
       "      <td>-1.535916</td>\n",
       "    </tr>\n",
       "    <tr>\n",
       "      <th>22</th>\n",
       "      <td>proc_data/LysoS1_001_00000_allframe_hit.h5</td>\n",
       "      <td>entry//22</td>\n",
       "      <td>-0.123163</td>\n",
       "      <td>-0.030406</td>\n",
       "      <td>0.012811</td>\n",
       "      <td>0.024581</td>\n",
       "      <td>-0.116320</td>\n",
       "      <td>-0.043168</td>\n",
       "      <td>0.046089</td>\n",
       "      <td>-0.081634</td>\n",
       "      <td>0.249403</td>\n",
       "      <td>2.471316</td>\n",
       "      <td>-1.535916</td>\n",
       "    </tr>\n",
       "    <tr>\n",
       "      <th>23</th>\n",
       "      <td>proc_data/LysoS1_001_00000_allframe_hit.h5</td>\n",
       "      <td>entry//23</td>\n",
       "      <td>-0.123163</td>\n",
       "      <td>-0.030406</td>\n",
       "      <td>0.012811</td>\n",
       "      <td>0.024581</td>\n",
       "      <td>-0.116320</td>\n",
       "      <td>-0.043168</td>\n",
       "      <td>0.046089</td>\n",
       "      <td>-0.081634</td>\n",
       "      <td>0.249403</td>\n",
       "      <td>2.471316</td>\n",
       "      <td>-1.535916</td>\n",
       "    </tr>\n",
       "    <tr>\n",
       "      <th>24</th>\n",
       "      <td>proc_data/LysoS1_001_00000_allframe_hit.h5</td>\n",
       "      <td>entry//24</td>\n",
       "      <td>-0.123163</td>\n",
       "      <td>-0.030406</td>\n",
       "      <td>0.012811</td>\n",
       "      <td>0.024581</td>\n",
       "      <td>-0.116320</td>\n",
       "      <td>-0.043168</td>\n",
       "      <td>0.046089</td>\n",
       "      <td>-0.081634</td>\n",
       "      <td>0.249403</td>\n",
       "      <td>2.471316</td>\n",
       "      <td>-1.535916</td>\n",
       "    </tr>\n",
       "    <tr>\n",
       "      <th>...</th>\n",
       "      <td>...</td>\n",
       "      <td>...</td>\n",
       "      <td>...</td>\n",
       "      <td>...</td>\n",
       "      <td>...</td>\n",
       "      <td>...</td>\n",
       "      <td>...</td>\n",
       "      <td>...</td>\n",
       "      <td>...</td>\n",
       "      <td>...</td>\n",
       "      <td>...</td>\n",
       "      <td>...</td>\n",
       "      <td>...</td>\n",
       "    </tr>\n",
       "    <tr>\n",
       "      <th>13475</th>\n",
       "      <td>proc_data/LysoS2_046_00000_allframe_hit.h5</td>\n",
       "      <td>entry//345</td>\n",
       "      <td>-0.034899</td>\n",
       "      <td>-0.121375</td>\n",
       "      <td>0.008912</td>\n",
       "      <td>-0.120469</td>\n",
       "      <td>0.035137</td>\n",
       "      <td>0.014176</td>\n",
       "      <td>-0.030315</td>\n",
       "      <td>-0.009250</td>\n",
       "      <td>-0.260402</td>\n",
       "      <td>1.279646</td>\n",
       "      <td>2.662593</td>\n",
       "    </tr>\n",
       "    <tr>\n",
       "      <th>13476</th>\n",
       "      <td>proc_data/LysoS2_046_00000_allframe_hit.h5</td>\n",
       "      <td>entry//346</td>\n",
       "      <td>-0.034899</td>\n",
       "      <td>-0.121375</td>\n",
       "      <td>0.008912</td>\n",
       "      <td>-0.120469</td>\n",
       "      <td>0.035137</td>\n",
       "      <td>0.014176</td>\n",
       "      <td>-0.030315</td>\n",
       "      <td>-0.009250</td>\n",
       "      <td>-0.260402</td>\n",
       "      <td>1.279646</td>\n",
       "      <td>2.662593</td>\n",
       "    </tr>\n",
       "    <tr>\n",
       "      <th>13477</th>\n",
       "      <td>proc_data/LysoS2_046_00000_allframe_hit.h5</td>\n",
       "      <td>entry//347</td>\n",
       "      <td>-0.034899</td>\n",
       "      <td>-0.121375</td>\n",
       "      <td>0.008912</td>\n",
       "      <td>-0.120469</td>\n",
       "      <td>0.035137</td>\n",
       "      <td>0.014176</td>\n",
       "      <td>-0.030315</td>\n",
       "      <td>-0.009250</td>\n",
       "      <td>-0.260402</td>\n",
       "      <td>1.279646</td>\n",
       "      <td>2.662593</td>\n",
       "    </tr>\n",
       "    <tr>\n",
       "      <th>13478</th>\n",
       "      <td>proc_data/LysoS2_046_00000_allframe_hit.h5</td>\n",
       "      <td>entry//348</td>\n",
       "      <td>-0.034899</td>\n",
       "      <td>-0.121375</td>\n",
       "      <td>0.008912</td>\n",
       "      <td>-0.120469</td>\n",
       "      <td>0.035137</td>\n",
       "      <td>0.014176</td>\n",
       "      <td>-0.030315</td>\n",
       "      <td>-0.009250</td>\n",
       "      <td>-0.260402</td>\n",
       "      <td>1.279646</td>\n",
       "      <td>2.662593</td>\n",
       "    </tr>\n",
       "    <tr>\n",
       "      <th>13479</th>\n",
       "      <td>proc_data/LysoS2_046_00000_allframe_hit.h5</td>\n",
       "      <td>entry//349</td>\n",
       "      <td>-0.034899</td>\n",
       "      <td>-0.121375</td>\n",
       "      <td>0.008912</td>\n",
       "      <td>-0.120469</td>\n",
       "      <td>0.035137</td>\n",
       "      <td>0.014176</td>\n",
       "      <td>-0.030315</td>\n",
       "      <td>-0.009250</td>\n",
       "      <td>-0.260402</td>\n",
       "      <td>1.279646</td>\n",
       "      <td>2.662593</td>\n",
       "    </tr>\n",
       "  </tbody>\n",
       "</table>\n",
       "<p>11770 rows × 13 columns</p>\n",
       "</div>"
      ],
      "text/plain": [
       "                                             file       Event   astar_x  \\\n",
       "20     proc_data/LysoS1_001_00000_allframe_hit.h5   entry//20 -0.123163   \n",
       "21     proc_data/LysoS1_001_00000_allframe_hit.h5   entry//21 -0.123163   \n",
       "22     proc_data/LysoS1_001_00000_allframe_hit.h5   entry//22 -0.123163   \n",
       "23     proc_data/LysoS1_001_00000_allframe_hit.h5   entry//23 -0.123163   \n",
       "24     proc_data/LysoS1_001_00000_allframe_hit.h5   entry//24 -0.123163   \n",
       "...                                           ...         ...       ...   \n",
       "13475  proc_data/LysoS2_046_00000_allframe_hit.h5  entry//345 -0.034899   \n",
       "13476  proc_data/LysoS2_046_00000_allframe_hit.h5  entry//346 -0.034899   \n",
       "13477  proc_data/LysoS2_046_00000_allframe_hit.h5  entry//347 -0.034899   \n",
       "13478  proc_data/LysoS2_046_00000_allframe_hit.h5  entry//348 -0.034899   \n",
       "13479  proc_data/LysoS2_046_00000_allframe_hit.h5  entry//349 -0.034899   \n",
       "\n",
       "        astar_y   astar_z   bstar_x   bstar_y   bstar_z   cstar_x   cstar_y  \\\n",
       "20    -0.030406  0.012811  0.024581 -0.116320 -0.043168  0.046089 -0.081634   \n",
       "21    -0.030406  0.012811  0.024581 -0.116320 -0.043168  0.046089 -0.081634   \n",
       "22    -0.030406  0.012811  0.024581 -0.116320 -0.043168  0.046089 -0.081634   \n",
       "23    -0.030406  0.012811  0.024581 -0.116320 -0.043168  0.046089 -0.081634   \n",
       "24    -0.030406  0.012811  0.024581 -0.116320 -0.043168  0.046089 -0.081634   \n",
       "...         ...       ...       ...       ...       ...       ...       ...   \n",
       "13475 -0.121375  0.008912 -0.120469  0.035137  0.014176 -0.030315 -0.009250   \n",
       "13476 -0.121375  0.008912 -0.120469  0.035137  0.014176 -0.030315 -0.009250   \n",
       "13477 -0.121375  0.008912 -0.120469  0.035137  0.014176 -0.030315 -0.009250   \n",
       "13478 -0.121375  0.008912 -0.120469  0.035137  0.014176 -0.030315 -0.009250   \n",
       "13479 -0.121375  0.008912 -0.120469  0.035137  0.014176 -0.030315 -0.009250   \n",
       "\n",
       "        cstar_z    xshift    yshift  \n",
       "20     0.249403  2.471316 -1.535916  \n",
       "21     0.249403  2.471316 -1.535916  \n",
       "22     0.249403  2.471316 -1.535916  \n",
       "23     0.249403  2.471316 -1.535916  \n",
       "24     0.249403  2.471316 -1.535916  \n",
       "...         ...       ...       ...  \n",
       "13475 -0.260402  1.279646  2.662593  \n",
       "13476 -0.260402  1.279646  2.662593  \n",
       "13477 -0.260402  1.279646  2.662593  \n",
       "13478 -0.260402  1.279646  2.662593  \n",
       "13479 -0.260402  1.279646  2.662593  \n",
       "\n",
       "[11770 rows x 13 columns]"
      ]
     },
     "execution_count": 7,
     "metadata": {},
     "output_type": "execute_result"
    }
   ],
   "source": [
    "ds_all = Dataset.from_files('hits-allframe.lst', open_stacks=False)\n",
    "ds_all.get_indexing_solution('virtual.stream', sol_file='hits-allframe.sol')"
   ]
  },
  {
   "cell_type": "markdown",
   "metadata": {},
   "source": [
    "#### Solution file directly from stream\n",
    "Another option to get a `.sol` file is to run the `stream2sol` command-line tool. \n",
    "While fast, this is restricted to the case that you want to integrate from the exact same images as those you used for indexing (i.e., the ones you used to create `virtual.h5` in `preprocessing.ipynb`, and you have fields with mm-calibrated shifts in your stream (might not be the case)."
   ]
  },
  {
   "cell_type": "code",
   "execution_count": null,
   "metadata": {},
   "outputs": [],
   "source": [
    "cmd = tools.make_command('stream2sol', input='virtual.stream', output='hits_agg.sol',\n",
    "                  event_field='hdf5/%/shots/_Event', file_field='hdf5/%/shots/_file',\n",
    "                  x_shift_field='hdf5/%/shots/shift_x_mm', y_shift_field='hdf5/%/shots/shift_y_mm')\n",
    "print('Running conversion command:', cmd)\n",
    "!{cmd};"
   ]
  },
  {
   "cell_type": "markdown",
   "metadata": {},
   "source": [
    "## Run the integration\n",
    "Now we're all set to integrate the data set.\n",
    "The parameters for integration are all set in the `integration_params` structure in `preproc.yaml`.\n",
    "It can be well worth playing with them, especially `int-radius` and `integration`.\n",
    "For the latter, we recommend to stick to `rings-nograd-nocen`, if your patterns are background-subtracted.\n",
    "Otherwise `rings-grad-nocen` might work better.\n",
    "Abstain from anything with `cen` in it, as it will strongly bias high-resolution peak values.\n",
    "`Overpredict` might help if you plan to do merging with partiality correction (though it doesn't much in our experience), but absolutely don't do it for Monte-Carlo merging.\n",
    "\n",
    "**Always keep `no-revalidate`, `no-retry`, `no-refine`, `no-check-cell` active.**\n",
    "\n",
    "After you've run the command (might take a fair bit), you'll have a stream file ready for merging. See `merging.ipynb`."
   ]
  },
  {
   "cell_type": "code",
   "execution_count": 8,
   "metadata": {},
   "outputs": [
    {
     "name": "stdout",
     "output_type": "stream",
     "text": [
      "--- RUN THIS ---------------\n",
      "/opts/crystfel_hash/bin/indexamajig -g refined.geom -i hits-allframe.lst -o streams/hits-allframe.stream -j 40 -p refined.cell --indexing=file --peaks=cxi --hdf5-peaks=/entry/data --no-revalidate --int-radius=3,4,6 --integration=rings-nograd-nocen --no-retry --no-refine --no-check-cell --temp-dir=/scratch/diffractem --copy-hdf5-field=/%/shots/sample --copy-hdf5-field=/%/shots/region --copy-hdf5-field=/%/shots/crystal_id --copy-hdf5-field=/%/shots/run --copy-hdf5-field=/%/shots/adf1 --copy-hdf5-field=/%/shots/adf2 --copy-hdf5-field=/%/shots/lor_hwhm --copy-hdf5-field=/%/shots/center_x --copy-hdf5-field=/%/shots/center_y\n"
     ]
    }
   ],
   "source": [
    "stream_name = f'streams/hits-allframe.stream'\n",
    "list_file = 'hits-allframe.lst'\n",
    "copy_fields = ['sample', 'region', 'crystal_id', 'run', \n",
    "               'adf1', 'adf2', 'lor_hwhm', 'center_x', 'center_y']\n",
    "tmp_dir = '/scratch/diffractem' # set to '.' if you want to stay here\n",
    "\n",
    "opts.load()\n",
    "\n",
    "%cp {list_file.rsplit('.', 1)[0]}.sol {tmp_dir}\n",
    "\n",
    "copy_fields = [f'/%/shots/{cf}' for cf in copy_fields]\n",
    "cfcall = tools.call_indexamajig(list_file, 'refined.geom', \n",
    "                                output=stream_name, \n",
    "                                cell='refined.cell', \n",
    "                                im_params=opts.integration_params, \n",
    "                                procs=40, exc='/opts/crystfel_hash/bin/indexamajig',\n",
    "                                copy_fields=copy_fields, temp_dir=tmp_dir)\n",
    "\n",
    "print('--- RUN THIS ---------------')\n",
    "print(cfcall)"
   ]
  }
 ],
 "metadata": {
  "kernelspec": {
   "display_name": "Python 3.7.6 64-bit ('preproc')",
   "language": "python",
   "name": "python37664bitpreprocde2d2aa216c74fd08703cca08757b3d9"
  },
  "language_info": {
   "codemirror_mode": {
    "name": "ipython",
    "version": 3
   },
   "file_extension": ".py",
   "mimetype": "text/x-python",
   "name": "python",
   "nbconvert_exporter": "python",
   "pygments_lexer": "ipython3",
   "version": "3.7.6"
  },
  "widgets": {
   "application/vnd.jupyter.widget-state+json": {
    "state": {},
    "version_major": 2,
    "version_minor": 0
   }
  }
 },
 "nbformat": 4,
 "nbformat_minor": 4
}
