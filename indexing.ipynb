{
 "cells": [
  {
   "cell_type": "code",
   "execution_count": null,
   "metadata": {
    "pycharm": {
     "is_executing": false
    }
   },
   "outputs": [],
   "source": [
    "%load_ext autoreload\n",
    "%autoreload 2"
   ]
  },
  {
   "cell_type": "code",
   "execution_count": 1,
   "metadata": {
    "pycharm": {
     "is_executing": false
    }
   },
   "outputs": [
    {
     "name": "stdout",
     "output_type": "stream",
     "text": [
      "['CrystFEL: 0.9.1+886ae521', 'License GPLv3+: GNU GPL version 3 or later <http://gnu.org/licenses/gpl.html>.', 'This is free software: you are free to change and redistribute it.', 'There is NO WARRANTY, to the extent permitted by law.', '', 'Written by Thomas White and others.']\n"
     ]
    }
   ],
   "source": [
    "import matplotlib.pyplot as plt\n",
    "from diffractem import tools, version\n",
    "from diffractem.dataset import Dataset\n",
    "from diffractem.stream_parser import StreamParser, augment_stream\n",
    "from diffractem import pre_proc_opts\n",
    "import numpy as np\n",
    "import pandas as pd\n",
    "import dask.array as da\n",
    "# from dask.distributed import Client, LocalCluster\n",
    "import dask\n",
    "# import h5py\n",
    "\n",
    "opts = pre_proc_opts.PreProcOpts('preproc.yaml')\n",
    "cfver = !{opts.im_exc} -v\n",
    "print(cfver)"
   ]
  },
  {
   "cell_type": "markdown",
   "metadata": {},
   "source": [
    "# Indexing and Integration\n",
    "...using _CrystFEL's_ `indexamajig` tool and several wrappers around it.\n",
    "What you need to begin:\n",
    "* a virtual-geometry data file, which you should have created during preprocessing. It contains, first and foremost, all necessary information about the beam center and Bragg peak positions.\n",
    "* a refined unit-cell file, which you can generate using `peak_processing.ipynb`, and good geometry settings in your `.yaml` config file. If unsure about ellipticity, double check using `peak_processing.ipynb`.\n",
    "\n",
    "First, we define the list of shot list fields which should go into the output stream file of indexing. (See `indexamajig --copy-hdf5-filed`).\n",
    "Here, we only use the really crucial ones, without which the stream file will be hard to use later on."
   ]
  },
  {
   "cell_type": "code",
   "execution_count": 2,
   "metadata": {},
   "outputs": [
    {
     "name": "stdout",
     "output_type": "stream",
     "text": [
      "Single-file dataset, disabling parallel I/O.\n",
      "No feature list in data set ('/%/map/features not found in virtual.h5.'). That's ok if it's a virtual or info file.\n",
      "Persisting stacks to memory: index, nPeaks, peakTotalIntensity, peakXPosRaw, peakYPosRaw\n"
     ]
    }
   ],
   "source": [
    "stream_fields = ['frame', 'sample', 'region', 'crystal_id', 'run', \n",
    "                '_Event', '_file', 'center_x', 'center_y'] \n",
    "\n",
    "# filter to only take the ones that are actually present\n",
    "ds_ctr = Dataset.from_files('virtual.h5', open_stacks=True, chunking=-1)\n",
    "stream_fields = [f'/%/shots/{f}' for f in  stream_fields if f in ds_ctr.shots.columns]\n",
    "\n",
    "# generate geometry file for virtual geometry from yaml file parameters.\n",
    "opts.load()\n",
    "tools.make_geometry(opts, 'virtual.geom', image_name='zero_image', xsize=1024, ysize=1024, mask=False)"
   ]
  },
  {
   "cell_type": "markdown",
   "metadata": {},
   "source": [
    "### Direct local execution\n",
    "...generates a shell script `im_run.sh` containing the CrystFEL call, to directly run on this machine, using a number of processes defined in the `procs` argument.\n",
    "All parameters for indexing are set in the `preproc.yaml` file."
   ]
  },
  {
   "cell_type": "code",
   "execution_count": 4,
   "metadata": {},
   "outputs": [],
   "source": [
    "opts.load() # often reload the opts so they remain updated\n",
    "tools.call_indexamajig('virtual.lst', 'virtual.geom', script='im_run.sh', \n",
    "                       output='virtual.stream',  cell='refined.cell', im_params=opts.indexing_params, \n",
    "                       copy_fields=stream_fields, procs=40)"
   ]
  },
  {
   "cell_type": "code",
   "execution_count": 5,
   "metadata": {},
   "outputs": [
    {
     "name": "stdout",
     "output_type": "stream",
     "text": [
      "indexamajig -g virtual.geom -i virtual.lst -o virtual.stream -j 40 -p refined.cell --indexing=pinkIndexer --integration=rings-nograd-nocen --int-radius=3,4,6 --peaks=cxi --hdf5-peaks=/entry/data --no-revalidate --max-res=400 --pinkIndexer-considered-peaks-count=4 --pinkIndexer-angle-resolution=4 --pinkIndexer-refinement-type=5 --pinkIndexer-thread-count=1 --pinkIndexer-tolerance=0.1 --pinkIndexer-reflection-radius=0.001 --pinkIndexer-max-resolution-for-indexing=2 --min-peaks=15 --no-refine --no-retry --no-check-peaks --temp-dir=/scratch/diffractem --copy-hdf5-field=/%/shots/sample --copy-hdf5-field=/%/shots/region --copy-hdf5-field=/%/shots/crystal_id --copy-hdf5-field=/%/shots/run --copy-hdf5-field=/%/shots/_Event --copy-hdf5-field=/%/shots/_file --copy-hdf5-field=/%/shots/center_x --copy-hdf5-field=/%/shots/center_y"
     ]
    }
   ],
   "source": [
    "# for the curious cats\n",
    "!cat im_run.sh"
   ]
  },
  {
   "cell_type": "markdown",
   "metadata": {},
   "source": [
    "### Version for clusters\n",
    "...which splits up the patterns into sections of `shot_per_run`, and generates a script file that submits them independently to a SLURM queue manager. Similar to CrystFEL's `turbo-index-slurm`, but a bit more streamlined. All required files for indexing can be optionally packed into a `.tar.gz` file, which can be uploaded to a cluster right away and run there.\n",
    "\n",
    "Here, `procs` defines the number of parallel processes with which a chunk of `shots_per_run` shots is processed; additionally `threads` can be defined, which are used by _pinkIndexer_. Vs `procs`, this is especially useful to save memory.\n",
    "\n",
    "Here it is important, that the `exc` argument gets the path to the `indexamajig` executable on your cluster."
   ]
  },
  {
   "cell_type": "code",
   "execution_count": 6,
   "metadata": {},
   "outputs": [
    {
     "name": "stdout",
     "output_type": "stream",
     "text": [
      "Wrote self-contained tar file lyso_idx.tar.gz. Upload to your favorite cluster and extract with: tar -xf lyso_idx.tar.gz\n",
      "Run indexing by calling ./im_run_lyso_idx.sh\n"
     ]
    }
   ],
   "source": [
    "tar, script = tools.call_indexamajig_slurm('virtual.lst', 'virtual.geom', name='lyso_idx', cell='refined.cell',\n",
    "                             im_params=opts.indexing_params, procs=4, threads=2, shots_per_run=50,\n",
    "                             tar_file='virtual.tar.gz', temp_dir='$TMP_LOCAL', copy_fields=stream_fields,\n",
    "                             exc='$HOME/SHARED/EDIFF/software/crystfel9/bin/indexamajig', \n",
    "                                           local_bin_dir='/opts/crystfel_master/bin')"
   ]
  },
  {
   "cell_type": "markdown",
   "metadata": {},
   "source": [
    "#### Template for sending to/receiving from a cluster"
   ]
  },
  {
   "cell_type": "code",
   "execution_count": 7,
   "metadata": {},
   "outputs": [
    {
     "name": "stdout",
     "output_type": "stream",
     "text": [
      "lyso_idx.tar.gz                               100% 1814KB   1.8MB/s   00:00    \n"
     ]
    }
   ],
   "source": [
    "# upload immediately to your cluster\n",
    "# remote = 'rbuecke1@login.gwdg.de:~/SHARED/EDIFF/lyso_redo'\n",
    "# !ssh {remote.split(\":\")[0]} 'mkdir -p {remote.split(\":\")[1]}'\n",
    "# !scp {tar} {remote}"
   ]
  },
  {
   "cell_type": "code",
   "execution_count": 19,
   "metadata": {},
   "outputs": [
    {
     "name": "stdout",
     "output_type": "stream",
     "text": [
      "virtual.stream                                100%  121MB 121.0MB/s   00:01    \n"
     ]
    }
   ],
   "source": [
    "# concat streams on server and transfer back\n",
    "# name = 'lyso_idx'\n",
    "# cmd = f'ssh {remote.split(\":\")[0]} \\\"cat {remote.split(\":\")[1]}/partitions/*.stream > {remote.split(\":\")[1]}/virtual.stream\\\"'\n",
    "# !{cmd}\n",
    "# !scp -r {remote}/virtual.stream ."
   ]
  },
  {
   "cell_type": "markdown",
   "metadata": {},
   "source": [
    "## Integration\n",
    "Now we have the file `virtual.stream`, which contains our indexing solution!\n",
    "We now need to run `indexamajig` a second time, this time on our actual data and using `indexing=file`.\n",
    "The data we will use can either be the one we generated `virtual.stream` from (that is, `hits_agg.lst`, or another aggregation (or even single shots) if we prepared them in `preprocessing.ipynb` and merged the image info into it.\n",
    "We do the latter, and use the files with aggregation from shots 0 to 2 (5 ms effective exposure time), listed in `hits_0to2.lst`.\n",
    "This way, instead of running a fresh indexing, it will take a _solution file_ (`.sol`), which contains per line:\n",
    "* The filename and CrystFEL event identifier of an indexed crystal (2 parameters)\n",
    "* The reciprocal lattice vectors in laboratory frame (9 parameters)\n",
    "* The shift of the detector for that pattern (2 parameters). This is particularly important, as here we can inject the variable beam center of our datasets, on top of the (much smaller) residual shift that a prediction refinement after index might have found\n",
    "Of course this file is generated automatically.\n",
    "\n",
    "But first we have to make a geometry file, using our optimized geometry parameters (including ellipticity refinement from `proc_peaks.ipynb`).\n",
    "All required parameters are in `preproc.yaml`."
   ]
  },
  {
   "cell_type": "code",
   "execution_count": 8,
   "metadata": {},
   "outputs": [],
   "source": [
    "# make the final geometry\n",
    "opts = pre_proc_opts.PreProcOpts('preproc.yaml')\n",
    "geo = tools.make_geometry(opts,'refined.geom', write_mask=True)"
   ]
  },
  {
   "cell_type": "markdown",
   "metadata": {},
   "source": [
    "#### Solution file from dataset\n",
    "This is usual the better (if a bit slower version) compared to that belo.\n",
    "Here, a Dataset object is loaded from disk.\n",
    "Now, the stored crystal identification data for each shot in the Dataset (i.e.: `sample`, `region`, `run`, `crystal_id`) are used for matching.\n",
    "You can hence now integrate even from a totally different set of patterns (e.g. a different aggregation range, or even a set with all non-aggregated data - the crystal ID data will just repeat for each frame).\n",
    "\n",
    "The solution should have the same name as the `.lst` file, which is inherently assumed by the `file` indexer."
   ]
  },
  {
   "cell_type": "code",
   "execution_count": 20,
   "metadata": {},
   "outputs": [
    {
     "data": {
      "text/html": [
       "<div>\n",
       "<style scoped>\n",
       "    .dataframe tbody tr th:only-of-type {\n",
       "        vertical-align: middle;\n",
       "    }\n",
       "\n",
       "    .dataframe tbody tr th {\n",
       "        vertical-align: top;\n",
       "    }\n",
       "\n",
       "    .dataframe thead th {\n",
       "        text-align: right;\n",
       "    }\n",
       "</style>\n",
       "<table border=\"1\" class=\"dataframe\">\n",
       "  <thead>\n",
       "    <tr style=\"text-align: right;\">\n",
       "      <th></th>\n",
       "      <th>file</th>\n",
       "      <th>Event</th>\n",
       "      <th>astar_x</th>\n",
       "      <th>astar_y</th>\n",
       "      <th>astar_z</th>\n",
       "      <th>bstar_x</th>\n",
       "      <th>bstar_y</th>\n",
       "      <th>bstar_z</th>\n",
       "      <th>cstar_x</th>\n",
       "      <th>cstar_y</th>\n",
       "      <th>cstar_z</th>\n",
       "      <th>xshift</th>\n",
       "      <th>yshift</th>\n",
       "    </tr>\n",
       "  </thead>\n",
       "  <tbody>\n",
       "    <tr>\n",
       "      <th>2</th>\n",
       "      <td>proc_data/LysoS1_001_00000_0to2_hit.h5</td>\n",
       "      <td>entry//2</td>\n",
       "      <td>-0.123068</td>\n",
       "      <td>-0.030390</td>\n",
       "      <td>0.012760</td>\n",
       "      <td>-0.024792</td>\n",
       "      <td>0.116623</td>\n",
       "      <td>0.043024</td>\n",
       "      <td>-0.047231</td>\n",
       "      <td>0.080319</td>\n",
       "      <td>-0.247748</td>\n",
       "      <td>2.493316</td>\n",
       "      <td>-1.534916</td>\n",
       "    </tr>\n",
       "    <tr>\n",
       "      <th>3</th>\n",
       "      <td>proc_data/LysoS1_001_00000_0to2_hit.h5</td>\n",
       "      <td>entry//3</td>\n",
       "      <td>-0.125631</td>\n",
       "      <td>0.019530</td>\n",
       "      <td>-0.009787</td>\n",
       "      <td>-0.020153</td>\n",
       "      <td>-0.124636</td>\n",
       "      <td>0.008312</td>\n",
       "      <td>-0.012829</td>\n",
       "      <td>0.022624</td>\n",
       "      <td>0.259966</td>\n",
       "      <td>3.664206</td>\n",
       "      <td>-1.495367</td>\n",
       "    </tr>\n",
       "    <tr>\n",
       "      <th>4</th>\n",
       "      <td>proc_data/LysoS1_001_00000_0to2_hit.h5</td>\n",
       "      <td>entry//4</td>\n",
       "      <td>0.049782</td>\n",
       "      <td>0.106199</td>\n",
       "      <td>-0.049654</td>\n",
       "      <td>-0.116626</td>\n",
       "      <td>0.050179</td>\n",
       "      <td>-0.007018</td>\n",
       "      <td>0.027380</td>\n",
       "      <td>0.097864</td>\n",
       "      <td>0.241653</td>\n",
       "      <td>2.342227</td>\n",
       "      <td>-1.224425</td>\n",
       "    </tr>\n",
       "    <tr>\n",
       "      <th>5</th>\n",
       "      <td>proc_data/LysoS1_001_00000_0to2_hit.h5</td>\n",
       "      <td>entry//5</td>\n",
       "      <td>0.120050</td>\n",
       "      <td>-0.042516</td>\n",
       "      <td>0.003282</td>\n",
       "      <td>-0.040612</td>\n",
       "      <td>-0.101054</td>\n",
       "      <td>0.065185</td>\n",
       "      <td>-0.036354</td>\n",
       "      <td>-0.130464</td>\n",
       "      <td>-0.227013</td>\n",
       "      <td>3.814784</td>\n",
       "      <td>-0.979225</td>\n",
       "    </tr>\n",
       "    <tr>\n",
       "      <th>7</th>\n",
       "      <td>proc_data/LysoS1_001_00000_0to2_hit.h5</td>\n",
       "      <td>entry//7</td>\n",
       "      <td>-0.042433</td>\n",
       "      <td>0.115496</td>\n",
       "      <td>-0.029929</td>\n",
       "      <td>0.118534</td>\n",
       "      <td>0.035017</td>\n",
       "      <td>-0.030068</td>\n",
       "      <td>-0.042062</td>\n",
       "      <td>-0.078318</td>\n",
       "      <td>-0.247584</td>\n",
       "      <td>2.700214</td>\n",
       "      <td>-0.748242</td>\n",
       "    </tr>\n",
       "    <tr>\n",
       "      <th>...</th>\n",
       "      <td>...</td>\n",
       "      <td>...</td>\n",
       "      <td>...</td>\n",
       "      <td>...</td>\n",
       "      <td>...</td>\n",
       "      <td>...</td>\n",
       "      <td>...</td>\n",
       "      <td>...</td>\n",
       "      <td>...</td>\n",
       "      <td>...</td>\n",
       "      <td>...</td>\n",
       "      <td>...</td>\n",
       "      <td>...</td>\n",
       "    </tr>\n",
       "    <tr>\n",
       "      <th>1316</th>\n",
       "      <td>proc_data/LysoS2_046_00000_0to2_hit.h5</td>\n",
       "      <td>entry//29</td>\n",
       "      <td>-0.039397</td>\n",
       "      <td>0.121351</td>\n",
       "      <td>0.001466</td>\n",
       "      <td>0.119805</td>\n",
       "      <td>0.040379</td>\n",
       "      <td>0.000129</td>\n",
       "      <td>-0.001939</td>\n",
       "      <td>0.006021</td>\n",
       "      <td>-0.260452</td>\n",
       "      <td>1.697644</td>\n",
       "      <td>1.652947</td>\n",
       "    </tr>\n",
       "    <tr>\n",
       "      <th>1317</th>\n",
       "      <td>proc_data/LysoS2_046_00000_0to2_hit.h5</td>\n",
       "      <td>entry//30</td>\n",
       "      <td>0.052757</td>\n",
       "      <td>0.115157</td>\n",
       "      <td>0.000294</td>\n",
       "      <td>0.109487</td>\n",
       "      <td>-0.050028</td>\n",
       "      <td>0.037872</td>\n",
       "      <td>0.073660</td>\n",
       "      <td>-0.035056</td>\n",
       "      <td>-0.248480</td>\n",
       "      <td>1.359185</td>\n",
       "      <td>1.982266</td>\n",
       "    </tr>\n",
       "    <tr>\n",
       "      <th>1318</th>\n",
       "      <td>proc_data/LysoS2_046_00000_0to2_hit.h5</td>\n",
       "      <td>entry//31</td>\n",
       "      <td>0.004924</td>\n",
       "      <td>0.086296</td>\n",
       "      <td>0.092767</td>\n",
       "      <td>0.006753</td>\n",
       "      <td>0.092807</td>\n",
       "      <td>-0.086108</td>\n",
       "      <td>-0.262811</td>\n",
       "      <td>0.017160</td>\n",
       "      <td>-0.002128</td>\n",
       "      <td>1.645963</td>\n",
       "      <td>2.809419</td>\n",
       "    </tr>\n",
       "    <tr>\n",
       "      <th>1319</th>\n",
       "      <td>proc_data/LysoS2_046_00000_0to2_hit.h5</td>\n",
       "      <td>entry//32</td>\n",
       "      <td>-0.016611</td>\n",
       "      <td>0.119491</td>\n",
       "      <td>0.039678</td>\n",
       "      <td>-0.125233</td>\n",
       "      <td>-0.014009</td>\n",
       "      <td>-0.007573</td>\n",
       "      <td>-0.010287</td>\n",
       "      <td>-0.082066</td>\n",
       "      <td>0.253090</td>\n",
       "      <td>1.257336</td>\n",
       "      <td>2.179325</td>\n",
       "    </tr>\n",
       "    <tr>\n",
       "      <th>1321</th>\n",
       "      <td>proc_data/LysoS2_046_00000_0to2_hit.h5</td>\n",
       "      <td>entry//34</td>\n",
       "      <td>0.120375</td>\n",
       "      <td>-0.035412</td>\n",
       "      <td>-0.014210</td>\n",
       "      <td>0.034508</td>\n",
       "      <td>0.121753</td>\n",
       "      <td>-0.009116</td>\n",
       "      <td>0.035734</td>\n",
       "      <td>0.009215</td>\n",
       "      <td>0.263043</td>\n",
       "      <td>1.318646</td>\n",
       "      <td>2.585593</td>\n",
       "    </tr>\n",
       "  </tbody>\n",
       "</table>\n",
       "<p>1156 rows × 13 columns</p>\n",
       "</div>"
      ],
      "text/plain": [
       "                                        file      Event   astar_x   astar_y  \\\n",
       "2     proc_data/LysoS1_001_00000_0to2_hit.h5   entry//2 -0.123068 -0.030390   \n",
       "3     proc_data/LysoS1_001_00000_0to2_hit.h5   entry//3 -0.125631  0.019530   \n",
       "4     proc_data/LysoS1_001_00000_0to2_hit.h5   entry//4  0.049782  0.106199   \n",
       "5     proc_data/LysoS1_001_00000_0to2_hit.h5   entry//5  0.120050 -0.042516   \n",
       "7     proc_data/LysoS1_001_00000_0to2_hit.h5   entry//7 -0.042433  0.115496   \n",
       "...                                      ...        ...       ...       ...   \n",
       "1316  proc_data/LysoS2_046_00000_0to2_hit.h5  entry//29 -0.039397  0.121351   \n",
       "1317  proc_data/LysoS2_046_00000_0to2_hit.h5  entry//30  0.052757  0.115157   \n",
       "1318  proc_data/LysoS2_046_00000_0to2_hit.h5  entry//31  0.004924  0.086296   \n",
       "1319  proc_data/LysoS2_046_00000_0to2_hit.h5  entry//32 -0.016611  0.119491   \n",
       "1321  proc_data/LysoS2_046_00000_0to2_hit.h5  entry//34  0.120375 -0.035412   \n",
       "\n",
       "       astar_z   bstar_x   bstar_y   bstar_z   cstar_x   cstar_y   cstar_z  \\\n",
       "2     0.012760 -0.024792  0.116623  0.043024 -0.047231  0.080319 -0.247748   \n",
       "3    -0.009787 -0.020153 -0.124636  0.008312 -0.012829  0.022624  0.259966   \n",
       "4    -0.049654 -0.116626  0.050179 -0.007018  0.027380  0.097864  0.241653   \n",
       "5     0.003282 -0.040612 -0.101054  0.065185 -0.036354 -0.130464 -0.227013   \n",
       "7    -0.029929  0.118534  0.035017 -0.030068 -0.042062 -0.078318 -0.247584   \n",
       "...        ...       ...       ...       ...       ...       ...       ...   \n",
       "1316  0.001466  0.119805  0.040379  0.000129 -0.001939  0.006021 -0.260452   \n",
       "1317  0.000294  0.109487 -0.050028  0.037872  0.073660 -0.035056 -0.248480   \n",
       "1318  0.092767  0.006753  0.092807 -0.086108 -0.262811  0.017160 -0.002128   \n",
       "1319  0.039678 -0.125233 -0.014009 -0.007573 -0.010287 -0.082066  0.253090   \n",
       "1321 -0.014210  0.034508  0.121753 -0.009116  0.035734  0.009215  0.263043   \n",
       "\n",
       "        xshift    yshift  \n",
       "2     2.493316 -1.534916  \n",
       "3     3.664206 -1.495367  \n",
       "4     2.342227 -1.224425  \n",
       "5     3.814784 -0.979225  \n",
       "7     2.700214 -0.748242  \n",
       "...        ...       ...  \n",
       "1316  1.697644  1.652947  \n",
       "1317  1.359185  1.982266  \n",
       "1318  1.645963  2.809419  \n",
       "1319  1.257336  2.179325  \n",
       "1321  1.318646  2.585593  \n",
       "\n",
       "[1156 rows x 13 columns]"
      ]
     },
     "execution_count": 20,
     "metadata": {},
     "output_type": "execute_result"
    }
   ],
   "source": [
    "dsname = 'hits_0to2'\n",
    "ds_all = Dataset.from_files(dsname + '.lst', open_stacks=False)\n",
    "ds_all.get_indexing_solution('virtual.stream', sol_file=dsname + '.sol')"
   ]
  },
  {
   "cell_type": "markdown",
   "metadata": {},
   "source": [
    "#### Solution file directly from stream\n",
    "Another option to get a `.sol` file is to run the `stream2sol` command-line tool. \n",
    "While slightly faster, this is restricted to the case that you want to integrate from the exact same images as those you used for indexing (i.e., those from `hits_agg.lst` in this example), and you have fields with mm-calibrated shifts in your stream (might not be the case)."
   ]
  },
  {
   "cell_type": "code",
   "execution_count": null,
   "metadata": {},
   "outputs": [],
   "source": [
    "cmd = tools.make_command('stream2sol', input='virtual.stream', output='hits_agg.sol',\n",
    "                  event_field='hdf5/%/shots/_Event', file_field='hdf5/%/shots/_file',\n",
    "                  x_shift_field='hdf5/%/shots/shift_x_mm', y_shift_field='hdf5/%/shots/shift_y_mm')\n",
    "print('Running conversion command:', cmd)\n",
    "!{cmd};"
   ]
  },
  {
   "cell_type": "markdown",
   "metadata": {},
   "source": [
    "## Run the integration\n",
    "Now we're all set to integrate the data set.\n",
    "The parameters for integration are all set in the `integration_params` structure in `preproc.yaml`.\n",
    "It can be well worth playing with them, especially `int-radius` and `integration`.\n",
    "For the latter, we recommend to stick to `rings-nograd-nocen`, if your patterns are background-subtracted.\n",
    "Otherwise `rings-grad-nocen` might work better.\n",
    "Abstain from anything with `cen` in it, as it will strongly bias high-resolution peak values.\n",
    "`Overpredict` might help if you plan to do merging with partiality correction (though it doesn't much in our experience), but absolutely don't do it for Monte-Carlo merging.\n",
    "\n",
    "**Always keep `no-revalidate`, `no-retry`, `no-refine`, `no-check-cell` active.**\n",
    "\n",
    "After you've run the command (might take a fair bit), you'll have a stream file ready for merging. See `merging.ipynb`."
   ]
  },
  {
   "cell_type": "code",
   "execution_count": 21,
   "metadata": {},
   "outputs": [
    {
     "name": "stdout",
     "output_type": "stream",
     "text": [
      "mkdir: cannot create directory ‘streams’: File exists\n",
      "--- RUN THIS ---------------\n",
      "/opts/crystfel_hash/bin/indexamajig -g refined.geom -i hits_0to2.lst -o streams/hits_0to2.stream -j 40 -p refined.cell --indexing=file --peaks=cxi --hdf5-peaks=/entry/data --no-revalidate --int-radius=3,4,6 --integration=rings-nograd-nocen --no-retry --no-refine --no-check-cell --temp-dir=/scratch/diffractem --copy-hdf5-field=/%/shots/sample --copy-hdf5-field=/%/shots/region --copy-hdf5-field=/%/shots/crystal_id --copy-hdf5-field=/%/shots/run --copy-hdf5-field=/%/shots/adf1 --copy-hdf5-field=/%/shots/adf2 --copy-hdf5-field=/%/shots/lor_hwhm --copy-hdf5-field=/%/shots/center_x --copy-hdf5-field=/%/shots/center_y\n"
     ]
    }
   ],
   "source": [
    "%mkdir streams\n",
    "stream_name = f'streams/{dsname}.stream'\n",
    "list_file = dsname + '.lst'\n",
    "copy_fields = ['sample', 'region', 'crystal_id', 'run', \n",
    "               'adf1', 'adf2', 'lor_hwhm', 'center_x', 'center_y']\n",
    "tmp_dir = '/scratch/diffractem' # set to '.' if you want to stay here\n",
    "\n",
    "opts.load()\n",
    "\n",
    "%cp {list_file.rsplit('.', 1)[0]}.sol {tmp_dir}\n",
    "\n",
    "copy_fields = [f'/%/shots/{cf}' for cf in copy_fields]\n",
    "cfcall = tools.call_indexamajig(list_file, 'refined.geom', \n",
    "                                output=stream_name, \n",
    "                                cell='refined.cell', \n",
    "                                im_params=opts.integration_params, \n",
    "                                procs=40, exc='/opts/crystfel_hash/bin/indexamajig',\n",
    "                                copy_fields=copy_fields, temp_dir=tmp_dir)\n",
    "\n",
    "print('--- RUN THIS ---------------')\n",
    "print(cfcall)"
   ]
  }
 ],
 "metadata": {
  "kernelspec": {
   "display_name": "Python 3.7.6 64-bit ('preproc')",
   "language": "python",
   "name": "python37664bitpreprocde2d2aa216c74fd08703cca08757b3d9"
  },
  "language_info": {
   "codemirror_mode": {
    "name": "ipython",
    "version": 3
   },
   "file_extension": ".py",
   "mimetype": "text/x-python",
   "name": "python",
   "nbconvert_exporter": "python",
   "pygments_lexer": "ipython3",
   "version": "3.7.6"
  },
  "widgets": {
   "application/vnd.jupyter.widget-state+json": {
    "state": {},
    "version_major": 2,
    "version_minor": 0
   }
  }
 },
 "nbformat": 4,
 "nbformat_minor": 4
}
